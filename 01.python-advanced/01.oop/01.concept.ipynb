{
 "cells": [
  {
   "cell_type": "markdown",
   "metadata": {},
   "source": [
    "## **Object-Orentied :** Concept\n",
    "\n",
    "#### _Concepts fondamentaux de l'Orienté Objet_\n",
    "\n",
    "🟢 `complete`\n",
    "\n",
    "---\n",
    "\n",
    "1. **Composition**\n",
    "    * Déclaration\n",
    "    * Attributs\n",
    "    * Méthodes\n",
    "    * Évaluations\n",
    "2. **Comportement**\n",
    "    * Statisme\n",
    "    * Accessibilité\n",
    "3. **Encasulation**\n",
    "    * Accesseurs \n",
    "    * Mutateurs\n",
    "    * Processus complet"
   ]
  },
  {
   "cell_type": "markdown",
   "metadata": {},
   "source": [
    "---\n",
    "### **1.** Composition"
   ]
  },
  {
   "cell_type": "markdown",
   "metadata": {},
   "source": [
    "##### **1.1** - Déclaration"
   ]
  },
  {
   "cell_type": "markdown",
   "metadata": {},
   "source": [
    "Une classe `class`"
   ]
  },
  {
   "cell_type": "code",
   "execution_count": 12,
   "metadata": {},
   "outputs": [],
   "source": [
    "# Déclaration d'un modèle objet personalisé\n",
    "class MyObjectModel :\n",
    "    \"\"\"\n",
    "    An object with an attribute\n",
    "    \"\"\"\n",
    "    attribute:float = 15.5"
   ]
  },
  {
   "cell_type": "code",
   "execution_count": 13,
   "metadata": {},
   "outputs": [],
   "source": [
    "# Instanciation\n",
    "if __name__ == '__main__' :\n",
    "    my_objet = MyObjectModel"
   ]
  },
  {
   "cell_type": "code",
   "execution_count": 14,
   "metadata": {},
   "outputs": [
    {
     "data": {
      "text/plain": [
       "15.5"
      ]
     },
     "metadata": {},
     "output_type": "display_data"
    },
    {
     "data": {
      "text/plain": [
       "18.99"
      ]
     },
     "metadata": {},
     "output_type": "display_data"
    }
   ],
   "source": [
    "# Exploitation\n",
    "display( my_objet.attribute )\n",
    "my_objet.attribute = 18.99 # Applique : 18.99 à 'attribute'\n",
    "display( my_objet.attribute )"
   ]
  },
  {
   "cell_type": "code",
   "execution_count": 15,
   "metadata": {},
   "outputs": [
    {
     "name": "stdout",
     "output_type": "stream",
     "text": [
      "Help on class MyObjectModel in module __main__:\n",
      "\n",
      "class MyObjectModel(builtins.object)\n",
      " |  An object with an attribute\n",
      " |  \n",
      " |  Data descriptors defined here:\n",
      " |  \n",
      " |  __dict__\n",
      " |      dictionary for instance variables (if defined)\n",
      " |  \n",
      " |  __weakref__\n",
      " |      list of weak references to the object (if defined)\n",
      " |  \n",
      " |  ----------------------------------------------------------------------\n",
      " |  Data and other attributes defined here:\n",
      " |  \n",
      " |  __annotations__ = {'attribute': <class 'float'>}\n",
      " |  \n",
      " |  attribute = 18.99\n",
      "\n"
     ]
    }
   ],
   "source": [
    "# Global informations\n",
    "help(MyObjectModel)"
   ]
  },
  {
   "cell_type": "markdown",
   "metadata": {},
   "source": [
    "La fonction constructrice `__init__()`"
   ]
  },
  {
   "cell_type": "code",
   "execution_count": 16,
   "metadata": {},
   "outputs": [],
   "source": [
    "# Déclaration d'une classe constructrice\n",
    "class Sample :\n",
    "\n",
    "    def __init__(self, value_1:str, value_2:str) -> None :\n",
    "        \n",
    "        self.attr_0 = \"Un attribut déjà dans l'objet\"\n",
    "        self.attr_1 = value_1\n",
    "        self.attr_2 = value_2"
   ]
  },
  {
   "cell_type": "code",
   "execution_count": 17,
   "metadata": {},
   "outputs": [
    {
     "data": {
      "text/plain": [
       "'Alpha : instance n°1'"
      ]
     },
     "execution_count": 17,
     "metadata": {},
     "output_type": "execute_result"
    }
   ],
   "source": [
    "# Instance n°1\n",
    "first_sample = Sample(\"Alpha : instance n°1\", 42)\n",
    "first_sample.attr_1"
   ]
  },
  {
   "cell_type": "code",
   "execution_count": 18,
   "metadata": {},
   "outputs": [
    {
     "data": {
      "text/plain": [
       "'Beta : instance n°2'"
      ]
     },
     "execution_count": 18,
     "metadata": {},
     "output_type": "execute_result"
    }
   ],
   "source": [
    "# Instance n°2\n",
    "second_sample = Sample(\"Beta : instance n°2\", -7)\n",
    "second_sample.attr_1"
   ]
  },
  {
   "cell_type": "code",
   "execution_count": 19,
   "metadata": {},
   "outputs": [
    {
     "data": {
      "text/plain": [
       "__main__.Sample"
      ]
     },
     "execution_count": 19,
     "metadata": {},
     "output_type": "execute_result"
    }
   ],
   "source": [
    "# Type d'objet propre au programme principal\n",
    "type(second_sample)"
   ]
  },
  {
   "cell_type": "markdown",
   "metadata": {},
   "source": [
    "L'objet lui-même `self`"
   ]
  },
  {
   "cell_type": "code",
   "execution_count": 20,
   "metadata": {},
   "outputs": [],
   "source": [
    "# Le mot-clé 'self'\n",
    "class WhatIsSelf :\n",
    "\n",
    "    def __init__(self, value_1) -> None :\n",
    "\n",
    "        self.attr_1 = value_1\n",
    "        free_attr = 5 # sans mot-clé 'self'\n",
    "\n",
    "        print(f\"Le mot-clé 'self' correspond à : {self}, donc l'object (instance) lui même\")"
   ]
  },
  {
   "cell_type": "code",
   "execution_count": 21,
   "metadata": {},
   "outputs": [
    {
     "name": "stdout",
     "output_type": "stream",
     "text": [
      "Le mot-clé 'self' correspond à : <__main__.WhatIsSelf object at 0x000001A938403FD0>, donc l'object (instance) lui même\n",
      "Le mot-clé 'self' correspond à : <__main__.WhatIsSelf object at 0x000001A938403CD0>, donc l'object (instance) lui même\n"
     ]
    }
   ],
   "source": [
    "# Deux objets différents issus d'une même classe\n",
    "wis_1 = WhatIsSelf(\"Hi'\")\n",
    "wis_2 = WhatIsSelf(42)"
   ]
  },
  {
   "cell_type": "code",
   "execution_count": 22,
   "metadata": {},
   "outputs": [
    {
     "data": {
      "text/plain": [
       "False"
      ]
     },
     "execution_count": 22,
     "metadata": {},
     "output_type": "execute_result"
    }
   ],
   "source": [
    "# L'objet 'wis_1' n'est pas l'objet 'wis_2'\n",
    "wis_1 is wis_2"
   ]
  },
  {
   "cell_type": "code",
   "execution_count": 23,
   "metadata": {},
   "outputs": [
    {
     "ename": "AttributeError",
     "evalue": "'WhatIsSelf' object has no attribute 'free_attr'",
     "output_type": "error",
     "traceback": [
      "\u001b[1;31m---------------------------------------------------------------------------\u001b[0m",
      "\u001b[1;31mAttributeError\u001b[0m                            Traceback (most recent call last)",
      "\u001b[1;32mc:\\Users\\la-da\\OneDrive\\Productions\\ai-developer\\01.python-advanced\\01.oop\\01.concept.ipynb Cellule 18\u001b[0m in \u001b[0;36m<cell line: 2>\u001b[1;34m()\u001b[0m\n\u001b[0;32m      <a href='vscode-notebook-cell:/c%3A/Users/la-da/OneDrive/Productions/ai-developer/01.python-advanced/01.oop/01.concept.ipynb#X23sZmlsZQ%3D%3D?line=0'>1</a>\u001b[0m \u001b[39m# [!] - Lève une erreur d'attribut : 'AttributeError'\u001b[39;00m\n\u001b[1;32m----> <a href='vscode-notebook-cell:/c%3A/Users/la-da/OneDrive/Productions/ai-developer/01.python-advanced/01.oop/01.concept.ipynb#X23sZmlsZQ%3D%3D?line=1'>2</a>\u001b[0m wis_1\u001b[39m.\u001b[39;49mfree_attr\n",
      "\u001b[1;31mAttributeError\u001b[0m: 'WhatIsSelf' object has no attribute 'free_attr'"
     ]
    }
   ],
   "source": [
    "# [!] - Lève une erreur d'attribut : 'AttributeError'\n",
    "wis_1.free_attr"
   ]
  },
  {
   "cell_type": "markdown",
   "metadata": {},
   "source": [
    "##### **1.2** - Attributs"
   ]
  },
  {
   "cell_type": "code",
   "execution_count": 24,
   "metadata": {},
   "outputs": [],
   "source": [
    "# Attributs d'objets (instances)\n",
    "class ObjectAttributes : \n",
    "\n",
    "    def __init__(self, value_1:str, value_2:int) -> None :\n",
    "        \n",
    "        self.attr_0 = \"Un attribut déjà dans l'objet\"\n",
    "        self.attr_1 = value_1\n",
    "        self.attr_2 = value_2\n",
    "\n",
    "\n",
    "# Deux instances d'une même classe\n",
    "object_1 = ObjectAttributes(\"Pour objet n°1\", 15)\n",
    "object_2 = ObjectAttributes(\"Pour objet n°2\", -99)"
   ]
  },
  {
   "cell_type": "code",
   "execution_count": 25,
   "metadata": {},
   "outputs": [
    {
     "data": {
      "text/plain": [
       "True"
      ]
     },
     "execution_count": 25,
     "metadata": {},
     "output_type": "execute_result"
    }
   ],
   "source": [
    "# Attribut partagé entre toutes les instances\n",
    "object_1.attr_0 == object_2.attr_0"
   ]
  },
  {
   "cell_type": "code",
   "execution_count": 26,
   "metadata": {},
   "outputs": [
    {
     "data": {
      "text/plain": [
       "False"
      ]
     },
     "metadata": {},
     "output_type": "display_data"
    },
    {
     "data": {
      "text/plain": [
       "False"
      ]
     },
     "metadata": {},
     "output_type": "display_data"
    }
   ],
   "source": [
    "# Attributs propres aux instances\n",
    "display( \n",
    "    object_1.attr_1 == object_2.attr_1,\n",
    "    object_1.attr_2 == object_2.attr_2\n",
    ")"
   ]
  },
  {
   "cell_type": "markdown",
   "metadata": {},
   "source": [
    "##### **1.3** - Méthodes"
   ]
  },
  {
   "cell_type": "code",
   "execution_count": 27,
   "metadata": {},
   "outputs": [],
   "source": [
    "# Méthodes d'objets (instance)\n",
    "class Book :\n",
    "\n",
    "    def __init__(self, title:str, author:str, pages:int) -> None :\n",
    "        self.title = title\n",
    "        self.author = author\n",
    "        self.pages = pages\n",
    "\n",
    "    def describes(self) :\n",
    "        return f\"DESCRIPTION ::\\n\\tLivre : {self.title}\\n\\tÉcrit par {self.author}\\n\\tConstitué de {self.pages} pages\""
   ]
  },
  {
   "cell_type": "code",
   "execution_count": 28,
   "metadata": {},
   "outputs": [
    {
     "data": {
      "text/plain": [
       "'DESCRIPTION ::\\n\\tLivre : Misery\\n\\tÉcrit par Stephen King\\n\\tConstitué de 480 pages'"
      ]
     },
     "execution_count": 28,
     "metadata": {},
     "output_type": "execute_result"
    }
   ],
   "source": [
    "# 1re instance de la class Book\n",
    "book_1 = Book(\"Misery\", \"Stephen King\", 480)\n",
    "book_1.describes()"
   ]
  },
  {
   "cell_type": "code",
   "execution_count": 29,
   "metadata": {},
   "outputs": [
    {
     "data": {
      "text/plain": [
       "\"DESCRIPTION ::\\n\\tLivre : Hygiène de l'assassin\\n\\tÉcrit par Amélie Nothomb\\n\\tConstitué de 221 pages\""
      ]
     },
     "execution_count": 29,
     "metadata": {},
     "output_type": "execute_result"
    }
   ],
   "source": [
    "# 2e instance de la class Book\n",
    "book_2 = Book(\"Hygiène de l'assassin\", \"Amélie Nothomb\", 221)\n",
    "book_2.describes()"
   ]
  },
  {
   "cell_type": "markdown",
   "metadata": {},
   "source": [
    "##### **1.4** - Évaluations"
   ]
  },
  {
   "cell_type": "markdown",
   "metadata": {},
   "source": [
    "Fonction `isinstance()` et opérateur `is`"
   ]
  },
  {
   "cell_type": "code",
   "execution_count": 34,
   "metadata": {},
   "outputs": [],
   "source": [
    "class Classic :\n",
    "\n",
    "    def __init__(self, title:str) -> None :\n",
    "        self.title = title\n",
    "\n",
    "# Instanciation\n",
    "classic_algorithm = Classic(\"Les Algorithmes\")"
   ]
  },
  {
   "cell_type": "code",
   "execution_count": 36,
   "metadata": {},
   "outputs": [
    {
     "data": {
      "text/plain": [
       "True"
      ]
     },
     "metadata": {},
     "output_type": "display_data"
    },
    {
     "data": {
      "text/plain": [
       "False"
      ]
     },
     "metadata": {},
     "output_type": "display_data"
    }
   ],
   "source": [
    "# Évaluation\n",
    "display(\n",
    "    isinstance(classic_algorithm, Classic),\n",
    "    classic_algorithm is Classic\n",
    ")"
   ]
  },
  {
   "cell_type": "code",
   "execution_count": 35,
   "metadata": {},
   "outputs": [],
   "source": [
    "class Static :\n",
    "    title = \"Les Algorithmes\"\n",
    "\n",
    "# Instanciation\n",
    "static_algorithm = Static"
   ]
  },
  {
   "cell_type": "code",
   "execution_count": 37,
   "metadata": {},
   "outputs": [
    {
     "data": {
      "text/plain": [
       "False"
      ]
     },
     "metadata": {},
     "output_type": "display_data"
    },
    {
     "data": {
      "text/plain": [
       "True"
      ]
     },
     "metadata": {},
     "output_type": "display_data"
    }
   ],
   "source": [
    "# Évaluation\n",
    "display(\n",
    "    isinstance(static_algorithm, Static),\n",
    "    static_algorithm is Static\n",
    ")"
   ]
  },
  {
   "cell_type": "markdown",
   "metadata": {},
   "source": [
    "---\n",
    "### **2.** Comportement"
   ]
  },
  {
   "cell_type": "markdown",
   "metadata": {},
   "source": [
    "##### **2.1** - Statisme"
   ]
  },
  {
   "cell_type": "markdown",
   "metadata": {},
   "source": [
    "Propriété statique"
   ]
  },
  {
   "cell_type": "code",
   "execution_count": null,
   "metadata": {},
   "outputs": [],
   "source": [
    "class Kaamelott :\n",
    "\n",
    "    count_instances = 0\n",
    "    not_static = 0 # [!] - Non statique, 'self'\n",
    "\n",
    "    def __init__(self, name:str) -> None :\n",
    "        \n",
    "        self.name = name\n",
    "        Kaamelott.count_instances += 1\n",
    "        self.not_static += 1 # [!] - Non statique, 'self'\n",
    "\n",
    "\n",
    "# Deux instances d'une même classe\n",
    "arthur = Kaamelott('Arthur Pendragon')\n",
    "guenievre = Kaamelott('Genièvre de Carmélide')"
   ]
  },
  {
   "cell_type": "code",
   "execution_count": null,
   "metadata": {},
   "outputs": [
    {
     "data": {
      "text/plain": [
       "2"
      ]
     },
     "metadata": {},
     "output_type": "display_data"
    },
    {
     "data": {
      "text/plain": [
       "2"
      ]
     },
     "metadata": {},
     "output_type": "display_data"
    },
    {
     "data": {
      "text/plain": [
       "2"
      ]
     },
     "metadata": {},
     "output_type": "display_data"
    }
   ],
   "source": [
    "# L'attribut 'count_instance' a la même valeur partout\n",
    "display( \n",
    "    arthur.count_instances,\n",
    "    guenievre.count_instances,\n",
    "    Kaamelott.count_instances\n",
    ")"
   ]
  },
  {
   "cell_type": "code",
   "execution_count": null,
   "metadata": {},
   "outputs": [
    {
     "data": {
      "text/plain": [
       "1"
      ]
     },
     "metadata": {},
     "output_type": "display_data"
    },
    {
     "data": {
      "text/plain": [
       "4"
      ]
     },
     "metadata": {},
     "output_type": "display_data"
    },
    {
     "data": {
      "text/plain": [
       "0"
      ]
     },
     "metadata": {},
     "output_type": "display_data"
    }
   ],
   "source": [
    "# L'attribut 'not_static' se distingue selon la classe ou l'instance\n",
    "guenievre.not_static += 3\n",
    "display(\n",
    "    arthur.not_static,\n",
    "    guenievre.not_static,\n",
    "    Kaamelott.not_static\n",
    ")"
   ]
  },
  {
   "cell_type": "markdown",
   "metadata": {},
   "source": [
    "Méthode statique"
   ]
  },
  {
   "cell_type": "code",
   "execution_count": null,
   "metadata": {},
   "outputs": [],
   "source": [
    "class Mathematic :\n",
    "    \n",
    "    @staticmethod\n",
    "    def power(number:float, pow:float) -> float :\n",
    "        return number ** pow"
   ]
  },
  {
   "cell_type": "code",
   "execution_count": null,
   "metadata": {},
   "outputs": [
    {
     "data": {
      "text/plain": [
       "256"
      ]
     },
     "execution_count": 23,
     "metadata": {},
     "output_type": "execute_result"
    }
   ],
   "source": [
    "# Méthode accessible depuis la classe\n",
    "Mathematic.power(2, 8)"
   ]
  },
  {
   "cell_type": "code",
   "execution_count": null,
   "metadata": {},
   "outputs": [
    {
     "data": {
      "text/plain": [
       "10000"
      ]
     },
     "execution_count": 25,
     "metadata": {},
     "output_type": "execute_result"
    }
   ],
   "source": [
    "# La classe demeure instanciable et la méthode accessible depuis l'instance\n",
    "autre = Mathematic()\n",
    "autre.power(10, 4)"
   ]
  },
  {
   "cell_type": "markdown",
   "metadata": {},
   "source": [
    "##### **2.2** - Accessibilité"
   ]
  },
  {
   "cell_type": "markdown",
   "metadata": {},
   "source": [
    "Propriétés publiques"
   ]
  },
  {
   "cell_type": "code",
   "execution_count": null,
   "metadata": {},
   "outputs": [],
   "source": [
    "# Attributs éditables depuis l'extérieur\n",
    "class DrinkMachine :\n",
    "    \n",
    "    drink_type = \"Sans alcool\"\n",
    "    \n",
    "    def __init__(self, name:str, stock:int) -> None :\n",
    "        self.name = name\n",
    "        self.stock = stock\n",
    "\n",
    "coffee = DrinkMachine('Coffee', 10)"
   ]
  },
  {
   "cell_type": "code",
   "execution_count": null,
   "metadata": {},
   "outputs": [
    {
     "data": {
      "text/plain": [
       "'Hello World !'"
      ]
     },
     "execution_count": 27,
     "metadata": {},
     "output_type": "execute_result"
    }
   ],
   "source": [
    "# Modification de 'name' et 'stock' depuis l'extérieur\n",
    "coffee.name = 123456789\n",
    "coffee.stock = 'Hello World !'\n",
    "\n",
    "coffee.stock"
   ]
  },
  {
   "cell_type": "code",
   "execution_count": null,
   "metadata": {},
   "outputs": [
    {
     "data": {
      "text/plain": [
       "'Whisky a gogo'"
      ]
     },
     "execution_count": 28,
     "metadata": {},
     "output_type": "execute_result"
    }
   ],
   "source": [
    "# Modification de l'attribut static\n",
    "coffee.drink_type = \"Whisky a gogo\"\n",
    "\n",
    "coffee.drink_type"
   ]
  },
  {
   "cell_type": "markdown",
   "metadata": {},
   "source": [
    "Propriétés privées"
   ]
  },
  {
   "cell_type": "code",
   "execution_count": null,
   "metadata": {},
   "outputs": [],
   "source": [
    "# Attributs disimulés\n",
    "class SoftDrinkMachine :\n",
    "\n",
    "    def __init__(self, name:str, stock:int) -> None :\n",
    "        # Syntaxe technique\n",
    "        self.__name = name\n",
    "        self.__stock = stock\n",
    "        # Différence\n",
    "        self._test = \"Avec 1 underscore\"\n",
    "\n",
    "coke = SoftDrinkMachine(\"Coke\", 10)"
   ]
  },
  {
   "cell_type": "code",
   "execution_count": null,
   "metadata": {},
   "outputs": [
    {
     "ename": "AttributeError",
     "evalue": "'SoftDrinkMachine' object has no attribute '__name'",
     "output_type": "error",
     "traceback": [
      "\u001b[1;31m---------------------------------------------------------------------------\u001b[0m",
      "\u001b[1;31mAttributeError\u001b[0m                            Traceback (most recent call last)",
      "\u001b[1;32mc:\\Users\\la-da\\OneDrive\\Productions\\ai-developer\\01.python-advanced\\01.oop\\00.concept.ipynb Cellule 44\u001b[0m in \u001b[0;36m<cell line: 2>\u001b[1;34m()\u001b[0m\n\u001b[0;32m      <a href='vscode-notebook-cell:/c%3A/Users/la-da/OneDrive/Productions/ai-developer/01.python-advanced/01.oop/00.concept.ipynb#Y105sZmlsZQ%3D%3D?line=0'>1</a>\u001b[0m \u001b[39m# Attribut n'est pas accessible depuis l'extérieur\u001b[39;00m\n\u001b[1;32m----> <a href='vscode-notebook-cell:/c%3A/Users/la-da/OneDrive/Productions/ai-developer/01.python-advanced/01.oop/00.concept.ipynb#Y105sZmlsZQ%3D%3D?line=1'>2</a>\u001b[0m coke\u001b[39m.\u001b[39;49m__name\n",
      "\u001b[1;31mAttributeError\u001b[0m: 'SoftDrinkMachine' object has no attribute '__name'"
     ]
    }
   ],
   "source": [
    "# Attribut n'est pas accessible depuis l'extérieur\n",
    "coke.__name"
   ]
  },
  {
   "cell_type": "code",
   "execution_count": null,
   "metadata": {},
   "outputs": [
    {
     "data": {
      "text/plain": [
       "'Avec 1 underscore'"
      ]
     },
     "execution_count": 52,
     "metadata": {},
     "output_type": "execute_result"
    }
   ],
   "source": [
    "# Différence avec 1 underscore\n",
    "coke._test"
   ]
  },
  {
   "cell_type": "code",
   "execution_count": null,
   "metadata": {},
   "outputs": [
    {
     "data": {
      "text/plain": [
       "{'_SoftDrinkMachine__name': 'Coke',\n",
       " '_SoftDrinkMachine__stock': 10,\n",
       " '_test': 'Avec 1 underscore'}"
      ]
     },
     "execution_count": 53,
     "metadata": {},
     "output_type": "execute_result"
    }
   ],
   "source": [
    "# Les attributs '__name' ets '__stock' ne sont pas visible\n",
    "coke.__dict__"
   ]
  },
  {
   "cell_type": "code",
   "execution_count": null,
   "metadata": {},
   "outputs": [
    {
     "data": {
      "text/plain": [
       "'Fanta'"
      ]
     },
     "metadata": {},
     "output_type": "display_data"
    },
    {
     "data": {
      "text/plain": [
       "'Modifiable aussi'"
      ]
     },
     "metadata": {},
     "output_type": "display_data"
    }
   ],
   "source": [
    "# Modification demeurre possible\n",
    "coke.__name = \"Fanta\"\n",
    "coke._test = \"Modifiable aussi\"\n",
    "\n",
    "display(\n",
    "    coke.__name,\n",
    "    coke._test\n",
    ")"
   ]
  },
  {
   "cell_type": "code",
   "execution_count": null,
   "metadata": {},
   "outputs": [
    {
     "data": {
      "text/plain": [
       "{'_SoftDrinkMachine__name': 'Coke',\n",
       " '_SoftDrinkMachine__stock': 10,\n",
       " '_test': 'Modifiable aussi',\n",
       " '__name': 'Fanta'}"
      ]
     },
     "execution_count": 55,
     "metadata": {},
     "output_type": "execute_result"
    }
   ],
   "source": [
    "# La modification depuis l'extérieur à ouvert la visibllité de l'attribut '__name'\n",
    "coke.__dict__"
   ]
  },
  {
   "cell_type": "markdown",
   "metadata": {},
   "source": [
    "---\n",
    "### **3.** Encapsulation"
   ]
  },
  {
   "cell_type": "markdown",
   "metadata": {},
   "source": [
    "##### **3.1** - Accesseurs"
   ]
  },
  {
   "cell_type": "markdown",
   "metadata": {},
   "source": [
    "Le décorateur `@property`"
   ]
  },
  {
   "cell_type": "code",
   "execution_count": null,
   "metadata": {},
   "outputs": [],
   "source": [
    "# Accéder aux attributs\n",
    "class Employee :\n",
    "\n",
    "    def __init__(self, firstname:str, lastname:str) -> None :\n",
    "        self.__firstname = firstname\n",
    "        self.__lastname = lastname\n",
    "    \n",
    "    @property\n",
    "    def firstname(self) -> str :\n",
    "        return self.__firstname\n",
    "\n",
    "    @property\n",
    "    def lastname(self) -> str :\n",
    "        return self.__lastname\n",
    "    \n",
    "# Instanciation\n",
    "ada = Employee(\"Ada\", \"Lovelace\")"
   ]
  },
  {
   "cell_type": "code",
   "execution_count": null,
   "metadata": {},
   "outputs": [
    {
     "data": {
      "text/plain": [
       "'Ada'"
      ]
     },
     "metadata": {},
     "output_type": "display_data"
    },
    {
     "data": {
      "text/plain": [
       "'Lovelace'"
      ]
     },
     "metadata": {},
     "output_type": "display_data"
    }
   ],
   "source": [
    "# Les attributs deviennent accessibles par leurs méthodes respectives\n",
    "display(\n",
    "    ada.firstname,\n",
    "    ada.lastname\n",
    ")"
   ]
  },
  {
   "cell_type": "markdown",
   "metadata": {},
   "source": [
    "##### **3.2** - Mutateurs"
   ]
  },
  {
   "cell_type": "markdown",
   "metadata": {},
   "source": [
    "Le décorateur `@property_name.setter`"
   ]
  },
  {
   "cell_type": "code",
   "execution_count": null,
   "metadata": {},
   "outputs": [],
   "source": [
    "class Person : \n",
    "\n",
    "    def __init__(self, fullname:str, age:int) -> None :\n",
    "        self.__fullname = fullname\n",
    "        self.__age = age\n",
    "    \n",
    "    @property\n",
    "    def fullname(self) -> str :\n",
    "        return self.__fullname\n",
    "\n",
    "    @fullname.setter\n",
    "    def fullname(self, name:str) -> str :\n",
    "        if name :\n",
    "            self.__fullname = name\n",
    "            print(f\"(!) - Nom complet mis-à-jour avec '{self.__fullname}'\")\n",
    "        \n",
    "\n",
    "# Instanciation\n",
    "aurelie = Person(\"Aurélie J.\", 40)"
   ]
  },
  {
   "cell_type": "code",
   "execution_count": null,
   "metadata": {},
   "outputs": [
    {
     "data": {
      "text/plain": [
       "'Aurélie J.'"
      ]
     },
     "metadata": {},
     "output_type": "display_data"
    },
    {
     "name": "stdout",
     "output_type": "stream",
     "text": [
      "(!) - Nom complet mis-à-jour avec 'Aurélie Jean'\n"
     ]
    },
    {
     "data": {
      "text/plain": [
       "'Aurélie Jean'"
      ]
     },
     "execution_count": 71,
     "metadata": {},
     "output_type": "execute_result"
    }
   ],
   "source": [
    "# Modification contrôlée\n",
    "display(aurelie.fullname)\n",
    "aurelie.fullname = \"Aurélie Jean\"\n",
    "\n",
    "aurelie.fullname"
   ]
  },
  {
   "cell_type": "markdown",
   "metadata": {},
   "source": [
    "##### **3.3** - Processus complet"
   ]
  },
  {
   "cell_type": "code",
   "execution_count": null,
   "metadata": {},
   "outputs": [],
   "source": [
    "# Principe d'encapsulation complet\n",
    "class CoffeeMachine :\n",
    "\n",
    "    __limit = 10 # éviter les valeurs folles telle que 10,000,000.00\n",
    "\n",
    "    def __init__(self, name:str, stock:int) -> None :\n",
    "        self.__stock = stock\n",
    "        self.__name = name\n",
    "\n",
    "    @property\n",
    "    def name(self) :\n",
    "        return self.__name\n",
    "    \n",
    "    @name.setter\n",
    "    def name(self, value:str) -> None :\n",
    "        value = value.strip()\n",
    "        if value :\n",
    "            self.__name = value\n",
    "            print(f\"(!) - Nom mis à jour '{self.__name}'\")\n",
    "        else : \n",
    "            print(f\"[!] - Valeur '{value}' non-autorisée\")\n",
    "    \n",
    "    @property\n",
    "    def stock(self) :\n",
    "        return self.__stock\n",
    "    \n",
    "    @stock.setter\n",
    "    def stock(self, qty:int) -> None :\n",
    "        if type(qty) == int and qty > 0 : \n",
    "            self.__stock = qty if qty <= CoffeeMachine.__limit else CoffeeMachine.__limit\n",
    "            print(f\"(!) - Stock mis à jour {self.__stock} (stock max. {CoffeeMachine.__limit})\")\n",
    "        else :\n",
    "            print(f\"[!] - Valeur '{qty}' non-autorisée\")"
   ]
  },
  {
   "cell_type": "code",
   "execution_count": null,
   "metadata": {},
   "outputs": [
    {
     "data": {
      "text/plain": [
       "5"
      ]
     },
     "execution_count": 84,
     "metadata": {},
     "output_type": "execute_result"
    }
   ],
   "source": [
    "# Instanciation\n",
    "arabica = CoffeeMachine('Arabica', 5)\n",
    "arabica.stock"
   ]
  },
  {
   "cell_type": "code",
   "execution_count": null,
   "metadata": {},
   "outputs": [
    {
     "name": "stdout",
     "output_type": "stream",
     "text": [
      "[!] - Valeur 'Hello World !' non-autorisée\n",
      "[!] - Valeur '-9.99' non-autorisée\n",
      "[!] - Valeur '10000000.0' non-autorisée\n"
     ]
    }
   ],
   "source": [
    "# Échecs de modification\n",
    "arabica.stock = 'Hello World !' # Une chaine de caractères\n",
    "arabica.stock = -9.99 # Un nombre flotant et négatif\n",
    "arabica.stock = 10_000_000.00 # Une valeur folle o_O"
   ]
  },
  {
   "cell_type": "code",
   "execution_count": null,
   "metadata": {},
   "outputs": [
    {
     "name": "stdout",
     "output_type": "stream",
     "text": [
      "(!) - Stock mis à jour 8 (stock max. 10)\n"
     ]
    }
   ],
   "source": [
    "# Modification valide\n",
    "arabica.stock = 8"
   ]
  },
  {
   "cell_type": "code",
   "execution_count": null,
   "metadata": {},
   "outputs": [
    {
     "data": {
      "text/plain": [
       "['_CoffeeMachine__limit',\n",
       " '__class__',\n",
       " '__delattr__',\n",
       " '__dict__',\n",
       " '__dir__',\n",
       " '__doc__',\n",
       " '__eq__',\n",
       " '__format__',\n",
       " '__ge__',\n",
       " '__getattribute__',\n",
       " '__gt__',\n",
       " '__hash__',\n",
       " '__init__',\n",
       " '__init_subclass__',\n",
       " '__le__',\n",
       " '__lt__',\n",
       " '__module__',\n",
       " '__ne__',\n",
       " '__new__',\n",
       " '__reduce__',\n",
       " '__reduce_ex__',\n",
       " '__repr__',\n",
       " '__setattr__',\n",
       " '__sizeof__',\n",
       " '__str__',\n",
       " '__subclasshook__',\n",
       " '__weakref__',\n",
       " 'name',\n",
       " 'stock']"
      ]
     },
     "execution_count": 87,
     "metadata": {},
     "output_type": "execute_result"
    }
   ],
   "source": [
    "# Objets propriétés / méthodes disponibles pour chaque classe\n",
    "dir(CoffeeMachine)"
   ]
  }
 ],
 "metadata": {
  "kernelspec": {
   "display_name": "Python 3.10.5 64-bit",
   "language": "python",
   "name": "python3"
  },
  "language_info": {
   "codemirror_mode": {
    "name": "ipython",
    "version": 3
   },
   "file_extension": ".py",
   "mimetype": "text/x-python",
   "name": "python",
   "nbconvert_exporter": "python",
   "pygments_lexer": "ipython3",
   "version": "3.10.5"
  },
  "orig_nbformat": 4,
  "vscode": {
   "interpreter": {
    "hash": "26de051ba29f2982a8de78e945f0abaf191376122a1563185a90213a26c5da77"
   }
  }
 },
 "nbformat": 4,
 "nbformat_minor": 2
}

{
 "cells": [
  {
   "cell_type": "markdown",
   "metadata": {},
   "source": [
    "## **Object-Orentied :** Inheritance\n",
    "\n",
    "#### _L'héritage en Orienté Objet_\n",
    "\n",
    "🟢 `complete`\n",
    "\n",
    "---\n",
    "\n",
    "1. **Basique**\n",
    "    * Généricité et spécialisation\n",
    "    * Multiple niveaux\n",
    "    * Surcharge\n",
    "2. **Avancé**\n",
    "    * Abstraction\n",
    "    * Interface\n",
    "    * Polymorphisme\n",
    "\n",
    "`---`\n",
    "\n",
    "* [Real Python :: Interface](https://realpython.com/python-interface/)\n",
    "* [Real Python :: Metaclasses](https://realpython.com/python-metaclasses/)"
   ]
  },
  {
   "cell_type": "markdown",
   "metadata": {},
   "source": [
    "**Built-in**"
   ]
  },
  {
   "cell_type": "code",
   "execution_count": 26,
   "metadata": {},
   "outputs": [],
   "source": [
    "from abc import ABC, ABCMeta, abstractmethod"
   ]
  },
  {
   "cell_type": "markdown",
   "metadata": {},
   "source": [
    "---\n",
    "### **1.** Basique"
   ]
  },
  {
   "cell_type": "markdown",
   "metadata": {},
   "source": [
    "##### **1.1** - Généricité et spécialisation"
   ]
  },
  {
   "cell_type": "markdown",
   "metadata": {},
   "source": [
    "Classe parente et classe héritière"
   ]
  },
  {
   "cell_type": "code",
   "execution_count": 10,
   "metadata": {},
   "outputs": [],
   "source": [
    "# Classe générique\n",
    "class Animal() :\n",
    "\n",
    "    def __init__(self, name:str, age:int) -> None :\n",
    "        self.__name = name\n",
    "        self.__age = age \n",
    "\n",
    "    def speak(self):\n",
    "        return f\"Je suis {self.__name} et j'ai {self.__age} an(s)\"\n",
    "\n",
    "    def __str__(self):\n",
    "        return f\"Nom : {self.__name} – Age : {self.__age} an(s)\""
   ]
  },
  {
   "cell_type": "code",
   "execution_count": 11,
   "metadata": {},
   "outputs": [],
   "source": [
    "# Classe spécifique\n",
    "class Dog(Animal) :\n",
    "\n",
    "    def __init__(self, name:str, age:str) -> None :\n",
    "        # Implémentation des propriétés de la classe parente\n",
    "        Animal.__init__(self, name, age)\n",
    "        # Propriétés propres à la classe enfant\n",
    "        self.__type = \"Chien\"\n",
    "    \n",
    "    @property\n",
    "    def type(self) -> str :\n",
    "        return self.__type\n",
    "\n",
    "\n",
    "# Instanciation de la classe enfant\n",
    "snoopy = Dog(\"Milou\", 5)"
   ]
  },
  {
   "cell_type": "code",
   "execution_count": 12,
   "metadata": {},
   "outputs": [
    {
     "name": "stdout",
     "output_type": "stream",
     "text": [
      "Nom : Milou – Age : 5 an(s)\n"
     ]
    },
    {
     "data": {
      "text/plain": [
       "\"Je suis Milou et j'ai 5 an(s)\""
      ]
     },
     "execution_count": 12,
     "metadata": {},
     "output_type": "execute_result"
    }
   ],
   "source": [
    "# La classe enfant hérite des membres (propriétés et fonctionnalités) de sa classe parente\n",
    "print(snoopy)\n",
    "snoopy.speak()"
   ]
  },
  {
   "cell_type": "markdown",
   "metadata": {},
   "source": [
    "Méthode `.super()`"
   ]
  },
  {
   "cell_type": "code",
   "execution_count": 16,
   "metadata": {},
   "outputs": [],
   "source": [
    "# Classe générique\n",
    "class Opus :\n",
    "\n",
    "    def __init__(self, title:str, author:str) -> None :\n",
    "        self.__title = title\n",
    "        self.__author = author"
   ]
  },
  {
   "cell_type": "code",
   "execution_count": 17,
   "metadata": {},
   "outputs": [],
   "source": [
    "# Classes de spécialisations\n",
    "class Music(Opus) :\n",
    "\n",
    "    def __init__(self, title:str, author:str, track_qty:int) -> None :\n",
    "        super().__init__(title, author)\n",
    "        self.__track_qty = track_qty\n",
    "\n",
    "class Book(Opus) :\n",
    "\n",
    "    def __init__(self, title:str, author:str, format:str) -> None :\n",
    "        super().__init__(title, author)\n",
    "        self.__format = format"
   ]
  },
  {
   "cell_type": "markdown",
   "metadata": {},
   "source": [
    "Type d'instance `isinstance()`"
   ]
  },
  {
   "cell_type": "code",
   "execution_count": 18,
   "metadata": {},
   "outputs": [],
   "source": [
    "star_wars_iii = Opus(\"Star Wars - Episode III : La revanche des Sith\", \"George Lucas\")\n",
    "pelagial = Music(\"Pelagial\", \"The Ocean\", 11)\n",
    "behind_machine = Book(\"De l'autre côté de la machine\", \"Aurélie Jean\", \"De Facto\")"
   ]
  },
  {
   "cell_type": "code",
   "execution_count": 19,
   "metadata": {},
   "outputs": [
    {
     "data": {
      "text/plain": [
       "False"
      ]
     },
     "metadata": {},
     "output_type": "display_data"
    },
    {
     "data": {
      "text/plain": [
       "True"
      ]
     },
     "metadata": {},
     "output_type": "display_data"
    },
    {
     "data": {
      "text/plain": [
       "True"
      ]
     },
     "metadata": {},
     "output_type": "display_data"
    },
    {
     "data": {
      "text/plain": [
       "True"
      ]
     },
     "metadata": {},
     "output_type": "display_data"
    }
   ],
   "source": [
    "# Tester le type d'une instance\n",
    "display(\n",
    "    isinstance(star_wars_iii, Book),\n",
    "    isinstance(pelagial, Music),\n",
    "    isinstance(behind_machine, Book),\n",
    "    isinstance(behind_machine, Opus),\n",
    ")"
   ]
  },
  {
   "cell_type": "markdown",
   "metadata": {},
   "source": [
    "##### **1.2** - Multiple niveaux"
   ]
  },
  {
   "cell_type": "code",
   "execution_count": 14,
   "metadata": {},
   "outputs": [],
   "source": [
    "class Alpha :\n",
    "    \n",
    "    def __init__(self) :\n",
    "        print('Class Alpah :: __init__')\n",
    "\n",
    "    def method(self, attr) :\n",
    "        print('Class Alpha :: method', attr)\n",
    "\n",
    "\n",
    "class Beta(Alpha) :\n",
    "\n",
    "    def __init__(self) :\n",
    "        print('Class Beta :: __init__')\n",
    "        super().__init__()\n",
    "\n",
    "    def method(self, attr) :\n",
    "        print('Class Beta :: method', attr)\n",
    "        # Appel parent Alpha\n",
    "        super().method(attr + 1)\n",
    "\n",
    "\n",
    "class Gamma(Beta) :\n",
    "\n",
    "    def __init__(self) :\n",
    "        print('Class Gamma :: __init__')\n",
    "        super().__init__()\n",
    "\n",
    "    def method(self, attr):\n",
    "        print('Class Gamma :: method', attr)\n",
    "        # Appel parent Beta\n",
    "        super().method(attr + 1)"
   ]
  },
  {
   "cell_type": "code",
   "execution_count": 15,
   "metadata": {},
   "outputs": [
    {
     "name": "stdout",
     "output_type": "stream",
     "text": [
      "-> Instanciation :\n",
      "Class Gamma :: __init__\n",
      "Class Beta :: __init__\n",
      "Class Alpah :: __init__\n",
      "-> Execution : \n",
      "Class Gamma :: method 1\n",
      "Class Beta :: method 2\n",
      "Class Alpha :: method 3\n"
     ]
    }
   ],
   "source": [
    "# Instanciation\n",
    "print(f\"-> Instanciation :\")\n",
    "gamma = Gamma()\n",
    "# Exécution\n",
    "print(f\"-> Execution : \")\n",
    "gamma.method(1)"
   ]
  },
  {
   "cell_type": "markdown",
   "metadata": {},
   "source": [
    "##### **1.3** - Surcharge"
   ]
  },
  {
   "cell_type": "markdown",
   "metadata": {},
   "source": [
    "L'_Overriding_"
   ]
  },
  {
   "cell_type": "code",
   "execution_count": 6,
   "metadata": {},
   "outputs": [],
   "source": [
    "# Classe parente\n",
    "class Person : \n",
    "\n",
    "    def __init__(self, firstname:str, lastname:str) -> None :\n",
    "        self.__firstname = firstname\n",
    "        self.__lastname = lastname\n",
    "    \n",
    "    def informations(self) -> str :\n",
    "        return f\"Info : {self.__firstname} {self.__lastname.upper()}\"\n",
    "\n",
    "# Classe héritière \n",
    "class Employee(Person) :\n",
    "\n",
    "    def __init__(self, firstname:str, lastname:str, salary:float) -> None :\n",
    "        super().__init__(firstname, lastname)\n",
    "        self.__salary = salary\n",
    "\n",
    "    # Surcharge de la méthode parente\n",
    "    def informations(self) -> str :\n",
    "        return f\"{super().informations()} | Salaire : {self.__salary}\"\n",
    "\n",
    "# Instances\n",
    "ada = Person(\"Ada\", \"Lovelace\")\n",
    "margaret = Employee(\"Margaret\", \"Hamilton\", 10000)"
   ]
  },
  {
   "cell_type": "code",
   "execution_count": 7,
   "metadata": {},
   "outputs": [
    {
     "data": {
      "text/plain": [
       "'Info : Ada LOVELACE'"
      ]
     },
     "metadata": {},
     "output_type": "display_data"
    },
    {
     "data": {
      "text/plain": [
       "'Info : Margaret HAMILTON | Salaire : 10000'"
      ]
     },
     "metadata": {},
     "output_type": "display_data"
    }
   ],
   "source": [
    "# Méthodes appelées depuis leur instance respective\n",
    "display(\n",
    "    ada.informations(),\n",
    "    margaret.informations()\n",
    ")"
   ]
  },
  {
   "cell_type": "markdown",
   "metadata": {},
   "source": [
    "---\n",
    "\n",
    "### **2.** Avancé"
   ]
  },
  {
   "cell_type": "markdown",
   "metadata": {},
   "source": [
    "##### **2.1** - Abstraction"
   ]
  },
  {
   "cell_type": "markdown",
   "metadata": {},
   "source": [
    "Méthode abstraite `@abstractmethod` et le module `ABC`"
   ]
  },
  {
   "cell_type": "code",
   "execution_count": 71,
   "metadata": {},
   "outputs": [],
   "source": [
    "# Classe abstraite hérite du modèle Abstract Base Class\n",
    "class AbstractAnimal(ABC) :\n",
    "\n",
    "    # Définition d'une méthode non-implémentée\n",
    "    @abstractmethod\n",
    "    def feed_animal(self, time:str) -> None :\n",
    "        pass\n",
    "\n",
    "\n",
    "# Classes normales, implémentent chacune la méthode 'feed_animal' à leur manière\n",
    "class Lion(AbstractAnimal) :\n",
    "\n",
    "    def __init__(self, name:str) -> None :\n",
    "        self.__name = name\n",
    "\n",
    "    def feed_animal(self, time:str) -> None :\n",
    "        return f\"{self.__name} le Lion mange des Gnous à {time}\"\n",
    "\n",
    "\n",
    "class Pandas(AbstractAnimal) :\n",
    "\n",
    "    def __init__(self, name:str) -> None :\n",
    "        self.__name = name\n",
    "\n",
    "    def feed_animal(self, time:str) -> None :\n",
    "        return f\"{self.__name} le Pandas mange du Bambou à {time}\""
   ]
  },
  {
   "cell_type": "code",
   "execution_count": 72,
   "metadata": {},
   "outputs": [
    {
     "data": {
      "text/plain": [
       "'Simba le Lion mange des Gnous à 09h00'"
      ]
     },
     "metadata": {},
     "output_type": "display_data"
    },
    {
     "data": {
      "text/plain": [
       "'Po Ping le Pandas mange du Bambou à 10h00'"
      ]
     },
     "metadata": {},
     "output_type": "display_data"
    }
   ],
   "source": [
    "# Instanciation et exécutions\n",
    "simba = Lion(\"Simba\")\n",
    "po_ping = Pandas(\"Po Ping\")\n",
    "\n",
    "display(\n",
    "    simba.feed_animal('09h00'),\n",
    "    po_ping.feed_animal('10h00')\n",
    ")"
   ]
  },
  {
   "cell_type": "code",
   "execution_count": 73,
   "metadata": {},
   "outputs": [
    {
     "ename": "TypeError",
     "evalue": "Can't instantiate abstract class AbstractAnimal with abstract method feed_animal",
     "output_type": "error",
     "traceback": [
      "\u001b[1;31m---------------------------------------------------------------------------\u001b[0m",
      "\u001b[1;31mTypeError\u001b[0m                                 Traceback (most recent call last)",
      "\u001b[1;32mc:\\Users\\la-da\\OneDrive\\Productions\\ai-developer\\01.python-advanced\\01.oop\\01.inheritance.ipynb Cellule 25\u001b[0m in \u001b[0;36m<cell line: 2>\u001b[1;34m()\u001b[0m\n\u001b[0;32m      <a href='vscode-notebook-cell:/c%3A/Users/la-da/OneDrive/Productions/ai-developer/01.python-advanced/01.oop/01.inheritance.ipynb#X36sZmlsZQ%3D%3D?line=0'>1</a>\u001b[0m \u001b[39m# Une classe abstraite n'a pas pour vocation d'être instanciée (pas de déclaration __init__)\u001b[39;00m\n\u001b[1;32m----> <a href='vscode-notebook-cell:/c%3A/Users/la-da/OneDrive/Productions/ai-developer/01.python-advanced/01.oop/01.inheritance.ipynb#X36sZmlsZQ%3D%3D?line=1'>2</a>\u001b[0m abstract_animal \u001b[39m=\u001b[39m AbstractAnimal()\n",
      "\u001b[1;31mTypeError\u001b[0m: Can't instantiate abstract class AbstractAnimal with abstract method feed_animal"
     ]
    }
   ],
   "source": [
    "# Une classe abstraite n'a pas pour vocation d'être instanciée (pas de déclaration __init__)\n",
    "abstract_animal = AbstractAnimal()"
   ]
  },
  {
   "cell_type": "markdown",
   "metadata": {},
   "source": [
    "##### **2.2** - Interfaces"
   ]
  },
  {
   "cell_type": "markdown",
   "metadata": {},
   "source": [
    "Interfaces informelles"
   ]
  },
  {
   "cell_type": "code",
   "execution_count": 21,
   "metadata": {},
   "outputs": [],
   "source": [
    "# Définition d'une classe en tant qu'Interface \"informelle\"\n",
    "class InterfacePerson :\n",
    "\n",
    "    # Les méthodes ne sont pas implémentées, seules leurs signatures sont définies\n",
    "    def get_information(self) -> str : pass\n",
    "\n",
    "\n",
    "# Impélmentations\n",
    "class Worker(InterfacePerson) :\n",
    "\n",
    "    def __init__(self, firstname:str, lastname:str) -> None :\n",
    "        self.__firstname = firstname\n",
    "        self.__lastname = lastname\n",
    "\n",
    "    def get_information(self) -> str :\n",
    "        return f\"Personne : {self.__firstname} {self.__lastname.upper()}\"\n",
    "\n",
    "\n",
    "class Trader(InterfacePerson) :\n",
    "\n",
    "    def __init__(self, firstname:str, lastname:str) -> None :\n",
    "        self.__firstname = firstname\n",
    "        self.__lastname = lastname\n",
    "\n",
    "    def get_different_information(self) -> str :\n",
    "        return f\"Personne : {self.__firstname} {self.__lastname.upper()}\"\n",
    "\n",
    "    # [!] - La méthode 'get_information' n'est pas implémentée... elle devrait l'être, mais Python ne lève pas d'erreur"
   ]
  },
  {
   "cell_type": "code",
   "execution_count": 23,
   "metadata": {},
   "outputs": [
    {
     "data": {
      "text/plain": [
       "True"
      ]
     },
     "metadata": {},
     "output_type": "display_data"
    },
    {
     "data": {
      "text/plain": [
       "(__main__.Worker, __main__.InterfacePerson, object)"
      ]
     },
     "metadata": {},
     "output_type": "display_data"
    },
    {
     "data": {
      "text/plain": [
       "True"
      ]
     },
     "metadata": {},
     "output_type": "display_data"
    },
    {
     "data": {
      "text/plain": [
       "(__main__.Trader, __main__.InterfacePerson, object)"
      ]
     },
     "metadata": {},
     "output_type": "display_data"
    }
   ],
   "source": [
    "# Contrôle la dépendance de chaque classe\n",
    "display(\n",
    "    issubclass(Worker, InterfacePerson),\n",
    "    Worker.__mro__,\n",
    "    issubclass(Trader, InterfacePerson), # Mais Trader n'implémente pas convenablement l'interface 'InterfacePerson'\n",
    "    Trader.__mro__\n",
    ")"
   ]
  },
  {
   "cell_type": "markdown",
   "metadata": {},
   "source": [
    "Interfaces formelles"
   ]
  },
  {
   "cell_type": "code",
   "execution_count": 40,
   "metadata": {},
   "outputs": [],
   "source": [
    "# Création d'une interface au moyen d'une MetaClasse fournie par 'abc'\n",
    "class InterfaceRepository(metaclass=ABCMeta) :\n",
    "\n",
    "    @classmethod\n",
    "    def __subclasshook__ (cls, subclass) :\n",
    "        return ( \n",
    "            hasattr(subclass, 'get_data') and callable(subclass.get_data) \n",
    "            and hasattr(subclass, 'insert_data') and callable(subclass.insert_data)\n",
    "            or NotImplementedError\n",
    "        )\n",
    "\n",
    "    @abstractmethod\n",
    "    def get_data(self, query:str) -> dict :\n",
    "        raise NotImplementedError\n",
    "\n",
    "    @abstractmethod\n",
    "    def insert_data(self, data:dict) -> bool :\n",
    "        raise NotImplementedError\n",
    "\n",
    "\n",
    "class SQLRepository(InterfaceRepository) :\n",
    "\n",
    "    plugin = 'mssql'\n",
    "\n",
    "    def __init__(self, logstring:str) -> None :\n",
    "        self.__db = f\"{SQLRepository.plugin}:{logstring}\"\n",
    "    \n",
    "    def get_data(self, query:str) -> dict :\n",
    "        print(f\"Connection... cursor... SELECT... etc.\")\n",
    "        return {'cursor': {'key':\"Value\"}}\n",
    "\n",
    "    def insert_data(self, data:dict) -> bool :\n",
    "        print(f\"Connection... cursor... INSERT... etc.\")\n",
    "        return True\n",
    "\n",
    "\n",
    "class NoSQLRepository(InterfaceRepository) :\n",
    "\n",
    "    plugin = 'mongodb+srv'\n",
    "\n",
    "    def __init__(self, logstring:str) -> None :\n",
    "        self.__db = f\"{NoSQLRepository.plugin}:{logstring}\"\n",
    "    \n",
    "    def get_data(self, query:str) -> dict :\n",
    "        print(f\"Connection... cursor... find... etc.\")\n",
    "        return {'cursor': {'key':\"Value\"}}\n",
    "\n",
    "    def insert_data(self, data:dict) -> bool :\n",
    "        print(f\"Connection... parsing... cursor... save... etc.\")\n",
    "        return True"
   ]
  },
  {
   "cell_type": "code",
   "execution_count": 41,
   "metadata": {},
   "outputs": [
    {
     "data": {
      "text/plain": [
       "True"
      ]
     },
     "metadata": {},
     "output_type": "display_data"
    },
    {
     "data": {
      "text/plain": [
       "(__main__.SQLRepository, __main__.InterfaceRepository, object)"
      ]
     },
     "metadata": {},
     "output_type": "display_data"
    },
    {
     "data": {
      "text/plain": [
       "True"
      ]
     },
     "metadata": {},
     "output_type": "display_data"
    },
    {
     "data": {
      "text/plain": [
       "(__main__.NoSQLRepository, __main__.InterfaceRepository, object)"
      ]
     },
     "metadata": {},
     "output_type": "display_data"
    }
   ],
   "source": [
    "# Instanciations\n",
    "msssqlserver = SQLRepository(\"<username>:<pass>@machine...\")\n",
    "mongodb = NoSQLRepository(\"<username>:<pass>@machine...\")\n",
    "\n",
    "display(\n",
    "    issubclass(SQLRepository, InterfaceRepository),\n",
    "    SQLRepository.__mro__,\n",
    "    issubclass(NoSQLRepository, InterfaceRepository),\n",
    "    NoSQLRepository.__mro__\n",
    ")\n"
   ]
  },
  {
   "cell_type": "code",
   "execution_count": 39,
   "metadata": {},
   "outputs": [],
   "source": [
    "# Test avec une classe ne respectant pas l'implémentation\n",
    "class BadRepository(InterfaceRepository) :\n",
    "\n",
    "    def __init__(self, logstring:str) -> None :\n",
    "        self.__logstring = logstring\n",
    "\n",
    "    def another_method(self) -> None :\n",
    "        print(\"Méthode...\")"
   ]
  },
  {
   "cell_type": "code",
   "execution_count": 42,
   "metadata": {},
   "outputs": [
    {
     "ename": "TypeError",
     "evalue": "Can't instantiate abstract class BadRepository with abstract methods get_data, insert_data",
     "output_type": "error",
     "traceback": [
      "\u001b[1;31m---------------------------------------------------------------------------\u001b[0m",
      "\u001b[1;31mTypeError\u001b[0m                                 Traceback (most recent call last)",
      "\u001b[1;32mc:\\Users\\la-da\\OneDrive\\Productions\\ai-developer\\01.python-advanced\\01.oop\\02.inheritance.ipynb Cellule 37\u001b[0m in \u001b[0;36m<cell line: 2>\u001b[1;34m()\u001b[0m\n\u001b[0;32m      <a href='vscode-notebook-cell:/c%3A/Users/la-da/OneDrive/Productions/ai-developer/01.python-advanced/01.oop/02.inheritance.ipynb#X55sZmlsZQ%3D%3D?line=0'>1</a>\u001b[0m \u001b[39m# Instanciation\u001b[39;00m\n\u001b[1;32m----> <a href='vscode-notebook-cell:/c%3A/Users/la-da/OneDrive/Productions/ai-developer/01.python-advanced/01.oop/02.inheritance.ipynb#X55sZmlsZQ%3D%3D?line=1'>2</a>\u001b[0m badreposotory \u001b[39m=\u001b[39m BadRepository(\u001b[39m\"\u001b[39;49m\u001b[39m<username>:<pass>@machine...\u001b[39;49m\u001b[39m\"\u001b[39;49m)\n",
      "\u001b[1;31mTypeError\u001b[0m: Can't instantiate abstract class BadRepository with abstract methods get_data, insert_data"
     ]
    }
   ],
   "source": [
    "# Instanciation\n",
    "badreposotory = BadRepository(\"<username>:<pass>@machine...\")"
   ]
  },
  {
   "cell_type": "markdown",
   "metadata": {},
   "source": [
    "##### **2.3** - Polymorphisme"
   ]
  },
  {
   "cell_type": "code",
   "execution_count": 44,
   "metadata": {},
   "outputs": [],
   "source": [
    "# Déclaration d'une interface (informelle, pour être plus simple)\n",
    "class InterfacePayable :\n",
    "    \n",
    "    def send_payment(self) -> None : pass\n",
    "\n",
    "\n",
    "class Provider(InterfacePayable) :\n",
    "\n",
    "    def __init__(self, name:str, invoice:int) -> None :\n",
    "        self.name = name\n",
    "        self.invoice = invoice\n",
    "\n",
    "    def send_payment(self) -> None :\n",
    "        print(f\"Provider {self.name} est payé {self.invoice} €\")\n",
    "\n",
    "\n",
    "class Operative(InterfacePayable) :\n",
    "    \n",
    "    def __init__(self, fullname:str, salary:float) -> None :\n",
    "        self.fullname = fullname\n",
    "        self.salary = salary\n",
    "\n",
    "    def send_payment(self) -> None :\n",
    "        print(f\"Operative {self.fullname} est payé·e {self.salary} €\")\n",
    "\n",
    "\n",
    "class TaxAgency(InterfacePayable) :\n",
    "\n",
    "    def __init__(self, tax:float) -> None :\n",
    "        self.tax = tax\n",
    "\n",
    "    def send_payment(self) -> None :\n",
    "        print(f\"TaxOffice est payé {self.tax} €\")\n",
    "\n",
    "\n",
    "class Employer :\n",
    "\n",
    "    def send_paiments(self, to_pay:InterfacePayable) -> None :\n",
    "        for entity in to_pay :\n",
    "            entity.send_payment()"
   ]
  },
  {
   "cell_type": "code",
   "execution_count": 45,
   "metadata": {},
   "outputs": [
    {
     "name": "stdout",
     "output_type": "stream",
     "text": [
      "Operative Margaret Hamilton est payé·e 10000 €\n",
      "Operative Alan Turing est payé·e 10000 €\n",
      "Provider MIT est payé 150000 €\n",
      "TaxOffice est payé 21000 €\n"
     ]
    }
   ],
   "source": [
    "# Implémentations et paiement\n",
    "company = Employer()\n",
    "\n",
    "company.send_paiments([\n",
    "    Operative(\"Margaret Hamilton\", 10_000),\n",
    "    Operative(\"Alan Turing\", 10_000),\n",
    "    Provider(\"MIT\", 150_000),\n",
    "    TaxAgency(21_000)\n",
    "])"
   ]
  }
 ],
 "metadata": {
  "kernelspec": {
   "display_name": "Python 3.10.5 64-bit",
   "language": "python",
   "name": "python3"
  },
  "language_info": {
   "codemirror_mode": {
    "name": "ipython",
    "version": 3
   },
   "file_extension": ".py",
   "mimetype": "text/x-python",
   "name": "python",
   "nbconvert_exporter": "python",
   "pygments_lexer": "ipython3",
   "version": "3.12.1"
  },
  "orig_nbformat": 4,
  "vscode": {
   "interpreter": {
    "hash": "26de051ba29f2982a8de78e945f0abaf191376122a1563185a90213a26c5da77"
   }
  }
 },
 "nbformat": 4,
 "nbformat_minor": 2
}

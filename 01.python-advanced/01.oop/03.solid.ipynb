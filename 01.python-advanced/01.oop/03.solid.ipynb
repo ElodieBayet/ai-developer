{
 "cells": [
  {
   "attachments": {},
   "cell_type": "markdown",
   "metadata": {},
   "source": [
    "## **Object-Oriented :** _SOLID_\n",
    "\n",
    "#### _Les propriétés SOLID en Orienté Objet_\n",
    "\n",
    "🟢 `complete`\n",
    "\n",
    "---\n",
    "\n",
    "1. **Principe**\n",
    "    * Définitions\n",
    "2. **Propriétés**\n",
    "    * Single Responsibility\n",
    "    * Open/Closed \n",
    "    * Liskov Substitution\n",
    "    * Interface Segregation\n",
    "    * Dependency Inversion\n",
    "\n",
    "`---`\n",
    "\n",
    "⚠️ Les déclarations ci-dessous sont dépourvues des contraintes \"d'interfaces formelles\", de \"propriétés privées\", \"d'encapsulation\" afin de faciliter la compréhension d'une architecture _SOLID_"
   ]
  },
  {
   "attachments": {},
   "cell_type": "markdown",
   "metadata": {},
   "source": [
    "**Built-in**"
   ]
  },
  {
   "cell_type": "code",
   "execution_count": 31,
   "metadata": {},
   "outputs": [],
   "source": [
    "from abc import ABC, abstractmethod"
   ]
  },
  {
   "attachments": {},
   "cell_type": "markdown",
   "metadata": {},
   "source": [
    "---\n",
    "### **1.** Principe"
   ]
  },
  {
   "attachments": {},
   "cell_type": "markdown",
   "metadata": {},
   "source": [
    "##### **1.1** - Définitions"
   ]
  },
  {
   "attachments": {},
   "cell_type": "markdown",
   "metadata": {},
   "source": [
    "**S** : Responsabilité unique `Single Responsibility`\n",
    "\n",
    "* Une classe n'a **qu'une seule responsabilité**.\n",
    "* Éviter impérativement les _God Objects_."
   ]
  },
  {
   "attachments": {},
   "cell_type": "markdown",
   "metadata": {},
   "source": [
    "**O** : Ouvert à l'extension / Fermé à la modification `Open/Closed`\n",
    "\n",
    "* Une classe doit pouvoir être **étendue**. \n",
    "* Eviter de _modifier_ le code source préexistant."
   ]
  },
  {
   "attachments": {},
   "cell_type": "markdown",
   "metadata": {},
   "source": [
    "**L** : Substitution de Liskov `Liskov Substitution`\n",
    "\n",
    "* Une instance d'un type de base doit pouvoir être **substitué par un sous-type de celui-ci** sans altérer le comportement du programme.\n",
    "* Eviter aux méthodes de devoir _déterminer_ si un de ses paramètres est d'un sous-type précis et de changer le comportement du programme en fonction du sous-type."
   ]
  },
  {
   "attachments": {},
   "cell_type": "markdown",
   "metadata": {},
   "source": [
    "**I** : Ségrégation des interfaces `Interface segregation`\n",
    "\n",
    "* Définir **plusieurs interfaces précises** pour faciliter leur implémentation par les classes\n",
    "* Eviter les _interfaces généralisées_."
   ]
  },
  {
   "attachments": {},
   "cell_type": "markdown",
   "metadata": {},
   "source": [
    "**D** : Inversion des dépendances `Dependency inversion`\n",
    "\n",
    "* Une classe doit toujours **dépendre des abstractions** en cassant les références entres différentes classes (découplage)\n",
    "* Eviter auc classes de _dépendre des implémentations_. "
   ]
  },
  {
   "attachments": {},
   "cell_type": "markdown",
   "metadata": {},
   "source": [
    "---\n",
    "### **2.** Propriétés"
   ]
  },
  {
   "attachments": {},
   "cell_type": "markdown",
   "metadata": {},
   "source": [
    "##### **2.1** - Single Responsibility"
   ]
  },
  {
   "attachments": {},
   "cell_type": "markdown",
   "metadata": {},
   "source": [
    "❌ **Incorrect**"
   ]
  },
  {
   "cell_type": "code",
   "execution_count": 32,
   "metadata": {},
   "outputs": [],
   "source": [
    "# Classe 'God Object' où les employés sont également gestionnaires des équipes\n",
    "class Employee :\n",
    "\n",
    "    def __init__(self, firstname:str, lastname:str, teams:dict) -> None :\n",
    "        self.__firstname = firstname\n",
    "        self.__lastname = lastname\n",
    "        self.__teams = teams\n",
    "\n",
    "    @property\n",
    "    def teams(self) :\n",
    "        return self.__teams\n",
    "\n",
    "    def create_teams(self, name:str) -> None :\n",
    "        if not name in self.__teams :\n",
    "            self.__teams[name] = []\n",
    "\n",
    "    def add_member(self, name:str, employee:str) -> None :\n",
    "        if (name in self.__teams) and not (employee in self.__teams[name]) :\n",
    "            self.__teams[name].append(employee)\n",
    "    \n",
    "    def desc(self) -> str :\n",
    "        return (f\"{self.__firstname} {self.__lastname}\")"
   ]
  },
  {
   "cell_type": "code",
   "execution_count": 33,
   "metadata": {},
   "outputs": [
    {
     "data": {
      "text/plain": [
       "{'software': ['Margaret Hamilton'], 'marketing': []}"
      ]
     },
     "execution_count": 33,
     "metadata": {},
     "output_type": "execute_result"
    }
   ],
   "source": [
    "# Implémentation de Margaret\n",
    "margaret = Employee(\"Margaret\", \"Hamilton\", {'software':[]})\n",
    "margaret.add_member('software', margaret.desc())\n",
    "margaret.create_teams('marketing')\n",
    "\n",
    "margaret.teams"
   ]
  },
  {
   "cell_type": "code",
   "execution_count": 34,
   "metadata": {},
   "outputs": [
    {
     "data": {
      "text/plain": [
       "{'software': ['Margaret Hamilton'], 'marketing': ['Alan Turing']}"
      ]
     },
     "execution_count": 34,
     "metadata": {},
     "output_type": "execute_result"
    }
   ],
   "source": [
    "# Implémentation d'Alan, intègre l'équipe marketing de Margaret\n",
    "alan = Employee(\"Alan\", \"Turing\", margaret.teams)\n",
    "alan.add_member('marketing', alan.desc())\n",
    "\n",
    "alan.teams"
   ]
  },
  {
   "attachments": {},
   "cell_type": "markdown",
   "metadata": {},
   "source": [
    "✔️ **Correct**"
   ]
  },
  {
   "cell_type": "code",
   "execution_count": 54,
   "metadata": {},
   "outputs": [],
   "source": [
    "# Classes distinctes\n",
    "class Employee :\n",
    "\n",
    "    def __init__(self, firstname:str, lastname:str) -> None :\n",
    "        self.__firstname = firstname\n",
    "        self.__lastname = lastname\n",
    "\n",
    "\n",
    "class Team :\n",
    "\n",
    "    def __init__(self, name:str) -> None :\n",
    "        self.__name = name\n",
    "        self.__members = []\n",
    "\n",
    "    @property\n",
    "    def members(self) -> list :\n",
    "        return self.__members\n",
    "\n",
    "    @members.setter\n",
    "    def members(self, employee:Employee) -> None :\n",
    "        if not employee in self.__members :\n",
    "            self.__members.append(employee)"
   ]
  },
  {
   "cell_type": "code",
   "execution_count": 55,
   "metadata": {},
   "outputs": [],
   "source": [
    "# Implémentation des équipes\n",
    "software = Team(\"Software Engineering\")\n",
    "research = Team(\"Research & Development\")"
   ]
  },
  {
   "cell_type": "code",
   "execution_count": 56,
   "metadata": {},
   "outputs": [],
   "source": [
    "# Implémentation de margaret\n",
    "margaret = Employee(\"Margaret\", \"Hamilton\")\n",
    "software.members = margaret\n",
    "research.members = margaret"
   ]
  },
  {
   "cell_type": "code",
   "execution_count": 57,
   "metadata": {},
   "outputs": [],
   "source": [
    "# Implémentation d'alan\n",
    "alan = Employee(\"Alan\", \"Turing\")\n",
    "research.members = alan"
   ]
  },
  {
   "cell_type": "code",
   "execution_count": 59,
   "metadata": {},
   "outputs": [
    {
     "name": "stdout",
     "output_type": "stream",
     "text": [
      "[<__main__.Employee object at 0x000002425D98E8C0>, <__main__.Employee object at 0x000002425D98EE00>]\n",
      "[<__main__.Employee object at 0x000002425D98E8C0>]\n"
     ]
    }
   ],
   "source": [
    "# Résultats \n",
    "print(research.members)\n",
    "print(software.members)"
   ]
  },
  {
   "attachments": {},
   "cell_type": "markdown",
   "metadata": {},
   "source": [
    "##### **2.2** - Open/Closed "
   ]
  },
  {
   "attachments": {},
   "cell_type": "markdown",
   "metadata": {},
   "source": [
    "❌ **Incorrect**"
   ]
  },
  {
   "cell_type": "code",
   "execution_count": 40,
   "metadata": {},
   "outputs": [],
   "source": [
    "class Supplier :\n",
    "\n",
    "    payment_type = 'invoice'\n",
    "    \n",
    "    def __init__(self, name:str, invoice:int) -> None :\n",
    "        self.name = name\n",
    "        self.invoice = invoice\n",
    "\n",
    "\n",
    "class Worker :\n",
    "    \n",
    "    payment_type = 'salary'\n",
    "\n",
    "    def __init__(self, fullname:str, salary:float) -> None :\n",
    "        self.fullname = fullname\n",
    "        self.salary = salary\n",
    "\n",
    "\n",
    "# Classe complexe a maintenir, devra être modifiée si ajout d'un nouveau destinataire de paiement\n",
    "class Company :\n",
    "\n",
    "    def __init__(self, to_pay:list[Worker|Supplier]) -> None :\n",
    "        self.__to_pay = to_pay\n",
    "\n",
    "    def send_paiments(self) -> None :\n",
    "        for entity in self.__to_pay :\n",
    "            if entity.payment_type :\n",
    "                if entity.payment_type == 'invoice' :\n",
    "                    # entity is a Supplier\n",
    "                    print(f\"{entity.name} est payé {entity.invoice} €\")\n",
    "                elif entity.payment_type == 'salary' :\n",
    "                    # entity is a Worker\n",
    "                    print(f\"{entity.fullname} est payé·e {entity.salary} €\")\n",
    "                else :\n",
    "                    print(f\"[!] - Paiement impossible : 'entity' non-reconnue...\")\n",
    "\n",
    "    def add_paiment_type(self, p) -> None :\n",
    "        self.__to_pay.append(p)\n",
    "\n",
    "\n",
    "# Le problème commence ici : nouvelle entité à payer, cas imprévu par la classe Company\n",
    "class TaxOffice : \n",
    "    \n",
    "    payment_type = \"tax\"\n",
    "\n",
    "    def __init__(self, tax:float) -> None :\n",
    "        self.tax = tax"
   ]
  },
  {
   "cell_type": "code",
   "execution_count": 41,
   "metadata": {},
   "outputs": [
    {
     "name": "stdout",
     "output_type": "stream",
     "text": [
      "Margaret Hamilton est payé·e 10000 €\n",
      "Alan Turing est payé·e 10000 €\n",
      "MIT est payé 150000 €\n"
     ]
    }
   ],
   "source": [
    "# Implémentation et paiements : Ok jusque là\n",
    "company = Company([\n",
    "    Worker(\"Margaret Hamilton\", 10_000),\n",
    "    Worker(\"Alan Turing\", 10_000),\n",
    "    Supplier(\"MIT\", 150_000)\n",
    "])\n",
    "\n",
    "company.send_paiments()"
   ]
  },
  {
   "cell_type": "code",
   "execution_count": 42,
   "metadata": {},
   "outputs": [
    {
     "name": "stdout",
     "output_type": "stream",
     "text": [
      "Margaret Hamilton est payé·e 10000 €\n",
      "Alan Turing est payé·e 10000 €\n",
      "MIT est payé 150000 €\n",
      "[!] - Paiement impossible : 'entity' non-reconnue...\n"
     ]
    }
   ],
   "source": [
    "# Nouvelle entité à payer : la classe 'Company' doit être modifier pour palier au nouveau mode de paiment\n",
    "company.add_paiment_type(TaxOffice(21_000))\n",
    "\n",
    "company.send_paiments()"
   ]
  },
  {
   "attachments": {},
   "cell_type": "markdown",
   "metadata": {},
   "source": [
    "✔️ **Correct**"
   ]
  },
  {
   "cell_type": "code",
   "execution_count": 43,
   "metadata": {},
   "outputs": [],
   "source": [
    "# Création d'une interface qui va servir à garantir la disponibilité du mode de paiement pour chaque classe dépendante (polymorphisme)\n",
    "class InterafacePayable :\n",
    "    \n",
    "    def get_paid(self) -> None : pass\n",
    "\n",
    "\n",
    "class Provider(InterafacePayable) :\n",
    "\n",
    "    def __init__(self, name:str, invoice:int) -> None :\n",
    "        self.name = name\n",
    "        self.invoice = invoice\n",
    "\n",
    "    def get_paid(self) -> None :\n",
    "        print(f\"Provider {self.name} est payé {self.invoice} €\")\n",
    "\n",
    "\n",
    "class Operative(InterafacePayable) :\n",
    "    \n",
    "    def __init__(self, fullname:str, salary:float) -> None :\n",
    "        self.fullname = fullname\n",
    "        self.salary = salary\n",
    "\n",
    "    def get_paid(self) -> None :\n",
    "        print(f\"Operative {self.fullname} est payé·e {self.salary} €\")\n",
    "\n",
    "\n",
    "class TaxAgency(InterafacePayable) :\n",
    "\n",
    "    def __init__(self, tax:float) -> None :\n",
    "        self.tax = tax\n",
    "\n",
    "    def get_paid(self) -> None :\n",
    "        print(f\"TaxOffice est payé {self.tax} €\")\n",
    "\n",
    "\n",
    "class Employer :\n",
    "\n",
    "    def send_paiments(self, to_pay:list[InterafacePayable]) -> None :\n",
    "        for entity in to_pay :\n",
    "            entity.get_paid()"
   ]
  },
  {
   "cell_type": "code",
   "execution_count": 44,
   "metadata": {},
   "outputs": [
    {
     "name": "stdout",
     "output_type": "stream",
     "text": [
      "Operative Margaret Hamilton est payé·e 10000 €\n",
      "Operative Alan Turing est payé·e 10000 €\n",
      "Provider MIT est payé 150000 €\n",
      "TaxOffice est payé 21000 €\n"
     ]
    }
   ],
   "source": [
    "# Implémentations et paiement\n",
    "company = Employer()\n",
    "\n",
    "company.send_paiments([\n",
    "    Operative(\"Margaret Hamilton\", 10_000),\n",
    "    Operative(\"Alan Turing\", 10_000),\n",
    "    Provider(\"MIT\", 150_000),\n",
    "    TaxAgency(21_000)\n",
    "])"
   ]
  },
  {
   "attachments": {},
   "cell_type": "markdown",
   "metadata": {},
   "source": [
    "##### **2.3** - Liskov Substitution"
   ]
  },
  {
   "attachments": {},
   "cell_type": "markdown",
   "metadata": {},
   "source": [
    "❌ **Incorrect**"
   ]
  },
  {
   "cell_type": "code",
   "execution_count": 45,
   "metadata": {},
   "outputs": [],
   "source": [
    "class AbstractEmployee(ABC) :\n",
    "    \n",
    "    def __init__(self, fullname:str, salary:int) -> None :\n",
    "        self.fullname = fullname\n",
    "        self.salary = salary\n",
    "\n",
    "    \n",
    "class Trader(AbstractEmployee) :\n",
    "\n",
    "    def __init__(self, fullname:str, salary:int, commission:float, total_sales:int) -> None :\n",
    "        super().__init__(fullname, salary)\n",
    "        self.commission = commission\n",
    "        self.total_sales = total_sales\n",
    "\n",
    "\n",
    "class Engineer(AbstractEmployee) :\n",
    "    \n",
    "    def __init__(self, fullname:str, salary:int) -> None :\n",
    "        super().__init__(fullname, salary)\n",
    "\n",
    "\n",
    "# La méthode send_paiments doit distinguer le sous-type car il contiend une notion de salaire variable via les propriétés `commission` et `total_sales`\n",
    "class Enterprise :\n",
    "\n",
    "    def send_payments(self, employee_list:list[AbstractEmployee]) : \n",
    "        for employee in employee_list :\n",
    "            if isinstance(employee, Trader) :\n",
    "                # employee is a Trader\n",
    "                prime = (employee.commission / 100) * employee.total_sales\n",
    "                print(f\"Trader {employee.fullname} est payé·e {employee.salary + prime} €\")\n",
    "            else : \n",
    "                # employee is an Engineer\n",
    "                print(f\"Engineer {employee.fullname} est payé·e {employee.salary} €\")"
   ]
  },
  {
   "cell_type": "code",
   "execution_count": 46,
   "metadata": {},
   "outputs": [
    {
     "name": "stdout",
     "output_type": "stream",
     "text": [
      "Trader Bill Gates est payé·e 10015.73 €\n",
      "Engineer Ada Lovelace est payé·e 10000 €\n"
     ]
    }
   ],
   "source": [
    "# Implémentation et paiements\n",
    "bill = Trader(\"Bill Gates\", 10_000, 6.5, 242)\n",
    "ada = Engineer(\"Ada Lovelace\", 10_000)\n",
    "enterprise = Enterprise()\n",
    "\n",
    "enterprise.send_payments([bill, ada])"
   ]
  },
  {
   "attachments": {},
   "cell_type": "markdown",
   "metadata": {},
   "source": [
    "✔️ **Correct**"
   ]
  },
  {
   "cell_type": "code",
   "execution_count": 47,
   "metadata": {},
   "outputs": [],
   "source": [
    "class AbstractPerson(ABC) :\n",
    "    \n",
    "    def __init__(self, fullname:str, salary:int) -> None :\n",
    "        self.fullname = fullname\n",
    "        self.salary = salary\n",
    "\n",
    "    @abstractmethod\n",
    "    def compute_salary(self) -> float : pass\n",
    "\n",
    "\n",
    "class Marketer(AbstractPerson) :\n",
    "\n",
    "    def __init__(self, fullname:str, salary:int, commission:float, total_sales:int) -> None :\n",
    "        super().__init__(fullname, salary)\n",
    "        self.__commission = commission\n",
    "        self.__total_sales = total_sales\n",
    "\n",
    "    def compute_salary(self) -> float :\n",
    "        return ((self.__commission / 100) * self.__total_sales) + self.salary\n",
    "\n",
    "\n",
    "class Developer(AbstractPerson) :\n",
    "    \n",
    "    def __init__(self, fullname:str, salary:int) -> None :\n",
    "        super().__init__(fullname, salary)\n",
    "\n",
    "    def compute_salary(self) -> float :\n",
    "        return self.salary\n",
    "\n",
    "\n",
    "class Boss :\n",
    "\n",
    "    def send_payments(self, people:list[AbstractPerson]) -> None :\n",
    "        for person in people :\n",
    "            print(f\"'{person.__class__.__name__}' {person.fullname} est payé·e {person.compute_salary()} €\")"
   ]
  },
  {
   "cell_type": "code",
   "execution_count": 48,
   "metadata": {},
   "outputs": [
    {
     "name": "stdout",
     "output_type": "stream",
     "text": [
      "'Marketer' Bill Gates est payé·e 10015.73 €\n",
      "'Developer' Ada Lovelace est payé·e 10000 €\n"
     ]
    }
   ],
   "source": [
    "# Implémentation et paiements\n",
    "bill = Marketer(\"Bill Gates\", 10_000, 6.5, 242)\n",
    "ada = Developer(\"Ada Lovelace\", 10_000)\n",
    "ugo = Boss()\n",
    "\n",
    "ugo.send_payments([bill, ada])"
   ]
  },
  {
   "attachments": {},
   "cell_type": "markdown",
   "metadata": {},
   "source": [
    "##### **2.4** - Interface Segregation"
   ]
  },
  {
   "attachments": {},
   "cell_type": "markdown",
   "metadata": {},
   "source": [
    "❌ **Incorrect**"
   ]
  },
  {
   "cell_type": "code",
   "execution_count": null,
   "metadata": {},
   "outputs": [],
   "source": [
    "class InterfaceEmployee :\n",
    "\n",
    "    id:int = 0\n",
    "    firstname:str = ''\n",
    "    lastname:str = ''\n",
    "    salary:float = 0.0\n",
    "\n",
    "\n",
    "class InterfaceTeam :\n",
    "\n",
    "    name:str = ''\n",
    "    employees:list = []\n",
    "\n",
    "\n",
    "# Cette interface définit plusieurs méthodes qui cibles différentes responsabilités, la classe qui implémente cette interface n'aura probablement pas besoin des instances Employee et Team\n",
    "class InterfaceDirectory :\n",
    "\n",
    "    def get_one(name:str) -> Team : pass\n",
    "    \n",
    "    def get_all() -> list : pass\n",
    "\n",
    "    def add(employee:Employee) -> None : pass\n",
    "\n",
    "    def delete(employee:Employee, team:Team) -> None : pass\n",
    "\n",
    "    def add_to(employee:Employee, team:Team) -> None : pass\n",
    "\n",
    "\n",
    "# Les méthodes qui ne correspondent pas à la responsabilité de la classe sont obligées d'être implémenté avec une Erreur\n",
    "class EmployeeManager(InterfaceDirectory) :\n",
    "\n",
    "    def __init__(self) -> None :\n",
    "        self.__employees:list = []\n",
    "\n",
    "    def get_one(self, name:str) -> Team : \n",
    "        raise NotImplementedError\n",
    "    \n",
    "    def get_all(self) -> list : \n",
    "        raise NotImplementedError\n",
    "\n",
    "    def add(self, employee:Employee) -> None : \n",
    "        self.__employees.append(employee)\n",
    "\n",
    "    def delete(self, employee:Employee, team:Team) -> None : \n",
    "        if employee in self.__employees :\n",
    "            self.__employees.remove(employee)\n",
    "\n",
    "    def add_to(self, employee:Employee, team:Team) -> None : \n",
    "        raise NotImplementedError"
   ]
  },
  {
   "attachments": {},
   "cell_type": "markdown",
   "metadata": {},
   "source": [
    "✔️ **Correct**"
   ]
  },
  {
   "cell_type": "code",
   "execution_count": null,
   "metadata": {},
   "outputs": [],
   "source": [
    "# Chaque interface gère son propre buisiness et la classe EmployeeManagement n'implémente que les méthodes définies par l'ineterface dont elle dépend\n",
    "class InterfaceTeamManager :\n",
    "    \n",
    "    def get_one(name:str) -> Team : pass\n",
    "    \n",
    "    def get_all() -> list : pass\n",
    "\n",
    "    def add_to(employee:Employee, team:Team) -> None : pass\n",
    "\n",
    "\n",
    "class InterfaceEmployeeManager :\n",
    "\n",
    "    def add(employee:Employee) -> None : pass\n",
    "\n",
    "    def delete(employee:Employee) -> None : pass\n",
    "\n",
    "\n",
    "class EmployeeManagement(InterfaceEmployeeManager) :\n",
    "\n",
    "    def __init__(self) -> None :\n",
    "        self.__employees:list = []\n",
    "\n",
    "    def add(self, employee:Employee) -> None : \n",
    "        self.__employees.append(employee)\n",
    "\n",
    "    def delete(self, employee:Employee) -> None : \n",
    "        if employee in self.__employees :\n",
    "            self.__employees.remove(employee)"
   ]
  },
  {
   "attachments": {},
   "cell_type": "markdown",
   "metadata": {},
   "source": [
    "##### **2.5** - Dependency Inversion"
   ]
  },
  {
   "attachments": {},
   "cell_type": "markdown",
   "metadata": {},
   "source": [
    "❌ **Incorrect**"
   ]
  },
  {
   "cell_type": "code",
   "execution_count": 61,
   "metadata": {},
   "outputs": [],
   "source": [
    "class EmployeeDirectory :\n",
    "\n",
    "    __employees = list()\n",
    "\n",
    "    def add(employee:Employee) -> None :\n",
    "        EmployeeDirectory.__employees.append(employee)\n",
    "\n",
    "    def delete(employee:Employee) -> None :\n",
    "        if employee in EmployeeDirectory.__employees :\n",
    "            EmployeeDirectory.__employees.remove( employee )\n",
    "\n",
    "\n",
    "# L'instanciation se déroule dans la classe 'CompanyLtd', la rendant strictement dépendante de la classe 'EmployeeDirectory'\n",
    "class CompanyLdt :\n",
    "\n",
    "    def __init__(self) -> None :\n",
    "        self.__employee_directory = EmployeeDirectory()"
   ]
  },
  {
   "cell_type": "code",
   "execution_count": 62,
   "metadata": {},
   "outputs": [],
   "source": [
    "# Instanciation et exploitation\n",
    "ldt = CompanyLdt()"
   ]
  },
  {
   "attachments": {},
   "cell_type": "markdown",
   "metadata": {},
   "source": [
    "✔️ **Correct**"
   ]
  },
  {
   "cell_type": "code",
   "execution_count": 65,
   "metadata": {},
   "outputs": [],
   "source": [
    "# Interface de référence pour l'implémentation\n",
    "class InterfaceEmployeeDirectory :\n",
    "\n",
    "    def add(employee:Employee) -> None : pass\n",
    "\n",
    "    def delete(employee:Employee) -> None : pass\n",
    "\n",
    "\n",
    "class EmployeeDirectoryImpl(InterfaceEmployeeDirectory) : \n",
    "\n",
    "    __employees = list()\n",
    "\n",
    "    def add(self, employee:Employee) -> None :\n",
    "        EmployeeDirectoryImpl.__employees.append(employee)\n",
    "\n",
    "    def delete(self, employee:Employee) -> None :\n",
    "        if employee in EmployeeDirectoryImpl.__employees :\n",
    "            EmployeeDirectoryImpl.__employees.remove(employee)\n",
    "\n",
    "\n",
    "class MyLtdCompany :\n",
    "\n",
    "    def __init__(self, employee_directory:InterfaceEmployeeDirectory) -> None :\n",
    "        self.__employee_directory = employee_directory"
   ]
  },
  {
   "cell_type": "code",
   "execution_count": 67,
   "metadata": {},
   "outputs": [],
   "source": [
    "# Implémentation et exploitation\n",
    "my_ldt_company = MyLtdCompany(\n",
    "    EmployeeDirectoryImpl()\n",
    ")"
   ]
  },
  {
   "cell_type": "code",
   "execution_count": 68,
   "metadata": {},
   "outputs": [],
   "source": [
    "# Changement de classe\n",
    "class New_EmployeeDirectoryImpl(InterfaceEmployeeDirectory) : \n",
    "\n",
    "    __employees = list()\n",
    "\n",
    "    def _add(self, employee:Employee) -> None :\n",
    "        New_EmployeeDirectoryImpl.__employees.append(employee)\n",
    "\n",
    "    def delete(self, employee:Employee) -> None :\n",
    "        if employee in New_EmployeeDirectoryImpl.__employees :\n",
    "            New_EmployeeDirectoryImpl.__employees.remove(employee)\n",
    "\n",
    "    \n",
    "# l'implémentation peut être mise à jour\n",
    "my_ldt_company = MyLtdCompany(\n",
    "    New_EmployeeDirectoryImpl()\n",
    ")"
   ]
  }
 ],
 "metadata": {
  "kernelspec": {
   "display_name": "Python 3.10.5 64-bit",
   "language": "python",
   "name": "python3"
  },
  "language_info": {
   "codemirror_mode": {
    "name": "ipython",
    "version": 3
   },
   "file_extension": ".py",
   "mimetype": "text/x-python",
   "name": "python",
   "nbconvert_exporter": "python",
   "pygments_lexer": "ipython3",
   "version": "3.12.1"
  },
  "orig_nbformat": 4,
  "vscode": {
   "interpreter": {
    "hash": "26de051ba29f2982a8de78e945f0abaf191376122a1563185a90213a26c5da77"
   }
  }
 },
 "nbformat": 4,
 "nbformat_minor": 2
}

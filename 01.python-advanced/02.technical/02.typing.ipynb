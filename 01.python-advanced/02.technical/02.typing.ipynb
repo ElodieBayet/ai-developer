{
 "cells": [
  {
   "cell_type": "markdown",
   "metadata": {},
   "source": [
    "## **Technical :** Typing\n",
    "\n",
    "#### _Technique du typage en Python_\n",
    "\n",
    "🟠 `on work`\n",
    "\n",
    "---\n",
    "\n",
    "1. **Principe**\n",
    "    * Typage dynamique\n",
    "    * _Duck Typing_\n",
    "2. **Annotations**\n",
    "    * Variables\n",
    "    * Fonction\n",
    "3. **Types complexes**\n",
    "    * Union"
   ]
  }
 ],
 "metadata": {
  "kernelspec": {
   "display_name": "Python 3.10.5 64-bit",
   "language": "python",
   "name": "python3"
  },
  "language_info": {
   "name": "python",
   "version": "3.12.1"
  },
  "orig_nbformat": 4,
  "vscode": {
   "interpreter": {
    "hash": "26de051ba29f2982a8de78e945f0abaf191376122a1563185a90213a26c5da77"
   }
  }
 },
 "nbformat": 4,
 "nbformat_minor": 2
}

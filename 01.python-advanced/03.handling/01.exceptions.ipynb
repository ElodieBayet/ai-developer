{
 "cells": [
  {
   "cell_type": "markdown",
   "metadata": {},
   "source": [
    "## **Handling :** Exceptions\n",
    "\n",
    "#### _Gestion des exceptions_\n",
    "\n",
    "🟢 `complete`\n",
    "\n",
    "---\n",
    "\n",
    "1. **Les erreurs**\n",
    "    * Erreurs courantes\n",
    "2. **Composants**\n",
    "    * Les assertions\n",
    "    * Canalisation d'erreurs\n",
    "    * Alternatives et finalité\n",
    "    * Lever une erreur\n",
    "    * Exemple\n",
    "3. **Classe des exceptions**\n",
    "    * Hiérarchie\n",
    "    * Erreur personalisée"
   ]
  },
  {
   "cell_type": "markdown",
   "metadata": {},
   "source": [
    "**Built-in**"
   ]
  },
  {
   "cell_type": "code",
   "execution_count": 8,
   "metadata": {},
   "outputs": [],
   "source": [
    "from datetime import datetime"
   ]
  },
  {
   "cell_type": "markdown",
   "metadata": {},
   "source": [
    "---\n",
    "### **1.** Les erreurs"
   ]
  },
  {
   "cell_type": "markdown",
   "metadata": {},
   "source": [
    "##### **1.1** - Erreurs courantes"
   ]
  },
  {
   "cell_type": "markdown",
   "metadata": {},
   "source": [
    "**Erreurs de syntaxe** `SyntaxError` : lorsque la syntaxe n’est pas respectée."
   ]
  },
  {
   "cell_type": "code",
   "execution_count": 16,
   "metadata": {},
   "outputs": [
    {
     "ename": "SyntaxError",
     "evalue": "expected ':' (483443769.py, line 2)",
     "output_type": "error",
     "traceback": [
      "\u001b[1;36m  Input \u001b[1;32mIn [16]\u001b[1;36m\u001b[0m\n\u001b[1;33m    if 1 > 0\u001b[0m\n\u001b[1;37m            ^\u001b[0m\n\u001b[1;31mSyntaxError\u001b[0m\u001b[1;31m:\u001b[0m expected ':'\n"
     ]
    }
   ],
   "source": [
    "# les ':' sont manquants\n",
    "if 1 > 0\n",
    "    print(\"1 est bien supérieur à 0\")"
   ]
  },
  {
   "cell_type": "markdown",
   "metadata": {},
   "source": [
    "**Erreurs de nom** `NameError` : lors de l’appel d’une variable ou d’une fonction non définie, ou qui n’existe pas dans la portée d'appel."
   ]
  },
  {
   "cell_type": "code",
   "execution_count": 17,
   "metadata": {},
   "outputs": [
    {
     "ename": "NameError",
     "evalue": "name 'numerator' is not defined",
     "output_type": "error",
     "traceback": [
      "\u001b[1;31m---------------------------------------------------------------------------\u001b[0m",
      "\u001b[1;31mNameError\u001b[0m                                 Traceback (most recent call last)",
      "\u001b[1;32mc:\\Users\\la-da\\OneDrive\\Productions\\ai-developer\\01.python-advanced\\03.handling\\00.exceptions.ipynb Cellule 9\u001b[0m in \u001b[0;36m<cell line: 2>\u001b[1;34m()\u001b[0m\n\u001b[0;32m      <a href='vscode-notebook-cell:/c%3A/Users/la-da/OneDrive/Productions/ai-developer/01.python-advanced/03.handling/00.exceptions.ipynb#X16sZmlsZQ%3D%3D?line=0'>1</a>\u001b[0m \u001b[39m# La variable 'numerator' n'existe pas\u001b[39;00m\n\u001b[1;32m----> <a href='vscode-notebook-cell:/c%3A/Users/la-da/OneDrive/Productions/ai-developer/01.python-advanced/03.handling/00.exceptions.ipynb#X16sZmlsZQ%3D%3D?line=1'>2</a>\u001b[0m numerator \u001b[39m/\u001b[39m \u001b[39m4\u001b[39m\n",
      "\u001b[1;31mNameError\u001b[0m: name 'numerator' is not defined"
     ]
    }
   ],
   "source": [
    "# La variable 'numerator' n'existe pas\n",
    "numerator / 4 "
   ]
  },
  {
   "cell_type": "markdown",
   "metadata": {},
   "source": [
    "**Erreur d’indentation** `IndentationError` : lorsque l’indentation n’est pas respectée."
   ]
  },
  {
   "cell_type": "code",
   "execution_count": 4,
   "metadata": {},
   "outputs": [
    {
     "ename": "IndentationError",
     "evalue": "expected an indented block after function definition on line 1 (3700614094.py, line 2)",
     "output_type": "error",
     "traceback": [
      "\u001b[1;36m  Input \u001b[1;32mIn [4]\u001b[1;36m\u001b[0m\n\u001b[1;33m    return price * (1 + vat/100)\u001b[0m\n\u001b[1;37m    ^\u001b[0m\n\u001b[1;31mIndentationError\u001b[0m\u001b[1;31m:\u001b[0m expected an indented block after function definition on line 1\n"
     ]
    }
   ],
   "source": [
    "# L'instruction 'return' n'est pas indentée correctement\n",
    "def vat_price(price:float, vat:float) -> float :\n",
    "return price * (1 + vat/100)"
   ]
  },
  {
   "cell_type": "markdown",
   "metadata": {},
   "source": [
    "**Erreur de division par zéro** `ZeroDivisionError` : lors d’une division par 0, impossible à calculer pour la machine."
   ]
  },
  {
   "cell_type": "code",
   "execution_count": 5,
   "metadata": {},
   "outputs": [
    {
     "ename": "ZeroDivisionError",
     "evalue": "float division by zero",
     "output_type": "error",
     "traceback": [
      "\u001b[1;31m---------------------------------------------------------------------------\u001b[0m",
      "\u001b[1;31mZeroDivisionError\u001b[0m                         Traceback (most recent call last)",
      "\u001b[1;32mc:\\Users\\la-da\\OneDrive\\Productions\\ai-developer\\01.python-advanced\\03.handling\\00.exceptions.ipynb Cellule 11\u001b[0m in \u001b[0;36m<cell line: 1>\u001b[1;34m()\u001b[0m\n\u001b[1;32m----> <a href='vscode-notebook-cell:/c%3A/Users/la-da/OneDrive/Productions/ai-developer/01.python-advanced/03.handling/00.exceptions.ipynb#X22sZmlsZQ%3D%3D?line=0'>1</a>\u001b[0m \u001b[39m124.2\u001b[39;49m \u001b[39m/\u001b[39;49m \u001b[39m0\u001b[39;49m\n",
      "\u001b[1;31mZeroDivisionError\u001b[0m: float division by zero"
     ]
    }
   ],
   "source": [
    "# Une division par zéro ne peut pas être calculée\n",
    "124.2 / 0"
   ]
  },
  {
   "cell_type": "markdown",
   "metadata": {},
   "source": [
    "**Erreur de type** `TypeError` : lors d’une manipulation interdite par le type de l’objet (integer, string, float, etc.)"
   ]
  },
  {
   "cell_type": "code",
   "execution_count": 6,
   "metadata": {},
   "outputs": [
    {
     "ename": "TypeError",
     "evalue": "unsupported operand type(s) for /: 'str' and 'int'",
     "output_type": "error",
     "traceback": [
      "\u001b[1;31m---------------------------------------------------------------------------\u001b[0m",
      "\u001b[1;31mTypeError\u001b[0m                                 Traceback (most recent call last)",
      "\u001b[1;32mc:\\Users\\la-da\\OneDrive\\Productions\\ai-developer\\01.python-advanced\\03.handling\\00.exceptions.ipynb Cellule 13\u001b[0m in \u001b[0;36m<cell line: 1>\u001b[1;34m()\u001b[0m\n\u001b[1;32m----> <a href='vscode-notebook-cell:/c%3A/Users/la-da/OneDrive/Productions/ai-developer/01.python-advanced/03.handling/00.exceptions.ipynb#X23sZmlsZQ%3D%3D?line=0'>1</a>\u001b[0m \u001b[39m\"\u001b[39;49m\u001b[39mHello\u001b[39;49m\u001b[39m\"\u001b[39;49m \u001b[39m/\u001b[39;49m \u001b[39m4\u001b[39;49m\n",
      "\u001b[1;31mTypeError\u001b[0m: unsupported operand type(s) for /: 'str' and 'int'"
     ]
    }
   ],
   "source": [
    "# Une chaine de caractère ne peut pas être divisée\n",
    "\"Hello\" / 4"
   ]
  },
  {
   "cell_type": "markdown",
   "metadata": {},
   "source": [
    "**Erreur de valeur** `ValueErreur` : lorsque la valeur ne correspond pas à celle attendue."
   ]
  },
  {
   "cell_type": "code",
   "execution_count": 7,
   "metadata": {},
   "outputs": [
    {
     "ename": "ValueError",
     "evalue": "invalid literal for int() with base 10: 'Hello'",
     "output_type": "error",
     "traceback": [
      "\u001b[1;31m---------------------------------------------------------------------------\u001b[0m",
      "\u001b[1;31mValueError\u001b[0m                                Traceback (most recent call last)",
      "\u001b[1;32mc:\\Users\\la-da\\OneDrive\\Productions\\ai-developer\\01.python-advanced\\03.handling\\00.exceptions.ipynb Cellule 15\u001b[0m in \u001b[0;36m<cell line: 2>\u001b[1;34m()\u001b[0m\n\u001b[0;32m      <a href='vscode-notebook-cell:/c%3A/Users/la-da/OneDrive/Productions/ai-developer/01.python-advanced/03.handling/00.exceptions.ipynb#X25sZmlsZQ%3D%3D?line=0'>1</a>\u001b[0m \u001b[39minput\u001b[39m \u001b[39m=\u001b[39m \u001b[39m\"\u001b[39m\u001b[39mHello\u001b[39m\u001b[39m\"\u001b[39m\n\u001b[1;32m----> <a href='vscode-notebook-cell:/c%3A/Users/la-da/OneDrive/Productions/ai-developer/01.python-advanced/03.handling/00.exceptions.ipynb#X25sZmlsZQ%3D%3D?line=1'>2</a>\u001b[0m \u001b[39mint\u001b[39;49m(\u001b[39minput\u001b[39;49m)\n",
      "\u001b[1;31mValueError\u001b[0m: invalid literal for int() with base 10: 'Hello'"
     ]
    }
   ],
   "source": [
    "# La valeur attendue dans le constructeur d'integer est invalide\n",
    "input = \"Hello\"\n",
    "int(input)"
   ]
  },
  {
   "cell_type": "markdown",
   "metadata": {},
   "source": [
    "Encore d'autres types d'erreur possibles tels que `SystemExit`, `NotImplementedError`, `FloatingPointError`, etc.\n",
    "\n",
    "[Exceptions in Python - W3Schools](https://www.w3schools.com/python/python_ref_exceptions.asp)"
   ]
  },
  {
   "cell_type": "markdown",
   "metadata": {},
   "source": [
    "---\n",
    "### **2.** Composants"
   ]
  },
  {
   "cell_type": "markdown",
   "metadata": {},
   "source": [
    "##### **2.1** - Les assertions"
   ]
  },
  {
   "cell_type": "markdown",
   "metadata": {},
   "source": [
    "Instruction `assert`"
   ]
  },
  {
   "cell_type": "code",
   "execution_count": 18,
   "metadata": {},
   "outputs": [
    {
     "ename": "AssertionError",
     "evalue": "",
     "output_type": "error",
     "traceback": [
      "\u001b[1;31m---------------------------------------------------------------------------\u001b[0m",
      "\u001b[1;31mAssertionError\u001b[0m                            Traceback (most recent call last)",
      "\u001b[1;32mc:\\Users\\la-da\\OneDrive\\Productions\\ai-developer\\01.python-advanced\\03.handling\\00.exceptions.ipynb Cellule 21\u001b[0m in \u001b[0;36m<cell line: 3>\u001b[1;34m()\u001b[0m\n\u001b[0;32m      <a href='vscode-notebook-cell:/c%3A/Users/la-da/OneDrive/Productions/ai-developer/01.python-advanced/03.handling/00.exceptions.ipynb#X42sZmlsZQ%3D%3D?line=0'>1</a>\u001b[0m \u001b[39m# \u001b[39;00m\n\u001b[0;32m      <a href='vscode-notebook-cell:/c%3A/Users/la-da/OneDrive/Productions/ai-developer/01.python-advanced/03.handling/00.exceptions.ipynb#X42sZmlsZQ%3D%3D?line=1'>2</a>\u001b[0m my_name \u001b[39m=\u001b[39m \u001b[39m42\u001b[39m\n\u001b[1;32m----> <a href='vscode-notebook-cell:/c%3A/Users/la-da/OneDrive/Productions/ai-developer/01.python-advanced/03.handling/00.exceptions.ipynb#X42sZmlsZQ%3D%3D?line=2'>3</a>\u001b[0m \u001b[39massert\u001b[39;00m my_name \u001b[39m==\u001b[39m \u001b[39m\"\u001b[39m\u001b[39mElo\u001b[39m\u001b[39m\"\u001b[39m\n",
      "\u001b[1;31mAssertionError\u001b[0m: "
     ]
    }
   ],
   "source": [
    "# Une évaluation tenue pour vraie\n",
    "my_name = 42\n",
    "assert my_name == \"Elo\""
   ]
  },
  {
   "cell_type": "markdown",
   "metadata": {},
   "source": [
    "##### **2.2** - Canalisation d'erreurs"
   ]
  },
  {
   "cell_type": "markdown",
   "metadata": {},
   "source": [
    "Structure `try... except...`"
   ]
  },
  {
   "cell_type": "code",
   "execution_count": 19,
   "metadata": {},
   "outputs": [
    {
     "name": "stdout",
     "output_type": "stream",
     "text": [
      "Voilà...\n"
     ]
    }
   ],
   "source": [
    "# Tenter quelque chose et attraper l'erreur en cas d'échec\n",
    "try :\n",
    "    integer = int(\"Cette construction va échouer\")\n",
    "except :\n",
    "    print(\"Voilà... elle a échoué\")"
   ]
  },
  {
   "cell_type": "code",
   "execution_count": 21,
   "metadata": {},
   "outputs": [
    {
     "ename": "NameError",
     "evalue": "name 'addtion' is not defined",
     "output_type": "error",
     "traceback": [
      "\u001b[1;31m---------------------------------------------------------------------------\u001b[0m",
      "\u001b[1;31mNameError\u001b[0m                                 Traceback (most recent call last)",
      "\u001b[1;32mc:\\Users\\la-da\\OneDrive\\Productions\\ai-developer\\01.python-advanced\\03.handling\\00.exceptions.ipynb Cellule 25\u001b[0m in \u001b[0;36m<cell line: 5>\u001b[1;34m()\u001b[0m\n\u001b[0;32m      <a href='vscode-notebook-cell:/c%3A/Users/la-da/OneDrive/Productions/ai-developer/01.python-advanced/03.handling/00.exceptions.ipynb#X55sZmlsZQ%3D%3D?line=0'>1</a>\u001b[0m \u001b[39m# Execptions selon les erreurs\u001b[39;00m\n\u001b[0;32m      <a href='vscode-notebook-cell:/c%3A/Users/la-da/OneDrive/Productions/ai-developer/01.python-advanced/03.handling/00.exceptions.ipynb#X55sZmlsZQ%3D%3D?line=1'>2</a>\u001b[0m \n\u001b[0;32m      <a href='vscode-notebook-cell:/c%3A/Users/la-da/OneDrive/Productions/ai-developer/01.python-advanced/03.handling/00.exceptions.ipynb#X55sZmlsZQ%3D%3D?line=2'>3</a>\u001b[0m \u001b[39m# def addition(num_1:float, num_2:float) -> float : return num_1 + num_2\u001b[39;00m\n\u001b[1;32m----> <a href='vscode-notebook-cell:/c%3A/Users/la-da/OneDrive/Productions/ai-developer/01.python-advanced/03.handling/00.exceptions.ipynb#X55sZmlsZQ%3D%3D?line=4'>5</a>\u001b[0m addtion(\u001b[39m4.33\u001b[39m, \u001b[39m-\u001b[39m\u001b[39m9.87\u001b[39m)\n",
      "\u001b[1;31mNameError\u001b[0m: name 'addtion' is not defined"
     ]
    }
   ],
   "source": [
    "# Execptions selon le type d'erreur\n",
    "\n",
    "# def division(numerator:int, denominator:int) -> float : return numerator / denominator \n",
    "\n",
    "try :\n",
    "    division(4.33, -9.87)\n",
    "except NameError :\n",
    "    print(\"[!] - Si la fonction 'division' n'est pas déclarée\")\n",
    "except :\n",
    "    print(\"[!] - Si une autre erreur que 'NameError' survient\")"
   ]
  },
  {
   "cell_type": "markdown",
   "metadata": {},
   "source": [
    "Alias `as`"
   ]
  },
  {
   "cell_type": "code",
   "execution_count": 22,
   "metadata": {},
   "outputs": [
    {
     "name": "stdout",
     "output_type": "stream",
     "text": [
      "[!] - TypeError :: La valeur saisie n'est pas du bon type :  unsupported operand type(s) for /: 'str' and 'int'\n"
     ]
    }
   ],
   "source": [
    "# Renomer une erreur\n",
    "try :\n",
    "    \"Shablagou !\" / 4\n",
    "except TypeError as type_unexpected :\n",
    "    print(\"[!] - TypeError :: La valeur saisie n'est pas du bon type :\", type_unexpected)"
   ]
  },
  {
   "cell_type": "markdown",
   "metadata": {},
   "source": [
    "##### **2.3** - Alternatives et finalité "
   ]
  },
  {
   "cell_type": "markdown",
   "metadata": {},
   "source": [
    "`else` et `finally`"
   ]
  },
  {
   "cell_type": "code",
   "execution_count": 28,
   "metadata": {},
   "outputs": [
    {
     "name": "stdout",
     "output_type": "stream",
     "text": [
      "[!] - ValueError :: invalid literal for int() with base 10: 'Année invalide'\n",
      "Pour résumer : \n",
      "\tLa valeur saisie : Année invalide\n",
      "\tRésultat de la différence d'années : Non Calculable\n"
     ]
    }
   ],
   "source": [
    "# Effectuer un test et exécuter quelque chose si aucune erreur survient, et puis un autre en fin de traitement\n",
    "input_year = \"Année invalide\"\n",
    "year_diff = None\n",
    "\n",
    "try :\n",
    "    input_year = int(input_year)\n",
    "except ValueError as unexpected_value :\n",
    "    print(\"[!] - ValueError ::\", unexpected_value)\n",
    "\n",
    "else :\n",
    "    print(\"Ok ! Aucune erreur n'est survenue. Suite du traitement...\")\n",
    "    year_diff = datetime.now().year - input_year\n",
    "    \n",
    "finally :\n",
    "    print(\"Pour résumer : \")\n",
    "    print(f\"\\tLa valeur saisie : {input_year}\")\n",
    "    print(f\"\\tRésultat de la différence d'années : {year_diff if year_diff else 'Non Calculable'}\")"
   ]
  },
  {
   "cell_type": "markdown",
   "metadata": {},
   "source": [
    "##### **2.4** - Lever une erreur"
   ]
  },
  {
   "cell_type": "markdown",
   "metadata": {},
   "source": [
    "Instruction `raise`"
   ]
  },
  {
   "cell_type": "code",
   "execution_count": 30,
   "metadata": {},
   "outputs": [
    {
     "ename": "ZeroDivisionError",
     "evalue": "",
     "output_type": "error",
     "traceback": [
      "\u001b[1;31m---------------------------------------------------------------------------\u001b[0m",
      "\u001b[1;31mZeroDivisionError\u001b[0m                         Traceback (most recent call last)",
      "\u001b[1;32mc:\\Users\\la-da\\OneDrive\\Productions\\ai-developer\\01.python-advanced\\03.handling\\00.exceptions.ipynb Cellule 34\u001b[0m in \u001b[0;36m<cell line: 8>\u001b[1;34m()\u001b[0m\n\u001b[0;32m      <a href='vscode-notebook-cell:/c%3A/Users/la-da/OneDrive/Productions/ai-developer/01.python-advanced/03.handling/00.exceptions.ipynb#X63sZmlsZQ%3D%3D?line=4'>5</a>\u001b[0m     \u001b[39mprint\u001b[39m(\u001b[39m\"\u001b[39m\u001b[39mCeci ne sera pas exécuté en cas d\u001b[39m\u001b[39m'\u001b[39m\u001b[39merreur de division par zéro\u001b[39m\u001b[39m\"\u001b[39m)\n\u001b[0;32m      <a href='vscode-notebook-cell:/c%3A/Users/la-da/OneDrive/Productions/ai-developer/01.python-advanced/03.handling/00.exceptions.ipynb#X63sZmlsZQ%3D%3D?line=5'>6</a>\u001b[0m     \u001b[39mreturn\u001b[39;00m numerator \u001b[39m/\u001b[39m denominator\n\u001b[1;32m----> <a href='vscode-notebook-cell:/c%3A/Users/la-da/OneDrive/Productions/ai-developer/01.python-advanced/03.handling/00.exceptions.ipynb#X63sZmlsZQ%3D%3D?line=7'>8</a>\u001b[0m divide(\u001b[39m5\u001b[39;49m, \u001b[39m0\u001b[39;49m)\n",
      "\u001b[1;32mc:\\Users\\la-da\\OneDrive\\Productions\\ai-developer\\01.python-advanced\\03.handling\\00.exceptions.ipynb Cellule 34\u001b[0m in \u001b[0;36mdivide\u001b[1;34m(numerator, denominator)\u001b[0m\n\u001b[0;32m      <a href='vscode-notebook-cell:/c%3A/Users/la-da/OneDrive/Productions/ai-developer/01.python-advanced/03.handling/00.exceptions.ipynb#X63sZmlsZQ%3D%3D?line=0'>1</a>\u001b[0m \u001b[39mdef\u001b[39;00m \u001b[39mdivide\u001b[39m(numerator:\u001b[39mint\u001b[39m, denominator:\u001b[39mint\u001b[39m) \u001b[39m-\u001b[39m\u001b[39m>\u001b[39m \u001b[39mfloat\u001b[39m :\n\u001b[0;32m      <a href='vscode-notebook-cell:/c%3A/Users/la-da/OneDrive/Productions/ai-developer/01.python-advanced/03.handling/00.exceptions.ipynb#X63sZmlsZQ%3D%3D?line=1'>2</a>\u001b[0m     \u001b[39m# \u001b[39;00m\n\u001b[1;32m----> <a href='vscode-notebook-cell:/c%3A/Users/la-da/OneDrive/Productions/ai-developer/01.python-advanced/03.handling/00.exceptions.ipynb#X63sZmlsZQ%3D%3D?line=2'>3</a>\u001b[0m     \u001b[39mif\u001b[39;00m denominator \u001b[39m==\u001b[39m \u001b[39m0\u001b[39m : \u001b[39mraise\u001b[39;00m \u001b[39mZeroDivisionError\u001b[39;00m()\n\u001b[0;32m      <a href='vscode-notebook-cell:/c%3A/Users/la-da/OneDrive/Productions/ai-developer/01.python-advanced/03.handling/00.exceptions.ipynb#X63sZmlsZQ%3D%3D?line=3'>4</a>\u001b[0m     \u001b[39m# \u001b[39;00m\n\u001b[0;32m      <a href='vscode-notebook-cell:/c%3A/Users/la-da/OneDrive/Productions/ai-developer/01.python-advanced/03.handling/00.exceptions.ipynb#X63sZmlsZQ%3D%3D?line=4'>5</a>\u001b[0m     \u001b[39mprint\u001b[39m(\u001b[39m\"\u001b[39m\u001b[39mCeci ne sera pas exécuté en cas d\u001b[39m\u001b[39m'\u001b[39m\u001b[39merreur de division par zéro\u001b[39m\u001b[39m\"\u001b[39m)\n",
      "\u001b[1;31mZeroDivisionError\u001b[0m: "
     ]
    }
   ],
   "source": [
    "# La fonction s'arrêtera si une erreur est levée \n",
    "def divide(numerator:int, denominator:int) -> float :\n",
    "    \n",
    "    if denominator == 0 : raise ZeroDivisionError()\n",
    "\n",
    "    print(\"Ceci ne sera pas exécuté si l'erreur 'ZeroDivisionError' est levée\")\n",
    "    return numerator / denominator\n",
    "\n",
    "\n",
    "divide(5, 0)"
   ]
  },
  {
   "cell_type": "code",
   "execution_count": 31,
   "metadata": {},
   "outputs": [
    {
     "name": "stdout",
     "output_type": "stream",
     "text": [
      "[!] - ZeroDivisionError :: La fonction a levé une erreur\n"
     ]
    }
   ],
   "source": [
    "# Canalisation de l'erreur\n",
    "try :\n",
    "    divide(14.89, 0)\n",
    "except ZeroDivisionError as unexpected_zero :\n",
    "    print(\"[!] - ZeroDivisionError :: La fonction a levé une erreur\")"
   ]
  },
  {
   "cell_type": "markdown",
   "metadata": {},
   "source": [
    "##### **2.5** - Exemple"
   ]
  },
  {
   "cell_type": "code",
   "execution_count": 23,
   "metadata": {},
   "outputs": [
    {
     "name": "stdout",
     "output_type": "stream",
     "text": [
      "[!] - ValueError :: La valeur ne peut être calculée : invalid literal for int() with base 10: 'Shablagou !'\n",
      "Finalement : cette clause sera exécutée, qu'il y ait des erreurs ou pas.\n"
     ]
    }
   ],
   "source": [
    "# Mise en oeuvre de chaque composant\n",
    "birth_year = \"Shablagou !\"\n",
    "current_year = datetime.now().year\n",
    "\n",
    "try :\n",
    "    convert = int(birth_year)\n",
    "    assert convert != 0 # voir 'Unit Tests'\n",
    "    if convert < 0 :\n",
    "        raise ValueError(f\"RAISED -> L'année est inférieure à 0\")\n",
    "    your_age = current_year - convert\n",
    "\n",
    "except ValueError as value_unexpected :\n",
    "    print(\"[!] - ValueError :: La valeur ne peut être calculée :\", value_unexpected)\n",
    "\n",
    "except TypeError as type_unexpected :\n",
    "    print(\"[!] - TypeError :: La valeur saisie n'est pas du bon type :\", type_unexpected)\n",
    "\n",
    "except AssertionError as had_to_be_true :\n",
    "    print(\"[!] - AssertionError :: Attendu pour vrai mais ne l'est pas :\", had_to_be_true)\n",
    "\n",
    "except :\n",
    "    print(\"[!] - Autre erreur quelconque qui n'aurait pas été ciblée\")\n",
    "\n",
    "else :\n",
    "    print(\"Ok, aucune erreur n'est survenue. Voici le résultat :\", your_age)\n",
    "\n",
    "finally :\n",
    "    print(\"Finalement : cette clause sera exécutée, qu'il y ait des erreurs ou pas.\")"
   ]
  },
  {
   "cell_type": "markdown",
   "metadata": {},
   "source": [
    "---\n",
    "### **3.** Classe des exceptions"
   ]
  },
  {
   "cell_type": "markdown",
   "metadata": {},
   "source": [
    "##### **3.1** - Hierarchie"
   ]
  },
  {
   "cell_type": "markdown",
   "metadata": {},
   "source": [
    "Racine fondamentale `object`"
   ]
  },
  {
   "cell_type": "code",
   "execution_count": 55,
   "metadata": {},
   "outputs": [
    {
     "name": "stdout",
     "output_type": "stream",
     "text": [
      "The base class of the class hierarchy.\n",
      "\n",
      "When called, it accepts no arguments and returns a new featureless\n",
      "instance that has no instance attributes and cannot be given any.\n",
      "\n"
     ]
    }
   ],
   "source": [
    "# Objet racine de toute classes en Python\n",
    "# help(object)\n",
    "print(object.__doc__)"
   ]
  },
  {
   "cell_type": "markdown",
   "metadata": {},
   "source": [
    "Modèle pour toute exception `BaseException`"
   ]
  },
  {
   "cell_type": "code",
   "execution_count": 56,
   "metadata": {},
   "outputs": [
    {
     "name": "stdout",
     "output_type": "stream",
     "text": [
      "Common base class for all exceptions\n"
     ]
    }
   ],
   "source": [
    "# Objet racine des erreurs ('Exception')\n",
    "# help(BaseException)\n",
    "print(BaseException.__doc__)"
   ]
  },
  {
   "cell_type": "markdown",
   "metadata": {},
   "source": [
    "Objet `Exception`"
   ]
  },
  {
   "cell_type": "code",
   "execution_count": 57,
   "metadata": {},
   "outputs": [
    {
     "name": "stdout",
     "output_type": "stream",
     "text": [
      "Common base class for all non-exit exceptions.\n"
     ]
    }
   ],
   "source": [
    "# Objet d'exception sans sortie\n",
    "# help(Exception)\n",
    "print(Exception.__doc__)"
   ]
  },
  {
   "cell_type": "markdown",
   "metadata": {},
   "source": [
    "##### **3.2** - Erreurs personalisées"
   ]
  },
  {
   "cell_type": "code",
   "execution_count": 53,
   "metadata": {},
   "outputs": [],
   "source": [
    "# Héritage de la classe générique Exception\n",
    "class HttpException(Exception) :\n",
    "\n",
    "    def __init__(self, status:int, *args:object) -> None :\n",
    "        super().__init__(*args)\n",
    "        self.__name = \"HttpException\"\n",
    "        self.__status = status"
   ]
  },
  {
   "cell_type": "code",
   "execution_count": 54,
   "metadata": {},
   "outputs": [
    {
     "ename": "HttpException",
     "evalue": "Aucune catégorie trouvée",
     "output_type": "error",
     "traceback": [
      "\u001b[1;31m---------------------------------------------------------------------------\u001b[0m",
      "\u001b[1;31mHttpException\u001b[0m                             Traceback (most recent call last)",
      "\u001b[1;32mc:\\Users\\la-da\\OneDrive\\Productions\\ai-developer\\01.python-advanced\\03.handling\\00.exceptions.ipynb Cellule 48\u001b[0m in \u001b[0;36m<cell line: 3>\u001b[1;34m()\u001b[0m\n\u001b[0;32m      <a href='vscode-notebook-cell:/c%3A/Users/la-da/OneDrive/Productions/ai-developer/01.python-advanced/03.handling/00.exceptions.ipynb#Y100sZmlsZQ%3D%3D?line=3'>4</a>\u001b[0m     \u001b[39mpass\u001b[39;00m\n\u001b[0;32m      <a href='vscode-notebook-cell:/c%3A/Users/la-da/OneDrive/Productions/ai-developer/01.python-advanced/03.handling/00.exceptions.ipynb#Y100sZmlsZQ%3D%3D?line=4'>5</a>\u001b[0m \u001b[39melse\u001b[39;00m :\n\u001b[1;32m----> <a href='vscode-notebook-cell:/c%3A/Users/la-da/OneDrive/Productions/ai-developer/01.python-advanced/03.handling/00.exceptions.ipynb#Y100sZmlsZQ%3D%3D?line=5'>6</a>\u001b[0m     \u001b[39mraise\u001b[39;00m HttpException(\u001b[39m404\u001b[39m, \u001b[39m\"\u001b[39m\u001b[39mAucune catégorie trouvée\u001b[39m\u001b[39m\"\u001b[39m)\n",
      "\u001b[1;31mHttpException\u001b[0m: Aucune catégorie trouvée"
     ]
    }
   ],
   "source": [
    "# Exploitation\n",
    "category = None\n",
    "if category : \n",
    "    pass\n",
    "else :\n",
    "    raise HttpException(404, \"Aucune catégorie trouvée\")"
   ]
  }
 ],
 "metadata": {
  "kernelspec": {
   "display_name": "Python 3.10.5 64-bit",
   "language": "python",
   "name": "python3"
  },
  "language_info": {
   "codemirror_mode": {
    "name": "ipython",
    "version": 3
   },
   "file_extension": ".py",
   "mimetype": "text/x-python",
   "name": "python",
   "nbconvert_exporter": "python",
   "pygments_lexer": "ipython3",
   "version": "3.12.1"
  },
  "orig_nbformat": 4,
  "vscode": {
   "interpreter": {
    "hash": "26de051ba29f2982a8de78e945f0abaf191376122a1563185a90213a26c5da77"
   }
  }
 },
 "nbformat": 4,
 "nbformat_minor": 2
}

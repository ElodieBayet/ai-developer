{
 "cells": [
  {
   "cell_type": "markdown",
   "metadata": {},
   "source": [
    "## **Handling :** Files\n",
    "\n",
    "#### _Gestion des fichiers_\n",
    "\n",
    "🟠 `on work`\n",
    "\n",
    "---\n",
    "\n",
    "1. **Fichiers**\n",
    "    * Lecture et écriture\n",
    "    * Chemin d'accès\n",
    "2. **Dossiers**\n",
    "    * Contenu\n",
    "    * Modifications"
   ]
  },
  {
   "cell_type": "markdown",
   "metadata": {},
   "source": [
    "---\n",
    "\n",
    "### **1.** Fichiers"
   ]
  },
  {
   "cell_type": "markdown",
   "metadata": {},
   "source": [
    "##### **1.1** - Lecture et écriture"
   ]
  },
  {
   "cell_type": "markdown",
   "metadata": {},
   "source": [
    "Fonction `open()` and `close()`\n",
    "\n",
    "* `r` : READ\n",
    "* `w` : WRITE, le contenu est écraser à chaque ouverture, et si le fichier n'existe pas, Python va le créer.\n",
    "* `a` : APPEND, ajout en fin de fichier for an opening in add mode at the end of the file (APPEND). If the file does not exist, python creates it.\n",
    "* `x` : CREATION, créee et ouvre le fichier en mode écriture "
   ]
  },
  {
   "cell_type": "code",
   "execution_count": 4,
   "metadata": {},
   "outputs": [
    {
     "data": {
      "text/plain": [
       "<_io.TextIOWrapper name='./margaret_hamilton.txt' mode='r' encoding='cp1252'>"
      ]
     },
     "execution_count": 4,
     "metadata": {},
     "output_type": "execute_result"
    }
   ],
   "source": [
    "# Initialisation d'un objet de fichier \n",
    "file = open('./margaret_hamilton.txt', 'r')\n",
    "file"
   ]
  },
  {
   "cell_type": "code",
   "execution_count": 7,
   "metadata": {},
   "outputs": [],
   "source": [
    "# Fermeture indispensable à chaque fois que la manipulation du fichier est terminée\n",
    "file.close()"
   ]
  },
  {
   "cell_type": "markdown",
   "metadata": {},
   "source": [
    "Fonction `read()`"
   ]
  },
  {
   "cell_type": "code",
   "execution_count": 9,
   "metadata": {},
   "outputs": [
    {
     "name": "stdout",
     "output_type": "stream",
     "text": [
      "Margaret Heafield Hamilton, née Margaret Heafield le 17 août 1936, est une informaticienne, ingénieure système et cheffe d'entreprise américaine. Elle était directrice du département génie logiciel (« software engineering », terme de son invention) au sein du MIT Instrumentation Laboratory qui conçut le système embarqué du programme spatial Apollo3. En 1986, elle fonde la société Hamilton Technologies, Inc. à partir de ses travaux entrepris au MIT.\n",
      "\n",
      "• 1986 : Prix Ada-Lovelace, Association for Women in Computing.\n",
      "• 2003 : NASA Exceptional Space Act Award for scientific and technical contributions. Cette récompense de 37,200 $ représente la plus forte somme donnée en récompense à un individu de l'histoire de la NASA.\n",
      "• 2009 : Outstanding Alumni Award, Earlham College.\n",
      "• 2016 : médaille présidentielle de la Liberté de la part de Barack Obama, la plus haute distinction civile aux États-Unis.\n",
      "• 2017 : « Computer History Museum Fellow Award »24,25.\n",
      "• 2017 : Figurine LEGO à son effigie au sein d'un lot « Women of NASA » dont Mae Jemison, Sally Ride et Nancy Grace Roman.\n",
      "• 2018 : Doctorat Honoris Causa de l'Université polytechnique de Catalogne.\n",
      "• 2019 : pour célébrer les 50 ans de l'alunissage d'Apollo 11, Google décide de rendre hommage à Margaret Hamilton. Les miroirs de l'installation solaire Ivanpah sont configurés de manière à refléter la lumière de la Lune pour créer une image de Margaret Hamilton et d'Apollo 11.\n"
     ]
    }
   ],
   "source": [
    "# Lecture du contenu\n",
    "file = open('./margaret_hamilton.txt', 'r', encoding='UTF-8')\n",
    "print(file.read())\n",
    "file.close()"
   ]
  },
  {
   "cell_type": "markdown",
   "metadata": {},
   "source": [
    "Instruction `with`"
   ]
  },
  {
   "cell_type": "code",
   "execution_count": 11,
   "metadata": {},
   "outputs": [
    {
     "name": "stdout",
     "output_type": "stream",
     "text": [
      "Margaret Heafield Hamilton, née Margaret Heafield le 17 août 1936, est une informaticienne, ingénieure système et cheffe d'entreprise américaine. Elle était directrice du département génie logiciel (« software engineering », terme de son invention) au sein du MIT Instrumentation Laboratory qui conçut le système embarqué du programme spatial Apollo3. En 1986, elle fonde la société Hamilton Technologies, Inc. à partir de ses travaux entrepris au MIT.\n",
      "\n",
      "• 1986 : Prix Ada-Lovelace, Association for Women in Computing.\n",
      "• 2003 : NASA Exceptional Space Act Award for scientific and technical contributions. Cette récompense de 37,200 $ représente la plus forte somme donnée en récompense à un individu de l'histoire de la NASA.\n",
      "• 2009 : Outstanding Alumni Award, Earlham College.\n",
      "• 2016 : médaille présidentielle de la Liberté de la part de Barack Obama, la plus haute distinction civile aux États-Unis.\n",
      "• 2017 : « Computer History Museum Fellow Award »24,25.\n",
      "• 2017 : Figurine LEGO à son effigie au sein d'un lot « Women of NASA » dont Mae Jemison, Sally Ride et Nancy Grace Roman.\n",
      "• 2018 : Doctorat Honoris Causa de l'Université polytechnique de Catalogne.\n",
      "• 2019 : pour célébrer les 50 ans de l'alunissage d'Apollo 11, Google décide de rendre hommage à Margaret Hamilton. Les miroirs de l'installation solaire Ivanpah sont configurés de manière à refléter la lumière de la Lune pour créer une image de Margaret Hamilton et d'Apollo 11.\n"
     ]
    }
   ],
   "source": [
    "# La fonction close() n'est pas nécessaire avec with\n",
    "with open('./margaret_hamilton.txt', 'r', encoding='UTF-8') as margaret :\n",
    "    print(margaret.read())"
   ]
  },
  {
   "cell_type": "markdown",
   "metadata": {},
   "source": [
    "Fonction `write()`"
   ]
  },
  {
   "cell_type": "markdown",
   "metadata": {},
   "source": [
    "##### **1.2** - Chemin d'accès"
   ]
  },
  {
   "cell_type": "markdown",
   "metadata": {},
   "source": [
    "---\n",
    "\n",
    "### **2.** Dossiers"
   ]
  }
 ],
 "metadata": {
  "kernelspec": {
   "display_name": "Python 3.10.5 64-bit",
   "language": "python",
   "name": "python3"
  },
  "language_info": {
   "codemirror_mode": {
    "name": "ipython",
    "version": 3
   },
   "file_extension": ".py",
   "mimetype": "text/x-python",
   "name": "python",
   "nbconvert_exporter": "python",
   "pygments_lexer": "ipython3",
   "version": "3.12.1"
  },
  "orig_nbformat": 4,
  "vscode": {
   "interpreter": {
    "hash": "26de051ba29f2982a8de78e945f0abaf191376122a1563185a90213a26c5da77"
   }
  }
 },
 "nbformat": 4,
 "nbformat_minor": 2
}

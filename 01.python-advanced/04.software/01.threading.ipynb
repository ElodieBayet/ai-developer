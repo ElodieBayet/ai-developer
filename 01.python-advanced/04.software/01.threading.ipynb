{
 "cells": [
  {
   "cell_type": "markdown",
   "metadata": {},
   "source": [
    "## **Software :** Threading\n",
    "\n",
    "#### _Les exécutions parallèles en Python_\n",
    "\n",
    "🟠 `on work`\n",
    "\n",
    "---\n",
    "\n",
    "1. **Principe**\n",
    "    * Programmation linéaire\n",
    "    * Programmation parallèle\n",
    "2. **Les Threads**\n",
    "    * Concept\n",
    "    * Synchronisation\n",
    "3. **Asynchronisation**\n",
    "    * .\n",
    "\n",
    "`---`\n",
    "\n",
    "* [Real Python :: Getting Started](https://realpython.com/python-async-features/)\n",
    "* [Real Python :: Async IO](https://realpython.com/async-io-python/)\n"
   ]
  },
  {
   "cell_type": "markdown",
   "metadata": {},
   "source": [
    "**Built-in**"
   ]
  },
  {
   "cell_type": "code",
   "execution_count": 41,
   "metadata": {},
   "outputs": [],
   "source": [
    "import time\n",
    "from threading import Thread, RLock"
   ]
  },
  {
   "cell_type": "markdown",
   "metadata": {},
   "source": [
    "---\n",
    "### **1.** Principe"
   ]
  },
  {
   "cell_type": "markdown",
   "metadata": {},
   "source": [
    "##### **1.1** - Programmation linéaire"
   ]
  },
  {
   "cell_type": "code",
   "execution_count": 21,
   "metadata": {},
   "outputs": [
    {
     "name": "stdout",
     "output_type": "stream",
     "text": [
      "Éxécuté avant '.sleep'\n",
      "Éxécuté après '.sleep' : ± 2 secondes d'attente\n"
     ]
    }
   ],
   "source": [
    "# Un script bloqué pendant (au moins) 2 secondes\n",
    "print(\"Éxécuté avant '.sleep'\")\n",
    "time.sleep(2)\n",
    "print(\"Éxécuté après '.sleep' : ± 2 secondes d'attente\")"
   ]
  },
  {
   "cell_type": "markdown",
   "metadata": {},
   "source": [
    "Code bloquant"
   ]
  },
  {
   "cell_type": "code",
   "execution_count": 20,
   "metadata": {},
   "outputs": [
    {
     "name": "stdout",
     "output_type": "stream",
     "text": [
      "Thread 0 : Start\n",
      "Thread 0 : End\n",
      "\t=> Fin de la boucle\n",
      "Thread 1 : Start\n",
      "Thread 1 : End\n",
      "\t=> Fin de la boucle\n",
      "Thread 2 : Start\n",
      "Thread 2 : End\n",
      "\t=> Fin de la boucle\n",
      "Thread 3 : Start\n",
      "Thread 3 : End\n",
      "\t=> Fin de la boucle\n",
      "Thread 4 : Start\n",
      "Thread 4 : End\n",
      "\t=> Fin de la boucle\n"
     ]
    }
   ],
   "source": [
    "# 5 itérations éxécutées en linéaire : ± 10 secondes nécessaires\n",
    "def thread_function(num) :\n",
    "    print(f\"Thread {num} : Start\")\n",
    "    time.sleep(2)\n",
    "    print(f\"Thread {num} : End\")\n",
    "\n",
    "for i in range(5) :\n",
    "    thread_function(i)\n",
    "    print(\"\\t=> Fin de la boucle\")"
   ]
  },
  {
   "cell_type": "markdown",
   "metadata": {},
   "source": [
    "##### **1.2** - Programmation parallèle"
   ]
  },
  {
   "cell_type": "markdown",
   "metadata": {},
   "source": [
    "La classe `Thread`"
   ]
  },
  {
   "cell_type": "code",
   "execution_count": 16,
   "metadata": {},
   "outputs": [
    {
     "name": "stdout",
     "output_type": "stream",
     "text": [
      "A class that represents a thread of control.\n",
      "\n",
      "    This class can be safely subclassed in a limited fashion. There are two ways\n",
      "    to specify the activity: by passing a callable object to the constructor, or\n",
      "    by overriding the run() method in a subclass.\n",
      "\n",
      "    \n"
     ]
    }
   ],
   "source": [
    "# La classe Thread\n",
    "# help(Thread)\n",
    "print(Thread.__doc__)"
   ]
  },
  {
   "cell_type": "code",
   "execution_count": 17,
   "metadata": {},
   "outputs": [
    {
     "name": "stdout",
     "output_type": "stream",
     "text": [
      "Start the thread's activity.\n",
      "\n",
      "        It must be called at most once per thread object. It arranges for the\n",
      "        object's run() method to be invoked in a separate thread of control.\n",
      "\n",
      "        This method will raise a RuntimeError if called more than once on the\n",
      "        same thread object.\n",
      "\n",
      "        \n"
     ]
    }
   ],
   "source": [
    "# Méthode de lancement d'un Thread\n",
    "print(Thread.start.__doc__)"
   ]
  },
  {
   "cell_type": "code",
   "execution_count": 18,
   "metadata": {},
   "outputs": [
    {
     "name": "stdout",
     "output_type": "stream",
     "text": [
      "Method representing the thread's activity.\n",
      "\n",
      "        You may override this method in a subclass. The standard run() method\n",
      "        invokes the callable object passed to the object's constructor as the\n",
      "        target argument, if any, with sequential and keyword arguments taken\n",
      "        from the args and kwargs arguments, respectively.\n",
      "\n",
      "        \n"
     ]
    }
   ],
   "source": [
    "# Méthode d'exécution liée à un Thread\n",
    "print(Thread.run.__doc__)"
   ]
  },
  {
   "cell_type": "markdown",
   "metadata": {},
   "source": [
    "Code non-bloquant"
   ]
  },
  {
   "cell_type": "code",
   "execution_count": 11,
   "metadata": {},
   "outputs": [
    {
     "name": "stdout",
     "output_type": "stream",
     "text": [
      "Thread 0 : Start\n",
      "\t=> Fin de la boucle\n",
      "\n",
      "Thread 1 : Start\n",
      "\t=> Fin de la boucle\n",
      "\n",
      "Thread 2 : Start\n",
      "\t=> Fin de la boucle\n",
      "\n",
      "Thread 3 : Start\n",
      "\t=> Fin de la boucle\n",
      "\n",
      "Thread 4 : Start\n",
      "\t=> Fin de la boucle\n",
      "\n"
     ]
    },
    {
     "name": "stdout",
     "output_type": "stream",
     "text": [
      "Thread 1 : End\n",
      "Thread 2 : End\n",
      "Thread 4 : End\n",
      "Thread 0 : End\n",
      "Thread 3 : End\n"
     ]
    }
   ],
   "source": [
    "# 5 itérations exécutées en parallèle : ± 2 secondes seulement\n",
    "class ThreadFunction(Thread) :\n",
    "\n",
    "    def __init__(self, name) :\n",
    "        Thread.__init__(self)\n",
    "        self.name = name\n",
    "    \n",
    "    # (!) - Surcharge de la fonction run() nécessaire\n",
    "    def run(self) :\n",
    "        print(f\"Thread {self.name} : Start\")\n",
    "        time.sleep(2)\n",
    "        print(f\"Thread {self.name} : End\")\n",
    "\n",
    "for i in range(5) :\n",
    "    thread = ThreadFunction(i)\n",
    "    thread.start()\n",
    "    print(\"\\t=> Fin de la boucle\\n\")"
   ]
  },
  {
   "cell_type": "markdown",
   "metadata": {},
   "source": [
    "---\n",
    "### **2.** Les Threads"
   ]
  },
  {
   "cell_type": "markdown",
   "metadata": {},
   "source": [
    "##### **2.1** - Concept"
   ]
  },
  {
   "cell_type": "code",
   "execution_count": 37,
   "metadata": {},
   "outputs": [],
   "source": [
    "# Construction d'un Thread d'écriture dans un fichier\n",
    "class ClassicThreading(Thread) :\n",
    "\n",
    "    def __init__(self, text:str) -> None :\n",
    "        Thread.__init__(self)\n",
    "        self.__text = text\n",
    "\n",
    "    def run(self) -> None :\n",
    "        print(f\"Texte : {self.__text}\")\n",
    "        with open('./_classic_threads.txt', 'a') as file :\n",
    "            file.write(f\"{self.__text}\\n\")"
   ]
  },
  {
   "cell_type": "code",
   "execution_count": 38,
   "metadata": {},
   "outputs": [
    {
     "name": "stdout",
     "output_type": "stream",
     "text": [
      "Texte : Thread #0 :: Text content... \n",
      "Texte : Thread #1 :: Another text content... \n",
      "Texte : Thread #2 :: Text content, again... \n",
      "Texte : Thread #3 :: Text... \n",
      "Texte : Thread #4 :: And text... \n"
     ]
    }
   ],
   "source": [
    "# Mise en place de plusieurs Theads pour écrire dans un fichier\n",
    "thread_0 = ClassicThreading('Thread #0 :: Text content... ')\n",
    "thread_1 = ClassicThreading('Thread #1 :: Another text content... ')\n",
    "thread_2 = ClassicThreading('Thread #2 :: Text content, again... ')\n",
    "thread_3 = ClassicThreading('Thread #3 :: Text... ')\n",
    "thread_4 = ClassicThreading('Thread #4 :: And text... ')\n",
    "\n",
    "thread_0.start()\n",
    "thread_1.start()\n",
    "thread_2.start()\n",
    "thread_3.start()\n",
    "thread_4.start()"
   ]
  },
  {
   "cell_type": "code",
   "execution_count": 39,
   "metadata": {},
   "outputs": [
    {
     "name": "stdout",
     "output_type": "stream",
     "text": [
      "Thread #0 :: Text content... \n",
      "Thread #2 :: Text content, again... \n",
      "Thread #1 :: Another text content... \n",
      "Thread #3 :: Text... \n",
      "Thread #4 :: And text... \n",
      "\n"
     ]
    }
   ],
   "source": [
    "# Observation du résultat...\n",
    "classic_threads = open('./_classic_threads.txt')\n",
    "print(classic_threads.read())"
   ]
  },
  {
   "cell_type": "markdown",
   "metadata": {},
   "source": [
    "Résultat après une 3<sup>e</sup> exécution des Threads :\n",
    "```\n",
    "Thread #0 :: Text content... \n",
    "Thread #2 :: Text content, again... \n",
    "Thread #1 :: Another text content... \n",
    "Thread #3 :: Text... \n",
    "Thread #4 :: And text... \n",
    "```\n",
    "Le **Thread #2** a été exécuté **avant le Thread #1** (ce n'est pas toujours le cas). Aussi, lorsque plusieurs _Threads_ accèdent à une même ressource, par exemple une base de données, l'ordre d'exécution ne peut pas être garantit. Les _Threads_ s'exécutent en parallèle, mais ne se terminent pas toujours dans l'ordre de lancement initial."
   ]
  },
  {
   "cell_type": "markdown",
   "metadata": {},
   "source": [
    "##### **2.2** - Synchronisation"
   ]
  },
  {
   "cell_type": "markdown",
   "metadata": {},
   "source": [
    "Objet `RLock`"
   ]
  },
  {
   "cell_type": "code",
   "execution_count": 43,
   "metadata": {},
   "outputs": [
    {
     "name": "stdout",
     "output_type": "stream",
     "text": [
      "Factory function that returns a new reentrant lock.\n",
      "\n",
      "    A reentrant lock must be released by the thread that acquired it. Once a\n",
      "    thread has acquired a reentrant lock, the same thread may acquire it again\n",
      "    without blocking; the thread must release it once for each time it has\n",
      "    acquired it.\n",
      "\n",
      "    \n"
     ]
    }
   ],
   "source": [
    "# Bloquer l'exécution d'un autre Thread à une même ressource\n",
    "print(RLock.__doc__)"
   ]
  },
  {
   "cell_type": "code",
   "execution_count": 46,
   "metadata": {},
   "outputs": [],
   "source": [
    "# Thread contrôlé\n",
    "class SyncThreading(Thread) :\n",
    "\n",
    "    def __init__(self, text:str, lock:RLock) -> None :\n",
    "        Thread.__init__(self)\n",
    "        self.__text = text\n",
    "        self.__lock = lock\n",
    "\n",
    "    def run(self) -> None :\n",
    "        print(f\"Texte : {self.__text}\")\n",
    "        with self.__lock :\n",
    "            with open('./_sync_threads.txt', 'a') as file :\n",
    "                file.write(f\"{self.__text}\\n\")"
   ]
  },
  {
   "cell_type": "code",
   "execution_count": 47,
   "metadata": {},
   "outputs": [
    {
     "name": "stdout",
     "output_type": "stream",
     "text": [
      "Texte : SyncThread #0 :: Text content... \n",
      "Texte : SyncThread #1 :: Another text content... \n",
      "Texte : SyncThread #2 :: Text content, again... \n",
      "Texte : SyncThread #3 :: Text... \n",
      "Texte : SyncThread #4 :: And text... \n"
     ]
    }
   ],
   "source": [
    "# Lancement\n",
    "lock = RLock()\n",
    "sync_thread_0 = SyncThreading('SyncThread #0 :: Text content... ', lock)\n",
    "sync_thread_1 = SyncThreading('SyncThread #1 :: Another text content... ', lock)\n",
    "sync_thread_2 = SyncThreading('SyncThread #2 :: Text content, again... ', lock)\n",
    "sync_thread_3 = SyncThreading('SyncThread #3 :: Text... ', lock)\n",
    "sync_thread_4 = SyncThreading('SyncThread #4 :: And text... ', lock)\n",
    "\n",
    "sync_thread_0.start()\n",
    "sync_thread_1.start()\n",
    "sync_thread_2.start()\n",
    "sync_thread_3.start()\n",
    "sync_thread_4.start()"
   ]
  },
  {
   "cell_type": "markdown",
   "metadata": {},
   "source": [
    "Méthode `.join()`"
   ]
  },
  {
   "cell_type": "code",
   "execution_count": 44,
   "metadata": {},
   "outputs": [
    {
     "name": "stdout",
     "output_type": "stream",
     "text": [
      "Wait until the thread terminates.\n",
      "\n",
      "        This blocks the calling thread until the thread whose join() method is\n",
      "        called terminates -- either normally or through an unhandled exception\n",
      "        or until the optional timeout occurs.\n",
      "\n",
      "        When the timeout argument is present and not None, it should be a\n",
      "        floating point number specifying a timeout for the operation in seconds\n",
      "        (or fractions thereof). As join() always returns None, you must call\n",
      "        is_alive() after join() to decide whether a timeout happened -- if the\n",
      "        thread is still alive, the join() call timed out.\n",
      "\n",
      "        When the timeout argument is not present or None, the operation will\n",
      "        block until the thread terminates.\n",
      "\n",
      "        A thread can be join()ed many times.\n",
      "\n",
      "        join() raises a RuntimeError if an attempt is made to join the current\n",
      "        thread as that would cause a deadlock. It is also an error to join() a\n",
      "        thread before it has been started and attempts to do so raises the same\n",
      "        exception.\n",
      "\n",
      "        \n"
     ]
    }
   ],
   "source": [
    "# Attendre la fin d'un Thread en cours d'exécution\n",
    "print(Thread.join.__doc__)"
   ]
  },
  {
   "cell_type": "markdown",
   "metadata": {},
   "source": [
    "---\n",
    "### **3.** Asynchronisation"
   ]
  }
 ],
 "metadata": {
  "kernelspec": {
   "display_name": "Python 3.10.5 64-bit",
   "language": "python",
   "name": "python3"
  },
  "language_info": {
   "codemirror_mode": {
    "name": "ipython",
    "version": 3
   },
   "file_extension": ".py",
   "mimetype": "text/x-python",
   "name": "python",
   "nbconvert_exporter": "python",
   "pygments_lexer": "ipython3",
   "version": "3.12.1"
  },
  "orig_nbformat": 4,
  "vscode": {
   "interpreter": {
    "hash": "26de051ba29f2982a8de78e945f0abaf191376122a1563185a90213a26c5da77"
   }
  }
 },
 "nbformat": 4,
 "nbformat_minor": 2
}

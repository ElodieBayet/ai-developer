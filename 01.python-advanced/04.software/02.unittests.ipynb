{
 "cells": [
  {
   "cell_type": "markdown",
   "metadata": {},
   "source": [
    "## **Software :** Unit tests\n",
    "\n",
    "#### _Les tests unitaires_\n",
    "\n",
    "🟠 `on work`\n",
    "\n",
    "---\n",
    "\n",
    "1. **Principe**\n",
    "    * From scratch\n",
    "    * Module natif\n",
    "2. **Cas de tests**\n",
    "    * Module `unittest`\n",
    "    * Module `pytest`"
   ]
  },
  {
   "cell_type": "markdown",
   "metadata": {},
   "source": [
    "**Built-in**"
   ]
  },
  {
   "cell_type": "code",
   "execution_count": 20,
   "metadata": {},
   "outputs": [],
   "source": [
    "import unittest"
   ]
  },
  {
   "cell_type": "markdown",
   "metadata": {},
   "source": [
    "---\n",
    "### **1.** Principe"
   ]
  },
  {
   "cell_type": "markdown",
   "metadata": {},
   "source": [
    "##### **1.1** - From scratch"
   ]
  },
  {
   "cell_type": "code",
   "execution_count": 23,
   "metadata": {},
   "outputs": [],
   "source": [
    "# Quelques fonctions\n",
    "def addition(num_1:int, num_2:int) -> int :\n",
    "    return num_1 + num_2\n",
    "\n",
    "def multiplication(fact_1:int, fact_2:int) -> int :\n",
    "    return fact_1 * fact_2\n",
    "\n",
    "def bad_addition(num_1:int, num_2:int) -> int :\n",
    "    return num_1 - num_2"
   ]
  },
  {
   "cell_type": "markdown",
   "metadata": {},
   "source": [
    "Assertions simples"
   ]
  },
  {
   "cell_type": "code",
   "execution_count": 14,
   "metadata": {},
   "outputs": [],
   "source": [
    "# Série de tests unitaires pour vérifier leurs bon fonctionnement\n",
    "def test_addition_serie() :\n",
    "    test_a = addition(4, 5)\n",
    "    test_b = addition(8, 10)\n",
    "\n",
    "    assert test_a == 9\n",
    "    assert test_b == 18\n",
    "\n",
    "    print(f\"Ok :: addition\")\n",
    "\n",
    "def test_multiplication_serie() :\n",
    "    test_a = multiplication(3, 3)\n",
    "    test_b = multiplication(2, 9)\n",
    "\n",
    "    assert test_a == 9\n",
    "    assert test_b == 18\n",
    "\n",
    "    print(f\"Ok :: multiplication\")"
   ]
  },
  {
   "cell_type": "code",
   "execution_count": 15,
   "metadata": {},
   "outputs": [
    {
     "name": "stdout",
     "output_type": "stream",
     "text": [
      "Ok :: addition\n",
      "Ok :: multiplication\n"
     ]
    }
   ],
   "source": [
    "# Lancement des tests\n",
    "if __name__ == '__main__' :\n",
    "    test_addition_serie()\n",
    "    test_multiplication_serie()"
   ]
  },
  {
   "cell_type": "markdown",
   "metadata": {},
   "source": [
    "Limites des assertions"
   ]
  },
  {
   "cell_type": "code",
   "execution_count": 24,
   "metadata": {},
   "outputs": [],
   "source": [
    "# Série de tests qui écouera\n",
    "def test_addition_serie_fails() :\n",
    "    test_a = bad_addition(4, 5)\n",
    "    test_b = bad_addition(8, 10)\n",
    "\n",
    "    assert test_a == 9\n",
    "    assert test_b == 18\n",
    "\n",
    "    print(f\"Ok :: addition\")"
   ]
  },
  {
   "cell_type": "code",
   "execution_count": 25,
   "metadata": {},
   "outputs": [
    {
     "ename": "AssertionError",
     "evalue": "",
     "output_type": "error",
     "traceback": [
      "\u001b[1;31m---------------------------------------------------------------------------\u001b[0m",
      "\u001b[1;31mAssertionError\u001b[0m                            Traceback (most recent call last)",
      "\u001b[1;32mc:\\Users\\la-da\\OneDrive\\Productions\\ai-developer\\01.python-advanced\\04.software\\01.unittests.ipynb Cellule 12\u001b[0m in \u001b[0;36m<cell line: 2>\u001b[1;34m()\u001b[0m\n\u001b[0;32m      <a href='vscode-notebook-cell:/c%3A/Users/la-da/OneDrive/Productions/ai-developer/01.python-advanced/04.software/01.unittests.ipynb#X16sZmlsZQ%3D%3D?line=0'>1</a>\u001b[0m \u001b[39m# Lacement de la série de tests\u001b[39;00m\n\u001b[0;32m      <a href='vscode-notebook-cell:/c%3A/Users/la-da/OneDrive/Productions/ai-developer/01.python-advanced/04.software/01.unittests.ipynb#X16sZmlsZQ%3D%3D?line=1'>2</a>\u001b[0m \u001b[39mif\u001b[39;00m \u001b[39m__name__\u001b[39m \u001b[39m==\u001b[39m \u001b[39m'\u001b[39m\u001b[39m__main__\u001b[39m\u001b[39m'\u001b[39m :\n\u001b[1;32m----> <a href='vscode-notebook-cell:/c%3A/Users/la-da/OneDrive/Productions/ai-developer/01.python-advanced/04.software/01.unittests.ipynb#X16sZmlsZQ%3D%3D?line=2'>3</a>\u001b[0m     test_addition_serie_fails()\n\u001b[0;32m      <a href='vscode-notebook-cell:/c%3A/Users/la-da/OneDrive/Productions/ai-developer/01.python-advanced/04.software/01.unittests.ipynb#X16sZmlsZQ%3D%3D?line=3'>4</a>\u001b[0m     test_multiplication_serie()\n",
      "\u001b[1;32mc:\\Users\\la-da\\OneDrive\\Productions\\ai-developer\\01.python-advanced\\04.software\\01.unittests.ipynb Cellule 12\u001b[0m in \u001b[0;36mtest_addition_serie_fails\u001b[1;34m()\u001b[0m\n\u001b[0;32m      <a href='vscode-notebook-cell:/c%3A/Users/la-da/OneDrive/Productions/ai-developer/01.python-advanced/04.software/01.unittests.ipynb#X16sZmlsZQ%3D%3D?line=2'>3</a>\u001b[0m test_a \u001b[39m=\u001b[39m bad_addition(\u001b[39m4\u001b[39m, \u001b[39m5\u001b[39m)\n\u001b[0;32m      <a href='vscode-notebook-cell:/c%3A/Users/la-da/OneDrive/Productions/ai-developer/01.python-advanced/04.software/01.unittests.ipynb#X16sZmlsZQ%3D%3D?line=3'>4</a>\u001b[0m test_b \u001b[39m=\u001b[39m bad_addition(\u001b[39m8\u001b[39m, \u001b[39m10\u001b[39m)\n\u001b[1;32m----> <a href='vscode-notebook-cell:/c%3A/Users/la-da/OneDrive/Productions/ai-developer/01.python-advanced/04.software/01.unittests.ipynb#X16sZmlsZQ%3D%3D?line=5'>6</a>\u001b[0m \u001b[39massert\u001b[39;00m test_a \u001b[39m==\u001b[39m \u001b[39m9\u001b[39m\n\u001b[0;32m      <a href='vscode-notebook-cell:/c%3A/Users/la-da/OneDrive/Productions/ai-developer/01.python-advanced/04.software/01.unittests.ipynb#X16sZmlsZQ%3D%3D?line=6'>7</a>\u001b[0m \u001b[39massert\u001b[39;00m test_b \u001b[39m==\u001b[39m \u001b[39m18\u001b[39m\n\u001b[0;32m      <a href='vscode-notebook-cell:/c%3A/Users/la-da/OneDrive/Productions/ai-developer/01.python-advanced/04.software/01.unittests.ipynb#X16sZmlsZQ%3D%3D?line=8'>9</a>\u001b[0m \u001b[39mprint\u001b[39m(\u001b[39mf\u001b[39m\u001b[39m\"\u001b[39m\u001b[39mOk :: addition\u001b[39m\u001b[39m\"\u001b[39m)\n",
      "\u001b[1;31mAssertionError\u001b[0m: "
     ]
    }
   ],
   "source": [
    "# Lacement de la série de tests\n",
    "if __name__ == '__main__' :\n",
    "    test_addition_serie_fails()\n",
    "    test_multiplication_serie()"
   ]
  },
  {
   "cell_type": "markdown",
   "metadata": {},
   "source": [
    "Fin de la procédure complète de tests dès qu'une assertion échoue."
   ]
  },
  {
   "cell_type": "markdown",
   "metadata": {},
   "source": [
    "##### **1.2** - Module natif"
   ]
  },
  {
   "cell_type": "markdown",
   "metadata": {},
   "source": [
    "Réussite"
   ]
  },
  {
   "cell_type": "code",
   "execution_count": 21,
   "metadata": {},
   "outputs": [],
   "source": [
    "# Mise en place d'un processus de tests unitaires\n",
    "class TestMathFunctions(unittest.TestCase) :\n",
    "\n",
    "    \"\"\"\n",
    "    Tests for Math' functions\n",
    "    \"\"\"\n",
    "\n",
    "    def test_addition_serie(self) :\n",
    "        test_a = addition(-9, 3)\n",
    "        test_b = addition(4, 7)\n",
    "\n",
    "        self.assertEqual(test_a, -6)\n",
    "        self.assertEqual(test_b, 11)\n",
    "\n",
    "\n",
    "    def test_multiplication_serie(self) :\n",
    "        test_a = multiplication(2, -8)\n",
    "        test_b = multiplication(4, 5)\n",
    "\n",
    "        self.assertEqual(test_a, -16)\n",
    "        self.assertEqual(test_b, 20)"
   ]
  },
  {
   "cell_type": "code",
   "execution_count": 26,
   "metadata": {},
   "outputs": [
    {
     "name": "stderr",
     "output_type": "stream",
     "text": [
      "..\n",
      "----------------------------------------------------------------------\n",
      "Ran 2 tests in 0.004s\n",
      "\n",
      "OK\n"
     ]
    }
   ],
   "source": [
    "# Lancement de la série de tests\n",
    "if __name__ == '__main__' : \n",
    "    # Version .py\n",
    "    # unittest.main()\n",
    "    \n",
    "    # Version .ipynb\n",
    "    unittest.main(argv=['first-arg-is-ignored'], exit=False)"
   ]
  },
  {
   "cell_type": "markdown",
   "metadata": {},
   "source": [
    "Échec"
   ]
  },
  {
   "cell_type": "code",
   "execution_count": 28,
   "metadata": {},
   "outputs": [],
   "source": [
    "# Échec d'un processus de tests unitaires\n",
    "class FailTestMathFunctions(unittest.TestCase) :\n",
    "\n",
    "    \"\"\"\n",
    "    Failing Tests for Math' functions\n",
    "    \"\"\"\n",
    "\n",
    "    def test_addition_serie(self) :\n",
    "        test_a = bad_addition(-9, 3)\n",
    "        test_b = bad_addition(4, 7)\n",
    "\n",
    "        self.assertEqual(test_a, -6)\n",
    "        self.assertEqual(test_b, 11)\n",
    "\n",
    "\n",
    "    def test_multiplication_serie(self) :\n",
    "        test_a = multiplication(2, -8)\n",
    "        test_b = multiplication(4, 5)\n",
    "\n",
    "        self.assertEqual(test_a, -16)\n",
    "        self.assertEqual(test_b, 20)"
   ]
  },
  {
   "cell_type": "code",
   "execution_count": 29,
   "metadata": {},
   "outputs": [
    {
     "name": "stderr",
     "output_type": "stream",
     "text": [
      "F...\n",
      "======================================================================\n",
      "FAIL: test_addition_serie (__main__.FailTestMathFunctions)\n",
      "----------------------------------------------------------------------\n",
      "Traceback (most recent call last):\n",
      "  File \"C:\\Users\\la-da\\AppData\\Local\\Temp\\ipykernel_20132\\3656900288.py\", line 12, in test_addition_serie\n",
      "    self.assertEqual(test_a, -6)\n",
      "AssertionError: -12 != -6\n",
      "\n",
      "----------------------------------------------------------------------\n",
      "Ran 4 tests in 0.007s\n",
      "\n",
      "FAILED (failures=1)\n"
     ]
    }
   ],
   "source": [
    "# Lancement de la série destinée a échouer\n",
    "if __name__ == '__main__' : \n",
    "    unittest.main(argv=['first-arg-is-ignored'], exit=False)"
   ]
  },
  {
   "cell_type": "markdown",
   "metadata": {},
   "source": [
    "---\n",
    "### **2.** Cas de tests"
   ]
  },
  {
   "cell_type": "markdown",
   "metadata": {},
   "source": [
    "##### **2.1** - Module `unittest`"
   ]
  },
  {
   "cell_type": "code",
   "execution_count": 32,
   "metadata": {},
   "outputs": [
    {
     "name": "stdout",
     "output_type": "stream",
     "text": [
      "A class whose instances are single test cases.\n",
      "\n",
      "    By default, the test code itself should be placed in a method named\n",
      "    'runTest'.\n",
      "\n",
      "    If the fixture may be used for many test cases, create as\n",
      "    many test methods as are needed. When instantiating such a TestCase\n",
      "    subclass, specify in the constructor arguments the name of the test method\n",
      "    that the instance is to execute.\n",
      "\n",
      "    Test authors should subclass TestCase for their own tests. Construction\n",
      "    and deconstruction of the test's environment ('fixture') can be\n",
      "    implemented by overriding the 'setUp' and 'tearDown' methods respectively.\n",
      "\n",
      "    If it is necessary to override the __init__ method, the base class\n",
      "    __init__ method must always be called. It is important that subclasses\n",
      "    should not change the signature of their __init__ method, since instances\n",
      "    of the classes are instantiated automatically by parts of the framework\n",
      "    in order to be run.\n",
      "\n",
      "    When subclassing TestCase, you can set these attributes:\n",
      "    * failureException: determines which exception will be raised when\n",
      "        the instance's assertion methods fail; test methods raising this\n",
      "        exception will be deemed to have 'failed' rather than 'errored'.\n",
      "    * longMessage: determines whether long messages (including repr of\n",
      "        objects used in assert methods) will be printed on failure in *addition*\n",
      "        to any explicit message passed.\n",
      "    * maxDiff: sets the maximum length of a diff in failure messages\n",
      "        by assert methods using difflib. It is looked up as an instance\n",
      "        attribute so can be configured by individual tests if required.\n",
      "    \n"
     ]
    }
   ],
   "source": [
    "print(unittest.TestCase.__doc__)"
   ]
  },
  {
   "cell_type": "markdown",
   "metadata": {},
   "source": [
    "##### **2.2** - Module `pytest`"
   ]
  }
 ],
 "metadata": {
  "kernelspec": {
   "display_name": "Python 3.10.5 64-bit",
   "language": "python",
   "name": "python3"
  },
  "language_info": {
   "codemirror_mode": {
    "name": "ipython",
    "version": 3
   },
   "file_extension": ".py",
   "mimetype": "text/x-python",
   "name": "python",
   "nbconvert_exporter": "python",
   "pygments_lexer": "ipython3",
   "version": "3.10.5"
  },
  "orig_nbformat": 4,
  "vscode": {
   "interpreter": {
    "hash": "26de051ba29f2982a8de78e945f0abaf191376122a1563185a90213a26c5da77"
   }
  }
 },
 "nbformat": 4,
 "nbformat_minor": 2
}

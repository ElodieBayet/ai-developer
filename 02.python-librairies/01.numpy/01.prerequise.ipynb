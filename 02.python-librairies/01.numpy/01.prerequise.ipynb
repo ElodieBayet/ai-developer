{
 "cells": [
  {
   "cell_type": "markdown",
   "metadata": {},
   "source": [
    "## **NumPy :** Prerequisite\n",
    "\n",
    "#### _Prérequis pour la librairie NumPy_\n",
    "\n",
    "🟢 `complete`\n",
    "\n",
    "---\n",
    "\n",
    "1. **La librairie**\n",
    "    * Contenu\n",
    "    * Typage optimisé\n",
    "2. **Tableaux à n-dimensions**\n",
    "    * Principes dimensionnels\n",
    "3. **Matrices et vecteurs**\n",
    "    * Matrices\n",
    "    * Vecteurs\n",
    "    * Matrices carrées\n",
    "    * Calculs matriciels"
   ]
  },
  {
   "cell_type": "markdown",
   "metadata": {},
   "source": [
    "**Librairies**"
   ]
  },
  {
   "cell_type": "code",
   "execution_count": 2,
   "metadata": {},
   "outputs": [],
   "source": [
    "import numpy as np"
   ]
  },
  {
   "cell_type": "markdown",
   "metadata": {},
   "source": [
    "---\n",
    "### **1.** La librairie"
   ]
  },
  {
   "cell_type": "markdown",
   "metadata": {},
   "source": [
    "##### **1.1** - Contenu"
   ]
  },
  {
   "cell_type": "markdown",
   "metadata": {},
   "source": [
    "**Ce qu'apporte la librairie**\n",
    "* Créations et manipulations de tableaux à N-dimensions et d'objets dérivés _– tableaux masqués, matrices, etc._\n",
    "* Routines d'opérations rapides sur les tableaux, surtout de grands volumes de données\n",
    "* Manipulations mathématiques, logiques ou de forme\n",
    "* Traitements de tris, de sélection, _d'input/output_\n",
    "* Opérations basiques de statistique\n",
    "* Simulation de randomisation"
   ]
  },
  {
   "cell_type": "markdown",
   "metadata": {},
   "source": [
    "##### **1.2** - Typage optimisé"
   ]
  },
  {
   "cell_type": "markdown",
   "metadata": {},
   "source": [
    "**Vitesse d'exécution**\n",
    "\n",
    "Un tableau est un conteneur d'éléments du **même type et de même taille**. Le type des éléments n'est **stocké qu'une seule fois** ; Contrairement aux listes ordinaires en Python, où il y a _n-types_ stockés pour _n-éléments_.\n",
    "\n",
    "![Tableaux typés](../_assets/numpy_tableau_types.png)"
   ]
  },
  {
   "cell_type": "markdown",
   "metadata": {},
   "source": [
    "**Comparaison**\n",
    "\n",
    "Que se passerait-il si `list_1` et `list_2` comportaient des millions de valeurs ?"
   ]
  },
  {
   "cell_type": "code",
   "execution_count": 5,
   "metadata": {},
   "outputs": [
    {
     "data": {
      "text/plain": [
       "[2, 8, 18, 32, 50]"
      ]
     },
     "execution_count": 5,
     "metadata": {},
     "output_type": "execute_result"
    }
   ],
   "source": [
    "# Listes Python\n",
    "list_1 = [1, 2, 3, 4, 5]\n",
    "list_2 = [2, 4, 6, 8, 10]\n",
    "list_3 = []\n",
    "\n",
    "# %timeit \n",
    "\n",
    "for i in range(len(list_1)) :\n",
    "    list_3.append(list_1[i] * list_2[i])\n",
    "\n",
    "list_3"
   ]
  },
  {
   "cell_type": "code",
   "execution_count": 6,
   "metadata": {},
   "outputs": [
    {
     "data": {
      "text/plain": [
       "array([ 2,  8, 18, 32, 50], dtype=int16)"
      ]
     },
     "execution_count": 6,
     "metadata": {},
     "output_type": "execute_result"
    }
   ],
   "source": [
    "# Tableaux NumPy\n",
    "arr_1 = np.array([1, 2, 3, 4, 5], dtype=np.int16)\n",
    "arr_2 = np.array([2, 4, 6, 8, 10], dtype=np.int16)\n",
    "\n",
    "arr_3 = arr_1 * arr_2\n",
    "\n",
    "arr_3"
   ]
  },
  {
   "cell_type": "markdown",
   "metadata": {},
   "source": [
    "---\n",
    "### **2.** Tableaux à n-dimensions"
   ]
  },
  {
   "cell_type": "markdown",
   "metadata": {},
   "source": [
    "##### **2.1** - Principes dimensionnels"
   ]
  },
  {
   "cell_type": "markdown",
   "metadata": {},
   "source": [
    "La **forme** d'un tableau définit le **nombre de dimensions et d'éléments**. Chaque dimension s'appelle `axis`. Le nombre d'axes s'appelle `rank`. La liste des axes s'appelle `shape`. Par conséquent : `rank = len(shape)`. La quantité d'éléments – indépendament des axes et des dimensions – d'un tableau s'appelle `size`, lequel est le produit de chaque longueur d'axe.\n",
    "\n",
    "```python\n",
    "array_2x2x3 = [\n",
    "    [ [1, 2, 3], [4, 5, 6] ],\n",
    "    [ \n",
    "        [1, 2, 3],\n",
    "        [4, 5, 6]\n",
    "    ]\n",
    "]\n",
    "```\n",
    "\n",
    "Ci-dessus, un tableau de `rank = 3` (3 dimensions), donc `shape = (2, 2, 3)`. La longueur du premier axe est 2 ; la longueur du deuxième est 2 ; et la longueur du troisième est 3. Enfin, `size = 12`."
   ]
  },
  {
   "cell_type": "markdown",
   "metadata": {},
   "source": [
    "La classe `ndarray` de permet de représenter des **vecteurs**, des **matrices**, des **tenseurs**.\n",
    "* **Scalaire** - `scalar` : un nombre\n",
    "* **Vecteur** - `vector` : un tableau à **1 dimension**, parfois appelé _tenseur à 1 dimension_ \n",
    "* **Matrice** - `matrix` : un tableau à **2 dimensions**, parfois appelé _tenseur à 2 dimensions_\n",
    "* **Tenseur** - `tensor` : un tableau à **3 dimensions ou plus**, terme beaucoup plus commun pour les tableaux au delà de 2 dimensions.\n",
    "\n",
    "Les informations d'un tableau, toute instance d'objet `ndarray`, s'appellent **des attributs**."
   ]
  },
  {
   "cell_type": "markdown",
   "metadata": {},
   "source": [
    "---\n",
    "### **3.** - Matrices et Vecteurs"
   ]
  },
  {
   "cell_type": "markdown",
   "metadata": {},
   "source": [
    "##### **3.1** - Matrice - `matrix`"
   ]
  },
  {
   "cell_type": "markdown",
   "metadata": {},
   "source": [
    "Une matrice `(n × m)`, où `n` est le nombre de lignes – `rows` – et `m` le nombre de colonnes – `columns`. Par convention, les matrices sont toujours **identifiées par une lettre en capitale**. Par exemple, la matrice suivante est `A` de forme `(2,3)` : \n",
    "\n",
    "\\begin{bmatrix}\n",
    "1&2&7\\\\\n",
    "7&1&-5\\\\\n",
    "\\end{bmatrix}"
   ]
  },
  {
   "cell_type": "markdown",
   "metadata": {},
   "source": [
    "##### **3.2** - Les vecteurs - `vector`"
   ]
  },
  {
   "cell_type": "markdown",
   "metadata": {},
   "source": [
    "Un vecteur est un tableau à une dimension. Il représente une colonne dans une matrice. Par convention, les vecteurs sont **identifiés par une lettre en bas-de-casse**. Par exemple le vecteur suivant est `x` de forme `(4,)` \n",
    "\n",
    "\\begin{bmatrix} \n",
    "1\\\\\n",
    "7\\\\\n",
    "9\\\\\n",
    "5\\\\\n",
    "\\end{bmatrix}"
   ]
  },
  {
   "cell_type": "markdown",
   "metadata": {},
   "source": [
    "##### **3.3** - Matrices carrées - `squared matrix`"
   ]
  },
  {
   "cell_type": "markdown",
   "metadata": {},
   "source": [
    "Si `n = m` alors, la matrice est appelée _matrice carrée_.\n",
    " \n",
    "\\begin{bmatrix}\n",
    "1&2&7&9\\\\\n",
    "7&1&-5&3\\\\\n",
    "6&4&1&0\\\\\n",
    "8&3&2&9\\\\\n",
    "\\end{bmatrix}"
   ]
  },
  {
   "cell_type": "markdown",
   "metadata": {},
   "source": [
    "**Spécificités de matrices carrées**\n",
    "\n",
    "`Unit Matrix`\n",
    "\n",
    "\\begin{bmatrix}\n",
    "1&0&0&0\\\\\n",
    "0&1&0&0\\\\\n",
    "0&0&1&0\\\\\n",
    "0&0&0&1\\\\\n",
    "\\end{bmatrix}\n",
    "\n",
    "`Diagonal matrix`\n",
    "\n",
    "\\begin{bmatrix}\n",
    "a_{11}&0&0\\\\\n",
    "0&a_{22}&0\\\\\n",
    "0&0&a_{33}\n",
    "\\end{bmatrix}\n",
    "\n",
    "`Lower triangular matrix`\n",
    "\n",
    "\\begin{bmatrix}\n",
    "a_{11}&0&0\\\\\n",
    "a_{21}&a_{22}&0\\\\\n",
    "a_{31}&a_{32}&a_{33}\n",
    "\\end{bmatrix}\n",
    "\n",
    "`Upper triangular matrix`\n",
    "\n",
    "\\begin{bmatrix}\n",
    "a_{11}&a_{12}&a_{13}\\\\\n",
    "0&a_{22}&a_{23}\\\\\n",
    "0&0&a_{33}\n",
    "\\end{bmatrix}"
   ]
  },
  {
   "cell_type": "markdown",
   "metadata": {},
   "source": [
    "##### **3.4** - Calculs matriciels"
   ]
  },
  {
   "cell_type": "markdown",
   "metadata": {},
   "source": [
    "**Additions et soustractions**\n",
    "\n",
    "<img src=\"../_assets/matrices_operations_01.gif\" alt=\"addtion et soustraction de matrices\" title=\"Addition et soustraction de matrices\" width=\"315\" height=\"155\" style=\"background-color:#FFFFFF\">"
   ]
  },
  {
   "cell_type": "markdown",
   "metadata": {},
   "source": [
    "**Multiplications**\n",
    "\n",
    "![Multiplication  : Exemple 1](../_assets/matrices_operations_02.png)\n",
    "\n",
    "![Multiplication : Exemple 2](../_assets/matrices_operations_03.png)\n",
    "\n",
    "<img src=\"../_assets/matrices_operations_04.png\" alt=\"multiplication de matrices\" title=\"Multiplications : Exemple 3\" width=\"615\" height=\"207\">\n",
    "\n",
    "![Multiplication : Exemple 4](../_assets/matrices_operations_05.jpg)"
   ]
  }
 ],
 "metadata": {
  "kernelspec": {
   "display_name": "Python 3.10.5 64-bit",
   "language": "python",
   "name": "python3"
  },
  "language_info": {
   "codemirror_mode": {
    "name": "ipython",
    "version": 3
   },
   "file_extension": ".py",
   "mimetype": "text/x-python",
   "name": "python",
   "nbconvert_exporter": "python",
   "pygments_lexer": "ipython3",
   "version": "3.10.5"
  },
  "orig_nbformat": 4,
  "vscode": {
   "interpreter": {
    "hash": "26de051ba29f2982a8de78e945f0abaf191376122a1563185a90213a26c5da77"
   }
  }
 },
 "nbformat": 4,
 "nbformat_minor": 2
}

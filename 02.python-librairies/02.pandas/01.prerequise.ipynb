{
 "cells": [
  {
   "cell_type": "markdown",
   "metadata": {},
   "source": [
    "## **Pandas :** Prerquises\n",
    "\n",
    "#### _Prérequis pour la Libraire Pandas_\n",
    "\n",
    "🟢 `complete`\n",
    "\n",
    "---\n",
    "\n",
    "1. **La librairie**\n",
    "    * Contenu\n",
    "    * Typage par colonnes\n",
    "2. **Représentations**\n",
    "    * Tables\n",
    "    * Colonnes\n",
    "    * Filtrées\n",
    "3. **Manipulations**\n",
    "    * Visualisation\n",
    "    * Extension\n",
    "    * Agrégations et statistiques"
   ]
  },
  {
   "cell_type": "markdown",
   "metadata": {},
   "source": [
    "**Libraries**"
   ]
  },
  {
   "cell_type": "code",
   "execution_count": 1,
   "metadata": {},
   "outputs": [],
   "source": [
    "import pandas as pd\n",
    "import numpy as np"
   ]
  },
  {
   "cell_type": "markdown",
   "metadata": {},
   "source": [
    "---\n",
    "### **1.** La librairie"
   ]
  },
  {
   "cell_type": "markdown",
   "metadata": {},
   "source": [
    "##### **1.1** - Contenu"
   ]
  },
  {
   "cell_type": "markdown",
   "metadata": {},
   "source": [
    "**Ce qu'apporte la librairie**\n",
    "* Specialement dédiée aux données tabulaires – tableaux à 2 dimensions\n",
    "* Nettoyer des données, trouver des valeurs abérantes, calculer des moyennes mobiles, série temporelle (bourse), etc.\n",
    "* Beaucoup de rapprochement avec SQL\n",
    "* S'utilise fréquemment avec d'autres librairies Python comme `numpy`, `seaborn`, ou `sklearn`"
   ]
  },
  {
   "cell_type": "markdown",
   "metadata": {},
   "source": [
    "##### **1.2** - Typage par colonne"
   ]
  },
  {
   "cell_type": "markdown",
   "metadata": {},
   "source": [
    "**Une colonne = un type**\n",
    "\n",
    "Pandas est l'équivalent d'un table en SQL, ou d'une feuille dans _Libre | Open Office Calc_ (ou _MS Office Excel_). Chaque colonne comporte donc un type propre de donnée. Lesquelles peuvent être du texte, des nombres entiers, des dates, des nombres à virgules flottantes, etc.\n",
    "\n",
    "![Calc](../_assets/pandas_concept_table.png)\n",
    "\n",
    "Les tableaux se présentent donc comme à **1 dimension** – ce qui donne une `Serie` – ou à **2 dimensions** – ce qui donne un `DataFrame`. Une `Serie` comporte un type unique de valeurs ; mais `DataFrame` peut contenir plusieurs `Series`, donc plusieurs types de données différents."
   ]
  },
  {
   "cell_type": "markdown",
   "metadata": {},
   "source": [
    "**Aperçu**"
   ]
  },
  {
   "cell_type": "code",
   "execution_count": 4,
   "metadata": {},
   "outputs": [
    {
     "data": {
      "text/html": [
       "<div>\n",
       "<style scoped>\n",
       "    .dataframe tbody tr th:only-of-type {\n",
       "        vertical-align: middle;\n",
       "    }\n",
       "\n",
       "    .dataframe tbody tr th {\n",
       "        vertical-align: top;\n",
       "    }\n",
       "\n",
       "    .dataframe thead th {\n",
       "        text-align: right;\n",
       "    }\n",
       "</style>\n",
       "<table border=\"1\" class=\"dataframe\">\n",
       "  <thead>\n",
       "    <tr style=\"text-align: right;\">\n",
       "      <th></th>\n",
       "      <th>name</th>\n",
       "      <th>notes</th>\n",
       "      <th>admitted</th>\n",
       "    </tr>\n",
       "  </thead>\n",
       "  <tbody>\n",
       "    <tr>\n",
       "      <th>0</th>\n",
       "      <td>Ada Lovelace</td>\n",
       "      <td>17</td>\n",
       "      <td>True</td>\n",
       "    </tr>\n",
       "    <tr>\n",
       "      <th>1</th>\n",
       "      <td>Alan Turing</td>\n",
       "      <td>10</td>\n",
       "      <td>False</td>\n",
       "    </tr>\n",
       "    <tr>\n",
       "      <th>2</th>\n",
       "      <td>Grace Hopper</td>\n",
       "      <td>4</td>\n",
       "      <td>False</td>\n",
       "    </tr>\n",
       "  </tbody>\n",
       "</table>\n",
       "</div>"
      ],
      "text/plain": [
       "           name  notes  admitted\n",
       "0  Ada Lovelace     17      True\n",
       "1   Alan Turing     10     False\n",
       "2  Grace Hopper      4     False"
      ]
     },
     "execution_count": 4,
     "metadata": {},
     "output_type": "execute_result"
    }
   ],
   "source": [
    "# A table with values\n",
    "students = pd.DataFrame({\n",
    "        'name': [\"Ada Lovelace\", \"Alan Turing\", \"Grace Hopper\"],\n",
    "        'notes': [17, 10, 4],\n",
    "        'admitted': [True, False, False]\n",
    "    })\n",
    "students"
   ]
  },
  {
   "cell_type": "code",
   "execution_count": 5,
   "metadata": {},
   "outputs": [
    {
     "data": {
      "text/plain": [
       "name        object\n",
       "notes        int64\n",
       "admitted      bool\n",
       "dtype: object"
      ]
     },
     "execution_count": 5,
     "metadata": {},
     "output_type": "execute_result"
    }
   ],
   "source": [
    "# Type of columns\n",
    "students.dtypes"
   ]
  },
  {
   "cell_type": "markdown",
   "metadata": {},
   "source": [
    "---\n",
    "### **2.** Représentation"
   ]
  },
  {
   "cell_type": "markdown",
   "metadata": {},
   "source": [
    "##### **2.1** - Tables"
   ]
  },
  {
   "cell_type": "markdown",
   "metadata": {},
   "source": [
    "Une **Table** est appelée `DataFrame`, et comporte des colonnes – `cols` – et des lignes – `rows`.\n",
    "\n",
    "<img src=\"../_assets/pandas_dataframe.svg\" alt=\"un dataframe\" title=\"Une table : un DataFrame\" style=\"background-color:#FFF\">"
   ]
  },
  {
   "cell_type": "markdown",
   "metadata": {},
   "source": [
    "##### **2.2** - Colonnes"
   ]
  },
  {
   "cell_type": "markdown",
   "metadata": {},
   "source": [
    "Une **colonne** est appelée `Serie`. Elle peut être soit isolée ; soit issue d'un `DataFrame`, et comporte autant de valeurs qu'il y a de lignes.\n",
    "\n",
    "<img src=\"../_assets/pandas_serie.svg\" alt=\"une serie\" title=\"Une colonne : une Série\" style=\"background-color:#FFF\">"
   ]
  },
  {
   "cell_type": "markdown",
   "metadata": {},
   "source": [
    "##### **2.3** - Filtrées"
   ]
  },
  {
   "cell_type": "markdown",
   "metadata": {},
   "source": [
    "**Filtre sur des colonnes spécifiques**\n",
    "\n",
    "<img src=\"../_assets/pandas_filtre_colonnes.svg\" alt=\"filtre colonnes\" title=\"Flitrage : de colonnes\" style=\"background-color:#FFF; width:50%; height:auto\">"
   ]
  },
  {
   "cell_type": "markdown",
   "metadata": {},
   "source": [
    "**Filtre sur des lignes spécifiques**\n",
    "\n",
    "<img src=\"../_assets/pandas_filtre_lignes.svg\" alt=\"filtre lignes\" title=\"Filtre : de lignes\" style=\"background-color:#FFF; width:50%; height:auto\">"
   ]
  },
  {
   "cell_type": "markdown",
   "metadata": {},
   "source": [
    "**Filtre de colonnes et de lignes**\n",
    "\n",
    "<img src=\"../_assets/pandas_filtre_mixte.svg\" alt=\"filtre colonnes et lignes\" title=\"Filtre : colonnes et lignes\" style=\"background-color:#FFF; width:50%; height:auto\">"
   ]
  },
  {
   "cell_type": "markdown",
   "metadata": {},
   "source": [
    "---\n",
    "### **3.** Manipulations"
   ]
  },
  {
   "cell_type": "markdown",
   "metadata": {},
   "source": [
    "##### **3.1** - Visualisations"
   ]
  },
  {
   "cell_type": "markdown",
   "metadata": {},
   "source": [
    "`.plot.*`\n",
    "\n",
    "<img src=\"../_assets/pandas_plot_ex01.svg\" alt=\"visualisation\" title=\"Plot : visualisation de données\" style=\"background-color:#FFF; width:50%; height:auto\">"
   ]
  },
  {
   "cell_type": "markdown",
   "metadata": {},
   "source": [
    "`scatterplot`, _etc._\n",
    "\n",
    "<img src=\"../_assets/pandas_plot_ex02.png\" alt=\"visualisation\" title=\"Plot : visualisation de données\" style=\"background-color:#FFF\">"
   ]
  },
  {
   "cell_type": "markdown",
   "metadata": {},
   "source": [
    "##### **3.2** - Extensions"
   ]
  },
  {
   "cell_type": "markdown",
   "metadata": {},
   "source": [
    "**Ajout de colonnes dérivées**\n",
    "\n",
    "<img src=\"../_assets/pandas_colonnes_derivees.svg\" alt=\"colonnes derivees\" title=\"Ajout de colonnes dérivées\" style=\"background-color:#FFF; width:50%; height:auto\">"
   ]
  },
  {
   "cell_type": "markdown",
   "metadata": {},
   "source": [
    "**Concaténation d'objets**\n",
    "\n",
    "<img src=\"../_assets/pandas_concatenation.svg\" alt=\"concatenation de tableau\" title=\"Concaténation d'objets\" style=\"background-color:#FFF; width:50%; height:auto\">"
   ]
  },
  {
   "cell_type": "markdown",
   "metadata": {},
   "source": [
    "##### **3.3** - Agrégations et statistiques"
   ]
  },
  {
   "cell_type": "markdown",
   "metadata": {},
   "source": [
    "**Regroupement et statistiques**\n",
    "\n",
    "<img src=\"../_assets/pandas_agregat_ex01.svg\" alt=\"agregats\" title=\"Agrégat et statistiques\" style=\"background-color:#FFF; width:50%; height:auto\">\n",
    "<br>\n",
    "<img src=\"../_assets/pandas_agregat_ex02.svg\" alt=\"regroupements et statistiques\" title=\"Regroupements puis calcul statistique\" style=\"background-color:#FFF; width:50%; height:auto\">"
   ]
  },
  {
   "cell_type": "markdown",
   "metadata": {},
   "source": [
    "**Calculs statistiques**\n",
    "\n",
    "<img src=\"../_assets/pandas_statistique_ex01.svg\" alt=\"statistique globale\" title=\"Statistique globale\" style=\"background-color:#FFF; width:50%; height:auto\">"
   ]
  },
  {
   "cell_type": "markdown",
   "metadata": {},
   "source": [
    "**Calculs statistiques distincts**\n",
    "\n",
    "<img src=\"../_assets/pandas_statistique_ex01.svg\" alt=\"statistique distincts\" title=\"Statistiques distincts\" style=\"background-color:#FFF; width:50%; height:auto\">"
   ]
  }
 ],
 "metadata": {
  "kernelspec": {
   "display_name": "Python 3.10.5 64-bit",
   "language": "python",
   "name": "python3"
  },
  "language_info": {
   "codemirror_mode": {
    "name": "ipython",
    "version": 3
   },
   "file_extension": ".py",
   "mimetype": "text/x-python",
   "name": "python",
   "nbconvert_exporter": "python",
   "pygments_lexer": "ipython3",
   "version": "3.12.1"
  },
  "orig_nbformat": 4,
  "vscode": {
   "interpreter": {
    "hash": "26de051ba29f2982a8de78e945f0abaf191376122a1563185a90213a26c5da77"
   }
  }
 },
 "nbformat": 4,
 "nbformat_minor": 2
}

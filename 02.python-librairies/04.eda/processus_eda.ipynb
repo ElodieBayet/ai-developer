{
 "cells": [
  {
   "cell_type": "markdown",
   "metadata": {},
   "source": [
    "## **EDA :** Processus\n",
    "\n",
    "#### _Processus d'un Exploratory Data Analysis_\n",
    "\n",
    "🟠 `on work`\n",
    "\n",
    "---\n",
    "\n",
    "1. **Identification générale**\n",
    "    * Structure\n",
    "    * Valeurs cibles\n",
    "    * Types de valeurs\n",
    "    * Valeurs manquantes ou défectueuses\n",
    "    * Préparation\n",
    "2. **Analyse univariée**\n",
    "    * Cible\n",
    "    * Variables quantitatives continues\n",
    "    * Variables quantitatives discrètes\n",
    "    * Variables qualitatives norminales et ordinales\n",
    "3. **Analyse bivariée**\n",
    "    * Dispersion entre quantitatives\n",
    "    * .. entre qualitatives\n",
    "    * .. entre quantitatives et qualitatives\n",
    "4. **Finalisation**\n",
    "    * Sélection de colonnes utiles\n",
    "    * Exportation"
   ]
  },
  {
   "cell_type": "markdown",
   "metadata": {},
   "source": [
    "---\n",
    "### **1.** Identification générale\n",
    "\n",
    "**Outils :**\n",
    "\n",
    "`dataframe.info()` – `dataframe.dtypes` –  `dataframe.value_counts` – `dataframe.describe()` – `dataframe.groupby()` – `dataframe.unique()`"
   ]
  },
  {
   "cell_type": "markdown",
   "metadata": {},
   "source": [
    "##### **1.1** - Structure\n",
    "\n",
    "* _Comment est composé le Dataset ?_\n",
    "* _Combien de colonnes et combien de lignes ?_"
   ]
  },
  {
   "cell_type": "markdown",
   "metadata": {},
   "source": [
    "##### **1.2** - Valeur cible\n",
    "\n",
    "* _Quelle colonne représente la cible ? Y a-t-il plus d'une cible ?_\n",
    "* _Quels sont les valeurs de cette cible ?_\n",
    "* _À quelle typologie de variable la cible correpond ?_"
   ]
  },
  {
   "cell_type": "markdown",
   "metadata": {},
   "source": [
    "##### **1.3** - Types de valeurs\n",
    "\n",
    "* _Quel est le type de données de chaque colonne ?_\n",
    "* _Faut-il convertir certaines colonnes ou certaines valeurs ?_\n",
    "* _À quelle typologie de variable chaque colonne correpond ?_"
   ]
  },
  {
   "cell_type": "markdown",
   "metadata": {},
   "source": [
    "##### **1.4** - Valeurs manquantes ou inutiles\n",
    "\n",
    "* _Y a-t-il des doublons dans les valeurs ?_\n",
    "* _Y a-t-il des données manquantes ?_\n",
    "* _Y a-t-il des erreurs d'encodage ?_\n",
    "* _Quelles sont les différentes variables (colonnes) exploitables ?_"
   ]
  },
  {
   "cell_type": "markdown",
   "metadata": {},
   "source": [
    "##### **1.5** - Préparation\n",
    "\n",
    "* _Faut-il remplacer des valeurs incorrectes par des valeurs nulles ?_\n",
    "* _Faut-il réarranger le Dataset ou corriger les intitulés de colonnes ?_\n",
    "* _Faut-il convertir des variables discrètes en variables nominale ?_"
   ]
  },
  {
   "cell_type": "markdown",
   "metadata": {},
   "source": [
    "---\n",
    "### **2.** Analyse univariée\n",
    "\n",
    "**Outils :**\n",
    "\n",
    "`sns.countplot` – `sns.heatmap` – `sns.kdeplot` – `sns.ecdfplot` – `sns.boxplot` – `sns.violinplot` – `sns.pairplot` – ` pd.crosstab` "
   ]
  },
  {
   "cell_type": "markdown",
   "metadata": {},
   "source": [
    "##### **2.1** - Cibles\n",
    "\n",
    "* _Quelles sont les différentes catégories possibles ?_\n",
    "* _Y a-t-il un équilibre ou un déséquilibre dans la répartition des valeurs pour chaque catégorie ?_"
   ]
  },
  {
   "cell_type": "markdown",
   "metadata": {},
   "source": [
    "##### **2.2** - Variables quantitatives continues\n",
    "\n",
    "* _Quelle est la courbe de densité pour chaque variable ?_\n",
    "* _Quelle est la distribution de fréquences pour chaque variable ?_ \n",
    "* _Y a-t-il des données aberrantes ?_\n",
    "* _Que peut-on observer ?_"
   ]
  },
  {
   "cell_type": "markdown",
   "metadata": {},
   "source": [
    "##### **2.3** - Variables quantitatives discrètes\n",
    "\n",
    "* _Quelle est la distribution de fréquences pour chaque variable ?_\n",
    "* _Y-a-t-il des données aberrantes ?_\n",
    "* _Que peut-on observer ?_"
   ]
  },
  {
   "cell_type": "markdown",
   "metadata": {},
   "source": [
    "##### **2.4** - Variables qualitatives\n",
    "\n",
    "* _Sont-elles nominales ou ordinales ?_"
   ]
  },
  {
   "cell_type": "markdown",
   "metadata": {},
   "source": [
    "##### **2.5** - Comparaisons\n",
    "\n",
    "* _Comment se répartissent chaque catégorie de la cible par rapport à chaque variable ?_\n",
    "* _Y a-t-il une différence de distribution ?_"
   ]
  },
  {
   "cell_type": "markdown",
   "metadata": {},
   "source": [
    "---\n",
    "### **3.** Analyse bivariée\n",
    "\n",
    "**Outils :**"
   ]
  },
  {
   "cell_type": "markdown",
   "metadata": {},
   "source": [
    "##### **3.1** - Variables quantitatives continues\n",
    "\n",
    "* _Comment se dispersent les variables ?_\n",
    "* _Quelle est la forme de leur liaison ? Est-elle linéaire ?_\n",
    "* _Quelle est la distance des points par rapport à la ligne de régression ?_ \n",
    "* _Y a-t-il une corrélation entre deux variables ?_"
   ]
  },
  {
   "cell_type": "markdown",
   "metadata": {},
   "source": [
    "##### **3.2** - Variables quantitatives discrètes\n",
    "\n",
    "* _.. ?_\n"
   ]
  },
  {
   "cell_type": "markdown",
   "metadata": {},
   "source": [
    "##### **3.3** - Variables qualitatives\n",
    "\n",
    "* _.. ?_"
   ]
  },
  {
   "cell_type": "markdown",
   "metadata": {},
   "source": [
    "##### **3.5** - Statistiques\n",
    "\n",
    "* _Quels sont les liens de corrélations entre chaque variables et la cible ?_\n",
    "* _Quels sont les scores de probabilité pour chaque correlation ?_"
   ]
  },
  {
   "cell_type": "markdown",
   "metadata": {},
   "source": [
    "---\n",
    "### **4.** Finalisation"
   ]
  },
  {
   "cell_type": "markdown",
   "metadata": {},
   "source": [
    "##### **4.1** - Sélection de colonnes utiles\n",
    "\n",
    "* Quelles sont les colonnes qui n'ont aucun sens ni aucune utilité pour un ML ?\n",
    "* Quelles sont les colonnes redondantes ou qui sortent des objects ?\n",
    "* Quelles sont les colonnes pour lesquelles les résultats d'analyse sont infructueux ?"
   ]
  },
  {
   "cell_type": "markdown",
   "metadata": {},
   "source": [
    "##### **4.2** - Exportation\n",
    "\n",
    "* Quelles sont les futures exploitations ?\n",
    "* Quel format d'exploitation ?"
   ]
  }
 ],
 "metadata": {
  "kernelspec": {
   "display_name": "Python 3.10.5 64-bit",
   "language": "python",
   "name": "python3"
  },
  "language_info": {
   "name": "python",
   "version": "3.10.5"
  },
  "orig_nbformat": 4,
  "vscode": {
   "interpreter": {
    "hash": "26de051ba29f2982a8de78e945f0abaf191376122a1563185a90213a26c5da77"
   }
  }
 },
 "nbformat": 4,
 "nbformat_minor": 2
}

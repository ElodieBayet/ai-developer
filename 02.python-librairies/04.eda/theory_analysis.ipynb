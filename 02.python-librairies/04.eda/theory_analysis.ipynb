{
 "cells": [
  {
   "cell_type": "markdown",
   "metadata": {},
   "source": [
    "## **Analysis :** Theory\n",
    "\n",
    "#### _Théorie portant sur l'Analyse de données_\n",
    "\n",
    "🟠 `on work`\n",
    "\n",
    "---\n",
    "\n",
    "1. **Vocabulaire**\n",
    "    * Valeurs\n",
    "    * Technique\n",
    "2. **Composantes**\n",
    "    * Valeurs, mesures, séries et agrégats\n",
    "    * Variables et liaisons\n",
    "    * Regroupements, formes et structures\n",
    "3. **Principes**\n",
    "4. **Outils**\n",
    "    * Visualisation\n",
    "    * Statistique et mathématique\n",
    "\n",
    "`---`\n",
    "\n",
    "* [IGAST M2 :: Analyse Statistique](https://www.umr-lastig.fr/paul-chapron/resources/cours_site/)\n",
    "* [Stat Can :: Statistiques - Le pouvoir des données](https://www150.statcan.gc.ca/n1/edu/power-pouvoir/toc-tdm/5214718-fra.htm)\n",
    "* [Baripedia :: Analyse Bivariée](https://baripedia.org/wiki/Analyse_bivari%C3%A9e)"
   ]
  },
  {
   "cell_type": "markdown",
   "metadata": {},
   "source": [
    "---\n",
    "### **1.** Vocabulaire\n",
    "\n",
    "_“Un·e **Data Scientist** est une personne capable d’extraire du sens d’un lot de données inextricables.”_"
   ]
  },
  {
   "cell_type": "markdown",
   "metadata": {},
   "source": [
    "##### **1.1** - Valeurs"
   ]
  },
  {
   "cell_type": "markdown",
   "metadata": {},
   "source": [
    "**Scalaire** – `Scalar` : un nombre, une valeur numérique"
   ]
  },
  {
   "cell_type": "markdown",
   "metadata": {},
   "source": [
    "**Vecteur** – `Vector` : un tableau à **1 dimension**, parfois appelé _tenseur à 1 dimension_ "
   ]
  },
  {
   "cell_type": "markdown",
   "metadata": {},
   "source": [
    "**Matrice** – `Matrix` : un tableau à **2 dimensions**, parfois appelé _tenseur à 2 dimensions_"
   ]
  },
  {
   "cell_type": "markdown",
   "metadata": {},
   "source": [
    "**Tenseur** – `Tensor` : un tableau à **3 dimensions ou plus**, terme beaucoup plus commun pour les tableaux au delà de 2 dimensions"
   ]
  },
  {
   "cell_type": "markdown",
   "metadata": {},
   "source": [
    "**Classe** – `Class` : une plage, (un interval, une tranche) _raisonnée_ de valeurs"
   ]
  },
  {
   "cell_type": "markdown",
   "metadata": {},
   "source": [
    "**Écart type** – `Standard Deviation` : dispersion de valeurs d'une série statistique"
   ]
  },
  {
   "cell_type": "markdown",
   "metadata": {},
   "source": [
    "**Valeur aberrante** – `Outlier` : une valeur qui s'éloigne de la tendance générale, relativement à la **Loi de Distribution normale**"
   ]
  },
  {
   "cell_type": "markdown",
   "metadata": {},
   "source": [
    "##### **1.2** - Technique"
   ]
  },
  {
   "cell_type": "markdown",
   "metadata": {},
   "source": [
    "---\n",
    "### **2.** Composantes"
   ]
  },
  {
   "cell_type": "markdown",
   "metadata": {},
   "source": [
    "##### **2.1** - Valeurs, mesures, séries et agrégats\n",
    "\n",
    "_Éléments calculables, mesurables, et calculés à partir des valeurs des variables._"
   ]
  },
  {
   "cell_type": "markdown",
   "metadata": {},
   "source": [
    "`L'effectif d'une valeur`\n",
    "\n",
    "Souvent présenté comme un **tableau des effectifs**, c'est le nombre de fois qu'une valeur apparait dans une suite de données."
   ]
  },
  {
   "cell_type": "markdown",
   "metadata": {},
   "source": [
    "`Les effectifs cumulés d'une série de valeurs`\n",
    "\n",
    "Souvent présenté comme un **tableau des effectifs cumulés**, c'est la \"vitesse\" de croissance des effectifs. Une fois que les valeurs sont classés par ordre croissant, on regarde les différences qu'il y a entre chaque effectif pour ces mêmes valeurs. On peut ainsi déterminer une sorte de progression ou de régression dans la vitesse de croissance."
   ]
  },
  {
   "cell_type": "markdown",
   "metadata": {},
   "source": [
    "`La fréquence d'une valeur`\n",
    "\n",
    "Souvent présenté comme un **tableau des fréquences**, il consiste en la _normalisation_ d'une fréquence. Le travail se fait donc en pourcentage au lieu de rester sur des valeurs absolues comme avec les _effectifs de valeurs_.\n",
    "\n",
    "(effectif d'une valeur) / (somme des effectifs) = 0.a = b %"
   ]
  },
  {
   "cell_type": "markdown",
   "metadata": {},
   "source": [
    "`Les fréqences cumulées d'une série de valeurs`\n",
    "\n",
    "Souvent présenté comme un _tableau des fréquences cumulées_, son principe est le même qu'avec les **effectifs cumulés**. On observe la vitesse de croissance des fréquences."
   ]
  },
  {
   "cell_type": "markdown",
   "metadata": {},
   "source": [
    "`Moyenne arithmétique` (dite `Moyenne simple`)\n",
    "\n",
    "Sens usuel du mot _moyenne_. Le quotien de la somme de toutes les valeurs par la quantité de valeurs. C'est-à-dire le total des effectifs pour une variable.\n",
    "\n",
    "$$ x = \\frac{1}{n} \\sum _ {i=1}^n x_{i} $$\n",
    "\n",
    "Ou plus simplement écrit avec 4 valeurs\n",
    "\n",
    "$$ x = \\frac{a + b + c + d}{4} $$"
   ]
  },
  {
   "cell_type": "markdown",
   "metadata": {},
   "source": [
    "`Moyenne harmonique`\n",
    "\n",
    "Son inverse est la moyenne artithmétique des inverses des valeurs.\n",
    "\n",
    "$$ \\frac{1}{h} = \\frac{ \\frac{1}{a} + \\frac{1}{d} +\\frac{1}{c} + \\frac{1}{d}}{4} $$"
   ]
  },
  {
   "cell_type": "markdown",
   "metadata": {},
   "source": [
    "`Moyenne géométrique`\n",
    "\n",
    "Son carré est égal au produit des valeurs. Aussi, on peut prendre la racine carré du produit des valeurs pour l'obtenir.\n",
    "\n",
    "$$ g = \\sqrt{abcd} $$"
   ]
  },
  {
   "cell_type": "markdown",
   "metadata": {},
   "source": [
    "`Moyenne quadratique`\n",
    "\n",
    "Son carré équivaut à la _Moyenne arithmétique_ des carrés de chaque valeurs.\n",
    "\n",
    "$$ x^2 = \\frac {a^2 + b^2 + c^2 + d^2}{4} $$"
   ]
  },
  {
   "cell_type": "markdown",
   "metadata": {},
   "source": [
    "`Médiane`\n",
    "\n",
    "La médiane d'une série partage cette même série en deux parties égales de telle sorte que \n",
    "* au moins la moitié des valeurs sont inférieures ou égales à la médiane \n",
    "* au moins la moitié des valeurs sont supérieures ou égales à la médiane\n",
    "\n",
    "Les valeurs doivent être triées par ordre croissant. Il est plus facile de la calculer sur base des _Efectifs cumulés_, ou même mieux, des _Fréquences cumulées_. Si l'effectif est impair, alors la médiane est la \"valeur centrale\". Si l'effectif est pair, alors la médiane est la moyenne des \"valeurs centrales\".\n",
    "\n",
    "On peut tracer la courbe des _Fréqences cumulées_ avec en abscisse les classes de chaque valeur, et en ordonnée une échelle allant de 0 à 1 (puisqu'on est en pourcentage). La médiane correspond à la valeur en abscisse d'une droite d'équation y = 0.5 lorsqu'elle est en intersection avec la courbe de croissance."
   ]
  },
  {
   "cell_type": "markdown",
   "metadata": {},
   "source": [
    "`Mode`\n",
    "\n",
    "La valeur la plus fréquente, d'effectif maximum, d'une variable.\n",
    "\n",
    "Si une variables est **quantitative continue**, il faut découper l'étendue de cette variable (la différence entre la valeur maximum et minimum) en intervals égaux. Ensuite, classer chaque valeur de la variable dans sa classe correspondante, et compter le nombre de valeurs présentes dans chaque classe. Ainsi, le mode correspond à la moyenne des valeurs minimum et maximum de la classe dans laquelle il y a le plus de valeurs.\n",
    "\n",
    "C'est exactement ce que fait un **histogramme**. On parle de distribution **bi-modale** ou **tri-modale** lorsqu'on observe respectivement 2 ou 3 pics de fréquences."
   ]
  },
  {
   "cell_type": "markdown",
   "metadata": {},
   "source": [
    "`Quartiles` et `Écart inter-quartile`\n",
    "\n",
    "Le _premier Quartile_ (aussi noté _Q1_) est la plus petite valeur de telle sorte que 25 % des valeurs luis sont inférieures ou égales. Le _deuxième Quartile_ (_Q2_) observe le même principe mais cette fois 50 % des valeurs lui sont inférieure ou égales. Ce _deuxième Quartile_ est également la _valeur médiane_. Le _troisième Quartile_ (noté _Q3_) correspond à la plus petite valeur de telle sorte que 75 % des valeurs lui sont inférieures ou égales.\n",
    "\n",
    "_L'écart Inter-Quartile_ est l'intervale des quartiles `[Q1;Q3]`, et contient au moins 50% des valeurs. "
   ]
  },
  {
   "cell_type": "markdown",
   "metadata": {},
   "source": [
    "`L'étendue d'une série`\n",
    "\n",
    "L'écart qu'il y a entre la plus petite valeur et la plus grande valeur dans une série statistique."
   ]
  },
  {
   "cell_type": "markdown",
   "metadata": {},
   "source": [
    "`Variance`\n",
    "\n",
    "La **variance** mesure comment une variable isolée s’écarte de la moyenne. Mathématiquement, c'est la somme des écarts carrés à la moyenne rapporté à l’effectif.\n",
    "\n",
    "$$ var(X) = \\frac{1}{n}\\sum _ {i=1}^n (X_{i} - x)² $$\n",
    "\n",
    "Plus simplement, il faut calculer la `moyenne arithmétique`. Ensuite, chaque écart entre la valeur et la moyenne doit être élevé au carré. Puis, il faut additioner chaque carré obtenu entre eux. Enfin, diviser cette somme par le nombre de valeur.\n",
    "\n",
    "**Exemple** pour $ X = {2,7,3,12,9} $ alors $ var(X) = 13.84 $ car :\n",
    "$$ 6.6 = \\frac{2 + 7 + 3 + 12 + 9}{5}$$\n",
    "$$ 69.2 = (2 - 6.6)^2 + (7 - 6.6)^2 + (3 - 6.6)^2 + (12 - 6.6)^2 + (9 - 6.6)^2 $$\n",
    "$$ 13.84 = \\frac{69.2}{5} $$"
   ]
  },
  {
   "cell_type": "markdown",
   "metadata": {},
   "source": [
    "`Écart-type`\n",
    "\n",
    "_Standard Deviation, which measures how numerically spread out the values are._ C'est-à-dire, il mesure la dispersion de valeurs d'une série statistique (ou d'une distribution de probabilité). **L'écart type** se calcule comme la **moyenne quadratique** des écarts des valeurs par rapport à la **moyenne arithmétique**.\n",
    "\n",
    "$$ σ_{x} = \\sqrt{var(X)} $$\n",
    "\n",
    "**Exemple** pour $ X = {2,7,3,12,9} $ alors $ σ_{x} = 3.72 $ car :\n",
    "$$ 3.72 = \\sqrt{13.84} $$"
   ]
  },
  {
   "cell_type": "markdown",
   "metadata": {},
   "source": [
    "`Coefficient de variation`\n",
    "\n",
    "( à compléter **!** )"
   ]
  },
  {
   "cell_type": "markdown",
   "metadata": {},
   "source": [
    "##### **2.2** - Variables et liaisons\n",
    "\n",
    "_Liaisons entre variables, des mesures de l’intensité du lien qui peut exister entre deux variables._"
   ]
  },
  {
   "cell_type": "markdown",
   "metadata": {},
   "source": [
    "`Variable quantitative` : `discrète` et `continue`\n",
    "\n",
    "D'un point de vue général, il y 2 types de **variables aléatoires quantitatives**\n",
    "\n",
    "**1)** Variables quantitatives **discrètes** :\n",
    "* Les différentes valeurs sont énumérables et habituellement des nombres entiers. Il n'y a pas _une infinité_ de valeurs possibles. \n",
    "* Par ex. la quantité d'enfants dans une famille.\n",
    "\n",
    "**2)** Variables quantitatives **continues** :\n",
    "* Toutes les valeurs comprises dans un intervalle défini sont possible. Il y a _une infinité_ de valeurs possibles.\n",
    "* Par ex. la taille des joueurs de basket comprise en 180cm et 250cm."
   ]
  },
  {
   "cell_type": "markdown",
   "metadata": {},
   "source": [
    "`Variable qualitative` : `nominale` (`lexicale`) et `ordinale`\n",
    "\n",
    "D'un point de vue général, il y 2 types de **variables aléatoires qualitatives**\n",
    "\n",
    "**1)** Variables qualitatives **nominales** :\n",
    "* Les différentes modalités de la variable _ne peuvent pas_ être ordonnées. Il n'y aurait pas de sens à les ordonner.\n",
    "* Par ex. la couleurs des yeux d'une personne\n",
    "\n",
    "**2)** Variables qualitatives **ordinales** : \n",
    "* Les différentes modalités de la varable possèdent un ordre précis. Il y a un sens à l'ordre des valeurs.\n",
    "* Par ex. la mesure du niveau de la douleur à partir d'une évaluation analogique de la douleur."
   ]
  },
  {
   "cell_type": "markdown",
   "metadata": {},
   "source": [
    "`Distribution d'une variable`\n",
    "\n",
    "La répartition des valeurs d’une variable. Vue approximativement comme son _histogramme en continu_.\n",
    "\n",
    "La forme d’une distribution donne beaucoup d’informations sur les valeurs d’une variable dans une population :\n",
    "* le valeurs les plus représentées dans la population : visibles grâce aux “pics”\n",
    "* les valeurs extrêmes : visibles parceque la courbe de la distribution est tirées à gauche ou à droite du graphique\n",
    "* les caractéristiques de sa forme : symétrie, aplatissement, etc.\n",
    "\n",
    "Parfois certaines **distributions** ressemblent à des distributions bien connues : on appelle ainsi ces distributions des **lois**. Par exemple la `loi gaussienne`, dite aussi `loi normale`. Ainsi que la `loi uniforme`, la `loi log-normale`, etc."
   ]
  },
  {
   "cell_type": "markdown",
   "metadata": {},
   "source": [
    "`Distribution de fréquences`\n",
    "\n",
    "Association entre une fréquence d'apparition et une classe de valeurs. On définit l'amplitude d'une classe (sa \"largeur\", sa \"taille\", comme par exemple les valeurs allant de 0 et à 5 ou de 0 à 10) et on compte le nombre de valeurs qui s'inscrivent dans chacune des classes.\n",
    "\n",
    "Cette distribution représente les **effectifs** d'une valeur.\n",
    "\n",
    "<img src=\"../_assets/histogramme_ex01.png\" alt=\"histogramme\" title=\"Distribution des effectifs\" width=\"576\" height=\"288\">"
   ]
  },
  {
   "cell_type": "markdown",
   "metadata": {},
   "source": [
    "`Courbe de densité de probabilité`\n",
    "\n",
    "La représentation **d’une densité** est légèrement plus délicate à comprendre qu'une représentation **des fréquences**. On peut, approximativement, interpréter cette densité comme un histogramme dont les barres seraient infiniment fines, et dont l’axe des `y` représenterait **une probabilité au lieu d’un effectif**.\n",
    "\n",
    "Cette courbre représente des probabilités : la probabilité d’obtenir, pour un individu dans cette population, une certaine valeur de la variable.\n",
    "\n",
    "La distribution d’une variable $ V $ peut être définie comme une `fonction` qui donne la **probabilité** qu’un individu $ x $, pris au hasard dans la population, ait la valeur $ V_{x} $ pour la variable $ V $ :\n",
    "\n",
    "$$ distribution(V) ≡ P(V = V_{x}), ∀V_{x} ∈ Ω_{v} $$\n",
    "\n",
    "avec $ Ω_{V} $ l’ensemble des valeurs que peut prendre $ V $ : l’univers de $ V $. \n",
    "\n",
    "Lorsque la variable prend des valeurs réelles, on parle de densité de probabilité, c’est pourquoi on retrouve ce terme “density” sur les axes des ordonnées dans les graphiques de distribution."
   ]
  },
  {
   "cell_type": "markdown",
   "metadata": {},
   "source": [
    "`Analyse univariée`\n",
    "\n",
    "A pour but de **décrire** et **mesurer la répartition des valeurs que peut prendre une variable**. La répartition des valeurs d’une variable est appelée **la distribution**, que l’on peut approximativement voir comme son _histogramme en continu_.\n",
    "\n",
    "Ci-dessous, la courbe noire représente la distribution d'une variable réelle superposées à son histogramme. Laquelle s'appelle plus précisément **courbe de densité de probabilité**. Cette distribution représente des **probabilités** (`kde`) et non des **effectifs** (`histogram`).\n",
    "\n",
    "<img src=\"../_assets/courbe_densite_ex01.png\" alt=\"courbe de densité\" title=\"Courbe de densité et histogramme de classes\" width=\"576\" height=\"192\">\n",
    "\n",
    "Le graphique ci-dessus peut être interprété comme : _la valeur la plus représentée dans les longueurs de nageoires (pour cette population de pingouins) est de 190mm, suivie de 215mm_. Car on observe deux pics assez doux : l’un **aux alentours de 190mm**, l’autre **aux alentours de 215mm**."
   ]
  },
  {
   "cell_type": "markdown",
   "metadata": {},
   "source": [
    "`Unité d'observation`\n",
    "\n",
    "L'objet, la chose, la personne, etc. à propos de laquelle on va poser une série de questions.\n",
    "\n",
    "Par exemple : dans le phénomène de la réussite scolaire à Bruxelles, les unités d'observations pourraient être chaque établissement scolaire, et ainsi demander _Quel est le taux de réussite de chaque école ?_ En outre, on pourrait aussi répondre à cette question en prenant chaque élève de Bruxelles comme unité d'observation, en observant si chacun des élèves à réussi ou pas. \n",
    "\n",
    "La conclusion peut complètement changer quand on change d'unité d'observation. Le cas des retards des trains en témoigne : les trains sont beaucoup plus souvent en retard aux heures de pointes. Donc si on prend les voyageurs comme _unité d'observation_ (voir les chose d'un point de vue du voyageur), on constatera qu'il y a beaucoup de personnes en retard à cause des trains. Mais si on prend les trains comme _unité d'observation_, alors la ponctualité des trains grimpe à plus de 90% (chiffres SNCB). Ce qui est normal et mathématiquement vrai puisqu'il y a énormément de trains qui circulent chaque jour (chaque 24h). Donc, selon l'_unité d'observation_, on peut mesurer _beaucoup_ ou _très peu_ de retards. (opendata.infrabel.be/page.punctuality)"
   ]
  },
  {
   "cell_type": "markdown",
   "metadata": {},
   "source": [
    "`Loi de distribution normale` | `Loi normale`\n",
    "\n",
    "Une réprésentation \"en cloche\" des valeurs les plus petites aux valeurs les plus grandes, et de leur fréquence dans un tableau de données. On utilise un **histogramme** pour observer la distribution des fréqences ; et une **courbe de densité** (`KDE`) pour observer la probabilité des valeurs. \n",
    "\n",
    "Pour s'assurer qu'une variable observe bien une distribution normale de valeurs, et ne pas se baser uniquement sur une estimation \"à l'oeil\", on peut afficher la **valeur moyenne** et la **valeur médiane** par dessus l'histogramme ou la courbe de densité. Lesquelles devraient alors être toute proche. \n",
    "\n",
    "Un grande quantité de phénomènes sur terre se distribuent de cette manière. Que ce soit l'âge, le poids, ou la taille des êtres humains, mais aussi les retards des trains ou des avions. La majeur partie des algorithmes en _Machine Learning_ considèrent que les variables suivront cette une _Distribution normale_. "
   ]
  },
  {
   "cell_type": "markdown",
   "metadata": {},
   "source": [
    "`Distribution standardisée`\n",
    "\n",
    "Moyenne = 0 et Ecart Type = 1"
   ]
  },
  {
   "cell_type": "markdown",
   "metadata": {},
   "source": [
    "`Analyse bivariée`\n",
    "\n",
    "L'objectif est d’analyser le **lien** qui peut exister **entre deux variables**.\n",
    "\n",
    "Pour deux variables **quantitatives**\n",
    "* exemple 1 : le nombre d’habitants et nombre de lignes de bus en Province de Namur\n",
    "* exemple 2 : le nombre de lignes de bus en Isère en 1998 et en 2018\n",
    "* outils : diagramme de dispersion (pour voir la forme que prennent ces deux variables), corrélation de Pearson (score calculé)\n",
    "\n",
    "Pour deux variables **qualitatives**\n",
    "* exemple 1 : la couleur des yeux et le fait de porter des lunettes\n",
    "* exemple 2 : les catégories de séries télé et la plate-forme où ils sont disponibles\n",
    "* outils : tables de contingence (représenter dans un tableau croisé les quantités de chacun des deux variables et leurs modalités), chi-2 (distribution de chi-2) et V de Cramer (score calculé à partir du chi-2)\n",
    "* outils pour 2 ordinales : corrélation de Spearman (corrélation s’attache au rang de ces variables et à partir d’eux, on va calculer une corrélation de Spearman)\n",
    "\n",
    "Pour une variable **quantitative** et une variable **qualitative**\n",
    "* exemple 1 : le lien entre la taille et la couleur des yeux,\n",
    "* exemple 2 : le lien entre le nombre d’aces d’un joueur et le côté du cours de tennis qu’il occupe"
   ]
  },
  {
   "cell_type": "markdown",
   "metadata": {},
   "source": [
    "`Covariance`\n",
    "\n",
    "La **covariance** mesure comment deux variables s’écartent en tandem de leurs moyennes."
   ]
  },
  {
   "cell_type": "markdown",
   "metadata": {},
   "source": [
    "`Coefficient de Corrélation`\n",
    "\n",
    "( à compléter **!** )\n",
    "\n",
    "**A)** Coef. corrélation de **Pearson**\n",
    "* Relations linéaires uniquement\n",
    "\n",
    "**B)** Coef. corrélation de **Kendall**\n",
    "* Variables ordinales\n",
    "\n",
    "**C)** Coef. corrélation de **Spearman**\n",
    "* Linéaire monotone uniquement"
   ]
  },
  {
   "cell_type": "markdown",
   "metadata": {},
   "source": [
    "`p-valeur`\n",
    "\n",
    "( à completer **!** )"
   ]
  },
  {
   "cell_type": "markdown",
   "metadata": {},
   "source": [
    "`Série temporelle`\n",
    "\n",
    "( à completer **!** )"
   ]
  },
  {
   "cell_type": "markdown",
   "metadata": {},
   "source": [
    "##### **2.3** - Regroupements, formes et structures\n",
    "\n",
    "_Formes et structures des données, particulièrement les regroupements, détectées par classification (`k-means`, `Random Forest`, `DBSCAN`), ou la réduction de la dimensionalité des données (Analyse en Composantes Principale), …_"
   ]
  },
  {
   "cell_type": "markdown",
   "metadata": {},
   "source": [
    "`Régression linéraire`\n",
    "\n",
    "Souvent, ce calcul est appelé **prédiction** : le modèle linéaire, s’il est bien ajusté au nuage de points, permet de prédire la valeur d'une autre variable.\n",
    "\n",
    "Ci-dessous, une régression linéaire a été réalisée entre deux variables : la masse du corps et la longueur des nageoires. La droite de régression (en bleu dans l'exemple), est un **modèle linéaire** qui permet, à partir de la valeur d’une des deux variables, de déduire la valeur de l’autre.\n",
    "\n",
    "Si on mesure la nageoire d'un pingouin à 197mm, on peut se servir de la droite de régression pour postuler que ce pingouin pèse 4000g. On appelle\n",
    "\n",
    "<img src=\"../_assets/regression_lineaire_ex01.png\" alt=\"regression lineaire 01\" title=\"Régression linéaire : Masses et nageoires\" width=\"576\" height=\"288\">"
   ]
  },
  {
   "cell_type": "markdown",
   "metadata": {},
   "source": [
    "`Régression logistique`\n",
    "\n",
    "Une _frontière de décision_, consiste à tracer une ligne, à créer une frontière discriminante entre 2 catégories de valeurs "
   ]
  },
  {
   "cell_type": "markdown",
   "metadata": {},
   "source": [
    "`Descente de gradient`\n",
    "\n",
    "( à compléter **!** )"
   ]
  },
  {
   "cell_type": "markdown",
   "metadata": {},
   "source": [
    "---\n",
    "### **3.** Principes"
   ]
  },
  {
   "cell_type": "markdown",
   "metadata": {},
   "source": [
    "`Statistiques inférentielles`\n",
    "\n",
    "Chercher à caractériser une population (un \"ensemble d’unités\") à partir des caractéristiques d’un échantillon pour lequel on a recueilli des données. Répondre de façon mathématiquement rigoureuse à la question \"À partir d'un échantillons, que peut-on attendre (\"inférrer\") de la population ?\"\n",
    "\n",
    "Ce sont les statistiques qui sont utilisées lors des sondages, des recensements, mais aussi dans l’analyse de résultats expérimentaux (par ex. efficacité d’un médicament). La plupart du temps quand on emploie le terme \"statistiques\" dans le langage courant, c’est de statistiques inférentielles qu’il s’agit.\n",
    "\n",
    "Cette famille de statistiques emploie **des modèles** et **des estimateurs** pour réaliser des régressions, des estimations, des extrapolations, voire des prévisions.\n"
   ]
  },
  {
   "cell_type": "markdown",
   "metadata": {},
   "source": [
    "`Observation de valeurs aberrantes`\n",
    "\n",
    "Une valeur est aberrante si elle s'éloigne de la tendance générale des autres valeurs. Par ex. dans le cas de la variable 'BMI' du dataset `stroke.csv`, les valeurs aberrantes sont les personnes qui ont un score très bas ou très élevé de 'BMI'.\n",
    "\n",
    "On peut afficher les valeurs _moyenne_ et _médiane_ dans la représentation en _KDE_ et/ou _Histogram_ d'une distribution de données. Les valeurs aberrantes vont entrainner un certain écart ces valeurs _moyenne_ et _médiane_. \n",
    "\n",
    "On peut surtout utliser un diagrame _Box-Plot_ pour visualiser toutes les valeurs inférieurs à la valeur minimum, et toutes les valeurs supérieures à la valeur maximum. Lesquelles seront donc aberrantes."
   ]
  },
  {
   "cell_type": "markdown",
   "metadata": {},
   "source": [
    "`Observation d'une Distribution normale de valeurs`\n",
    "\n",
    "Une variable observe une **distribution normale** de valeurs lorsque la répartition des données forme **une courbe en cloche bien équilibrée** sur un _Histogram_ ou un _KDE_. Pour s'en assurer et ne pas uniquement se baser sur une estimation \"à l'oeil\", on peut afficher la **valeur moyenne** et la **valeur médiane** par dessus _l'Histogram_ ou le _KDE_. Lesquelles devraient alors être toute proche."
   ]
  },
  {
   "cell_type": "markdown",
   "metadata": {},
   "source": [
    "`Observation des limites du coefficient de corrélation de Pearson` \n",
    "\n",
    "Cette méthode d'évaluation du coefficient de corrélation échouent à capturer la corrélation entre deux variables lorsque leurs relations suit une fonction exponentielle ou quadratique.\n"
   ]
  },
  {
   "cell_type": "markdown",
   "metadata": {},
   "source": [
    "---\n",
    "### **4.** Outils"
   ]
  },
  {
   "cell_type": "markdown",
   "metadata": {},
   "source": [
    "##### **4.1** Visualisation"
   ]
  },
  {
   "cell_type": "markdown",
   "metadata": {},
   "source": [
    "`Histogram`\n",
    "\n",
    "Une représentation visuelle \"en barre\" des effectifs pour chaque _classe_ de valeurs. Il est utilisé pour observer la distribution de données d'une variable.\n",
    "\n",
    "Par ex. : Regrouper tous les patients appartenant au même _bins_, dans le sens “_Toutes les personnes de 0 à 5 ans ensemble ; toutes celles de 5 à 10 ans ensemble ; etc_”"
   ]
  },
  {
   "cell_type": "markdown",
   "metadata": {},
   "source": [
    "`KDE`, _Kernel Distribution Estimation_\n",
    "\n",
    "Une représentation visuelle “lissée” de la distribution de données pour une variable.\n",
    "\n",
    "Par ex. : _Comment un échantillon de gens se distribuent sur la variable 'BMI'_"
   ]
  },
  {
   "cell_type": "markdown",
   "metadata": {},
   "source": [
    "`Pairwise`\n",
    "\n",
    "( à compléter **!** )"
   ]
  },
  {
   "cell_type": "markdown",
   "metadata": {},
   "source": [
    "`ECDF`, _Empirical Cumulative Density Function_\n",
    "\n",
    "( à completer **!** )"
   ]
  },
  {
   "cell_type": "markdown",
   "metadata": {},
   "source": [
    "`Box-Plot` | `Box-and-Whisker-Plot`\n",
    "\n",
    "Souvent appelé **boîte à moustaches**, **boîte de Tukey**, **boîte à pattes**, c'est un diagramme en boite qui met en évidence 5 paramètres essentiels d'une série statistique. À savoir le minimum (aussi nommé _premier décile_), le premier quartile, la médiane, le 3e quartile et le maxium (aussi appelé le 9e décile).\n",
    "\n",
    "Plus la boîte à moustache est grande (étirée), plus les valeurs de la variable qu’elle représente sont variées.\n",
    "\n",
    "<img src=\"../_assets/boite_moustache_ex01.png\" alt=\"boite moustache\" title=\"Boite à moustaches\" width=\"436\" height=\"164\">"
   ]
  },
  {
   "cell_type": "markdown",
   "metadata": {},
   "source": [
    "##### **4.2** - Statistique et mathématique"
   ]
  },
  {
   "cell_type": "markdown",
   "metadata": {},
   "source": [
    "`LateX`\n",
    "\n",
    "$$ z_{test} = \\frac{x_{test} - mean(x_{train})}{std(x_{train})} $$"
   ]
  }
 ],
 "metadata": {
  "kernelspec": {
   "display_name": "Python 3.10.5 64-bit",
   "language": "python",
   "name": "python3"
  },
  "language_info": {
   "name": "python",
   "version": "3.12.1"
  },
  "orig_nbformat": 4,
  "vscode": {
   "interpreter": {
    "hash": "26de051ba29f2982a8de78e945f0abaf191376122a1563185a90213a26c5da77"
   }
  }
 },
 "nbformat": 4,
 "nbformat_minor": 2
}

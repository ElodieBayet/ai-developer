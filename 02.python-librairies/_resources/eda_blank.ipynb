{
 "cells": [
  {
   "cell_type": "markdown",
   "metadata": {},
   "source": [
    "## **EDA :** Blank book\n",
    "\n",
    "#### _Name of Dataset_\n",
    "\n",
    "🟠 `on work` 🟢 `complete`\n",
    "\n",
    "---\n",
    "\n",
    "1. **Identification générale**\n",
    "    * Structure\n",
    "    * Donnée(s) cible(s)\n",
    "    * Types de données\n",
    "    * Contenu des données\n",
    "    * Préparation\n",
    "    * Conclusion\n",
    "2. **Analyse univariée**\n",
    "    * Cible\n",
    "    * Variables quantitatives continues\n",
    "    * Variables quantitatives discrètes\n",
    "    * Variables qualitatives\n",
    "3. **Analyse bivariée**\n",
    "    * Variables quantitatives continues\n",
    "    * Variables quantitatives discrètes\n",
    "    * Variables qualitatives\n",
    "    * Statistiques\n",
    "4. **Finalisation**\n",
    "    * Conclusion\n",
    "    * Traitements"
   ]
  },
  {
   "cell_type": "markdown",
   "metadata": {},
   "source": [
    "**Built-in**"
   ]
  },
  {
   "cell_type": "code",
   "execution_count": 10,
   "metadata": {},
   "outputs": [],
   "source": [
    "# Built-in Modules from Python\n",
    "import math"
   ]
  },
  {
   "cell_type": "markdown",
   "metadata": {},
   "source": [
    "**Libraries**"
   ]
  },
  {
   "cell_type": "code",
   "execution_count": 2,
   "metadata": {},
   "outputs": [],
   "source": [
    "import numpy as np\n",
    "import pandas as pd\n",
    "import matplotlib.pyplot as plt\n",
    "import seaborn as sns\n",
    "import pingouin as pg"
   ]
  },
  {
   "cell_type": "markdown",
   "metadata": {},
   "source": [
    "**User Code**"
   ]
  },
  {
   "cell_type": "code",
   "execution_count": 5,
   "metadata": {},
   "outputs": [],
   "source": [
    "# Useful code for EDA\n",
    "draw = True # Enable/Disable long ploting"
   ]
  },
  {
   "cell_type": "markdown",
   "metadata": {},
   "source": [
    "**Notebook setup**"
   ]
  },
  {
   "cell_type": "code",
   "execution_count": 13,
   "metadata": {},
   "outputs": [
    {
     "data": {
      "image/png": "[encoded data removed]",
      "text/html": [
       "<div style=\"vertical-align: middle;\"><strong>icefire</strong> </div><div class=\"cmap\"><img alt=\"icefire colormap\" title=\"icefire\" style=\"border: 1px solid #555;\" src=\"data:image/png;base64,iVBORw0KGgoAAAANSUhEUgAAAgAAAABACAYAAABsv8+/AAAAFnRFWHRUaXRsZQBpY2VmaXJlIGNvbG9ybWFwvkjy7gAAABx0RVh0RGVzY3JpcHRpb24AaWNlZmlyZSBjb2xvcm1hcBlmQ5cAAAAwdEVYdEF1dGhvcgBNYXRwbG90bGliIHYzLjUuMywgaHR0cHM6Ly9tYXRwbG90bGliLm9yZ2fR6JIAAAAydEVYdFNvZnR3YXJlAE1hdHBsb3RsaWIgdjMuNS4zLCBodHRwczovL21hdHBsb3RsaWIub3JnSXd3tQAAAm1JREFUeJzt1sFx2zAQBVCAVP8VpZIUkCpMIgeDdAAJke7/vct6FwuYMx7P/Prrz+9WSinH2UoppZxnKf/27+bHar/N8w/7Np+v9lbvzecf1r5/TvNP+3WtH+21vtfufqpH7RdKr98fXI8yzOs0367+np/TvPd9fvX1PMb+OF6el3uv9+1rmJfza5p/19b7Np3/zI+xn/Z/5vPeMeydq/Nez/P4/zv9D3C2eW+u5/ju3Z8v98rT+VTLtFfadK/3ZT6/5mNtZZ5/q1dtU/+mbv2nu6/15fl23at1nNfx/Hk+9vvifP9wf1/N+xfM7+2L95/O73l5PX+6N+8t+qf9N/X+/W3ot/6H/dlrQ73Pr/3t9fk9317Pt61Mfa/763m95+W/87q3qa/DXr3u3/NV7Yu91v7gNa97f7DXVX/Pt3nvMe09+t5jsfeY3nmM56v5u3v39037i++6/v8AgCACAAAEEgAAIJAAAACBBAAACCQAAEAgAQAAAgkAABBIAACAQAIAAAQSAAAgkAAAAIEEAAAIJAAAQCABAAACCQAAEEgAAIBAAgAABBIAACCQAAAAgQQAAAgkAABAIAEAAAIJAAAQSAAAgEACAAAEEgAAIJAAAACBBAAACCQAAEAgAQAAAgkAABBIAACAQAIAAAQSAAAgkAAAAIEEAAAIJAAAQCABAAACCQAAEEgAAIBAAgAABBIAACCQAAAAgQQAAAgkAABAIAEAAAIJAAAQSAAAgEACAAAEEgAAIJAAAACBBAAACCQAAEAgAQAAAgkAABBIAACAQAIAAAQSAAAgkAAAAIEEAAAIJAAAQCABAAAC/QWSkzsLHuawCwAAAABJRU5ErkJggg==\"></div><div style=\"vertical-align: middle; max-width: 514px; display: flex; justify-content: space-between;\"><div style=\"float: left;\"><div title=\"#bde7dbff\" style=\"display: inline-block; width: 1em; height: 1em; margin: 0; vertical-align: middle; border: 1px solid #555; background-color: #bde7dbff;\"></div> under</div><div style=\"margin: 0 auto; display: inline-block;\">bad <div title=\"#00000000\" style=\"display: inline-block; width: 1em; height: 1em; margin: 0; vertical-align: middle; border: 1px solid #555; background-color: #00000000;\"></div></div><div style=\"float: right;\">over <div title=\"#ffd4acff\" style=\"display: inline-block; width: 1em; height: 1em; margin: 0; vertical-align: middle; border: 1px solid #555; background-color: #ffd4acff;\"></div></div>"
      ],
      "text/plain": [
       "<matplotlib.colors.ListedColormap at 0x220cf577f10>"
      ]
     },
     "execution_count": 13,
     "metadata": {},
     "output_type": "execute_result"
    }
   ],
   "source": [
    "# Colour codes\n",
    "mean_c = 'white'\n",
    "median_c = '#c2e800'\n",
    "default_c = '#009999'\n",
    "default_p = 'icefire'\n",
    "palette_c = [\n",
    "    '#b8e600', # Limon\n",
    "    '#e60073' # Magenta\n",
    "]\n",
    "hue_o = [\n",
    "    'No',\n",
    "    'Yes'\n",
    "]\n",
    "\n",
    "# Pandas\n",
    "pd.options.display.max_rows = 30\n",
    "pd.options.display.min_rows = 6\n",
    "\n",
    "# Matplotlib\n",
    "plt.style.use('dark_background')\n",
    "\n",
    "plt.rcParams['figure.facecolor'] = '#242428'\n",
    "plt.rcParams['axes.facecolor'] = '#242428'\n",
    "plt.rcParams['axes.titleweight'] = 'bold'\n",
    "\n",
    "# Seaborn : display crest, mako, rocket, icefire ...\n",
    "sns.color_palette(default_p, as_cmap=True)"
   ]
  },
  {
   "cell_type": "markdown",
   "metadata": {},
   "source": [
    "**Name of dataset**\n",
    "\n",
    "[Source of dataset](https://www.kaggle.com/datasets)"
   ]
  },
  {
   "cell_type": "code",
   "execution_count": null,
   "metadata": {},
   "outputs": [],
   "source": [
    "name_file_path = '../_datasets/name_data.csv'\n",
    "data = pd.read_csv(name_file_path)\n",
    "\n",
    "data"
   ]
  },
  {
   "cell_type": "code",
   "execution_count": 6,
   "metadata": {},
   "outputs": [],
   "source": [
    "target = ''"
   ]
  },
  {
   "cell_type": "markdown",
   "metadata": {},
   "source": [
    "---\n",
    "### **1.** Identification générale"
   ]
  },
  {
   "cell_type": "markdown",
   "metadata": {},
   "source": [
    "##### **1.1** - Structure"
   ]
  },
  {
   "cell_type": "code",
   "execution_count": null,
   "metadata": {},
   "outputs": [],
   "source": [
    "# (!) - .shape, .info(), etc."
   ]
  },
  {
   "cell_type": "code",
   "execution_count": null,
   "metadata": {},
   "outputs": [],
   "source": [
    "data.info()"
   ]
  },
  {
   "cell_type": "markdown",
   "metadata": {},
   "source": [
    "##### **1.2** - Donnée(s) cible(s)"
   ]
  },
  {
   "cell_type": "code",
   "execution_count": null,
   "metadata": {},
   "outputs": [],
   "source": [
    "# (!) - .unique(), etc."
   ]
  },
  {
   "cell_type": "code",
   "execution_count": null,
   "metadata": {},
   "outputs": [],
   "source": [
    "data[target].unique()"
   ]
  },
  {
   "cell_type": "markdown",
   "metadata": {},
   "source": [
    "##### **1.3** - Types de données"
   ]
  },
  {
   "cell_type": "code",
   "execution_count": null,
   "metadata": {},
   "outputs": [],
   "source": [
    "# (!) - .dtypes.value_counts(), .dtypes, .select_dtypes(np.float64).max(), etc."
   ]
  },
  {
   "cell_type": "code",
   "execution_count": null,
   "metadata": {},
   "outputs": [],
   "source": [
    "pd.DataFrame({\n",
    "    'Quantité de valeurs': data.dtypes.value_counts()\n",
    "})"
   ]
  },
  {
   "cell_type": "code",
   "execution_count": null,
   "metadata": {},
   "outputs": [],
   "source": [
    "if data.select_dtypes(np.float_).shape[1] > 0 :\n",
    "    display(\n",
    "        pd.DataFrame({\n",
    "            'Valeurs minimums (float)': data.select_dtypes(np.float_).min(),\n",
    "            'Valeurs maximums (float)': data.select_dtypes(np.float_).max()\n",
    "        }, dtype=np.float_)\n",
    "    )"
   ]
  },
  {
   "cell_type": "code",
   "execution_count": null,
   "metadata": {},
   "outputs": [],
   "source": [
    "if data.select_dtypes(np.int_).shape[1] > 0 :\n",
    "    display(\n",
    "        pd.DataFrame({\n",
    "            'Valeurs minimums (int)': data.select_dtypes(np.int_).min(),\n",
    "            'Valeurs maximums (int)': data.select_dtypes(np.int_).max()\n",
    "        }, dtype=np.int_)\n",
    "    )"
   ]
  },
  {
   "cell_type": "code",
   "execution_count": null,
   "metadata": {},
   "outputs": [],
   "source": [
    "if data.select_dtypes(np.object_).shape[1] > 0 :\n",
    "    display(\n",
    "        data.select_dtypes(np.object_)\n",
    "    )"
   ]
  },
  {
   "cell_type": "markdown",
   "metadata": {},
   "source": [
    "##### **1.4** - Contenu des données"
   ]
  },
  {
   "cell_type": "markdown",
   "metadata": {},
   "source": [
    "Valeurs nulles"
   ]
  },
  {
   "cell_type": "code",
   "execution_count": null,
   "metadata": {},
   "outputs": [],
   "source": [
    "# (!) - .isnull().sum(), heatmap( , cbar=False), etc."
   ]
  },
  {
   "cell_type": "code",
   "execution_count": null,
   "metadata": {},
   "outputs": [],
   "source": [
    "pd.DataFrame({\n",
    "    'Quantité de valeurs nulles': data.isnull().sum(),\n",
    "    'Pourcentage de valeurs nulles': (data.isnull().sum() / data.shape[0]) * 100,\n",
    "}).sort_values(by='Quantité de valeurs nulles', ascending=False)"
   ]
  },
  {
   "cell_type": "code",
   "execution_count": null,
   "metadata": {},
   "outputs": [],
   "source": [
    "plt.figure(figsize=(18,12))\n",
    "plt.title(\"Valeurs manquantes\\n\")\n",
    "sns.heatmap(data.isnull(), cbar=False)\n",
    "plt.show()"
   ]
  },
  {
   "cell_type": "markdown",
   "metadata": {},
   "source": [
    "Valeurs uniques"
   ]
  },
  {
   "cell_type": "code",
   "execution_count": null,
   "metadata": {},
   "outputs": [],
   "source": [
    "# (!) - .unique(), nunique(), etc."
   ]
  },
  {
   "cell_type": "code",
   "execution_count": null,
   "metadata": {},
   "outputs": [],
   "source": [
    "if data.select_dtypes(np.int_).shape[1] > 0 :\n",
    "    display(\n",
    "        data.select_dtypes(np.int_).nunique()\n",
    "    )"
   ]
  },
  {
   "cell_type": "code",
   "execution_count": null,
   "metadata": {},
   "outputs": [],
   "source": [
    "if data.select_dtypes(np.object_).shape[1] > 0 :\n",
    "    display(\n",
    "        data.select_dtypes(np.object_).nunique()\n",
    "    )"
   ]
  },
  {
   "cell_type": "markdown",
   "metadata": {},
   "source": [
    "Valeurs dupliquées"
   ]
  },
  {
   "cell_type": "code",
   "execution_count": null,
   "metadata": {},
   "outputs": [],
   "source": [
    "# (!) - Sample for duplicated data overviewing\n",
    "# extract = data.loc[\n",
    "#     (data['Column'] == 'Value') | \n",
    "#     (data['Column'] == 'Value')\n",
    "# ]\n",
    "\n",
    "# for col in ['ColumnA', 'ColumnB', 'etc.'] :\n",
    "#     display( extract[[col, 'TargetColumn']].groupby('TargetColumn').describe() )"
   ]
  },
  {
   "cell_type": "markdown",
   "metadata": {},
   "source": [
    "##### **1.5** - Préparation\n",
    "\n",
    "* faciliter la manipulation et la visualisation\n",
    "* explorer les possibilités `NumPy` et `Pandas`"
   ]
  },
  {
   "cell_type": "code",
   "execution_count": null,
   "metadata": {},
   "outputs": [],
   "source": [
    "if True :\n",
    "    raise Exception(\"[!] - Must Configure EDA to continue and set 'True' to 'False'\")"
   ]
  },
  {
   "cell_type": "code",
   "execution_count": null,
   "metadata": {},
   "outputs": [],
   "source": [
    "# Rename cols\n",
    "columns = {\n",
    "    'column name': 'col_new_name'\n",
    "}\n",
    "\n",
    "# Rename categories\n",
    "theme_ctg = {\n",
    "    0: 'categ 1',\n",
    "    1: 'categ 2',\n",
    "    2: 'categ 3'\n",
    "}\n",
    "\n",
    "# Apply\n",
    "# data = data.rename(columns=columns)\n",
    "# data['target'] = data[target].map(theme_ctg)\n",
    "\n",
    "# data"
   ]
  },
  {
   "cell_type": "code",
   "execution_count": null,
   "metadata": {},
   "outputs": [],
   "source": [
    "# (!) - Convert types to smaller memory size"
   ]
  },
  {
   "cell_type": "code",
   "execution_count": null,
   "metadata": {},
   "outputs": [],
   "source": [
    "# (!) - Extract column names for variables\n",
    "continous = None        # data.select_dtypes(np.float_).columns.to_list()\n",
    "discretes = None        # data.select_dtypes(np.int_).columns.to_list()\n",
    "categoricals = None     # data.select_dtypes(np.object_).columns.to_list()\n",
    "\n",
    "hf_conti = math.ceil(len(continous) / 2)\n",
    "hf_disc = math.ceil(len(discretes) / 2)\n",
    "hf_categ = math.ceil(len(categoricals) / 2)"
   ]
  },
  {
   "cell_type": "markdown",
   "metadata": {},
   "source": [
    "##### **1.6** - Notes"
   ]
  },
  {
   "cell_type": "markdown",
   "metadata": {},
   "source": [
    "> —\n",
    "> \n",
    "> ✔️ ❕ ❓\n",
    ">\n",
    "> —"
   ]
  },
  {
   "cell_type": "markdown",
   "metadata": {},
   "source": [
    "---\n",
    "### **2.** Analyse univariée"
   ]
  },
  {
   "cell_type": "markdown",
   "metadata": {},
   "source": [
    "##### **2.1** - Cible"
   ]
  },
  {
   "cell_type": "code",
   "execution_count": null,
   "metadata": {},
   "outputs": [],
   "source": [
    "hgt = data[target].value_counts().max()\n",
    "\n",
    "plt.figure(figsize=(10, 8))\n",
    "plt.title(f\"Fréquence pour '{target}'\\n\")\n",
    "ax = sns.countplot(data=data.sort_values(target), x=target, palette=palette_c)\n",
    "ax.bar_label(ax.containers[0], padding=6)\n",
    "plt.ylim(top=hgt*1.1)\n",
    "plt.show()"
   ]
  },
  {
   "cell_type": "code",
   "execution_count": null,
   "metadata": {},
   "outputs": [],
   "source": [
    "cnt = data[[target]].groupby(target).value_counts()\n",
    "pct = (cnt / data.shape[0]) * 100\n",
    "\n",
    "pd.DataFrame({\n",
    "    'Quantité': cnt,\n",
    "    'Pourcentage': pct\n",
    "}).reset_index()"
   ]
  },
  {
   "cell_type": "markdown",
   "metadata": {},
   "source": [
    "**Observations**\n",
    "\n",
    "> —\n",
    "> \n",
    "> ✔️ ❕ ❓\n",
    ">\n",
    "> —"
   ]
  },
  {
   "cell_type": "markdown",
   "metadata": {},
   "source": [
    "##### **2.2** - Variables quantitatives continues"
   ]
  },
  {
   "cell_type": "markdown",
   "metadata": {},
   "source": [
    "Fréquences et densités"
   ]
  },
  {
   "cell_type": "code",
   "execution_count": null,
   "metadata": {},
   "outputs": [],
   "source": [
    "if continous :    \n",
    "    plt.figure(figsize=(24, 24), layout='tight')\n",
    "    for i, col in enumerate(continous) :\n",
    "        plt.subplot(hf_conti, 2, i+1)\n",
    "        plt.title(f\"Fréquences pour '{col}'\\n\")\n",
    "        sns.histplot(data=data, x=col, fill=True, color=default_c)\n",
    "    plt.show()"
   ]
  },
  {
   "cell_type": "code",
   "execution_count": null,
   "metadata": {},
   "outputs": [],
   "source": [
    "if continous :    \n",
    "    plt.figure(figsize=(24, 24), layout='tight')\n",
    "    for i, col in enumerate(continous) :\n",
    "        plt.subplot(hf_conti, 2, i+1)\n",
    "        plt.title(f\"Densité pour '{col}'\\n\")\n",
    "        sns.kdeplot(data=data, x=col, fill=True, color=default_c)\n",
    "        plt.axvline(data[col].mean(), c=mean_c, label='Mean')\n",
    "        plt.axvline(data[col].median(), c=median_c, label=\"Median\")\n",
    "        plt.legend()\n",
    "    plt.show()\n",
    "\n",
    "    display(\n",
    "        data[continous].describe().iloc[1:]\n",
    "    )"
   ]
  },
  {
   "cell_type": "markdown",
   "metadata": {},
   "source": [
    "Valeurs aberrantes"
   ]
  },
  {
   "cell_type": "code",
   "execution_count": null,
   "metadata": {},
   "outputs": [],
   "source": [
    "if continous :\n",
    "    plt.figure(figsize=(24, 24), layout='tight')\n",
    "    for i, col in enumerate(continous) :\n",
    "        plt.subplot(hf_conti, 2, i+1)\n",
    "        plt.title(f\"{col}\\n\")\n",
    "        sns.boxplot(data=data, x=col, color=\"#FFFFFF\")\n",
    "    plt.show()"
   ]
  },
  {
   "cell_type": "code",
   "execution_count": null,
   "metadata": {},
   "outputs": [],
   "source": [
    "# (!) - Sample to display entries with outlied features\n",
    "# q25 = data[['ColumnA', 'ColumnB']].quantile(.25)\n",
    "# q75 = data[['ColumnA', 'ColumnB']].quantile(.75)\n",
    "# iqr = q75 - q25\n",
    "# lows = q25 - (1.5 * iqr)\n",
    "# ups = q75 + (1.5 * iqr)\n",
    "\n",
    "# pd.DataFrame({\n",
    "#     'Limite inférieure': lows,\n",
    "#     'Limite suppérieure': ups,\n",
    "# })"
   ]
  },
  {
   "cell_type": "markdown",
   "metadata": {},
   "source": [
    "**Observations**"
   ]
  },
  {
   "cell_type": "markdown",
   "metadata": {},
   "source": [
    "> —\n",
    "> \n",
    "> ✔️ ❕ ❓\n",
    ">\n",
    "> —"
   ]
  },
  {
   "cell_type": "markdown",
   "metadata": {},
   "source": [
    "##### **2.3** - Variables quantitatives discrètes"
   ]
  },
  {
   "cell_type": "markdown",
   "metadata": {},
   "source": [
    "Fréquences"
   ]
  },
  {
   "cell_type": "code",
   "execution_count": null,
   "metadata": {},
   "outputs": [],
   "source": [
    "if discretes : \n",
    "    plt.figure(figsize=(18, 18), layout='tight')\n",
    "    for i, col in enumerate(discretes) :\n",
    "        plt.subplot(hf_disc, 2, i+1)\n",
    "        plt.title(f\"Fréquences pour '{col}'\\n\")\n",
    "        sns.histplot(data=data, x=col, fill=True, discrete=True, shrink=.8, color=default_c)\n",
    "    plt.show()"
   ]
  },
  {
   "cell_type": "code",
   "execution_count": null,
   "metadata": {},
   "outputs": [],
   "source": [
    "if discretes :\n",
    "    data[discretes].describe().T"
   ]
  },
  {
   "cell_type": "markdown",
   "metadata": {},
   "source": [
    "**Observations**\n",
    "\n",
    "> —\n",
    "> \n",
    "> ✔️ ❕ ❓\n",
    ">\n",
    "> —"
   ]
  },
  {
   "cell_type": "markdown",
   "metadata": {},
   "source": [
    "##### **2.4** - Variables qualitatives"
   ]
  },
  {
   "cell_type": "markdown",
   "metadata": {},
   "source": [
    "Fréquences"
   ]
  },
  {
   "cell_type": "code",
   "execution_count": null,
   "metadata": {},
   "outputs": [],
   "source": [
    "if categoricals :\n",
    "    plt.figure(figsize=(18, 18), layout='tight')\n",
    "    for i, col in enumerate(categoricals) :\n",
    "        hi_freq = data[col].value_counts().max()\n",
    "        plt.subplot(hf_categ, 2, i+1)\n",
    "        plt.title(f\"Fréquence pour '{col}'\\n\")\n",
    "        ax = sns.countplot(data=data.sort_values(col), x=col, palette=default_p)\n",
    "        ax.bar_label(ax.containers[0], padding=6)\n",
    "        plt.ylim(top=hi_freq*1.15)\n",
    "    plt.show()"
   ]
  },
  {
   "cell_type": "markdown",
   "metadata": {},
   "source": [
    "**Observations**\n",
    "\n",
    "> —\n",
    "> \n",
    "> ✔️ ❕ ❓\n",
    ">\n",
    "> —"
   ]
  },
  {
   "cell_type": "markdown",
   "metadata": {},
   "source": [
    "---\n",
    "### **3.** Analyse bivariée"
   ]
  },
  {
   "cell_type": "markdown",
   "metadata": {},
   "source": [
    "##### **3.1** - Variables quantitatives continues"
   ]
  },
  {
   "cell_type": "markdown",
   "metadata": {},
   "source": [
    "Distribution selon la cible"
   ]
  },
  {
   "cell_type": "code",
   "execution_count": null,
   "metadata": {},
   "outputs": [],
   "source": [
    "if continous :    \n",
    "    plt.figure(figsize=(24, 24), layout='tight')\n",
    "    for i, col in enumerate(continous) :\n",
    "        plt.subplot(hf_conti, 2, i+1)\n",
    "        plt.title(f\"Fréquence pour '{col}' par target\\n\")\n",
    "        sns.histplot(data=data, x=col, hue=target, hue_order=hue_o, multiple='stack', alpha=.7, palette=palette_c)\n",
    "        # plt.axvline(data.loc[data[target] == 'No', col].median(), c=palette_c[0])\n",
    "        # plt.axvline(data.loc[data[target] == 'Yes', col].median(), c=palette_c[1])\n",
    "\n",
    "    plt.show()"
   ]
  },
  {
   "cell_type": "code",
   "execution_count": null,
   "metadata": {},
   "outputs": [],
   "source": [
    "if continous :    \n",
    "    plt.figure(figsize=(24, 24), layout='tight')\n",
    "    for i, col in enumerate(continous) :\n",
    "        plt.subplot(hf_conti, 2, i+1)\n",
    "        plt.title(f\"Densité pour '{col}' par target\\n\")\n",
    "        sns.kdeplot(data=data, x=col, hue=target, hue_order=hue_o, alpha=.1, linewidth=2, fill=True, palette=palette_c)\n",
    "        # plt.axvline(data.loc[data[target] == 'No', col].mean(), c=palette_c[0])\n",
    "        # plt.axvline(data.loc[data[target] == 'Yes', col].mean(), c=palette_c[1])\n",
    "\n",
    "    plt.show()"
   ]
  },
  {
   "cell_type": "markdown",
   "metadata": {},
   "source": [
    "Valeurs aberrantes et valeurs nulles par cible"
   ]
  },
  {
   "cell_type": "code",
   "execution_count": null,
   "metadata": {},
   "outputs": [],
   "source": [
    "if continous :    \n",
    "    plt.figure(figsize=(24, 48), layout='tight')\n",
    "    for i, col in enumerate(continous) :\n",
    "        plt.subplot(hf_conti, 2, i+1)\n",
    "        plt.title(f\"Dispersion pour '{col}' par target\\n\")\n",
    "        sns.boxplot(data=data.sort_values(target), x=col, y=target, palette=palette_c)\n",
    "        plt.ylabel('')\n",
    "\n",
    "    plt.show()"
   ]
  },
  {
   "cell_type": "markdown",
   "metadata": {},
   "source": [
    "Résumé"
   ]
  },
  {
   "cell_type": "code",
   "execution_count": null,
   "metadata": {},
   "outputs": [],
   "source": [
    "if continous :\n",
    "    for col in continous :\n",
    "        display(data[[col, target]].groupby(target).describe().reset_index())"
   ]
  },
  {
   "cell_type": "code",
   "execution_count": null,
   "metadata": {},
   "outputs": [],
   "source": [
    "if draw and continous :\n",
    "    gd = sns.PairGrid(data[continous + [target]], diag_sharey=False, corner=True, hue=target, hue_order=hue_o, height=5, palette=palette_c)\n",
    "    gd.map_lower(sns.kdeplot)\n",
    "    gd.map_diag(sns.kdeplot)"
   ]
  },
  {
   "cell_type": "markdown",
   "metadata": {},
   "source": [
    "**Observations**\n",
    "\n",
    "> —\n",
    "> \n",
    "> ✔️ ❕ ❓\n",
    ">\n",
    "> —"
   ]
  },
  {
   "cell_type": "markdown",
   "metadata": {},
   "source": [
    "##### **3.2** - Variables quantitatives discrètes"
   ]
  },
  {
   "cell_type": "code",
   "execution_count": null,
   "metadata": {},
   "outputs": [],
   "source": [
    "if discretes :\n",
    "    plt.figure(figsize=(18, 8), layout='tight')\n",
    "    for i, col in enumerate(discretes) :\n",
    "        plt.subplot(hf_disc, 2, i+1)\n",
    "        plt.title(f\"Fréquences pour '{col}' par '{target}'\\n\")\n",
    "        sns.histplot(data=data, x=col, hue=target, hue_order=hue_o, multiple='stack', alpha=.7, discrete=True, shrink=.8, palette=palette_c)\n",
    "    plt.show()"
   ]
  },
  {
   "cell_type": "code",
   "execution_count": null,
   "metadata": {},
   "outputs": [],
   "source": [
    "if discretes :    \n",
    "    for col in discretes :\n",
    "        display(data[[col, target]].groupby(target).describe().reset_index())"
   ]
  },
  {
   "cell_type": "markdown",
   "metadata": {},
   "source": [
    "**Observations**\n",
    "\n",
    "> —\n",
    "> \n",
    "> ✔️ ❕ ❓\n",
    ">\n",
    "> —"
   ]
  },
  {
   "cell_type": "markdown",
   "metadata": {},
   "source": [
    "##### **3.3** - Variables quantitatives"
   ]
  },
  {
   "cell_type": "code",
   "execution_count": null,
   "metadata": {},
   "outputs": [],
   "source": [
    "if categoricals :\n",
    "    plt.figure(figsize=(18, 18), layout='tight')\n",
    "    for i, col in enumerate(categoricals) :\n",
    "        plt.subplot(hf_categ, 2, i+1)\n",
    "        plt.title(f\"Fréquences pour '{col}' par '{target}'\\n\")\n",
    "        sns.countplot(data=data, x=col, hue=target, hue_order=hue_o, palette=palette_c)\n",
    "    \n",
    "    plt.show()"
   ]
  },
  {
   "cell_type": "code",
   "execution_count": null,
   "metadata": {},
   "outputs": [],
   "source": [
    "if categoricals :    \n",
    "    plt.figure(figsize=(18, 18), layout='tight')\n",
    "    for i, col in enumerate(categoricals) :\n",
    "        ctb = pd.crosstab(data[col], data[target], normalize='columns')\n",
    "        plt.subplot(hf_categ, 2, i+1)\n",
    "        plt.title(f\"Répartitions '{col}' par '{target}'\\n\")\n",
    "        sns.heatmap(ctb, annot=True, cmap=palette_c)\n",
    "    \n",
    "    plt.show()"
   ]
  },
  {
   "cell_type": "markdown",
   "metadata": {},
   "source": [
    "**Observations**\n",
    "\n",
    "> —\n",
    "> \n",
    "> ✔️ ❕ ❓\n",
    ">\n",
    "> —"
   ]
  },
  {
   "cell_type": "markdown",
   "metadata": {},
   "source": [
    "##### **3.4** - Statistiques"
   ]
  },
  {
   "cell_type": "code",
   "execution_count": null,
   "metadata": {},
   "outputs": [],
   "source": [
    "if True :\n",
    "    raise Exception(\"[!] - Must Configure EDA to continue and set 'True' to 'False'\")"
   ]
  },
  {
   "cell_type": "code",
   "execution_count": null,
   "metadata": {},
   "outputs": [],
   "source": [
    "# (!) - Sample if adjustment for stats\n",
    "# no_yes_v = {\n",
    "#     'No': 0, \n",
    "#     'Yes': 1\n",
    "# }\n",
    "# data_stats = data.copy()\n",
    "# data_stats[target] = data_stats[target].map(no_yes_v)\n",
    "\n",
    "# data_corr = data_stats.corr(method='pearson')"
   ]
  },
  {
   "cell_type": "markdown",
   "metadata": {},
   "source": [
    "Liens de corrélations"
   ]
  },
  {
   "cell_type": "code",
   "execution_count": null,
   "metadata": {},
   "outputs": [],
   "source": [
    "plt.figure(figsize=(24, 18))\n",
    "plt.title(\"Liens de correlations\\n\")\n",
    "sns.heatmap(data_corr, vmin=-1, vmax=1, cmap=\"icefire\", annot=True)\n",
    "plt.show()"
   ]
  },
  {
   "cell_type": "code",
   "execution_count": null,
   "metadata": {},
   "outputs": [],
   "source": [
    "# (!) - Sample to list low correlations with target\n",
    "low_corr = data_corr.loc[(data_corr[target] > -0.15) & (data_corr[target] < 0.15), target]\n",
    "pd.DataFrame({\n",
    "    'Correlations faibles avec la cible': low_corr.sort_values(ascending=False)\n",
    "})"
   ]
  },
  {
   "cell_type": "code",
   "execution_count": null,
   "metadata": {},
   "outputs": [],
   "source": [
    "# (!) - Sample for stats overview\n",
    "# std_by_target = date_stats.groupby(target).std()\n",
    "# std_by_target.reset_index(inplace=True)\n",
    "\n",
    "# std_by_target = std_by_target.T\n",
    "\n",
    "# std_by_target.rename(columns={0:'Target A', 1:'Target B'}, inplace=True)\n",
    "\n",
    "# std_by_target['Différences A/B'] = std_by_target['RainTomorow A'] - std_by_target['RainTomorow A']\n",
    "# std_by_target['Correlations Target'] = data_corr[target]\n",
    "\n",
    "# std_by_target.sort_values('Correlations Target')"
   ]
  },
  {
   "cell_type": "markdown",
   "metadata": {},
   "source": [
    "**Observations**\n",
    "\n",
    "> —\n",
    "> \n",
    "> ✔️ ❕ ❓\n",
    ">\n",
    "> —"
   ]
  },
  {
   "cell_type": "markdown",
   "metadata": {},
   "source": [
    "---\n",
    "\n",
    "### **4.** Finalisation"
   ]
  },
  {
   "cell_type": "markdown",
   "metadata": {},
   "source": [
    "##### **4.1** - Conclusion"
   ]
  },
  {
   "cell_type": "markdown",
   "metadata": {},
   "source": [
    "##### **4.2** - Traitements"
   ]
  },
  {
   "cell_type": "markdown",
   "metadata": {},
   "source": [
    "**Préparation**"
   ]
  },
  {
   "cell_type": "code",
   "execution_count": null,
   "metadata": {},
   "outputs": [],
   "source": [
    "# (!) - Sample to drop columns\n",
    "# to_drop = ['Column A', 'Column B']\n",
    "# data_prepared = data_data.drop(columns=to_drop)"
   ]
  },
  {
   "cell_type": "markdown",
   "metadata": {},
   "source": [
    "**Exportation**"
   ]
  },
  {
   "cell_type": "code",
   "execution_count": null,
   "metadata": {},
   "outputs": [],
   "source": [
    "# (!) - Sample to export data\n",
    "# data_prepared.to_csv('./_datasets/data_prepare.csv', index=False)"
   ]
  }
 ],
 "metadata": {
  "kernelspec": {
   "display_name": "Python 3.10.5 64-bit",
   "language": "python",
   "name": "python3"
  },
  "language_info": {
   "codemirror_mode": {
    "name": "ipython",
    "version": 3
   },
   "file_extension": ".py",
   "mimetype": "text/x-python",
   "name": "python",
   "nbconvert_exporter": "python",
   "pygments_lexer": "ipython3",
   "version": "3.12.1"
  },
  "orig_nbformat": 4,
  "vscode": {
   "interpreter": {
    "hash": "26de051ba29f2982a8de78e945f0abaf191376122a1563185a90213a26c5da77"
   }
  }
 },
 "nbformat": 4,
 "nbformat_minor": 2
}

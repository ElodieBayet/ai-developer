{
 "cells": [
  {
   "cell_type": "markdown",
   "metadata": {},
   "source": [
    "## **Preparation :** Preprocessing\n",
    "\n",
    "#### _Sélection de features pour le Machine Learning_\n",
    "\n",
    "🟠 `on work`\n",
    "\n",
    "---\n",
    "\n",
    "1. **Features**\n",
    "    * ..\n",
    "\n",
    "`---`\n",
    "* [Elite DataScience :: Feature Engineering](https://elitedatascience.com/feature-engineering)  \n",
    "* [Towards DataScience :: Feature Engineering](https://towardsdatascience.com/feature-engineering-for-machine-learning-3a5e293a5114)  \n",
    "* [Kaggle :: Feature Engineering Tutorial](https://www.kaggle.com/learn/feature-engineering)  \n",
    "* [Elite DataScience :: How to handle imbalanced classes](https://elitedatascience.com/imbalanced-classes)\n",
    "* [Simply Psychology :: Zscore](https://www.simplypsychology.org/z-score.html)\n",
    "* [Microsoft Azure :: Normalize Data](https://docs.microsoft.com/en-us/azure/machine-learning/studio-module-reference/normalize-data)"
   ]
  },
  {
   "cell_type": "markdown",
   "metadata": {},
   "source": [
    "**Built-in**"
   ]
  },
  {
   "cell_type": "markdown",
   "metadata": {},
   "source": [
    "**Libraries**"
   ]
  },
  {
   "cell_type": "code",
   "execution_count": null,
   "metadata": {},
   "outputs": [],
   "source": [
    "import numpy as np\n",
    "import pandas as pd"
   ]
  },
  {
   "cell_type": "code",
   "execution_count": 2,
   "metadata": {},
   "outputs": [],
   "source": [
    "# scikit-learn\n",
    "# LabelBinarizer : https://scikit-learn.org/stable/modules/generated/sklearn.preprocessing.LabelEncoder.html\n",
    "# OneHotEncoder : https://scikit-learn.org/stable/modules/generated/sklearn.preprocessing.OneHotEncoder.html"
   ]
  },
  {
   "cell_type": "markdown",
   "metadata": {},
   "source": [
    "**Notebook setup**"
   ]
  },
  {
   "cell_type": "code",
   "execution_count": null,
   "metadata": {},
   "outputs": [],
   "source": [
    "# Pandas\n",
    "pd.options.display.max_rows = 30\n",
    "pd.options.display.min_rows = 6"
   ]
  },
  {
   "cell_type": "markdown",
   "metadata": {},
   "source": [
    "Encodage"
   ]
  },
  {
   "cell_type": "code",
   "execution_count": null,
   "metadata": {},
   "outputs": [],
   "source": [
    "# [?] - REMINDER\n",
    "categoricals = ['RainToday']\n",
    "# Apply one-hot encoder to each column with categorical data\n",
    "ohe = OneHotEncoder(handle_unknown='ignore', sparse=False)\n",
    "ohe_train = pd.DataFrame(ohe.fit_transform(X_train[categoricals]))\n",
    "ohe_test = pd.DataFrame(ohe.transform(X_test[categoricals]))"
   ]
  },
  {
   "cell_type": "code",
   "execution_count": null,
   "metadata": {},
   "outputs": [],
   "source": [
    "# One-hot encoding removed index ; put it back\n",
    "ohe_train.index = X_train.index\n",
    "ohe_test.index = X_test.index"
   ]
  },
  {
   "cell_type": "code",
   "execution_count": null,
   "metadata": {},
   "outputs": [],
   "source": [
    "# Remove categorical columns (will replace with one-hot encoding)\n",
    "num_X_train = X_train.drop(categoricals, axis=1)\n",
    "num_X_test = X_test.drop(categoricals, axis=1)"
   ]
  },
  {
   "cell_type": "code",
   "execution_count": null,
   "metadata": {},
   "outputs": [],
   "source": [
    "# Add one-hot encoded columns to numerical features\n",
    "ohe_X_train = pd.concat([num_X_train, ohe_train], axis=1)\n",
    "ohe_X_test = pd.concat([num_X_test, ohe_test], axis=1)"
   ]
  },
  {
   "cell_type": "code",
   "execution_count": null,
   "metadata": {},
   "outputs": [],
   "source": [
    "# [?] - REMINDER : For Regression with 'mean_absolute_error'\n",
    "\n",
    "# Function for comparing different approaches\n",
    "# def score_dataset(X_train, X_test, y_train, y_test):\n",
    "#     model = RandomForestRegressor(n_estimators=100, random_state=0)\n",
    "#     model.fit(X_train, y_train)\n",
    "#     preds = model.predict(X_test)\n",
    "#     return mean_absolute_error(y_test, preds)\n",
    "\n",
    "# print(score_dataset(ohe_X_train, ohe_X_test, y_train, y_test))"
   ]
  }
 ],
 "metadata": {
  "kernelspec": {
   "display_name": "Python 3.10.5 64-bit",
   "language": "python",
   "name": "python3"
  },
  "language_info": {
   "codemirror_mode": {
    "name": "ipython",
    "version": 3
   },
   "file_extension": ".py",
   "mimetype": "text/x-python",
   "name": "python",
   "nbconvert_exporter": "python",
   "pygments_lexer": "ipython3",
   "version": "3.10.5"
  },
  "orig_nbformat": 4,
  "vscode": {
   "interpreter": {
    "hash": "26de051ba29f2982a8de78e945f0abaf191376122a1563185a90213a26c5da77"
   }
  }
 },
 "nbformat": 4,
 "nbformat_minor": 2
}

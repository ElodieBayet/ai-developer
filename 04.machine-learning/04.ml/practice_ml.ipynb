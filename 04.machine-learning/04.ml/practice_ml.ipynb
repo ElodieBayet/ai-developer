{
 "cells": [
  {
   "cell_type": "markdown",
   "metadata": {},
   "source": [
    "## **ML :** Practice\n",
    "\n",
    "#### _Réference pratique d'un Machine Learning par entrainement supervisé_\n",
    "\n",
    "🟠 `on work`\n",
    "\n",
    "---\n",
    "\n",
    "1. **Preprocessing**\n",
    "    * Extractions des variables\n",
    "    * Nettoyage des données\n",
    "    * Encodage des variables quantitatives\n",
    "    * Proto-modélisation\n",
    "    * Supression des valeurs aberrantes\n",
    "    * Feature Selection \n",
    "    * Feature Engineering\n",
    "    * Feature Scaling\n",
    "2. **Modeling**\n",
    "    * Fonction d’évaluation\n",
    "    * Entrainements multiples modèles\n",
    "    * Optimisation\n",
    "    * Analyse des erreurs\n",
    "    * Courbe d'aprentissage\n",
    "    * Décision"
   ]
  },
  {
   "cell_type": "markdown",
   "metadata": {},
   "source": [
    "---\n",
    "\n",
    "### **1.** Preprocessing"
   ]
  },
  {
   "cell_type": "markdown",
   "metadata": {},
   "source": [
    "##### **1.1** - Extraction des variables\n",
    "\n",
    "_Séparer les Features des Labels. Et, pour chaque set de Features et de Labels, isoler les données d'entrainement des données de test._"
   ]
  },
  {
   "cell_type": "markdown",
   "metadata": {},
   "source": [
    "**Extraction des _Variables explicatives_** – `X`\n",
    "* `X` : Les _Features_\n",
    "\n",
    "**Extraction des _Valeurs cibles_** – `y`\n",
    "* `y` : Le _Label_\n",
    "\n",
    "`---`"
   ]
  },
  {
   "cell_type": "markdown",
   "metadata": {},
   "source": [
    "**Création d'un set de _Données d'entrainement_** – `_train` = Serviront à entrainer le modèle de prédiction\n",
    "* `X_train` : _Features_ d'entrainement \n",
    "* `y_train` : _Target_ d'entrainement\n",
    "\n",
    "**Création d'un set de _Données de Test_** – `_test` = Serviront à tester le modèle entrainé avec des données qu'il ne connait pas\n",
    "* `X_test` : _Features_ de test\n",
    "* `y_test` : _Taget_ de test\n",
    "\n",
    "`---`"
   ]
  },
  {
   "cell_type": "markdown",
   "metadata": {},
   "source": [
    "**Outils** = Fonctions qui pemettent de _splitter_ des données – spécifique aux _Entrainements supervisés_, donc `classification` et `regression`\n",
    "* `sklearn.model_selection.train_test_split` : \n",
    "    * Arg. 1 : _Features_\n",
    "    * Arg. 2 : _Label_\n",
    "    * Arg. 3 : taille en dixièmes des données de tests (généralement 20%)\n",
    "    * Arg. 4 : code de randomisation à répercuter sur d'autres randomisation si lieues\n",
    "* `sklearn.model_selection.check_cv` :\n",
    "\n",
    "`---`"
   ]
  },
  {
   "cell_type": "markdown",
   "metadata": {},
   "source": [
    "##### **1.2** - Nettoyage des données\n",
    "\n",
    "_Remplir les valeurs manquantes par des valeurs similaires. S'il y a trop de données manquantes, opter pour une suppression de lignes et/ou de colonnes._"
   ]
  },
  {
   "cell_type": "markdown",
   "metadata": {},
   "source": [
    "**Traitement des données manquantes** – `NaN`, `\"\"`, `None` = Fournir un set de données sans provoquer d'erreurs techniques\n",
    "* `pd.DataFrame.drop('ma colonne', axis=1)` : Supprimer une colonne (_Feature_) entière\n",
    "* `sklearn.impute` : Imputer des valeurs cohérentes\n",
    "\n",
    "`---`"
   ]
  },
  {
   "cell_type": "markdown",
   "metadata": {},
   "source": [
    "**Outils** = Fonctions qui permettent de _remplir_ de manière pertinentes des données manquantes\n",
    "* `pd.DataFrame.fillna` : Remplacer chaque valeur nulle par une moyenne, une médiane, un mode, etc. \n",
    "* `sklearn.impute.SimpleImputer` : Technique similaire au `.fillna`\n",
    "* `sklearn.impute.KNNImputer` : Remplacer chaque valeur nulle en utilisant les _K-plus-proches-voisins_ (_k-Nearest Neighbors_)\n",
    "\n",
    "`---`"
   ]
  },
  {
   "cell_type": "markdown",
   "metadata": {},
   "source": [
    "##### **1.3** - Encodage des variables quantitatives"
   ]
  },
  {
   "cell_type": "markdown",
   "metadata": {},
   "source": [
    "_Attribuer des valeurs numériques que le machine peut comprendre à la place des valeurs textuelles, ou à la place de valeurs qui ne seraient pas intelligible par la machine. S'il y a des catégories redondantes, opter pour une suppression afin d'éviter le phénomène de multicolinéarité – quand 2 _Features_ expliquent la même chose._"
   ]
  },
  {
   "cell_type": "markdown",
   "metadata": {},
   "source": [
    "**Encodage de valeurs catégorielles** = Fournir des valeurs qui ont un sens numérique\n",
    "* `pd.DataFrame.drop('ma catégorie', axis=1)` : Supprimer une catégorie pour éviter le phénomène de multicolinéarité\n",
    "* `sklearn.preprocessing` : Décider d'une attribution de valeur selon un principe logique à chaque catégorie\n",
    "\n",
    "`---`"
   ]
  },
  {
   "cell_type": "markdown",
   "metadata": {},
   "source": [
    "**Outils** = Fonctions qui permettent _d'encoder_ des variables catégorielles\n",
    "* `pandas.get_dummies` :\n",
    "* `sklearn.preprocessing.OrdinalEncoder` : Créer un ordre catégoriel, une sorte de hiérarchie ordonnée de catégories (catégorie 1, catégorie 2, etc.)\n",
    "* `sklearn.preprocessing.OneHotEncoder` : Créer autant de colonnes qu’il y a de catégories avec une valeur de présence (`1`) ou d'absence (`0`) dans chaque ligne\n",
    "* `sklearn.preprocessing.LabelEncoder` : Assigner un entier correspondant à chaque catégorie et qui va de 0 à nbDeCatégorie-1\n",
    "\n",
    "`---`"
   ]
  },
  {
   "cell_type": "markdown",
   "metadata": {},
   "source": [
    "##### **1.4** - Proto-modélisation\n",
    "\n",
    "_Choix et entrainement d'un 1<sup>er</sup> modèle simple à des fins d'observation et d'analyse préliminaire._"
   ]
  },
  {
   "cell_type": "markdown",
   "metadata": {},
   "source": [
    "**Définition et entrainement** = Établir une première analyse préliminaire sur les prédictions à obtenir\n",
    "* `model_DT` : Instance d'un modèle d'arbre de _Decision_\n",
    "* `.fit` : Entrainer le modèle en construisant un arbre décisionnel de classification sur base de sets d'entrainement\n",
    "* `.predict` : Prédire une classification (ou une régression)\n",
    "* `.score` : Récupérer la moyenne précise sur les résultats de test\n",
    "\n",
    "`---`"
   ]
  },
  {
   "cell_type": "markdown",
   "metadata": {},
   "source": [
    "**Outils** = Modèles spécifiques au type de prédiction à faire \n",
    "* `sklearn.tree.DecisionTreeClassifier` : Apprentissage supervisé qui consiste à prédire un classement\n",
    "* `sklearn.tree.DecisionTreeRegressor` : Apprentissage supervisé qui consiter à prédire une quantité\n",
    "\n",
    "`---`"
   ]
  },
  {
   "cell_type": "markdown",
   "metadata": {},
   "source": [
    "##### **1.5** - Suppression des valeurs aberrantes\n",
    "\n",
    "_Traiter certaines valeurs qui pourraient être néfastes au modèle._"
   ]
  },
  {
   "cell_type": "markdown",
   "metadata": {},
   "source": [
    "**Outils** = \n",
    "* `sklearn.ensemble.IsolationForest` : \n",
    "* `sklearn.ensemble.RandomForestRegressor` :\n",
    "\n",
    "`---`"
   ]
  },
  {
   "cell_type": "markdown",
   "metadata": {},
   "source": [
    "##### **1.6** - Sélection des `Features` (Features selection)\n",
    "\n",
    "_Éliminer les variables avec une variance nulle, et les variables redondantes._"
   ]
  },
  {
   "cell_type": "markdown",
   "metadata": {},
   "source": [
    "**Outils** = \n",
    "* `sklearn.feature_selection.VarianceThreshold` :\n",
    "* `sklearn.feature_selection.SelectKBest` :\n",
    "\n",
    "`---`"
   ]
  },
  {
   "cell_type": "markdown",
   "metadata": {},
   "source": [
    "##### **1.7** - Ingénierie des `Features` (Features Engineering)\n",
    "\n",
    "_Créer (une sorte) de nouvelles Features sur base d'une Feature spécifique qui pourraient changer au cas par cas_"
   ]
  },
  {
   "cell_type": "markdown",
   "metadata": {},
   "source": [
    "`---`"
   ]
  },
  {
   "cell_type": "markdown",
   "metadata": {},
   "source": [
    "##### **1.8** - Mise à l'échelle des `Features` (Feature Scaling)\n",
    "\n",
    "_Standardiser les valeurs. Permettre au modèle d'avoir des Features avec la même magnitude. Beaucoup d'algorithmes sont construits sur des hypothèses, donc la mise à l'échelle facilite le calcul et augmente la robustesse. Ces hypthèses sont souvent violées dans la pratique, mais ça ne signifie pas que les résultats seront mauvais. Tout dépend à quel point ces hypothèses sont violées._"
   ]
  },
  {
   "cell_type": "markdown",
   "metadata": {},
   "source": [
    "**Outils** = Fonctions qui permettent de _mettre à l'échelle_ et _standardiser_ des valeurs\n",
    "* `sklearn.preprocessing.StandardScaler` : Standardiser la catégorie avec une moyenne de 0 et un écart type de 1, mettre la variance à l'échelle\n",
    "    * Xs = (X-u)/s : avec X = valeur d'un sample, s = écart type, u = moyenne\n",
    "* `sklearn.preprocessing.RobustScaler` : Principe similaire au StandardScaler mais avec la médiane et l'écart inter-quartile [Q1:Q3] qui ne sont pas sensibles aux _Outliers_\n",
    "* `sklearn.preprocessing.MinMaxScaler` : Standardiser la catégorie avec des valeurs comprises entre un minimum et un maximum, génaralement entre 0 et 1\n",
    "\n",
    "`---`"
   ]
  },
  {
   "cell_type": "markdown",
   "metadata": {},
   "source": [
    "---\n",
    "\n",
    "### **2.** Modeling"
   ]
  },
  {
   "cell_type": "markdown",
   "metadata": {},
   "source": [
    "##### **2.1** - Fonctions d'évaluations"
   ]
  },
  {
   "cell_type": "markdown",
   "metadata": {},
   "source": [
    "**Initialisation de la fonctions d'évaluation du score de validation**\n",
    "* ...\n",
    "\n",
    "**Outils**\n",
    "* `sklearn.model_selection.cross_val_score` : Evaluate metric(s) by cross-validation and also record fit/score times\n",
    "* `sklearn.model_selection.cross_validate` : \n",
    "* `sklearn.model_selection.cross_val_predict` : \n",
    "* `sklearn.model_selection.validation_curve` : "
   ]
  },
  {
   "cell_type": "markdown",
   "metadata": {},
   "source": [
    "**Modèle de cross-validation**\n",
    "* ...\n",
    "\n",
    "**Outils**\n",
    "* `sklearn.model_selection.KFold` : Division du train set en _k_ parties égales, de manière aléatoire. Le nombre de divisions va dépendre de la taille du jeu de données, il faut que le jeu de données de chaque division soit suffisamment grand que pour être statistiquement représentatif du dataset complet\n",
    "* `sklearn.model_selection.StratifiedKFold` :"
   ]
  },
  {
   "cell_type": "markdown",
   "metadata": {},
   "source": [
    "##### **2.2** - Entrainement des modèles"
   ]
  },
  {
   "cell_type": "markdown",
   "metadata": {},
   "source": [
    "**Modèle `KneighborsClassifier`**\n",
    "* ...\n",
    "\n",
    "**Modèle `LogisticRegression`**\n",
    "* ...\n",
    "\n",
    "**Modèle `RandomForestClassifier`**\n",
    "* ...\n",
    "\n",
    "`---`"
   ]
  },
  {
   "cell_type": "markdown",
   "metadata": {},
   "source": [
    "**Outils** = \n",
    "* `sklearn.neighbors.KNeighborsClassifier` :\n",
    "* `sklearn.linear_model.LogisticRegression` :\n",
    "* `sklearn.ensemble.RandomForestClassifier` :\n",
    "\n",
    "`---`"
   ]
  },
  {
   "cell_type": "markdown",
   "metadata": {},
   "source": [
    "##### **2.3** - Optimisation"
   ]
  },
  {
   "cell_type": "markdown",
   "metadata": {},
   "source": [
    "**Fixer les Hyper-paramètres** = \n",
    "* ..\n",
    "\n",
    "`---`"
   ]
  },
  {
   "cell_type": "markdown",
   "metadata": {},
   "source": [
    "**Outils**\n",
    "* `sklearn.model_selection.GridSearchCV` : Tester un modèle avec plusieurs valeurs pour les hyper-paramètres\n",
    "* `sklearn.model_selection.RandomizedSearchCV` : Similaire au `GridSearchCV` mais ne teste pas toutes les possibilités\n",
    "\n",
    "`---`"
   ]
  },
  {
   "cell_type": "markdown",
   "metadata": {},
   "source": [
    "##### **2.4** - Analyse d'erreurs"
   ]
  },
  {
   "cell_type": "markdown",
   "metadata": {},
   "source": [
    "##### **2.5** - Courbe d'apprentissage `Learning Curve`"
   ]
  },
  {
   "cell_type": "markdown",
   "metadata": {},
   "source": [
    "_Observer un éventuel sous-apprentissage (`Over-fitting`) ou sur-apprentissage (`Under-fitting`). Déterminer s'il faut récoler davantages de données afin de parfaire le modèle de prédictions._"
   ]
  },
  {
   "cell_type": "markdown",
   "metadata": {},
   "source": [
    "**Création d'une courbe d'apprentissage** = \n",
    "* `n_abs` : L'abscisse du nombre d'exemple d'entrainement effectués\n",
    "* `train_score` : Résultat pour chaque set d'entrainement\n",
    "* `val_score` : Résultat pour chaque set de test\n",
    "\n",
    "`---`"
   ]
  },
  {
   "cell_type": "markdown",
   "metadata": {},
   "source": [
    "**Outils** = Fonctions qui permettent d'évaluer la courbe d'apprentissage du modèle\n",
    "* `sklearn.model_selection.learning_curve` :\n",
    "    * Arg. 1 : `model_RF`,\n",
    "    * Arg. 2 : `X_train`, _Features_ d'entrainement\n",
    "    * Arg. 3 : `y_train`, _Label_ d'entrainement \n",
    "    * Arg. 4 : `cv=5`, _cross-validation_\n",
    "    * Arg. 5 : `train_sizes=np.linspace(0.1, 1, 10)`, \n",
    "    * Arg. 6 : `scoring='f1_macro'`, \n",
    "\n",
    "`---`"
   ]
  }
 ],
 "metadata": {
  "kernelspec": {
   "display_name": "Python 3.10.5 64-bit",
   "language": "python",
   "name": "python3"
  },
  "language_info": {
   "codemirror_mode": {
    "name": "ipython",
    "version": 3
   },
   "file_extension": ".py",
   "mimetype": "text/x-python",
   "name": "python",
   "nbconvert_exporter": "python",
   "pygments_lexer": "ipython3",
   "version": "3.12.1"
  },
  "orig_nbformat": 4,
  "vscode": {
   "interpreter": {
    "hash": "26de051ba29f2982a8de78e945f0abaf191376122a1563185a90213a26c5da77"
   }
  }
 },
 "nbformat": 4,
 "nbformat_minor": 2
}

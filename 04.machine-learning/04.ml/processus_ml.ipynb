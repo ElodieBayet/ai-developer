{
 "cells": [
  {
   "cell_type": "markdown",
   "metadata": {},
   "source": [
    "## **ML :** Processus\n",
    "\n",
    "#### _Processus d'un Machine Learning_\n",
    "\n",
    "🟠 `on work`\n",
    "\n",
    "---\n",
    "\n",
    "🔃 Processus multidirectionnel : certaines étapes peuvent être réeffectuées aux besoins de l'amélioration du modèle et en fonction des données\n",
    "\n",
    "1. **Preprocessing**\n",
    "    * Extractions et préparations\n",
    "    * Proto-modélisation\n",
    "        - _Évaluation de sa performance avant transformation des données_\n",
    "    * Supression des valeurs aberrantes\n",
    "        - _Si besoin, réevaluation du modèle_\n",
    "    * Feature Selection \n",
    "        - _Si besoin, réevaluation du modèle_\n",
    "    * Feature Engineering\n",
    "        - _Si besoin, réevaluation du modèle_\n",
    "    * Feature Scaling\n",
    "        - _Si besoin, réevaluation du modèle_\n",
    "2. **Modeling**\n",
    "    * Fonction d’évaluation\n",
    "    * Entrainements multiples modèles\n",
    "    * Optimisation\n",
    "    * Analyse des erreurs \n",
    "        - _Retour au Preprocessing/à l'EDA si besoin_\n",
    "    * Courbe d'aprentissage\n",
    "    * Décision"
   ]
  },
  {
   "cell_type": "markdown",
   "metadata": {},
   "source": [
    "---\n",
    "\n",
    "### **1.** Preprocessing"
   ]
  },
  {
   "cell_type": "markdown",
   "metadata": {},
   "source": [
    "##### **1.1** - Préparaton et extraction\n",
    "\n",
    "* _Y a-t-il des catégories à encoder et sont-elles ordinales ?_\n",
    "* _Quels moyens pertinents employer pour encoder les catégories ?_\n",
    "* _Quels sont les `Features` et quel est le `label` ?_\n",
    "* _Quel pourcentage de données pour l'entrainement et pour la validation ?_\n",
    "* _Comment traiter les valeurs nulles ?_\n",
    "* _Faut-il supprimer des lignes, des colonnes ?_"
   ]
  },
  {
   "cell_type": "markdown",
   "metadata": {},
   "source": [
    "##### **1.2** - Proto-modélisation\n",
    "\n",
    "* _Quel type d'apprentissage : supervisé, non-supervisé, essai-erreurs ?_\n",
    "* _Quel objectif de prédiction : classification, régression, etc. ?_\n",
    "* _Quelle configuration initialiser ?_\n",
    "* _Quelles prédictions sur les données d'entrainement et sur celles de test ?_\n",
    "* _Quels résultats obtenus ?_\n",
    "* _Quelles mesures sont à faire ?_\n",
    "* _Que déduire du score et comment l'améliorer ?_"
   ]
  },
  {
   "cell_type": "markdown",
   "metadata": {},
   "source": [
    "##### **1.3** - Suppression des valeurs aberrantes\n",
    "\n",
    "* _Y a-t-il des valeurs aberrantes à supprimer ?_\n",
    "* _Quelles technique employer pour supprimer les valeurs aberrantes ?_"
   ]
  },
  {
   "cell_type": "markdown",
   "metadata": {},
   "source": [
    "##### **1.4** - Feature Selection\n",
    "\n",
    "* _Faut-il faire une sélection de Features ?_\n",
    "* _Le modèle initial a-t-il permis d'identifier des Features à éliminer ?_"
   ]
  },
  {
   "cell_type": "markdown",
   "metadata": {},
   "source": [
    "##### **1.5** - Feature Engineering\n",
    "\n",
    "* _(cette matière n'a pas été couverte)_"
   ]
  },
  {
   "cell_type": "markdown",
   "metadata": {},
   "source": [
    "##### **1.6** - Feature Scaling\n",
    "\n",
    "* _?_"
   ]
  },
  {
   "cell_type": "markdown",
   "metadata": {},
   "source": [
    "---\n",
    "\n",
    "### **2.** Modeling"
   ]
  },
  {
   "cell_type": "markdown",
   "metadata": {},
   "source": [
    "##### **2.1** - Fonction d'évaluation\n",
    "\n",
    "* _Que cherche t-on à mesurer ?_"
   ]
  },
  {
   "cell_type": "markdown",
   "metadata": {},
   "source": [
    "##### **2.2** - Entrainements multiples\n",
    "\n",
    "* _Quels modèles permettraient un meilleur apprentissage ?_"
   ]
  },
  {
   "cell_type": "markdown",
   "metadata": {},
   "source": [
    "##### **2.3** - Optimisation\n",
    "\n",
    "* _Y a-t-il une amélioration avec `GrisSearchCV` ?_"
   ]
  },
  {
   "cell_type": "markdown",
   "metadata": {},
   "source": [
    "##### **2.4** - Analyse des erreurs\n",
    "\n",
    "* _?_"
   ]
  },
  {
   "cell_type": "markdown",
   "metadata": {},
   "source": [
    "##### **2.5** - Courbe d'apprentissage\n",
    "\n",
    "* _Que démontre la courbe d'aprentissage `Learning Curve` ?_ \n",
    "* _Faut-il récolter davantage de données pour améliorer le modèle ?_"
   ]
  }
 ],
 "metadata": {
  "kernelspec": {
   "display_name": "Python 3.10.5 64-bit",
   "language": "python",
   "name": "python3"
  },
  "language_info": {
   "name": "python",
   "version": "3.10.5"
  },
  "orig_nbformat": 4,
  "vscode": {
   "interpreter": {
    "hash": "26de051ba29f2982a8de78e945f0abaf191376122a1563185a90213a26c5da77"
   }
  }
 },
 "nbformat": 4,
 "nbformat_minor": 2
}

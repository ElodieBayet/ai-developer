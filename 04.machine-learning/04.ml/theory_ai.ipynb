{
 "cells": [
  {
   "cell_type": "markdown",
   "metadata": {},
   "source": [
    "## **Artificial Intelligence :** Theory\n",
    "\n",
    "#### _Théorie portant sur l'Intelligence Artificielle_\n",
    "\n",
    "🟠 `on work`\n",
    "\n",
    "---\n",
    "\n",
    "1. **Vocabulaire**\n",
    "2. **Descriptions**\n",
    "3. **Machine Learning**\n",
    "    * Librairie `scikit-learn`\n",
    "4. **Deep Learning**"
   ]
  },
  {
   "cell_type": "markdown",
   "metadata": {},
   "source": [
    "---\n",
    "\n",
    "### **3.** Machine Learning"
   ]
  },
  {
   "cell_type": "markdown",
   "metadata": {},
   "source": [
    "##### **3.9** - Librairie `scikit-learn`"
   ]
  },
  {
   "cell_type": "markdown",
   "metadata": {},
   "source": [
    "**Modeling**\n",
    "\n",
    "Choix du modèle en fonction des objectifs, Classification, Régression, Clustering, etc."
   ]
  },
  {
   "cell_type": "code",
   "execution_count": null,
   "metadata": {},
   "outputs": [],
   "source": [
    "# Tree :: Modèles d'arbres de décisions\n",
    "from sklearn.tree import DecisionTreeClassifier\n",
    "\n",
    "# Splitter Functions and Classes :: Sépararer de données d'entrainement et de test\n",
    "from sklearn.model_selection import train_test_split\n",
    "from sklearn.model_selection import KFold\n",
    "from sklearn.model_selection import StratifiedKFold\n",
    "\n",
    "# Model Validation Function :: Évaluer et valider le modèle choisi\n",
    "from sklearn.model_selection import cross_val_score\n",
    "\n",
    "# Ensemble :: Détecter des valeurs aberrantes en Classification et Régression\n",
    "from sklearn.ensemble import IsolationForest \n",
    "from sklearn.ensemble import RandomForestRegressor\n",
    "\n",
    "# Covariance :: \n",
    "from sklearn.covariance import EllipticEnvelope"
   ]
  },
  {
   "cell_type": "markdown",
   "metadata": {},
   "source": [
    "**Preprocessing**\n",
    "\n",
    "Encodage des variables catégorielles (_Dummies_). Mise-à-l'échelle des Features (_Features Scaling_). Traitements des données nulles."
   ]
  },
  {
   "cell_type": "code",
   "execution_count": null,
   "metadata": {},
   "outputs": [],
   "source": [
    "# Dummies :: Encodager des variables quantitatives (catégorielles)\n",
    "from sklearn.preprocessing import OrdinalEncoder\n",
    "from sklearn.preprocessing import OneHotEncoder\n",
    "from sklearn.preprocessing import LabelEncoder\n",
    "\n",
    "# Scaling :: Mettre à l'échelle et standardiser des variables quantitatives\n",
    "from sklearn.preprocessing import StandardScaler\n",
    "from sklearn.preprocessing import RobustScaler\n",
    "from sklearn.preprocessing import MinMaxScaler\n",
    "\n",
    "# Imputer :: Transformeur pour compléter les valeurs manquantes\n",
    "from sklearn.impute import KNNImputer\n",
    "from sklearn.impute import SimpleImputer"
   ]
  }
 ],
 "metadata": {
  "kernelspec": {
   "display_name": "Python 3.10.5 64-bit",
   "language": "python",
   "name": "python3"
  },
  "language_info": {
   "name": "python",
   "version": "3.10.5"
  },
  "orig_nbformat": 4,
  "vscode": {
   "interpreter": {
    "hash": "26de051ba29f2982a8de78e945f0abaf191376122a1563185a90213a26c5da77"
   }
  }
 },
 "nbformat": 4,
 "nbformat_minor": 2
}

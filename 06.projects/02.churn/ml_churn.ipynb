{
 "cells": [
  {
   "cell_type": "markdown",
   "metadata": {},
   "source": [
    "## **ML :** Customer Churn\n",
    "\n",
    "#### _Customer Churn Dataset_\n",
    "\n",
    "🟠 `on work`\n",
    "\n",
    "---\n",
    "\n",
    "1. **Preprocessing**\n",
    "    * Extractions des variables\n",
    "    * Proto-modélisation\n",
    "    * Supression des valeurs aberrantes\n",
    "    * Feature Selection\n",
    "    * Feature Engineering\n",
    "    * Feature Scaling\n",
    "2. **Modeling**\n",
    "    * Fonction d’évaluation\n",
    "    * Entrainements multiples modèles\n",
    "    * Optimisation\n",
    "    * Analyse des erreurs\n",
    "    * Courbe d'aprentissage\n",
    "    * Décision"
   ]
  },
  {
   "cell_type": "markdown",
   "metadata": {},
   "source": [
    "**Librairies**"
   ]
  },
  {
   "cell_type": "code",
   "execution_count": 501,
   "metadata": {},
   "outputs": [],
   "source": [
    "import numpy as np\n",
    "import pandas as pd\n",
    "import matplotlib.pyplot as plt\n",
    "import seaborn as sns"
   ]
  },
  {
   "cell_type": "markdown",
   "metadata": {},
   "source": [
    "**ML objects**"
   ]
  },
  {
   "cell_type": "code",
   "execution_count": 502,
   "metadata": {},
   "outputs": [],
   "source": [
    "# Models\n",
    "# • DecisionTree\n",
    "from sklearn.tree import DecisionTreeClassifier\n",
    "from sklearn.tree import plot_tree\n",
    "# • RandomForest\n",
    "# from sklearn.ensemble import RandomForestClassifier\n",
    "# - -\n",
    "# Evaluation, tuning, etc.\n",
    "from sklearn.model_selection import train_test_split\n",
    "# from sklearn.model_selection import GridSearchCV\n",
    "# - -\n",
    "# Preprocessing\n",
    "from sklearn.preprocessing import LabelEncoder, OneHotEncoder\n",
    "# - -\n",
    "# Metrics\n",
    "from sklearn.metrics import classification_report\n",
    "from sklearn.metrics import confusion_matrix\n",
    "from sklearn.metrics import ConfusionMatrixDisplay\n",
    "# from sklearn.metrics import accuracy_score\n",
    "# from sklearn.metrics import average_precision_score\n",
    "# from sklearn.metrics import precision_score"
   ]
  },
  {
   "cell_type": "markdown",
   "metadata": {},
   "source": [
    "**User Code**"
   ]
  },
  {
   "cell_type": "code",
   "execution_count": 503,
   "metadata": {},
   "outputs": [],
   "source": [
    "# Reserved keywords for objects\n",
    "df = pd.DataFrame\n",
    "le = LabelEncoder\n",
    "cm = confusion_matrix\n",
    "cm_d = ConfusionMatrixDisplay\n",
    "cr = classification_report"
   ]
  },
  {
   "cell_type": "code",
   "execution_count": 504,
   "metadata": {},
   "outputs": [],
   "source": [
    "def extract_x_y(dataframe:pd.DataFrame, target:str|list[str]) -> tuple :\n",
    "    \"\"\"Extract Features and Target from dataset\n",
    "\n",
    "    Args:\n",
    "        dataframe (pd.DataFrame): Dataframe to extract columns from\n",
    "        target (str | list[str]): Target name\n",
    "\n",
    "    Returns:\n",
    "        tuple: Feature as X, and Label as y\n",
    "    \"\"\"\n",
    "\n",
    "    y = dataframe[target] \n",
    "    X = dataframe.drop(columns=target)\n",
    "\n",
    "    display(\n",
    "        y.unique(),\n",
    "        X.columns.to_list()\n",
    "    )\n",
    "\n",
    "    return X, y"
   ]
  },
  {
   "cell_type": "code",
   "execution_count": 505,
   "metadata": {},
   "outputs": [],
   "source": [
    "def save_cm(cm:list, name:str) -> None :\n",
    "    \"\"\"Save a Confusion Matrix as CSV file in `./_outputs/` subdirectory\n",
    "\n",
    "    Args:\n",
    "        cm (list): Confusion Matrix built from `sklearn.metrics`\n",
    "        name (str): A lowercase spaceless text for file name\n",
    "    \"\"\"\n",
    "        \n",
    "    df = pd.DataFrame({\n",
    "        'Yes': [cm[0,0], cm[1,0]],\n",
    "        'No': [cm[1,0], cm[1,1]]\n",
    "    }, index=['True Yes', 'True No'])\n",
    "    \n",
    "    df.to_csv(f'./_outputs/cm_{name}.csv')"
   ]
  },
  {
   "cell_type": "code",
   "execution_count": 506,
   "metadata": {},
   "outputs": [],
   "source": [
    "def encode_categorie(X:pd.DataFrame, feature:str) -> pd.DataFrame :\n",
    "    \"\"\"Encode ... only ONE category because what I tried DoEsN't ****ing WoRk aS I wAnTed x__X ..GNÉ\n",
    "\n",
    "    Args:\n",
    "        X (pd.DataFrame): Dataset as Pandas DataFrame\n",
    "        features (str): ONLY ONE F***ING column to encode\n",
    "\n",
    "    Returns:\n",
    "        pd.DataFrame: DataFrame with encoded categories without the original columns\n",
    "    \"\"\"\n",
    "    \n",
    "    categories = X[feature].unique()\n",
    "\n",
    "    # TODO : loop on features:list[str] ; .append(ft) in categories ; categories=categories\n",
    "    \n",
    "    ohe = OneHotEncoder(categories=[categories], dtype=np.int8)\n",
    "    X_trans = ohe.fit_transform(X[[feature]])\n",
    "    X[ohe.categories_[0]] = X_trans.toarray()\n",
    "    \n",
    "    X.drop(columns=[feature], axis=1, inplace=True)\n",
    "    X.drop(columns=categories[-1], axis=1, inplace=True)\n",
    "    \n",
    "    return X"
   ]
  },
  {
   "cell_type": "markdown",
   "metadata": {},
   "source": [
    "**Notebook setup**"
   ]
  },
  {
   "cell_type": "code",
   "execution_count": 507,
   "metadata": {},
   "outputs": [
    {
     "data": {
      "image/png": "[encoded data removed]",
      "text/html": [
       "<div style=\"vertical-align: middle;\"><strong>icefire</strong> </div><div class=\"cmap\"><img alt=\"icefire colormap\" title=\"icefire\" style=\"border: 1px solid #555;\" src=\"data:image/png;base64,iVBORw0KGgoAAAANSUhEUgAAAgAAAABACAYAAABsv8+/AAAAFnRFWHRUaXRsZQBpY2VmaXJlIGNvbG9ybWFwvkjy7gAAABx0RVh0RGVzY3JpcHRpb24AaWNlZmlyZSBjb2xvcm1hcBlmQ5cAAAAwdEVYdEF1dGhvcgBNYXRwbG90bGliIHYzLjUuMywgaHR0cHM6Ly9tYXRwbG90bGliLm9yZ2fR6JIAAAAydEVYdFNvZnR3YXJlAE1hdHBsb3RsaWIgdjMuNS4zLCBodHRwczovL21hdHBsb3RsaWIub3JnSXd3tQAAAm1JREFUeJzt1sFx2zAQBVCAVP8VpZIUkCpMIgeDdAAJke7/vct6FwuYMx7P/Prrz+9WSinH2UoppZxnKf/27+bHar/N8w/7Np+v9lbvzecf1r5/TvNP+3WtH+21vtfufqpH7RdKr98fXI8yzOs0367+np/TvPd9fvX1PMb+OF6el3uv9+1rmJfza5p/19b7Np3/zI+xn/Z/5vPeMeydq/Nez/P4/zv9D3C2eW+u5/ju3Z8v98rT+VTLtFfadK/3ZT6/5mNtZZ5/q1dtU/+mbv2nu6/15fl23at1nNfx/Hk+9vvifP9wf1/N+xfM7+2L95/O73l5PX+6N+8t+qf9N/X+/W3ot/6H/dlrQ73Pr/3t9fk9317Pt61Mfa/763m95+W/87q3qa/DXr3u3/NV7Yu91v7gNa97f7DXVX/Pt3nvMe09+t5jsfeY3nmM56v5u3v39037i++6/v8AgCACAAAEEgAAIJAAAACBBAAACCQAAEAgAQAAAgkAABBIAACAQAIAAAQSAAAgkAAAAIEEAAAIJAAAQCABAAACCQAAEEgAAIBAAgAABBIAACCQAAAAgQQAAAgkAABAIAEAAAIJAAAQSAAAgEACAAAEEgAAIJAAAACBBAAACCQAAEAgAQAAAgkAABBIAACAQAIAAAQSAAAgkAAAAIEEAAAIJAAAQCABAAACCQAAEEgAAIBAAgAABBIAACCQAAAAgQQAAAgkAABAIAEAAAIJAAAQSAAAgEACAAAEEgAAIJAAAACBBAAACCQAAEAgAQAAAgkAABBIAACAQAIAAAQSAAAgkAAAAIEEAAAIJAAAQCABAAAC/QWSkzsLHuawCwAAAABJRU5ErkJggg==\"></div><div style=\"vertical-align: middle; max-width: 514px; display: flex; justify-content: space-between;\"><div style=\"float: left;\"><div title=\"#bde7dbff\" style=\"display: inline-block; width: 1em; height: 1em; margin: 0; vertical-align: middle; border: 1px solid #555; background-color: #bde7dbff;\"></div> under</div><div style=\"margin: 0 auto; display: inline-block;\">bad <div title=\"#00000000\" style=\"display: inline-block; width: 1em; height: 1em; margin: 0; vertical-align: middle; border: 1px solid #555; background-color: #00000000;\"></div></div><div style=\"float: right;\">over <div title=\"#ffd4acff\" style=\"display: inline-block; width: 1em; height: 1em; margin: 0; vertical-align: middle; border: 1px solid #555; background-color: #ffd4acff;\"></div></div>"
      ],
      "text/plain": [
       "<matplotlib.colors.ListedColormap at 0x254750c7e50>"
      ]
     },
     "execution_count": 507,
     "metadata": {},
     "output_type": "execute_result"
    }
   ],
   "source": [
    "# Colour codes\n",
    "mean_c = '#FFFFFF'\n",
    "median_c = '#c2e800'\n",
    "default_c = '#336699'\n",
    "palette_c = [\n",
    "    '#b8e600', # Limon\n",
    "    '#e60073' # Magenta\n",
    "]\n",
    "\n",
    "# Pandas\n",
    "pd.options.display.max_rows = 30\n",
    "pd.options.display.min_rows = 6\n",
    "\n",
    "# Matplotlib\n",
    "plt.style.use('dark_background')\n",
    "\n",
    "plt.rcParams['figure.facecolor'] = '#242428'\n",
    "plt.rcParams['axes.facecolor'] = '#242428'\n",
    "plt.rcParams['axes.titleweight'] = 'bold'\n",
    "\n",
    "# Seaborn : display crest, mako, rocket, ...\n",
    "sns.color_palette(\"icefire\", as_cmap=True)"
   ]
  },
  {
   "cell_type": "markdown",
   "metadata": {},
   "source": [
    "**Customer Churn**\n",
    "\n",
    "(_no url_)"
   ]
  },
  {
   "cell_type": "code",
   "execution_count": 508,
   "metadata": {},
   "outputs": [
    {
     "data": {
      "text/html": [
       "<div>\n",
       "<style scoped>\n",
       "    .dataframe tbody tr th:only-of-type {\n",
       "        vertical-align: middle;\n",
       "    }\n",
       "\n",
       "    .dataframe tbody tr th {\n",
       "        vertical-align: top;\n",
       "    }\n",
       "\n",
       "    .dataframe thead th {\n",
       "        text-align: right;\n",
       "    }\n",
       "</style>\n",
       "<table border=\"1\" class=\"dataframe\">\n",
       "  <thead>\n",
       "    <tr style=\"text-align: right;\">\n",
       "      <th></th>\n",
       "      <th>CreditScore</th>\n",
       "      <th>Geography</th>\n",
       "      <th>Age</th>\n",
       "      <th>Balance</th>\n",
       "      <th>NumOfProducts</th>\n",
       "      <th>IsActiveMember</th>\n",
       "      <th>Exited</th>\n",
       "    </tr>\n",
       "  </thead>\n",
       "  <tbody>\n",
       "    <tr>\n",
       "      <th>0</th>\n",
       "      <td>619</td>\n",
       "      <td>France</td>\n",
       "      <td>42</td>\n",
       "      <td>0.00</td>\n",
       "      <td>1</td>\n",
       "      <td>1</td>\n",
       "      <td>Yes</td>\n",
       "    </tr>\n",
       "    <tr>\n",
       "      <th>1</th>\n",
       "      <td>608</td>\n",
       "      <td>Spain</td>\n",
       "      <td>41</td>\n",
       "      <td>83807.86</td>\n",
       "      <td>1</td>\n",
       "      <td>1</td>\n",
       "      <td>No</td>\n",
       "    </tr>\n",
       "    <tr>\n",
       "      <th>2</th>\n",
       "      <td>502</td>\n",
       "      <td>France</td>\n",
       "      <td>42</td>\n",
       "      <td>159660.80</td>\n",
       "      <td>3</td>\n",
       "      <td>0</td>\n",
       "      <td>Yes</td>\n",
       "    </tr>\n",
       "  </tbody>\n",
       "</table>\n",
       "</div>"
      ],
      "text/plain": [
       "   CreditScore Geography  Age    Balance  NumOfProducts  IsActiveMember Exited\n",
       "0          619    France   42       0.00              1               1    Yes\n",
       "1          608     Spain   41   83807.86              1               1     No\n",
       "2          502    France   42  159660.80              3               0    Yes"
      ]
     },
     "execution_count": 508,
     "metadata": {},
     "output_type": "execute_result"
    }
   ],
   "source": [
    "# (!) - Version 1\n",
    "churn_1_file_path = './_datasets/churn_data_prepare_1.csv'\n",
    "churn_1_data = pd.read_csv(churn_1_file_path)\n",
    "churn_1_data['Exited'] = churn_1_data['Exited'].astype('category')\n",
    "\n",
    "churn_1_data.head(3)"
   ]
  },
  {
   "cell_type": "code",
   "execution_count": 509,
   "metadata": {},
   "outputs": [
    {
     "data": {
      "text/html": [
       "<div>\n",
       "<style scoped>\n",
       "    .dataframe tbody tr th:only-of-type {\n",
       "        vertical-align: middle;\n",
       "    }\n",
       "\n",
       "    .dataframe tbody tr th {\n",
       "        vertical-align: top;\n",
       "    }\n",
       "\n",
       "    .dataframe thead th {\n",
       "        text-align: right;\n",
       "    }\n",
       "</style>\n",
       "<table border=\"1\" class=\"dataframe\">\n",
       "  <thead>\n",
       "    <tr style=\"text-align: right;\">\n",
       "      <th></th>\n",
       "      <th>Geography</th>\n",
       "      <th>Age</th>\n",
       "      <th>Balance</th>\n",
       "      <th>IsActiveMember</th>\n",
       "      <th>Exited</th>\n",
       "    </tr>\n",
       "  </thead>\n",
       "  <tbody>\n",
       "    <tr>\n",
       "      <th>0</th>\n",
       "      <td>France</td>\n",
       "      <td>42</td>\n",
       "      <td>0.00</td>\n",
       "      <td>1</td>\n",
       "      <td>Yes</td>\n",
       "    </tr>\n",
       "    <tr>\n",
       "      <th>1</th>\n",
       "      <td>Spain</td>\n",
       "      <td>41</td>\n",
       "      <td>83807.86</td>\n",
       "      <td>1</td>\n",
       "      <td>No</td>\n",
       "    </tr>\n",
       "    <tr>\n",
       "      <th>2</th>\n",
       "      <td>France</td>\n",
       "      <td>42</td>\n",
       "      <td>159660.80</td>\n",
       "      <td>0</td>\n",
       "      <td>Yes</td>\n",
       "    </tr>\n",
       "  </tbody>\n",
       "</table>\n",
       "</div>"
      ],
      "text/plain": [
       "  Geography  Age    Balance  IsActiveMember Exited\n",
       "0    France   42       0.00               1    Yes\n",
       "1     Spain   41   83807.86               1     No\n",
       "2    France   42  159660.80               0    Yes"
      ]
     },
     "execution_count": 509,
     "metadata": {},
     "output_type": "execute_result"
    }
   ],
   "source": [
    "# (!) - Version 2\n",
    "churn_2_file_path = './_datasets/churn_data_prepare_2.csv'\n",
    "churn_2_data = pd.read_csv(churn_2_file_path)\n",
    "churn_2_data['Exited'] = churn_2_data['Exited'].astype('category')\n",
    "\n",
    "churn_2_data.head(3)"
   ]
  },
  {
   "cell_type": "markdown",
   "metadata": {},
   "source": [
    "---\n",
    "\n",
    "### **1.** Preprocessing"
   ]
  },
  {
   "cell_type": "markdown",
   "metadata": {},
   "source": [
    "##### **1.1** - Préparations et extractions"
   ]
  },
  {
   "cell_type": "markdown",
   "metadata": {},
   "source": [
    "Extraction des _Features_ et du _Label_"
   ]
  },
  {
   "cell_type": "code",
   "execution_count": 564,
   "metadata": {},
   "outputs": [
    {
     "data": {
      "text/plain": [
       "['Yes', 'No']\n",
       "Categories (2, object): ['No', 'Yes']"
      ]
     },
     "metadata": {},
     "output_type": "display_data"
    },
    {
     "data": {
      "text/plain": [
       "['CreditScore',\n",
       " 'Geography',\n",
       " 'Age',\n",
       " 'Balance',\n",
       " 'NumOfProducts',\n",
       " 'IsActiveMember']"
      ]
     },
     "metadata": {},
     "output_type": "display_data"
    }
   ],
   "source": [
    "# (!) - Extraction from Set 1\n",
    "X_1, y_1 = extract_x_y(churn_1_data, 'Exited')"
   ]
  },
  {
   "cell_type": "code",
   "execution_count": 565,
   "metadata": {},
   "outputs": [
    {
     "data": {
      "text/plain": [
       "['Yes', 'No']\n",
       "Categories (2, object): ['No', 'Yes']"
      ]
     },
     "metadata": {},
     "output_type": "display_data"
    },
    {
     "data": {
      "text/plain": [
       "['Geography', 'Age', 'Balance', 'IsActiveMember']"
      ]
     },
     "metadata": {},
     "output_type": "display_data"
    }
   ],
   "source": [
    "# (!) - Extraction from Set 2\n",
    "X_2, y_2 = extract_x_y(churn_2_data, 'Exited')"
   ]
  },
  {
   "cell_type": "markdown",
   "metadata": {},
   "source": [
    "Encodage des variables quantitatives"
   ]
  },
  {
   "cell_type": "code",
   "execution_count": 514,
   "metadata": {},
   "outputs": [
    {
     "data": {
      "text/html": [
       "<div>\n",
       "<style scoped>\n",
       "    .dataframe tbody tr th:only-of-type {\n",
       "        vertical-align: middle;\n",
       "    }\n",
       "\n",
       "    .dataframe tbody tr th {\n",
       "        vertical-align: top;\n",
       "    }\n",
       "\n",
       "    .dataframe thead th {\n",
       "        text-align: right;\n",
       "    }\n",
       "</style>\n",
       "<table border=\"1\" class=\"dataframe\">\n",
       "  <thead>\n",
       "    <tr style=\"text-align: right;\">\n",
       "      <th></th>\n",
       "      <th>CreditScore</th>\n",
       "      <th>Age</th>\n",
       "      <th>Balance</th>\n",
       "      <th>NumOfProducts</th>\n",
       "      <th>IsActiveMember</th>\n",
       "      <th>France</th>\n",
       "      <th>Spain</th>\n",
       "    </tr>\n",
       "  </thead>\n",
       "  <tbody>\n",
       "    <tr>\n",
       "      <th>0</th>\n",
       "      <td>619</td>\n",
       "      <td>42</td>\n",
       "      <td>0.00</td>\n",
       "      <td>1</td>\n",
       "      <td>1</td>\n",
       "      <td>1</td>\n",
       "      <td>0</td>\n",
       "    </tr>\n",
       "    <tr>\n",
       "      <th>1</th>\n",
       "      <td>608</td>\n",
       "      <td>41</td>\n",
       "      <td>83807.86</td>\n",
       "      <td>1</td>\n",
       "      <td>1</td>\n",
       "      <td>0</td>\n",
       "      <td>1</td>\n",
       "    </tr>\n",
       "    <tr>\n",
       "      <th>2</th>\n",
       "      <td>502</td>\n",
       "      <td>42</td>\n",
       "      <td>159660.80</td>\n",
       "      <td>3</td>\n",
       "      <td>0</td>\n",
       "      <td>1</td>\n",
       "      <td>0</td>\n",
       "    </tr>\n",
       "    <tr>\n",
       "      <th>3</th>\n",
       "      <td>699</td>\n",
       "      <td>39</td>\n",
       "      <td>0.00</td>\n",
       "      <td>2</td>\n",
       "      <td>0</td>\n",
       "      <td>1</td>\n",
       "      <td>0</td>\n",
       "    </tr>\n",
       "    <tr>\n",
       "      <th>4</th>\n",
       "      <td>850</td>\n",
       "      <td>43</td>\n",
       "      <td>125510.82</td>\n",
       "      <td>1</td>\n",
       "      <td>1</td>\n",
       "      <td>0</td>\n",
       "      <td>1</td>\n",
       "    </tr>\n",
       "  </tbody>\n",
       "</table>\n",
       "</div>"
      ],
      "text/plain": [
       "   CreditScore  Age    Balance  NumOfProducts  IsActiveMember  France  Spain\n",
       "0          619   42       0.00              1               1       1      0\n",
       "1          608   41   83807.86              1               1       0      1\n",
       "2          502   42  159660.80              3               0       1      0\n",
       "3          699   39       0.00              2               0       1      0\n",
       "4          850   43  125510.82              1               1       0      1"
      ]
     },
     "execution_count": 514,
     "metadata": {},
     "output_type": "execute_result"
    }
   ],
   "source": [
    "# (!) - Encode Categories 'Geography'\n",
    "X_1 = encode_categorie(X_1, 'Geography')\n",
    "X_2 = encode_categorie(X_2, 'Geography')\n",
    "\n",
    "X_1.head()\n"
   ]
  },
  {
   "cell_type": "markdown",
   "metadata": {},
   "source": [
    "Isolation des données d'entrainement et de test"
   ]
  },
  {
   "cell_type": "code",
   "execution_count": 521,
   "metadata": {},
   "outputs": [
    {
     "data": {
      "text/plain": [
       "'Ver. 1 :: train (7500, 7) - test (2500, 7)'"
      ]
     },
     "metadata": {},
     "output_type": "display_data"
    },
    {
     "data": {
      "text/plain": [
       "'Ver. 2 :: train (7500, 5) - test (2500, 5)'"
      ]
     },
     "metadata": {},
     "output_type": "display_data"
    }
   ],
   "source": [
    "# (!) - 25 % for test\n",
    "X1_train, X1_test, y1_train, y1_test = train_test_split(X_1, y_1, test_size=.25, random_state=5)\n",
    "X2_train, X2_test, y2_train, y2_test = train_test_split(X_2, y_2, test_size=.25, random_state=5)\n",
    "\n",
    "display(\n",
    "    f\"Ver. 1 :: train {X1_train.shape} - test {X1_test.shape}\",\n",
    "    f\"Ver. 2 :: train {X2_train.shape} - test {X2_test.shape}\"\n",
    ")"
   ]
  },
  {
   "cell_type": "code",
   "execution_count": 522,
   "metadata": {},
   "outputs": [
    {
     "data": {
      "text/html": [
       "<div>\n",
       "<style scoped>\n",
       "    .dataframe tbody tr th:only-of-type {\n",
       "        vertical-align: middle;\n",
       "    }\n",
       "\n",
       "    .dataframe tbody tr th {\n",
       "        vertical-align: top;\n",
       "    }\n",
       "\n",
       "    .dataframe thead th {\n",
       "        text-align: right;\n",
       "    }\n",
       "</style>\n",
       "<table border=\"1\" class=\"dataframe\">\n",
       "  <thead>\n",
       "    <tr style=\"text-align: right;\">\n",
       "      <th></th>\n",
       "      <th>Label Entrainement 1</th>\n",
       "      <th>Label Test 1</th>\n",
       "    </tr>\n",
       "  </thead>\n",
       "  <tbody>\n",
       "    <tr>\n",
       "      <th>count</th>\n",
       "      <td>7500</td>\n",
       "      <td>2500</td>\n",
       "    </tr>\n",
       "    <tr>\n",
       "      <th>unique</th>\n",
       "      <td>2</td>\n",
       "      <td>2</td>\n",
       "    </tr>\n",
       "    <tr>\n",
       "      <th>top</th>\n",
       "      <td>No</td>\n",
       "      <td>No</td>\n",
       "    </tr>\n",
       "    <tr>\n",
       "      <th>freq</th>\n",
       "      <td>5964</td>\n",
       "      <td>1999</td>\n",
       "    </tr>\n",
       "    <tr>\n",
       "      <th>percent of no</th>\n",
       "      <td>79.52</td>\n",
       "      <td>79.96</td>\n",
       "    </tr>\n",
       "  </tbody>\n",
       "</table>\n",
       "</div>"
      ],
      "text/plain": [
       "              Label Entrainement 1 Label Test 1\n",
       "count                         7500         2500\n",
       "unique                           2            2\n",
       "top                             No           No\n",
       "freq                          5964         1999\n",
       "percent of no                79.52        79.96"
      ]
     },
     "execution_count": 522,
     "metadata": {},
     "output_type": "execute_result"
    }
   ],
   "source": [
    "# (!) - Both labels have same division and same % of `No`\n",
    "pd.concat([\n",
    "    pd.DataFrame({\n",
    "    'Label Entrainement 1': y1_train.describe(),\n",
    "    'Label Test 1': y1_test.describe()\n",
    "    }),\n",
    "    pd.Series([\n",
    "        (y1_train.describe()[3] / y1_train.count()) * 100,\n",
    "        (y1_test.describe()[3] / y1_test.count()) * 100\n",
    "    ], name='percent of no', index=['Label Entrainement 1', 'Label Test 1']).to_frame().T\n",
    "])"
   ]
  },
  {
   "cell_type": "code",
   "execution_count": 523,
   "metadata": {},
   "outputs": [
    {
     "data": {
      "text/html": [
       "<div>\n",
       "<style scoped>\n",
       "    .dataframe tbody tr th:only-of-type {\n",
       "        vertical-align: middle;\n",
       "    }\n",
       "\n",
       "    .dataframe tbody tr th {\n",
       "        vertical-align: top;\n",
       "    }\n",
       "\n",
       "    .dataframe thead th {\n",
       "        text-align: right;\n",
       "    }\n",
       "</style>\n",
       "<table border=\"1\" class=\"dataframe\">\n",
       "  <thead>\n",
       "    <tr style=\"text-align: right;\">\n",
       "      <th></th>\n",
       "      <th>Label Entrainement 2</th>\n",
       "      <th>Label Test 2</th>\n",
       "    </tr>\n",
       "  </thead>\n",
       "  <tbody>\n",
       "    <tr>\n",
       "      <th>count</th>\n",
       "      <td>7500</td>\n",
       "      <td>2500</td>\n",
       "    </tr>\n",
       "    <tr>\n",
       "      <th>unique</th>\n",
       "      <td>2</td>\n",
       "      <td>2</td>\n",
       "    </tr>\n",
       "    <tr>\n",
       "      <th>top</th>\n",
       "      <td>No</td>\n",
       "      <td>No</td>\n",
       "    </tr>\n",
       "    <tr>\n",
       "      <th>freq</th>\n",
       "      <td>5964</td>\n",
       "      <td>1999</td>\n",
       "    </tr>\n",
       "    <tr>\n",
       "      <th>percent of no</th>\n",
       "      <td>79.52</td>\n",
       "      <td>79.96</td>\n",
       "    </tr>\n",
       "  </tbody>\n",
       "</table>\n",
       "</div>"
      ],
      "text/plain": [
       "              Label Entrainement 2 Label Test 2\n",
       "count                         7500         2500\n",
       "unique                           2            2\n",
       "top                             No           No\n",
       "freq                          5964         1999\n",
       "percent of no                79.52        79.96"
      ]
     },
     "execution_count": 523,
     "metadata": {},
     "output_type": "execute_result"
    }
   ],
   "source": [
    "# (!) - Both labels have same division and same % of `No`\n",
    "pd.concat([\n",
    "    pd.DataFrame({\n",
    "    'Label Entrainement 2': y2_train.describe(),\n",
    "    'Label Test 2': y2_test.describe()\n",
    "    }),\n",
    "    pd.Series([\n",
    "        (y2_train.describe()[3] / y2_train.count()) * 100,\n",
    "        (y2_test.describe()[3] / y2_test.count()) * 100\n",
    "    ], name='percent of no', index=['Label Entrainement 2', 'Label Test 2']).to_frame().T\n",
    "])"
   ]
  },
  {
   "cell_type": "markdown",
   "metadata": {},
   "source": [
    "##### **1.2** - Proto-modélisation `v.1`"
   ]
  },
  {
   "cell_type": "markdown",
   "metadata": {},
   "source": [
    "Définition et entrainement"
   ]
  },
  {
   "cell_type": "code",
   "execution_count": 524,
   "metadata": {},
   "outputs": [
    {
     "data": {
      "text/plain": [
       "DecisionTreeClassifier()"
      ]
     },
     "execution_count": 524,
     "metadata": {},
     "output_type": "execute_result"
    }
   ],
   "source": [
    "# (!) - Predictions as Classifications\n",
    "v1_DT = DecisionTreeClassifier()\n",
    "v1_DT.fit(X1_train, y1_train)"
   ]
  },
  {
   "cell_type": "markdown",
   "metadata": {},
   "source": [
    "Prédictions et résultats sur `X1_train`"
   ]
  },
  {
   "cell_type": "code",
   "execution_count": 525,
   "metadata": {},
   "outputs": [
    {
     "data": {
      "text/html": [
       "<div>\n",
       "<style scoped>\n",
       "    .dataframe tbody tr th:only-of-type {\n",
       "        vertical-align: middle;\n",
       "    }\n",
       "\n",
       "    .dataframe tbody tr th {\n",
       "        vertical-align: top;\n",
       "    }\n",
       "\n",
       "    .dataframe thead th {\n",
       "        text-align: right;\n",
       "    }\n",
       "</style>\n",
       "<table border=\"1\" class=\"dataframe\">\n",
       "  <thead>\n",
       "    <tr style=\"text-align: right;\">\n",
       "      <th></th>\n",
       "      <th>Prédictions</th>\n",
       "      <th>Réponses</th>\n",
       "      <th>Egalité</th>\n",
       "    </tr>\n",
       "  </thead>\n",
       "  <tbody>\n",
       "    <tr>\n",
       "      <th>168</th>\n",
       "      <td>No</td>\n",
       "      <td>Yes</td>\n",
       "      <td>False</td>\n",
       "    </tr>\n",
       "    <tr>\n",
       "      <th>9898</th>\n",
       "      <td>No</td>\n",
       "      <td>Yes</td>\n",
       "      <td>False</td>\n",
       "    </tr>\n",
       "    <tr>\n",
       "      <th>9482</th>\n",
       "      <td>No</td>\n",
       "      <td>Yes</td>\n",
       "      <td>False</td>\n",
       "    </tr>\n",
       "  </tbody>\n",
       "</table>\n",
       "</div>"
      ],
      "text/plain": [
       "     Prédictions Réponses  Egalité\n",
       "168           No      Yes    False\n",
       "9898          No      Yes    False\n",
       "9482          No      Yes    False"
      ]
     },
     "execution_count": 525,
     "metadata": {},
     "output_type": "execute_result"
    }
   ],
   "source": [
    "# (!) - Almost equal between predictions and answers\n",
    "v1_train_predictions = v1_DT.predict(X1_train)\n",
    "\n",
    "df = pd.DataFrame({\n",
    "    'Prédictions': v1_train_predictions,\n",
    "    'Réponses': y1_train,\n",
    "    'Egalité': (v1_train_predictions == y1_train)\n",
    "})\n",
    "\n",
    "df.loc[df['Egalité'] == False]"
   ]
  },
  {
   "cell_type": "markdown",
   "metadata": {},
   "source": [
    "Mesures sur `X1_train`"
   ]
  },
  {
   "cell_type": "code",
   "execution_count": 526,
   "metadata": {},
   "outputs": [
    {
     "data": {
      "image/png": "[encoded data removed]",
      "text/plain": [
       "<Figure size 432x288 with 2 Axes>"
      ]
     },
     "metadata": {},
     "output_type": "display_data"
    }
   ],
   "source": [
    "# (!) - 3 bad predictions for 'Exited' = `Yes`\n",
    "cm = confusion_matrix(y1_train, v1_train_predictions, labels=['Yes', 'No'])\n",
    "\n",
    "save_cm(cm, 'train_v1')\n",
    "\n",
    "cm_d = ConfusionMatrixDisplay(confusion_matrix=cm, display_labels=['Yes', 'No'])\n",
    "cm_d.plot()\n",
    "plt.show()"
   ]
  },
  {
   "cell_type": "code",
   "execution_count": 527,
   "metadata": {},
   "outputs": [
    {
     "data": {
      "text/plain": [
       "0.9996"
      ]
     },
     "execution_count": 527,
     "metadata": {},
     "output_type": "execute_result"
    }
   ],
   "source": [
    "# (!) - Not as good as expected... o_O\n",
    "v1_DT.score(X1_train, y1_train)"
   ]
  },
  {
   "cell_type": "code",
   "execution_count": 528,
   "metadata": {},
   "outputs": [
    {
     "name": "stdout",
     "output_type": "stream",
     "text": [
      "              precision    recall  f1-score   support\n",
      "\n",
      "          No       1.00      1.00      1.00      5964\n",
      "         Yes       1.00      1.00      1.00      1536\n",
      "\n",
      "    accuracy                           1.00      7500\n",
      "   macro avg       1.00      1.00      1.00      7500\n",
      "weighted avg       1.00      1.00      1.00      7500\n",
      "\n"
     ]
    }
   ],
   "source": [
    "# (!) - Report is good\n",
    "cr = classification_report(y1_train, v1_train_predictions)\n",
    "\n",
    "file = open('./_outputs/cr_train_v1.txt', 'w')\n",
    "file.write(cr)\n",
    "file.close()\n",
    "\n",
    "print(cr)"
   ]
  },
  {
   "cell_type": "markdown",
   "metadata": {},
   "source": [
    "Prédictions et résultats sur `X1_test`"
   ]
  },
  {
   "cell_type": "code",
   "execution_count": 529,
   "metadata": {},
   "outputs": [
    {
     "data": {
      "text/html": [
       "<div>\n",
       "<style scoped>\n",
       "    .dataframe tbody tr th:only-of-type {\n",
       "        vertical-align: middle;\n",
       "    }\n",
       "\n",
       "    .dataframe tbody tr th {\n",
       "        vertical-align: top;\n",
       "    }\n",
       "\n",
       "    .dataframe thead th {\n",
       "        text-align: right;\n",
       "    }\n",
       "</style>\n",
       "<table border=\"1\" class=\"dataframe\">\n",
       "  <thead>\n",
       "    <tr style=\"text-align: right;\">\n",
       "      <th></th>\n",
       "      <th>Prédictions</th>\n",
       "      <th>Réponses</th>\n",
       "      <th>Egalité</th>\n",
       "    </tr>\n",
       "  </thead>\n",
       "  <tbody>\n",
       "    <tr>\n",
       "      <th>8351</th>\n",
       "      <td>Yes</td>\n",
       "      <td>No</td>\n",
       "      <td>False</td>\n",
       "    </tr>\n",
       "    <tr>\n",
       "      <th>1805</th>\n",
       "      <td>Yes</td>\n",
       "      <td>No</td>\n",
       "      <td>False</td>\n",
       "    </tr>\n",
       "    <tr>\n",
       "      <th>837</th>\n",
       "      <td>Yes</td>\n",
       "      <td>No</td>\n",
       "      <td>False</td>\n",
       "    </tr>\n",
       "    <tr>\n",
       "      <th>...</th>\n",
       "      <td>...</td>\n",
       "      <td>...</td>\n",
       "      <td>...</td>\n",
       "    </tr>\n",
       "    <tr>\n",
       "      <th>8122</th>\n",
       "      <td>No</td>\n",
       "      <td>Yes</td>\n",
       "      <td>False</td>\n",
       "    </tr>\n",
       "    <tr>\n",
       "      <th>5542</th>\n",
       "      <td>No</td>\n",
       "      <td>Yes</td>\n",
       "      <td>False</td>\n",
       "    </tr>\n",
       "    <tr>\n",
       "      <th>2584</th>\n",
       "      <td>Yes</td>\n",
       "      <td>No</td>\n",
       "      <td>False</td>\n",
       "    </tr>\n",
       "  </tbody>\n",
       "</table>\n",
       "<p>509 rows × 3 columns</p>\n",
       "</div>"
      ],
      "text/plain": [
       "     Prédictions Réponses  Egalité\n",
       "8351         Yes       No    False\n",
       "1805         Yes       No    False\n",
       "837          Yes       No    False\n",
       "...          ...      ...      ...\n",
       "8122          No      Yes    False\n",
       "5542          No      Yes    False\n",
       "2584         Yes       No    False\n",
       "\n",
       "[509 rows x 3 columns]"
      ]
     },
     "execution_count": 529,
     "metadata": {},
     "output_type": "execute_result"
    }
   ],
   "source": [
    "# (!) - 504 bad predictions\n",
    "v1_test_predictions = v1_DT.predict(X1_test)\n",
    "\n",
    "df = pd.DataFrame({\n",
    "    'Prédictions': v1_test_predictions,\n",
    "    'Réponses': y1_test,\n",
    "    'Egalité': (v1_test_predictions == y1_test)\n",
    "})\n",
    "\n",
    "df.loc[df['Egalité'] == False]"
   ]
  },
  {
   "cell_type": "markdown",
   "metadata": {},
   "source": [
    "Mesures sur `X1_test`"
   ]
  },
  {
   "cell_type": "code",
   "execution_count": 530,
   "metadata": {},
   "outputs": [
    {
     "data": {
      "image/png": "[encoded data removed]",
      "text/plain": [
       "<Figure size 432x288 with 2 Axes>"
      ]
     },
     "metadata": {},
     "output_type": "display_data"
    }
   ],
   "source": [
    "# (!) - Just bad ! \n",
    "cm = confusion_matrix(y1_test, v1_test_predictions, labels=['Yes', 'No'])\n",
    "\n",
    "save_cm(cm, 'test_v1')\n",
    "\n",
    "cm_d = ConfusionMatrixDisplay(confusion_matrix=cm, display_labels=['Yes', 'No'])\n",
    "cm_d.plot()\n",
    "plt.show()"
   ]
  },
  {
   "cell_type": "code",
   "execution_count": 531,
   "metadata": {},
   "outputs": [
    {
     "data": {
      "text/plain": [
       "0.7964"
      ]
     },
     "execution_count": 531,
     "metadata": {},
     "output_type": "execute_result"
    }
   ],
   "source": [
    "# (!) - Very bad\n",
    "v1_DT.score(X1_test, y1_test)"
   ]
  },
  {
   "cell_type": "code",
   "execution_count": 532,
   "metadata": {},
   "outputs": [
    {
     "name": "stdout",
     "output_type": "stream",
     "text": [
      "              precision    recall  f1-score   support\n",
      "\n",
      "          No       0.87      0.88      0.87      1999\n",
      "         Yes       0.49      0.48      0.48       501\n",
      "\n",
      "    accuracy                           0.80      2500\n",
      "   macro avg       0.68      0.68      0.68      2500\n",
      "weighted avg       0.79      0.80      0.80      2500\n",
      "\n"
     ]
    }
   ],
   "source": [
    "# (!) - Really Bad...\n",
    "cr = classification_report(y1_test, v1_test_predictions)\n",
    "\n",
    "file = open('./_outputs/cr_test_v1.txt', 'w')\n",
    "file.write(cr)\n",
    "file.close()\n",
    "\n",
    "print(cr)"
   ]
  },
  {
   "cell_type": "markdown",
   "metadata": {},
   "source": [
    "Aperçu final"
   ]
  },
  {
   "cell_type": "code",
   "execution_count": 533,
   "metadata": {},
   "outputs": [],
   "source": [
    "# (!) - Awful !!!\n",
    "# plt.figure(figsize=(48,48))\n",
    "# plot_tree(v1_DT, feature_names=X1_train.columns, filled=True)\n",
    "# plt.show()"
   ]
  },
  {
   "cell_type": "markdown",
   "metadata": {},
   "source": [
    "##### **1.3** - Proto-modélisation `v.2`"
   ]
  },
  {
   "cell_type": "markdown",
   "metadata": {},
   "source": [
    "Définition et entrainement"
   ]
  },
  {
   "cell_type": "code",
   "execution_count": 534,
   "metadata": {},
   "outputs": [
    {
     "data": {
      "text/plain": [
       "DecisionTreeClassifier()"
      ]
     },
     "execution_count": 534,
     "metadata": {},
     "output_type": "execute_result"
    }
   ],
   "source": [
    "# (!) - Predictions as Classifications\n",
    "v2_DT = DecisionTreeClassifier()\n",
    "v2_DT.fit(X2_train, y2_train)"
   ]
  },
  {
   "cell_type": "markdown",
   "metadata": {},
   "source": [
    "Prédictions et résultats sur `X2_train`"
   ]
  },
  {
   "cell_type": "code",
   "execution_count": 535,
   "metadata": {},
   "outputs": [
    {
     "data": {
      "text/html": [
       "<div>\n",
       "<style scoped>\n",
       "    .dataframe tbody tr th:only-of-type {\n",
       "        vertical-align: middle;\n",
       "    }\n",
       "\n",
       "    .dataframe tbody tr th {\n",
       "        vertical-align: top;\n",
       "    }\n",
       "\n",
       "    .dataframe thead th {\n",
       "        text-align: right;\n",
       "    }\n",
       "</style>\n",
       "<table border=\"1\" class=\"dataframe\">\n",
       "  <thead>\n",
       "    <tr style=\"text-align: right;\">\n",
       "      <th></th>\n",
       "      <th>Prédictions</th>\n",
       "      <th>Réponses</th>\n",
       "      <th>Egalité</th>\n",
       "    </tr>\n",
       "  </thead>\n",
       "  <tbody>\n",
       "    <tr>\n",
       "      <th>2553</th>\n",
       "      <td>No</td>\n",
       "      <td>Yes</td>\n",
       "      <td>False</td>\n",
       "    </tr>\n",
       "    <tr>\n",
       "      <th>6627</th>\n",
       "      <td>No</td>\n",
       "      <td>Yes</td>\n",
       "      <td>False</td>\n",
       "    </tr>\n",
       "    <tr>\n",
       "      <th>9865</th>\n",
       "      <td>Yes</td>\n",
       "      <td>No</td>\n",
       "      <td>False</td>\n",
       "    </tr>\n",
       "    <tr>\n",
       "      <th>...</th>\n",
       "      <td>...</td>\n",
       "      <td>...</td>\n",
       "      <td>...</td>\n",
       "    </tr>\n",
       "    <tr>\n",
       "      <th>4734</th>\n",
       "      <td>No</td>\n",
       "      <td>Yes</td>\n",
       "      <td>False</td>\n",
       "    </tr>\n",
       "    <tr>\n",
       "      <th>9613</th>\n",
       "      <td>No</td>\n",
       "      <td>Yes</td>\n",
       "      <td>False</td>\n",
       "    </tr>\n",
       "    <tr>\n",
       "      <th>3693</th>\n",
       "      <td>No</td>\n",
       "      <td>Yes</td>\n",
       "      <td>False</td>\n",
       "    </tr>\n",
       "  </tbody>\n",
       "</table>\n",
       "<p>304 rows × 3 columns</p>\n",
       "</div>"
      ],
      "text/plain": [
       "     Prédictions Réponses  Egalité\n",
       "2553          No      Yes    False\n",
       "6627          No      Yes    False\n",
       "9865         Yes       No    False\n",
       "...          ...      ...      ...\n",
       "4734          No      Yes    False\n",
       "9613          No      Yes    False\n",
       "3693          No      Yes    False\n",
       "\n",
       "[304 rows x 3 columns]"
      ]
     },
     "execution_count": 535,
     "metadata": {},
     "output_type": "execute_result"
    }
   ],
   "source": [
    "# (!) - 304 bad predictions\n",
    "v2_train_predictions = v2_DT.predict(X2_train)\n",
    "\n",
    "df = pd.DataFrame({\n",
    "    'Prédictions': v2_train_predictions,\n",
    "    'Réponses': y2_train,\n",
    "    'Egalité': (v2_train_predictions == y2_train)\n",
    "})\n",
    "\n",
    "df.loc[df['Egalité'] == False]"
   ]
  },
  {
   "cell_type": "markdown",
   "metadata": {},
   "source": [
    "Mesures sur `X2_train`"
   ]
  },
  {
   "cell_type": "code",
   "execution_count": 536,
   "metadata": {},
   "outputs": [
    {
     "data": {
      "image/png": "[encoded data removed]",
      "text/plain": [
       "<Figure size 432x288 with 2 Axes>"
      ]
     },
     "metadata": {},
     "output_type": "display_data"
    }
   ],
   "source": [
    "# (!) - 29 bad predictions on 'Exited' = `No`, and 275 on 'Exited' = `Yes`\n",
    "cm = confusion_matrix(y2_train, v2_train_predictions)\n",
    "\n",
    "save_cm(cm, 'train_v2')\n",
    "\n",
    "cm_d = ConfusionMatrixDisplay(confusion_matrix=cm)\n",
    "cm_d.plot()\n",
    "plt.show()"
   ]
  },
  {
   "cell_type": "code",
   "execution_count": 537,
   "metadata": {},
   "outputs": [
    {
     "data": {
      "text/plain": [
       "0.9594666666666667"
      ]
     },
     "execution_count": 537,
     "metadata": {},
     "output_type": "execute_result"
    }
   ],
   "source": [
    "# (!) - Not as good as v1 score\n",
    "v2_DT.score(X2_train, y2_train)"
   ]
  },
  {
   "cell_type": "code",
   "execution_count": 538,
   "metadata": {},
   "outputs": [
    {
     "name": "stdout",
     "output_type": "stream",
     "text": [
      "              precision    recall  f1-score   support\n",
      "\n",
      "          No       0.96      1.00      0.98      5964\n",
      "         Yes       0.98      0.82      0.89      1536\n",
      "\n",
      "    accuracy                           0.96      7500\n",
      "   macro avg       0.97      0.91      0.93      7500\n",
      "weighted avg       0.96      0.96      0.96      7500\n",
      "\n"
     ]
    }
   ],
   "source": [
    "# (!) - Report is unaccurate\n",
    "cr = classification_report(y2_train, v2_train_predictions)\n",
    "\n",
    "file = open('./_outputs/cr_train_v2.txt', 'w')\n",
    "file.write(cr)\n",
    "file.close()\n",
    "\n",
    "print(cr)"
   ]
  },
  {
   "cell_type": "markdown",
   "metadata": {},
   "source": [
    "Prédictions et résultats sur `X2_test`"
   ]
  },
  {
   "cell_type": "code",
   "execution_count": 539,
   "metadata": {},
   "outputs": [
    {
     "data": {
      "text/html": [
       "<div>\n",
       "<style scoped>\n",
       "    .dataframe tbody tr th:only-of-type {\n",
       "        vertical-align: middle;\n",
       "    }\n",
       "\n",
       "    .dataframe tbody tr th {\n",
       "        vertical-align: top;\n",
       "    }\n",
       "\n",
       "    .dataframe thead th {\n",
       "        text-align: right;\n",
       "    }\n",
       "</style>\n",
       "<table border=\"1\" class=\"dataframe\">\n",
       "  <thead>\n",
       "    <tr style=\"text-align: right;\">\n",
       "      <th></th>\n",
       "      <th>Prédictions</th>\n",
       "      <th>Réponses</th>\n",
       "      <th>Egalité</th>\n",
       "    </tr>\n",
       "  </thead>\n",
       "  <tbody>\n",
       "    <tr>\n",
       "      <th>5658</th>\n",
       "      <td>No</td>\n",
       "      <td>Yes</td>\n",
       "      <td>False</td>\n",
       "    </tr>\n",
       "    <tr>\n",
       "      <th>413</th>\n",
       "      <td>No</td>\n",
       "      <td>Yes</td>\n",
       "      <td>False</td>\n",
       "    </tr>\n",
       "    <tr>\n",
       "      <th>1805</th>\n",
       "      <td>Yes</td>\n",
       "      <td>No</td>\n",
       "      <td>False</td>\n",
       "    </tr>\n",
       "    <tr>\n",
       "      <th>...</th>\n",
       "      <td>...</td>\n",
       "      <td>...</td>\n",
       "      <td>...</td>\n",
       "    </tr>\n",
       "    <tr>\n",
       "      <th>9743</th>\n",
       "      <td>Yes</td>\n",
       "      <td>No</td>\n",
       "      <td>False</td>\n",
       "    </tr>\n",
       "    <tr>\n",
       "      <th>6143</th>\n",
       "      <td>Yes</td>\n",
       "      <td>No</td>\n",
       "      <td>False</td>\n",
       "    </tr>\n",
       "    <tr>\n",
       "      <th>6949</th>\n",
       "      <td>Yes</td>\n",
       "      <td>No</td>\n",
       "      <td>False</td>\n",
       "    </tr>\n",
       "  </tbody>\n",
       "</table>\n",
       "<p>535 rows × 3 columns</p>\n",
       "</div>"
      ],
      "text/plain": [
       "     Prédictions Réponses  Egalité\n",
       "5658          No      Yes    False\n",
       "413           No      Yes    False\n",
       "1805         Yes       No    False\n",
       "...          ...      ...      ...\n",
       "9743         Yes       No    False\n",
       "6143         Yes       No    False\n",
       "6949         Yes       No    False\n",
       "\n",
       "[535 rows x 3 columns]"
      ]
     },
     "execution_count": 539,
     "metadata": {},
     "output_type": "execute_result"
    }
   ],
   "source": [
    "# (!) - 533 bad predictions\n",
    "v2_test_predictions = v2_DT.predict(X2_test)\n",
    "\n",
    "df = pd.DataFrame({\n",
    "    'Prédictions': v2_test_predictions,\n",
    "    'Réponses': y2_test,\n",
    "    'Egalité': (v2_test_predictions == y2_test)\n",
    "})\n",
    "\n",
    "df.loc[df['Egalité'] == False]"
   ]
  },
  {
   "cell_type": "markdown",
   "metadata": {},
   "source": [
    "Mesures sur `X2_test`"
   ]
  },
  {
   "cell_type": "code",
   "execution_count": 540,
   "metadata": {},
   "outputs": [
    {
     "data": {
      "image/png": "[encoded data removed]",
      "text/plain": [
       "<Figure size 432x288 with 2 Axes>"
      ]
     },
     "metadata": {},
     "output_type": "display_data"
    }
   ],
   "source": [
    "# (!) - More errors on 'Exited' = `Yes`, but less on 'Exited' = `No`\n",
    "cm = confusion_matrix(y2_test, v2_test_predictions, labels=['Yes', 'No'])\n",
    "\n",
    "save_cm(cm, 'test_v2')\n",
    "\n",
    "cm_d = ConfusionMatrixDisplay(confusion_matrix=cm, display_labels=['Yes', 'No'])\n",
    "cm_d.plot()\n",
    "plt.show()"
   ]
  },
  {
   "cell_type": "code",
   "execution_count": 541,
   "metadata": {},
   "outputs": [
    {
     "data": {
      "text/plain": [
       "0.786"
      ]
     },
     "execution_count": 541,
     "metadata": {},
     "output_type": "execute_result"
    }
   ],
   "source": [
    "# (!) - A bit lower than v1\n",
    "v2_DT.score(X2_test, y2_test)"
   ]
  },
  {
   "cell_type": "code",
   "execution_count": 542,
   "metadata": {},
   "outputs": [
    {
     "name": "stdout",
     "output_type": "stream",
     "text": [
      "              precision    recall  f1-score   support\n",
      "\n",
      "          No       0.85      0.89      0.87      1999\n",
      "         Yes       0.46      0.37      0.41       501\n",
      "\n",
      "    accuracy                           0.79      2500\n",
      "   macro avg       0.65      0.63      0.64      2500\n",
      "weighted avg       0.77      0.79      0.78      2500\n",
      "\n"
     ]
    }
   ],
   "source": [
    "# (!) - Really Bad...\n",
    "cr = classification_report(y2_test, v2_test_predictions)\n",
    "\n",
    "file = open('./_outputs/cr_test_v2.txt', 'w')\n",
    "file.write(cr)\n",
    "file.close()\n",
    "\n",
    "print(cr)"
   ]
  },
  {
   "cell_type": "markdown",
   "metadata": {},
   "source": [
    "##### **1.4** - Comparaisons"
   ]
  },
  {
   "cell_type": "code",
   "execution_count": 566,
   "metadata": {},
   "outputs": [
    {
     "data": {
      "text/html": [
       "<div>\n",
       "<style scoped>\n",
       "    .dataframe tbody tr th:only-of-type {\n",
       "        vertical-align: middle;\n",
       "    }\n",
       "\n",
       "    .dataframe tbody tr th {\n",
       "        vertical-align: top;\n",
       "    }\n",
       "\n",
       "    .dataframe thead th {\n",
       "        text-align: right;\n",
       "    }\n",
       "</style>\n",
       "<table border=\"1\" class=\"dataframe\">\n",
       "  <thead>\n",
       "    <tr style=\"text-align: right;\">\n",
       "      <th></th>\n",
       "      <th>Test v.1</th>\n",
       "      <th>Yes</th>\n",
       "      <th>No</th>\n",
       "    </tr>\n",
       "  </thead>\n",
       "  <tbody>\n",
       "    <tr>\n",
       "      <th>0</th>\n",
       "      <td>True Yes</td>\n",
       "      <td>238</td>\n",
       "      <td>246</td>\n",
       "    </tr>\n",
       "    <tr>\n",
       "      <th>1</th>\n",
       "      <td>True No</td>\n",
       "      <td>246</td>\n",
       "      <td>1753</td>\n",
       "    </tr>\n",
       "  </tbody>\n",
       "</table>\n",
       "</div>"
      ],
      "text/plain": [
       "   Test v.1  Yes    No\n",
       "0  True Yes  238   246\n",
       "1   True No  246  1753"
      ]
     },
     "metadata": {},
     "output_type": "display_data"
    },
    {
     "data": {
      "text/html": [
       "<div>\n",
       "<style scoped>\n",
       "    .dataframe tbody tr th:only-of-type {\n",
       "        vertical-align: middle;\n",
       "    }\n",
       "\n",
       "    .dataframe tbody tr th {\n",
       "        vertical-align: top;\n",
       "    }\n",
       "\n",
       "    .dataframe thead th {\n",
       "        text-align: right;\n",
       "    }\n",
       "</style>\n",
       "<table border=\"1\" class=\"dataframe\">\n",
       "  <thead>\n",
       "    <tr style=\"text-align: right;\">\n",
       "      <th></th>\n",
       "      <th>Test v.2</th>\n",
       "      <th>Yes</th>\n",
       "      <th>No</th>\n",
       "    </tr>\n",
       "  </thead>\n",
       "  <tbody>\n",
       "    <tr>\n",
       "      <th>0</th>\n",
       "      <td>True Yes</td>\n",
       "      <td>185</td>\n",
       "      <td>219</td>\n",
       "    </tr>\n",
       "    <tr>\n",
       "      <th>1</th>\n",
       "      <td>True No</td>\n",
       "      <td>219</td>\n",
       "      <td>1780</td>\n",
       "    </tr>\n",
       "  </tbody>\n",
       "</table>\n",
       "</div>"
      ],
      "text/plain": [
       "   Test v.2  Yes    No\n",
       "0  True Yes  185   219\n",
       "1   True No  219  1780"
      ]
     },
     "metadata": {},
     "output_type": "display_data"
    }
   ],
   "source": [
    "version_1 = pd.read_csv('./_outputs/cm_test_v1.csv')\n",
    "version_1.rename(columns={'Unnamed: 0': 'Test v.1'}, inplace=True)\n",
    "version_2 = pd.read_csv('./_outputs/cm_test_v2.csv')\n",
    "version_2.rename(columns={'Unnamed: 0': 'Test v.2'}, inplace=True)\n",
    "\n",
    "display(\n",
    "    version_1,\n",
    "    version_2\n",
    ")"
   ]
  },
  {
   "cell_type": "markdown",
   "metadata": {},
   "source": [
    "---\n",
    "\n",
    "### **2.** Modeling"
   ]
  },
  {
   "cell_type": "markdown",
   "metadata": {},
   "source": [
    "##### **2.1** - Modèle 1 "
   ]
  },
  {
   "cell_type": "markdown",
   "metadata": {},
   "source": [
    "Définition et entrainement"
   ]
  },
  {
   "cell_type": "code",
   "execution_count": 544,
   "metadata": {},
   "outputs": [],
   "source": [
    "# (!) - \n",
    "# m1_DT = DecisionTreeClassifier(max_depth=3)\n",
    "# m1_DT.fit(X_train, y_train)"
   ]
  },
  {
   "cell_type": "markdown",
   "metadata": {},
   "source": [
    "Prédictions"
   ]
  },
  {
   "cell_type": "code",
   "execution_count": 545,
   "metadata": {},
   "outputs": [],
   "source": [
    "# (!) - \n",
    "# m1_predictions = m1_DT.predict(X_test)\n",
    "\n",
    "# m1_predictions"
   ]
  },
  {
   "cell_type": "markdown",
   "metadata": {},
   "source": [
    "Mesures"
   ]
  },
  {
   "cell_type": "code",
   "execution_count": 546,
   "metadata": {},
   "outputs": [],
   "source": [
    "# (!) - \n",
    "# cm = confusion_matrix(y_test, m1_predictions, labels=['Yes', 'No'])\n",
    "\n",
    "# cm_d = ConfusionMatrixDisplay(confusion_matrix=cm, display_labels=['Yes', 'No'])\n",
    "# cm_d.plot()\n",
    "# plt.show()"
   ]
  },
  {
   "cell_type": "code",
   "execution_count": 547,
   "metadata": {},
   "outputs": [],
   "source": [
    "# (!) -\n",
    "# m1_DT.score(X_test, y_test)"
   ]
  },
  {
   "cell_type": "code",
   "execution_count": 548,
   "metadata": {},
   "outputs": [],
   "source": [
    "# (!) -\n",
    "# cr = classification_report(y_test, m1_predictions)\n",
    "\n",
    "# print(cr)"
   ]
  },
  {
   "cell_type": "markdown",
   "metadata": {},
   "source": [
    "Aperçu"
   ]
  },
  {
   "cell_type": "code",
   "execution_count": 549,
   "metadata": {},
   "outputs": [],
   "source": [
    "# (!) - \n",
    "# plt.figure(figsize=(24,24))\n",
    "# plot_tree(m1_DT, feature_names=X_train.columns, filled=True)\n",
    "# plt.show()"
   ]
  },
  {
   "cell_type": "markdown",
   "metadata": {},
   "source": [
    "##### **2.2** - Modèle 2 `GridSearchCV`"
   ]
  },
  {
   "cell_type": "markdown",
   "metadata": {},
   "source": [
    "Définition et entrainement"
   ]
  },
  {
   "cell_type": "code",
   "execution_count": 550,
   "metadata": {},
   "outputs": [],
   "source": [
    "# (!) - \n",
    "# m2_DT = DecisionTreeClassifier()"
   ]
  },
  {
   "cell_type": "code",
   "execution_count": 551,
   "metadata": {},
   "outputs": [],
   "source": [
    "# (!) -\n",
    "# params = {'max_depth': [1, 2, 3, 4], 'criterion': ['gini', 'entropy']}\n",
    "# m2_grid = GridSearchCV(v3_DT, param_grid=params, verbose=1)\n",
    "\n",
    "# m2_grid.fit(X_train, y_train)"
   ]
  }
 ],
 "metadata": {
  "kernelspec": {
   "display_name": "Python 3.10.5 64-bit",
   "language": "python",
   "name": "python3"
  },
  "language_info": {
   "codemirror_mode": {
    "name": "ipython",
    "version": 3
   },
   "file_extension": ".py",
   "mimetype": "text/x-python",
   "name": "python",
   "nbconvert_exporter": "python",
   "pygments_lexer": "ipython3",
   "version": "3.10.5"
  },
  "orig_nbformat": 4,
  "vscode": {
   "interpreter": {
    "hash": "26de051ba29f2982a8de78e945f0abaf191376122a1563185a90213a26c5da77"
   }
  }
 },
 "nbformat": 4,
 "nbformat_minor": 2
}

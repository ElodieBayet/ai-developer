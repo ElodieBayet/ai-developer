{
 "cells": [
  {
   "cell_type": "markdown",
   "metadata": {},
   "source": [
    "## **ML :** Weather AUS\n",
    "\n",
    "#### _Rain in Australia_\n",
    "\n",
    "🟠 `on work`\n",
    "\n",
    "---\n",
    "\n",
    "1. **Preprocessing**\n",
    "    * Extraction et préparation\n",
    "    * Nettoyage et encodage\n",
    "    * Proto-modélisation\n",
    "    * Traitement du contenu\n",
    "    * Feature Selection\n",
    "    * Feature Engineering\n",
    "    * Feature Scaling\n",
    "2. **Modeling**\n",
    "    * Fonction d’évaluation\n",
    "    * Entrainements multiples modèles\n",
    "    * Optimisation\n",
    "    * Analyse des erreurs\n",
    "    * Courbe d'aprentissage\n",
    "    * Décision"
   ]
  },
  {
   "cell_type": "markdown",
   "metadata": {},
   "source": [
    "**Built-in**"
   ]
  },
  {
   "cell_type": "markdown",
   "metadata": {},
   "source": [
    "**Librairies**"
   ]
  },
  {
   "cell_type": "code",
   "execution_count": 2,
   "metadata": {},
   "outputs": [],
   "source": [
    "import numpy as np\n",
    "import pandas as pd\n",
    "import matplotlib.pyplot as plt\n",
    "import seaborn as sns"
   ]
  },
  {
   "cell_type": "markdown",
   "metadata": {},
   "source": [
    "**ML Objects**"
   ]
  },
  {
   "cell_type": "code",
   "execution_count": 38,
   "metadata": {},
   "outputs": [],
   "source": [
    "# Algorithms\n",
    "from sklearn.tree import DecisionTreeClassifier\n",
    "from sklearn.neighbors import KNeighborsClassifier \n",
    "from sklearn.ensemble import RandomForestClassifier\n",
    "# - -\n",
    "# Evaluation, tuning, etc.\n",
    "from sklearn.model_selection import train_test_split\n",
    "from sklearn.model_selection import cross_val_score\n",
    "# from sklearn.model_selection import KFold\n",
    "from sklearn.model_selection import StratifiedKFold\n",
    "from sklearn.model_selection import GridSearchCV\n",
    "# - -\n",
    "# Preprocessing\n",
    "# from sklearn.preprocessing import LabelEncoder\n",
    "from sklearn.preprocessing import OneHotEncoder\n",
    "from sklearn.preprocessing import OrdinalEncoder\n",
    "from sklearn.preprocessing import StandardScaler\n",
    "# from sklearn.preprocessing import RobustScaler\n",
    "# from sklearn.preprocessing import MinMaxScaler\n",
    "# - -\n",
    "# Imputer\n",
    "from sklearn.impute import KNNImputer\n",
    "# - -\n",
    "# Metrics\n",
    "from sklearn.metrics import classification_report\n",
    "from sklearn.metrics import confusion_matrix\n",
    "from sklearn.metrics import ConfusionMatrixDisplay\n",
    "# from sklearn.metrics import accuracy_score\n",
    "# from sklearn.metrics import average_precision_score\n",
    "# from sklearn.metrics import precision_score\n",
    "# - - \n",
    "# Tools\n",
    "# from sklearn.compose import make_column_transformer\n",
    "# from sklearn.tree import plot_tree\n",
    "# from sklearn.utils import resample\n",
    "from sklearn.ensemble import IsolationForest"
   ]
  },
  {
   "cell_type": "markdown",
   "metadata": {},
   "source": [
    "**User Code**"
   ]
  },
  {
   "cell_type": "code",
   "execution_count": 4,
   "metadata": {},
   "outputs": [],
   "source": [
    "# Reserved keywords for objects\n",
    "df = pd.DataFrame\n",
    "cm = confusion_matrix\n",
    "cm_d = ConfusionMatrixDisplay\n",
    "cr = classification_report\n",
    "# tf = make_column_transformer\n",
    "tf_fit = None"
   ]
  },
  {
   "cell_type": "code",
   "execution_count": 5,
   "metadata": {},
   "outputs": [],
   "source": [
    "def extract_x_y(dataframe:pd.DataFrame, target:str|list[str]) -> tuple :\n",
    "    \"\"\"Extract Features and Target from dataset\n",
    "\n",
    "    Args:\n",
    "        dataframe (pd.DataFrame): Dataframe to extract columns from\n",
    "        target (str | list[str]): Target name\n",
    "\n",
    "    Returns:\n",
    "        tuple: Feature as X, and Label as y\n",
    "    \"\"\"\n",
    "\n",
    "    y = dataframe[target] \n",
    "    X = dataframe.drop(columns=target)\n",
    "\n",
    "    print(y.unique())\n",
    "    print(X.columns.to_list())\n",
    "\n",
    "    return X, y"
   ]
  },
  {
   "cell_type": "code",
   "execution_count": 6,
   "metadata": {},
   "outputs": [],
   "source": [
    "def save_cm(cm:list, name:str) -> None :\n",
    "    \"\"\"Save a Confusion Matrix as CSV file in `./_outputs/` subdirectory\n",
    "\n",
    "    Args:\n",
    "        cm (list): Confusion Matrix built with `sklearn.metrics.confusion_matrix`\n",
    "        name (str): A lowercase spaceless text for file name\n",
    "    \"\"\"\n",
    "        \n",
    "    df = pd.DataFrame({\n",
    "        'Predict. Yes': [cm[0,0], cm[1,0]],\n",
    "        'Predict. No': [cm[1,0], cm[1,1]]\n",
    "    }, index=['True Yes', 'True No'])\n",
    "    \n",
    "    df.to_csv(f'./_outputs/cm_{name}.csv')"
   ]
  },
  {
   "cell_type": "code",
   "execution_count": 7,
   "metadata": {},
   "outputs": [],
   "source": [
    "def one_hot_encoder(X:pd.DataFrame, features:list[str]) -> pd.DataFrame :\n",
    "    \"\"\"Encode variables with 'OneHotEncoder' :: /!\\ 1 only\n",
    "\n",
    "    Args:\n",
    "        X (pd.DataFrame): _description_\n",
    "        features (list[str]): _description_\n",
    "\n",
    "    Returns:\n",
    "        pd.DataFrame: _description_\n",
    "    \"\"\"\n",
    "    \n",
    "    ohe = OneHotEncoder(handle_unknown='ignore', drop='if_binary', sparse=False, dtype=np.int8)\n",
    "    X_enc = pd.DataFrame()\n",
    "    \n",
    "    X_enc[features] = pd.DataFrame(ohe.fit_transform(X[features]), columns=features)\n",
    "\n",
    "    # One-hot encoding removed index => put it back\n",
    "    X_enc.index = X.index\n",
    "    \n",
    "    X.drop(features, axis=1, inplace=True)\n",
    "\n",
    "    X_ohe = pd.concat([X, X_enc], axis=1)\n",
    "    \n",
    "    return X_ohe"
   ]
  },
  {
   "cell_type": "code",
   "execution_count": 8,
   "metadata": {},
   "outputs": [],
   "source": [
    "def prediction_quick_view(predictions:pd.Series, labels:pd.Series, title:str = '') -> pd.DataFrame :\n",
    "    \"\"\"Create a tiny DataFrame with predictions overview\n",
    "\n",
    "    Args:\n",
    "        predictions (pd.Series): Data serie of predictions\n",
    "        labels (pd.Series): Data serie of true labels\n",
    "        title (str, optional): Title of preditions, if it's train or test. Defaults to ''.\n",
    "\n",
    "    Returns:\n",
    "        pd.DataFrame: DataFrame synthesis\n",
    "    \"\"\"\n",
    "\n",
    "    predict_t = f\"Prédictions {title}\"\n",
    "    response_t = f\"Réponses {title}\"\n",
    "\n",
    "    return pd.DataFrame({\n",
    "        predict_t: predictions,\n",
    "        response_t: labels,\n",
    "        'Egalité': (predictions == labels)\n",
    "    })"
   ]
  },
  {
   "cell_type": "markdown",
   "metadata": {},
   "source": [
    "**Notebook Setup**"
   ]
  },
  {
   "cell_type": "code",
   "execution_count": 29,
   "metadata": {},
   "outputs": [],
   "source": [
    "# Colour codes\n",
    "mean_c = '#FFFFFF'\n",
    "median_c = '#c2e800'\n",
    "default_c = '#336699'\n",
    "palette_c = [\n",
    "    '#b8e600', # Sunny\n",
    "    '#00bfff' # Rainy\n",
    "]\n",
    "\n",
    "# Pandas\n",
    "pd.options.display.max_rows = 30\n",
    "pd.options.display.min_rows = 6\n",
    "\n",
    "# Matplotlib\n",
    "plt.style.use('dark_background')\n",
    "\n",
    "plt.rcParams['figure.facecolor'] = '#242428'\n",
    "plt.rcParams['axes.facecolor'] = '#242428'\n",
    "plt.rcParams['axes.titleweight'] = 'bold'"
   ]
  },
  {
   "cell_type": "markdown",
   "metadata": {},
   "source": [
    "**Weather AUS**\n",
    "\n",
    "[Rain in Australia](https://www.kaggle.com/datasets/jsphyg/weather-dataset-rattle-package)"
   ]
  },
  {
   "cell_type": "code",
   "execution_count": 10,
   "metadata": {},
   "outputs": [
    {
     "data": {
      "text/html": [
       "<div>\n",
       "<style scoped>\n",
       "    .dataframe tbody tr th:only-of-type {\n",
       "        vertical-align: middle;\n",
       "    }\n",
       "\n",
       "    .dataframe tbody tr th {\n",
       "        vertical-align: top;\n",
       "    }\n",
       "\n",
       "    .dataframe thead th {\n",
       "        text-align: right;\n",
       "    }\n",
       "</style>\n",
       "<table border=\"1\" class=\"dataframe\">\n",
       "  <thead>\n",
       "    <tr style=\"text-align: right;\">\n",
       "      <th></th>\n",
       "      <th>Evaporation</th>\n",
       "      <th>Sunshine</th>\n",
       "      <th>WindGustSpeed</th>\n",
       "      <th>Humidity3pm</th>\n",
       "      <th>Pressure</th>\n",
       "      <th>Cloud3pm</th>\n",
       "      <th>Temp3pm</th>\n",
       "      <th>RainToday</th>\n",
       "      <th>RainTomorrow</th>\n",
       "    </tr>\n",
       "  </thead>\n",
       "  <tbody>\n",
       "    <tr>\n",
       "      <th>0</th>\n",
       "      <td>7.6</td>\n",
       "      <td>7.7</td>\n",
       "      <td>46.0</td>\n",
       "      <td>50.0</td>\n",
       "      <td>1019.35</td>\n",
       "      <td>7.0</td>\n",
       "      <td>22.2</td>\n",
       "      <td>No</td>\n",
       "      <td>No</td>\n",
       "    </tr>\n",
       "    <tr>\n",
       "      <th>1</th>\n",
       "      <td>4.6</td>\n",
       "      <td>4.1</td>\n",
       "      <td>NaN</td>\n",
       "      <td>58.0</td>\n",
       "      <td>1022.90</td>\n",
       "      <td>7.0</td>\n",
       "      <td>18.8</td>\n",
       "      <td>No</td>\n",
       "      <td>No</td>\n",
       "    </tr>\n",
       "    <tr>\n",
       "      <th>2</th>\n",
       "      <td>1.4</td>\n",
       "      <td>0.1</td>\n",
       "      <td>39.0</td>\n",
       "      <td>67.0</td>\n",
       "      <td>1027.35</td>\n",
       "      <td>8.0</td>\n",
       "      <td>11.7</td>\n",
       "      <td>Yes</td>\n",
       "      <td>No</td>\n",
       "    </tr>\n",
       "    <tr>\n",
       "      <th>...</th>\n",
       "      <td>...</td>\n",
       "      <td>...</td>\n",
       "      <td>...</td>\n",
       "      <td>...</td>\n",
       "      <td>...</td>\n",
       "      <td>...</td>\n",
       "      <td>...</td>\n",
       "      <td>...</td>\n",
       "      <td>...</td>\n",
       "    </tr>\n",
       "    <tr>\n",
       "      <th>62399</th>\n",
       "      <td>NaN</td>\n",
       "      <td>NaN</td>\n",
       "      <td>30.0</td>\n",
       "      <td>65.0</td>\n",
       "      <td>1016.10</td>\n",
       "      <td>8.0</td>\n",
       "      <td>21.2</td>\n",
       "      <td>Yes</td>\n",
       "      <td>Yes</td>\n",
       "    </tr>\n",
       "    <tr>\n",
       "      <th>62400</th>\n",
       "      <td>NaN</td>\n",
       "      <td>NaN</td>\n",
       "      <td>35.0</td>\n",
       "      <td>59.0</td>\n",
       "      <td>1016.40</td>\n",
       "      <td>8.0</td>\n",
       "      <td>26.0</td>\n",
       "      <td>Yes</td>\n",
       "      <td>Yes</td>\n",
       "    </tr>\n",
       "    <tr>\n",
       "      <th>62401</th>\n",
       "      <td>NaN</td>\n",
       "      <td>NaN</td>\n",
       "      <td>46.0</td>\n",
       "      <td>56.0</td>\n",
       "      <td>1017.90</td>\n",
       "      <td>5.0</td>\n",
       "      <td>26.9</td>\n",
       "      <td>Yes</td>\n",
       "      <td>Yes</td>\n",
       "    </tr>\n",
       "  </tbody>\n",
       "</table>\n",
       "<p>62402 rows × 9 columns</p>\n",
       "</div>"
      ],
      "text/plain": [
       "       Evaporation  Sunshine  WindGustSpeed  Humidity3pm  Pressure  Cloud3pm  \\\n",
       "0              7.6       7.7           46.0         50.0   1019.35       7.0   \n",
       "1              4.6       4.1            NaN         58.0   1022.90       7.0   \n",
       "2              1.4       0.1           39.0         67.0   1027.35       8.0   \n",
       "...            ...       ...            ...          ...       ...       ...   \n",
       "62399          NaN       NaN           30.0         65.0   1016.10       8.0   \n",
       "62400          NaN       NaN           35.0         59.0   1016.40       8.0   \n",
       "62401          NaN       NaN           46.0         56.0   1017.90       5.0   \n",
       "\n",
       "       Temp3pm RainToday RainTomorrow  \n",
       "0         22.2        No           No  \n",
       "1         18.8        No           No  \n",
       "2         11.7       Yes           No  \n",
       "...        ...       ...          ...  \n",
       "62399     21.2       Yes          Yes  \n",
       "62400     26.0       Yes          Yes  \n",
       "62401     26.9       Yes          Yes  \n",
       "\n",
       "[62402 rows x 9 columns]"
      ]
     },
     "execution_count": 10,
     "metadata": {},
     "output_type": "execute_result"
    }
   ],
   "source": [
    "weather_file_path = './_datasets/weather_data_resampled.csv'\n",
    "weather_data = pd.read_csv(weather_file_path)\n",
    "\n",
    "weather_data"
   ]
  },
  {
   "cell_type": "markdown",
   "metadata": {},
   "source": [
    "Valeurs nulles"
   ]
  },
  {
   "cell_type": "code",
   "execution_count": 11,
   "metadata": {},
   "outputs": [
    {
     "data": {
      "text/html": [
       "<div>\n",
       "<style scoped>\n",
       "    .dataframe tbody tr th:only-of-type {\n",
       "        vertical-align: middle;\n",
       "    }\n",
       "\n",
       "    .dataframe tbody tr th {\n",
       "        vertical-align: top;\n",
       "    }\n",
       "\n",
       "    .dataframe thead th {\n",
       "        text-align: right;\n",
       "    }\n",
       "</style>\n",
       "<table border=\"1\" class=\"dataframe\">\n",
       "  <thead>\n",
       "    <tr style=\"text-align: right;\">\n",
       "      <th></th>\n",
       "      <th>Types</th>\n",
       "      <th>Qté de Nulles</th>\n",
       "    </tr>\n",
       "  </thead>\n",
       "  <tbody>\n",
       "    <tr>\n",
       "      <th>Evaporation</th>\n",
       "      <td>float64</td>\n",
       "      <td>26612</td>\n",
       "    </tr>\n",
       "    <tr>\n",
       "      <th>Sunshine</th>\n",
       "      <td>float64</td>\n",
       "      <td>29514</td>\n",
       "    </tr>\n",
       "    <tr>\n",
       "      <th>WindGustSpeed</th>\n",
       "      <td>float64</td>\n",
       "      <td>4257</td>\n",
       "    </tr>\n",
       "    <tr>\n",
       "      <th>Humidity3pm</th>\n",
       "      <td>float64</td>\n",
       "      <td>1622</td>\n",
       "    </tr>\n",
       "    <tr>\n",
       "      <th>Pressure</th>\n",
       "      <td>float64</td>\n",
       "      <td>5999</td>\n",
       "    </tr>\n",
       "    <tr>\n",
       "      <th>Cloud3pm</th>\n",
       "      <td>float64</td>\n",
       "      <td>23939</td>\n",
       "    </tr>\n",
       "    <tr>\n",
       "      <th>Temp3pm</th>\n",
       "      <td>float64</td>\n",
       "      <td>1204</td>\n",
       "    </tr>\n",
       "    <tr>\n",
       "      <th>RainToday</th>\n",
       "      <td>object</td>\n",
       "      <td>0</td>\n",
       "    </tr>\n",
       "    <tr>\n",
       "      <th>RainTomorrow</th>\n",
       "      <td>object</td>\n",
       "      <td>0</td>\n",
       "    </tr>\n",
       "  </tbody>\n",
       "</table>\n",
       "</div>"
      ],
      "text/plain": [
       "                 Types  Qté de Nulles\n",
       "Evaporation    float64          26612\n",
       "Sunshine       float64          29514\n",
       "WindGustSpeed  float64           4257\n",
       "Humidity3pm    float64           1622\n",
       "Pressure       float64           5999\n",
       "Cloud3pm       float64          23939\n",
       "Temp3pm        float64           1204\n",
       "RainToday       object              0\n",
       "RainTomorrow    object              0"
      ]
     },
     "execution_count": 11,
     "metadata": {},
     "output_type": "execute_result"
    }
   ],
   "source": [
    "pd.DataFrame({\n",
    "    'Types': weather_data.dtypes,\n",
    "    'Qté de Nulles' : weather_data.isnull().sum()\n",
    "})"
   ]
  },
  {
   "cell_type": "markdown",
   "metadata": {},
   "source": [
    "---\n",
    "\n",
    "### **1.** Preprocessing"
   ]
  },
  {
   "cell_type": "markdown",
   "metadata": {},
   "source": [
    "##### **1.1** - Extraction et préparation"
   ]
  },
  {
   "cell_type": "code",
   "execution_count": 12,
   "metadata": {},
   "outputs": [
    {
     "name": "stdout",
     "output_type": "stream",
     "text": [
      "['No' 'Yes']\n",
      "['Evaporation', 'Sunshine', 'WindGustSpeed', 'Humidity3pm', 'Pressure', 'Cloud3pm', 'Temp3pm', 'RainToday']\n"
     ]
    }
   ],
   "source": [
    "X, y = extract_x_y(weather_data, 'RainTomorrow')"
   ]
  },
  {
   "cell_type": "code",
   "execution_count": 13,
   "metadata": {},
   "outputs": [],
   "source": [
    "y = y.astype('category')"
   ]
  },
  {
   "cell_type": "code",
   "execution_count": 14,
   "metadata": {},
   "outputs": [],
   "source": [
    "X_train, X_test, y_train, y_test = train_test_split(X, y, test_size=.25, random_state=5)"
   ]
  },
  {
   "cell_type": "code",
   "execution_count": 15,
   "metadata": {},
   "outputs": [
    {
     "data": {
      "text/html": [
       "<div>\n",
       "<style scoped>\n",
       "    .dataframe tbody tr th:only-of-type {\n",
       "        vertical-align: middle;\n",
       "    }\n",
       "\n",
       "    .dataframe tbody tr th {\n",
       "        vertical-align: top;\n",
       "    }\n",
       "\n",
       "    .dataframe thead th {\n",
       "        text-align: right;\n",
       "    }\n",
       "</style>\n",
       "<table border=\"1\" class=\"dataframe\">\n",
       "  <thead>\n",
       "    <tr style=\"text-align: right;\">\n",
       "      <th></th>\n",
       "      <th>Label Entrainement</th>\n",
       "      <th>Label Test</th>\n",
       "    </tr>\n",
       "  </thead>\n",
       "  <tbody>\n",
       "    <tr>\n",
       "      <th>count</th>\n",
       "      <td>46801</td>\n",
       "      <td>15601</td>\n",
       "    </tr>\n",
       "    <tr>\n",
       "      <th>unique</th>\n",
       "      <td>2</td>\n",
       "      <td>2</td>\n",
       "    </tr>\n",
       "    <tr>\n",
       "      <th>top</th>\n",
       "      <td>No</td>\n",
       "      <td>Yes</td>\n",
       "    </tr>\n",
       "    <tr>\n",
       "      <th>freq</th>\n",
       "      <td>23448</td>\n",
       "      <td>7848</td>\n",
       "    </tr>\n",
       "    <tr>\n",
       "      <th>percent of no</th>\n",
       "      <td>50.101494</td>\n",
       "      <td>50.304468</td>\n",
       "    </tr>\n",
       "  </tbody>\n",
       "</table>\n",
       "</div>"
      ],
      "text/plain": [
       "              Label Entrainement Label Test\n",
       "count                      46801      15601\n",
       "unique                         2          2\n",
       "top                           No        Yes\n",
       "freq                       23448       7848\n",
       "percent of no          50.101494  50.304468"
      ]
     },
     "execution_count": 15,
     "metadata": {},
     "output_type": "execute_result"
    }
   ],
   "source": [
    "pd.concat([\n",
    "    pd.DataFrame({\n",
    "    'Label Entrainement': y_train.describe(),\n",
    "    'Label Test': y_test.describe()\n",
    "    }),\n",
    "    pd.Series([\n",
    "        (y_train.describe()[3] / y_train.count()) * 100,\n",
    "        (y_test.describe()[3] / y_test.count()) * 100\n",
    "    ], name='percent of no', index=['Label Entrainement', 'Label Test']).to_frame().T\n",
    "])"
   ]
  },
  {
   "cell_type": "markdown",
   "metadata": {},
   "source": [
    "##### **1.2** - Nettoyage et encodage"
   ]
  },
  {
   "cell_type": "markdown",
   "metadata": {},
   "source": [
    "Encodage des variables nominales"
   ]
  },
  {
   "cell_type": "code",
   "execution_count": 16,
   "metadata": {},
   "outputs": [],
   "source": [
    "categoricals = ['RainToday']"
   ]
  },
  {
   "cell_type": "code",
   "execution_count": 17,
   "metadata": {},
   "outputs": [
    {
     "data": {
      "text/plain": [
       "array([1, 0], dtype=int8)"
      ]
     },
     "execution_count": 17,
     "metadata": {},
     "output_type": "execute_result"
    }
   ],
   "source": [
    "X_train = one_hot_encoder(X_train, categoricals)\n",
    "\n",
    "X_train['RainToday'].unique()"
   ]
  },
  {
   "cell_type": "code",
   "execution_count": 18,
   "metadata": {},
   "outputs": [
    {
     "data": {
      "text/plain": [
       "array([0, 1], dtype=int8)"
      ]
     },
     "execution_count": 18,
     "metadata": {},
     "output_type": "execute_result"
    }
   ],
   "source": [
    "X_test = one_hot_encoder(X_test, categoricals)\n",
    "\n",
    "X_test['RainToday'].unique()"
   ]
  },
  {
   "cell_type": "markdown",
   "metadata": {},
   "source": [
    "Nettoyage des valeurs"
   ]
  },
  {
   "cell_type": "code",
   "execution_count": 19,
   "metadata": {},
   "outputs": [
    {
     "name": "stdout",
     "output_type": "stream",
     "text": [
      "<class 'pandas.core.frame.DataFrame'>\n",
      "RangeIndex: 46801 entries, 0 to 46800\n",
      "Data columns (total 8 columns):\n",
      " #   Column         Non-Null Count  Dtype  \n",
      "---  ------         --------------  -----  \n",
      " 0   Evaporation    46801 non-null  float64\n",
      " 1   Sunshine       46801 non-null  float64\n",
      " 2   WindGustSpeed  46801 non-null  float64\n",
      " 3   Humidity3pm    46801 non-null  float64\n",
      " 4   Pressure       46801 non-null  float64\n",
      " 5   Cloud3pm       46801 non-null  float64\n",
      " 6   Temp3pm        46801 non-null  float64\n",
      " 7   RainToday      46801 non-null  float64\n",
      "dtypes: float64(8)\n",
      "memory usage: 2.9 MB\n"
     ]
    }
   ],
   "source": [
    "knn_imputer = KNNImputer(n_neighbors=5, copy=False)\n",
    "X_train = pd.DataFrame(knn_imputer.fit_transform(X_train), columns=X_train.columns)\n",
    "\n",
    "X_train.info()"
   ]
  },
  {
   "cell_type": "code",
   "execution_count": 20,
   "metadata": {},
   "outputs": [
    {
     "name": "stdout",
     "output_type": "stream",
     "text": [
      "<class 'pandas.core.frame.DataFrame'>\n",
      "RangeIndex: 15601 entries, 0 to 15600\n",
      "Data columns (total 8 columns):\n",
      " #   Column         Non-Null Count  Dtype  \n",
      "---  ------         --------------  -----  \n",
      " 0   Evaporation    15601 non-null  float64\n",
      " 1   Sunshine       15601 non-null  float64\n",
      " 2   WindGustSpeed  15601 non-null  float64\n",
      " 3   Humidity3pm    15601 non-null  float64\n",
      " 4   Pressure       15601 non-null  float64\n",
      " 5   Cloud3pm       15601 non-null  float64\n",
      " 6   Temp3pm        15601 non-null  float64\n",
      " 7   RainToday      15601 non-null  float64\n",
      "dtypes: float64(8)\n",
      "memory usage: 975.2 KB\n"
     ]
    }
   ],
   "source": [
    "X_test = pd.DataFrame(knn_imputer.transform(X_test), columns=X_test.columns)\n",
    "\n",
    "X_test.info()"
   ]
  },
  {
   "cell_type": "code",
   "execution_count": 21,
   "metadata": {},
   "outputs": [
    {
     "data": {
      "text/html": [
       "<div>\n",
       "<style scoped>\n",
       "    .dataframe tbody tr th:only-of-type {\n",
       "        vertical-align: middle;\n",
       "    }\n",
       "\n",
       "    .dataframe tbody tr th {\n",
       "        vertical-align: top;\n",
       "    }\n",
       "\n",
       "    .dataframe thead th {\n",
       "        text-align: right;\n",
       "    }\n",
       "</style>\n",
       "<table border=\"1\" class=\"dataframe\">\n",
       "  <thead>\n",
       "    <tr style=\"text-align: right;\">\n",
       "      <th></th>\n",
       "      <th>Entrainement : Types</th>\n",
       "      <th>Entrainement : Qté de Nulles</th>\n",
       "      <th>Test : Types</th>\n",
       "      <th>Test : Qté de Nulles</th>\n",
       "    </tr>\n",
       "  </thead>\n",
       "  <tbody>\n",
       "    <tr>\n",
       "      <th>Evaporation</th>\n",
       "      <td>float64</td>\n",
       "      <td>0</td>\n",
       "      <td>float64</td>\n",
       "      <td>0</td>\n",
       "    </tr>\n",
       "    <tr>\n",
       "      <th>Sunshine</th>\n",
       "      <td>float64</td>\n",
       "      <td>0</td>\n",
       "      <td>float64</td>\n",
       "      <td>0</td>\n",
       "    </tr>\n",
       "    <tr>\n",
       "      <th>WindGustSpeed</th>\n",
       "      <td>float64</td>\n",
       "      <td>0</td>\n",
       "      <td>float64</td>\n",
       "      <td>0</td>\n",
       "    </tr>\n",
       "    <tr>\n",
       "      <th>Humidity3pm</th>\n",
       "      <td>float64</td>\n",
       "      <td>0</td>\n",
       "      <td>float64</td>\n",
       "      <td>0</td>\n",
       "    </tr>\n",
       "    <tr>\n",
       "      <th>Pressure</th>\n",
       "      <td>float64</td>\n",
       "      <td>0</td>\n",
       "      <td>float64</td>\n",
       "      <td>0</td>\n",
       "    </tr>\n",
       "    <tr>\n",
       "      <th>Cloud3pm</th>\n",
       "      <td>float64</td>\n",
       "      <td>0</td>\n",
       "      <td>float64</td>\n",
       "      <td>0</td>\n",
       "    </tr>\n",
       "    <tr>\n",
       "      <th>Temp3pm</th>\n",
       "      <td>float64</td>\n",
       "      <td>0</td>\n",
       "      <td>float64</td>\n",
       "      <td>0</td>\n",
       "    </tr>\n",
       "    <tr>\n",
       "      <th>RainToday</th>\n",
       "      <td>float64</td>\n",
       "      <td>0</td>\n",
       "      <td>float64</td>\n",
       "      <td>0</td>\n",
       "    </tr>\n",
       "  </tbody>\n",
       "</table>\n",
       "</div>"
      ],
      "text/plain": [
       "              Entrainement : Types  Entrainement : Qté de Nulles Test : Types  \\\n",
       "Evaporation                float64                             0      float64   \n",
       "Sunshine                   float64                             0      float64   \n",
       "WindGustSpeed              float64                             0      float64   \n",
       "Humidity3pm                float64                             0      float64   \n",
       "Pressure                   float64                             0      float64   \n",
       "Cloud3pm                   float64                             0      float64   \n",
       "Temp3pm                    float64                             0      float64   \n",
       "RainToday                  float64                             0      float64   \n",
       "\n",
       "               Test : Qté de Nulles  \n",
       "Evaporation                       0  \n",
       "Sunshine                          0  \n",
       "WindGustSpeed                     0  \n",
       "Humidity3pm                       0  \n",
       "Pressure                          0  \n",
       "Cloud3pm                          0  \n",
       "Temp3pm                           0  \n",
       "RainToday                         0  "
      ]
     },
     "execution_count": 21,
     "metadata": {},
     "output_type": "execute_result"
    }
   ],
   "source": [
    "pd.DataFrame({\n",
    "    'Entrainement : Types': X_train.dtypes,\n",
    "    'Entrainement : Qté de Nulles' : X_train.isnull().sum(),\n",
    "    'Test : Types': X_test.dtypes,\n",
    "    'Test : Qté de Nulles' : X_test.isnull().sum()\n",
    "})"
   ]
  },
  {
   "cell_type": "markdown",
   "metadata": {},
   "source": [
    "Ajustement des variables ordinales `--force`"
   ]
  },
  {
   "cell_type": "code",
   "execution_count": 22,
   "metadata": {},
   "outputs": [
    {
     "data": {
      "text/plain": [
       "array([6.4, 8. , 6. , 3.2, 0. , 2. , 1. , 7.2, 5.2, 2.2, 7. , 3.6, 4.2,\n",
       "       5. , 4. , 2.8, 6.6, 6.2, 3. , 4.8, 4.6, 1.6, 5.8, 1.4, 3.8, 5.4,\n",
       "       6.8, 5.6, 2.4, 7.4, 7.6, 4.4, 3.4, 2.6, 1.8, 1.2, 7.8, 0.6, 0.4,\n",
       "       0.8, 0.2, 9. ])"
      ]
     },
     "execution_count": 22,
     "metadata": {},
     "output_type": "execute_result"
    }
   ],
   "source": [
    "# @_@ !!!!\n",
    "X_train['Cloud3pm'].unique()"
   ]
  },
  {
   "cell_type": "code",
   "execution_count": 23,
   "metadata": {},
   "outputs": [],
   "source": [
    "X_train['Cloud3pm'] = X_train['Cloud3pm'].round()"
   ]
  },
  {
   "cell_type": "markdown",
   "metadata": {},
   "source": [
    "Ajustement de types"
   ]
  },
  {
   "cell_type": "code",
   "execution_count": 24,
   "metadata": {},
   "outputs": [
    {
     "data": {
      "text/plain": [
       "dtype('int8')"
      ]
     },
     "metadata": {},
     "output_type": "display_data"
    },
    {
     "data": {
      "text/plain": [
       "dtype('int8')"
      ]
     },
     "metadata": {},
     "output_type": "display_data"
    },
    {
     "data": {
      "text/plain": [
       "dtype('int8')"
      ]
     },
     "metadata": {},
     "output_type": "display_data"
    }
   ],
   "source": [
    "X_train['Cloud3pm'] = X_train['Cloud3pm'].astype(np.int8)\n",
    "X_train['RainToday'] = X_train['RainToday'].astype(np.int8)\n",
    "X_test['RainToday'] = X_test['RainToday'].astype(np.int8)\n",
    "\n",
    "display(\n",
    "    X_train['Cloud3pm'].dtype,\n",
    "    X_train['RainToday'].dtype,\n",
    "    X_test['RainToday'].dtype\n",
    ")"
   ]
  },
  {
   "cell_type": "markdown",
   "metadata": {},
   "source": [
    "##### **1.2** - Proto-modélisation"
   ]
  },
  {
   "cell_type": "markdown",
   "metadata": {},
   "source": [
    "Données d'entrainement `X_train`"
   ]
  },
  {
   "cell_type": "code",
   "execution_count": 25,
   "metadata": {},
   "outputs": [],
   "source": [
    "proto_DT = DecisionTreeClassifier()\n",
    "proto_DT.fit(X_train, y_train)\n",
    "\n",
    "proto_train_predictions = proto_DT.predict(X_train)"
   ]
  },
  {
   "cell_type": "code",
   "execution_count": 26,
   "metadata": {},
   "outputs": [
    {
     "data": {
      "text/html": [
       "<div>\n",
       "<style scoped>\n",
       "    .dataframe tbody tr th:only-of-type {\n",
       "        vertical-align: middle;\n",
       "    }\n",
       "\n",
       "    .dataframe tbody tr th {\n",
       "        vertical-align: top;\n",
       "    }\n",
       "\n",
       "    .dataframe thead th {\n",
       "        text-align: right;\n",
       "    }\n",
       "</style>\n",
       "<table border=\"1\" class=\"dataframe\">\n",
       "  <thead>\n",
       "    <tr style=\"text-align: right;\">\n",
       "      <th></th>\n",
       "      <th>Prédictions Train</th>\n",
       "      <th>Réponses Train</th>\n",
       "      <th>Egalité</th>\n",
       "    </tr>\n",
       "  </thead>\n",
       "  <tbody>\n",
       "    <tr>\n",
       "      <th>34678</th>\n",
       "      <td>No</td>\n",
       "      <td>Yes</td>\n",
       "      <td>False</td>\n",
       "    </tr>\n",
       "    <tr>\n",
       "      <th>26336</th>\n",
       "      <td>Yes</td>\n",
       "      <td>No</td>\n",
       "      <td>False</td>\n",
       "    </tr>\n",
       "    <tr>\n",
       "      <th>2869</th>\n",
       "      <td>Yes</td>\n",
       "      <td>No</td>\n",
       "      <td>False</td>\n",
       "    </tr>\n",
       "    <tr>\n",
       "      <th>...</th>\n",
       "      <td>...</td>\n",
       "      <td>...</td>\n",
       "      <td>...</td>\n",
       "    </tr>\n",
       "    <tr>\n",
       "      <th>8888</th>\n",
       "      <td>Yes</td>\n",
       "      <td>No</td>\n",
       "      <td>False</td>\n",
       "    </tr>\n",
       "    <tr>\n",
       "      <th>34538</th>\n",
       "      <td>No</td>\n",
       "      <td>Yes</td>\n",
       "      <td>False</td>\n",
       "    </tr>\n",
       "    <tr>\n",
       "      <th>34630</th>\n",
       "      <td>No</td>\n",
       "      <td>Yes</td>\n",
       "      <td>False</td>\n",
       "    </tr>\n",
       "  </tbody>\n",
       "</table>\n",
       "<p>113 rows × 3 columns</p>\n",
       "</div>"
      ],
      "text/plain": [
       "      Prédictions Train Réponses Train  Egalité\n",
       "34678                No            Yes    False\n",
       "26336               Yes             No    False\n",
       "2869                Yes             No    False\n",
       "...                 ...            ...      ...\n",
       "8888                Yes             No    False\n",
       "34538                No            Yes    False\n",
       "34630                No            Yes    False\n",
       "\n",
       "[113 rows x 3 columns]"
      ]
     },
     "execution_count": 26,
     "metadata": {},
     "output_type": "execute_result"
    }
   ],
   "source": [
    "df = prediction_quick_view(proto_train_predictions, y_train, 'Train')\n",
    "\n",
    "df.loc[df['Egalité'] == False]"
   ]
  },
  {
   "cell_type": "code",
   "execution_count": 27,
   "metadata": {},
   "outputs": [
    {
     "data": {
      "text/plain": [
       "No     23448\n",
       "Yes    23353\n",
       "Name: RainTomorrow, dtype: int64"
      ]
     },
     "execution_count": 27,
     "metadata": {},
     "output_type": "execute_result"
    }
   ],
   "source": [
    "y_train.value_counts()"
   ]
  },
  {
   "cell_type": "code",
   "execution_count": 30,
   "metadata": {},
   "outputs": [
    {
     "data": {
      "image/png": "[encoded data removed]",
      "text/plain": [
       "<Figure size 432x288 with 2 Axes>"
      ]
     },
     "metadata": {},
     "output_type": "display_data"
    }
   ],
   "source": [
    "# (!) - 86 bad predictions for 'RainTomorrow' = `Yes` and 27 for 'RainTomorrow' = `No` \n",
    "cm = confusion_matrix(y_train, proto_train_predictions, labels=['Yes', 'No'])\n",
    "\n",
    "save_cm(cm, 'train_proto')\n",
    "\n",
    "cm_d = ConfusionMatrixDisplay(confusion_matrix=cm, display_labels=['Yes', 'No'])\n",
    "cm_d.plot()\n",
    "plt.show()"
   ]
  },
  {
   "cell_type": "code",
   "execution_count": 31,
   "metadata": {},
   "outputs": [
    {
     "data": {
      "text/plain": [
       "0.9975855216768873"
      ]
     },
     "execution_count": 31,
     "metadata": {},
     "output_type": "execute_result"
    }
   ],
   "source": [
    "proto_DT.score(X_train, y_train)"
   ]
  },
  {
   "cell_type": "code",
   "execution_count": 32,
   "metadata": {},
   "outputs": [
    {
     "name": "stdout",
     "output_type": "stream",
     "text": [
      "              precision    recall  f1-score   support\n",
      "\n",
      "          No       1.00      1.00      1.00     23448\n",
      "         Yes       1.00      1.00      1.00     23353\n",
      "\n",
      "    accuracy                           1.00     46801\n",
      "   macro avg       1.00      1.00      1.00     46801\n",
      "weighted avg       1.00      1.00      1.00     46801\n",
      "\n"
     ]
    }
   ],
   "source": [
    "cr = classification_report(y_train, proto_train_predictions)\n",
    "\n",
    "print(cr)"
   ]
  },
  {
   "cell_type": "markdown",
   "metadata": {},
   "source": [
    "Données de test `X_test`"
   ]
  },
  {
   "cell_type": "code",
   "execution_count": 33,
   "metadata": {},
   "outputs": [],
   "source": [
    "proto_test_predictions = proto_DT.predict(X_test)"
   ]
  },
  {
   "cell_type": "code",
   "execution_count": 34,
   "metadata": {},
   "outputs": [
    {
     "data": {
      "text/html": [
       "<div>\n",
       "<style scoped>\n",
       "    .dataframe tbody tr th:only-of-type {\n",
       "        vertical-align: middle;\n",
       "    }\n",
       "\n",
       "    .dataframe tbody tr th {\n",
       "        vertical-align: top;\n",
       "    }\n",
       "\n",
       "    .dataframe thead th {\n",
       "        text-align: right;\n",
       "    }\n",
       "</style>\n",
       "<table border=\"1\" class=\"dataframe\">\n",
       "  <thead>\n",
       "    <tr style=\"text-align: right;\">\n",
       "      <th></th>\n",
       "      <th>Prédictions Test</th>\n",
       "      <th>Réponses Test</th>\n",
       "      <th>Egalité</th>\n",
       "    </tr>\n",
       "  </thead>\n",
       "  <tbody>\n",
       "    <tr>\n",
       "      <th>1466</th>\n",
       "      <td>Yes</td>\n",
       "      <td>No</td>\n",
       "      <td>False</td>\n",
       "    </tr>\n",
       "    <tr>\n",
       "      <th>56675</th>\n",
       "      <td>No</td>\n",
       "      <td>Yes</td>\n",
       "      <td>False</td>\n",
       "    </tr>\n",
       "    <tr>\n",
       "      <th>23075</th>\n",
       "      <td>Yes</td>\n",
       "      <td>No</td>\n",
       "      <td>False</td>\n",
       "    </tr>\n",
       "    <tr>\n",
       "      <th>...</th>\n",
       "      <td>...</td>\n",
       "      <td>...</td>\n",
       "      <td>...</td>\n",
       "    </tr>\n",
       "    <tr>\n",
       "      <th>42790</th>\n",
       "      <td>No</td>\n",
       "      <td>Yes</td>\n",
       "      <td>False</td>\n",
       "    </tr>\n",
       "    <tr>\n",
       "      <th>59888</th>\n",
       "      <td>No</td>\n",
       "      <td>Yes</td>\n",
       "      <td>False</td>\n",
       "    </tr>\n",
       "    <tr>\n",
       "      <th>15033</th>\n",
       "      <td>Yes</td>\n",
       "      <td>No</td>\n",
       "      <td>False</td>\n",
       "    </tr>\n",
       "  </tbody>\n",
       "</table>\n",
       "<p>4656 rows × 3 columns</p>\n",
       "</div>"
      ],
      "text/plain": [
       "      Prédictions Test Réponses Test  Egalité\n",
       "1466               Yes            No    False\n",
       "56675               No           Yes    False\n",
       "23075              Yes            No    False\n",
       "...                ...           ...      ...\n",
       "42790               No           Yes    False\n",
       "59888               No           Yes    False\n",
       "15033              Yes            No    False\n",
       "\n",
       "[4656 rows x 3 columns]"
      ]
     },
     "execution_count": 34,
     "metadata": {},
     "output_type": "execute_result"
    }
   ],
   "source": [
    "df = prediction_quick_view(proto_test_predictions, y_test, 'Test')\n",
    "\n",
    "df.loc[df['Egalité'] == False]"
   ]
  },
  {
   "cell_type": "code",
   "execution_count": 35,
   "metadata": {},
   "outputs": [
    {
     "data": {
      "image/png": "[encoded data removed]",
      "text/plain": [
       "<Figure size 432x288 with 2 Axes>"
      ]
     },
     "metadata": {},
     "output_type": "display_data"
    }
   ],
   "source": [
    "# (!) - xD !! \n",
    "cm = confusion_matrix(y_test, proto_test_predictions, labels=['Yes', 'No'])\n",
    "\n",
    "save_cm(cm, 'test_proto')\n",
    "\n",
    "cm_d = ConfusionMatrixDisplay(confusion_matrix=cm, display_labels=['Yes', 'No'])\n",
    "cm_d.plot()\n",
    "plt.show()"
   ]
  },
  {
   "cell_type": "code",
   "execution_count": 36,
   "metadata": {},
   "outputs": [
    {
     "data": {
      "text/plain": [
       "0.7015575924620217"
      ]
     },
     "execution_count": 36,
     "metadata": {},
     "output_type": "execute_result"
    }
   ],
   "source": [
    "proto_DT.score(X_test, y_test)"
   ]
  },
  {
   "cell_type": "code",
   "execution_count": 37,
   "metadata": {},
   "outputs": [
    {
     "name": "stdout",
     "output_type": "stream",
     "text": [
      "              precision    recall  f1-score   support\n",
      "\n",
      "          No       0.70      0.71      0.70      7753\n",
      "         Yes       0.71      0.70      0.70      7848\n",
      "\n",
      "    accuracy                           0.70     15601\n",
      "   macro avg       0.70      0.70      0.70     15601\n",
      "weighted avg       0.70      0.70      0.70     15601\n",
      "\n"
     ]
    }
   ],
   "source": [
    "# (!) - xD xD xD\n",
    "cr = classification_report(y_test, proto_test_predictions)\n",
    "\n",
    "print(cr)"
   ]
  },
  {
   "cell_type": "markdown",
   "metadata": {},
   "source": [
    "##### **1.3** - Traitements du contenu"
   ]
  },
  {
   "cell_type": "markdown",
   "metadata": {},
   "source": [
    "Valeurs aberrantes"
   ]
  },
  {
   "cell_type": "code",
   "execution_count": null,
   "metadata": {},
   "outputs": [],
   "source": [
    "# (!) - Sample for outliers\n",
    "# X_train_otlr = X_train.copy()\n",
    "\n",
    "# isolator = IsolationForest()\n",
    "# X_train_otlr['outlier'] = isolator.fit_predict(X_train_otlr)\n",
    "\n",
    "# X_train_otlr.loc[X_train_otlr['outlier'] < 0]"
   ]
  },
  {
   "cell_type": "markdown",
   "metadata": {},
   "source": [
    "##### **1.4** - Traitements Features"
   ]
  },
  {
   "cell_type": "markdown",
   "metadata": {},
   "source": [
    "Features Selection"
   ]
  },
  {
   "cell_type": "markdown",
   "metadata": {},
   "source": [
    "Features Engineering"
   ]
  },
  {
   "cell_type": "markdown",
   "metadata": {},
   "source": [
    "Features Scaling"
   ]
  },
  {
   "cell_type": "markdown",
   "metadata": {},
   "source": [
    "---"
   ]
  },
  {
   "cell_type": "code",
   "execution_count": 41,
   "metadata": {},
   "outputs": [],
   "source": [
    "# (!) - Sample for Strat'KF\n",
    "# cv_Strat_KF = StratifiedKFold(n_splits=5, shuffle=True, random_state=5)\n",
    "# cvs_Strat_KF = cross_val_score(proto_DT, X_train, y_train, cv=cv_Strat_KF)\n",
    "\n",
    "# proto_DT_Strat_KF = cvs_Strat_KF.mean()"
   ]
  },
  {
   "cell_type": "code",
   "execution_count": null,
   "metadata": {},
   "outputs": [],
   "source": [
    "# (!) - Sample for results w/ Strat'KF\n",
    "# display(\n",
    "#     cvs_Strat_KF,\n",
    "#     proto_DT_Strat_KF\n",
    "# )\n",
    "\n",
    "# proto_DT.score(X_train, y_train)"
   ]
  },
  {
   "cell_type": "code",
   "execution_count": null,
   "metadata": {},
   "outputs": [],
   "source": [
    "# (!) - Sample GSCV\n",
    "# cv_KF = KFold(n_splits=5, shuffle=True, random_state=5)\n",
    "# gd_param = {'max_depth': np.arange(1,25), 'criterion' : ['entropy', 'gini']}\n",
    "\n",
    "# m1_gd_DT = GridSearchCV(DecisionTreeClassifier(), gd_param, cv=cv_KF)\n",
    "# m1_gd_DT.fit(X_train, y_train)"
   ]
  }
 ],
 "metadata": {
  "kernelspec": {
   "display_name": "Python 3.10.5 64-bit",
   "language": "python",
   "name": "python3"
  },
  "language_info": {
   "codemirror_mode": {
    "name": "ipython",
    "version": 3
   },
   "file_extension": ".py",
   "mimetype": "text/x-python",
   "name": "python",
   "nbconvert_exporter": "python",
   "pygments_lexer": "ipython3",
   "version": "3.12.1"
  },
  "orig_nbformat": 4,
  "vscode": {
   "interpreter": {
    "hash": "26de051ba29f2982a8de78e945f0abaf191376122a1563185a90213a26c5da77"
   }
  }
 },
 "nbformat": 4,
 "nbformat_minor": 2
}

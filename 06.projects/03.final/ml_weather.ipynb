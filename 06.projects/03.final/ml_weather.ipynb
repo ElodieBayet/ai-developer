{
 "cells": [
  {
   "cell_type": "markdown",
   "metadata": {},
   "source": [
    "## **ML :** Weather AUS\n",
    "\n",
    "#### _Rain in Australia_\n",
    "\n",
    "🟠 `on work`\n",
    "\n",
    "---\n",
    "\n",
    "1. **Preprocessing**\n",
    "    * Extraction et préparation\n",
    "    * Nettoyage et encodage\n",
    "    * Proto-modélisation\n",
    "    * Traitement du contenu\n",
    "    * Feature Selection\n",
    "    * Feature Engineering\n",
    "    * Feature Scaling\n",
    "2. **Modeling**\n",
    "    * Fonction d’évaluation\n",
    "    * Entrainements multiples modèles\n",
    "    * Optimisation\n",
    "    * Analyse des erreurs\n",
    "    * Courbe d'aprentissage\n",
    "    * Décision"
   ]
  },
  {
   "cell_type": "markdown",
   "metadata": {},
   "source": [
    "**Built-in**"
   ]
  },
  {
   "cell_type": "markdown",
   "metadata": {},
   "source": [
    "**Librairies**"
   ]
  },
  {
   "cell_type": "code",
   "execution_count": 1,
   "metadata": {},
   "outputs": [],
   "source": [
    "import numpy as np\n",
    "import pandas as pd\n",
    "import matplotlib.pyplot as plt\n",
    "import seaborn as sns"
   ]
  },
  {
   "cell_type": "markdown",
   "metadata": {},
   "source": [
    "**ML Objects**"
   ]
  },
  {
   "cell_type": "code",
   "execution_count": 16,
   "metadata": {},
   "outputs": [],
   "source": [
    "# Algorithms\n",
    "from sklearn.tree import DecisionTreeClassifier\n",
    "from sklearn.neighbors import KNeighborsClassifier \n",
    "from sklearn.ensemble import RandomForestClassifier\n",
    "# - -\n",
    "# Evaluation, tuning, etc.\n",
    "from sklearn.model_selection import train_test_split\n",
    "from sklearn.model_selection import cross_val_score\n",
    "# from sklearn.model_selection import KFold\n",
    "from sklearn.model_selection import GridSearchCV\n",
    "# - -\n",
    "# Preprocessing\n",
    "# from sklearn.preprocessing import LabelEncoder\n",
    "from sklearn.preprocessing import OneHotEncoder\n",
    "from sklearn.preprocessing import OrdinalEncoder\n",
    "from sklearn.preprocessing import StandardScaler\n",
    "# from sklearn.preprocessing import RobustScaler\n",
    "# from sklearn.preprocessing import MinMaxScaler\n",
    "# - -\n",
    "# Imputer\n",
    "from sklearn.impute import KNNImputer\n",
    "# - -\n",
    "# Metrics\n",
    "from sklearn.metrics import classification_report\n",
    "from sklearn.metrics import confusion_matrix\n",
    "from sklearn.metrics import ConfusionMatrixDisplay\n",
    "# from sklearn.metrics import accuracy_score\n",
    "# from sklearn.metrics import average_precision_score\n",
    "# from sklearn.metrics import precision_score\n",
    "# - - \n",
    "# Tools\n",
    "# from sklearn.compose import make_column_transformer\n",
    "# from sklearn.tree import plot_tree\n",
    "from sklearn.utils import resample"
   ]
  },
  {
   "cell_type": "markdown",
   "metadata": {},
   "source": [
    "**User Code**"
   ]
  },
  {
   "cell_type": "code",
   "execution_count": 11,
   "metadata": {},
   "outputs": [],
   "source": [
    "def extract_x_y(dataframe:pd.DataFrame, target:str|list[str]) -> tuple :\n",
    "    \"\"\"Extract Features and Target from dataset\n",
    "\n",
    "    Args:\n",
    "        dataframe (pd.DataFrame): Dataframe to extract columns from\n",
    "        target (str | list[str]): Target name\n",
    "\n",
    "    Returns:\n",
    "        tuple: Feature as X, and Label as y\n",
    "    \"\"\"\n",
    "\n",
    "    y = dataframe[target] \n",
    "    X = dataframe.drop(columns=target)\n",
    "\n",
    "    print(y.unique())\n",
    "    print(X.columns.to_list())\n",
    "\n",
    "    return X, y"
   ]
  },
  {
   "cell_type": "code",
   "execution_count": 12,
   "metadata": {},
   "outputs": [],
   "source": [
    "def save_cm(cm:list, name:str) -> None :\n",
    "    \"\"\"Save a Confusion Matrix as CSV file in `./_outputs/` subdirectory\n",
    "\n",
    "    Args:\n",
    "        cm (list): Confusion Matrix built with `sklearn.metrics.confusion_matrix`\n",
    "        name (str): A lowercase spaceless text for file name\n",
    "    \"\"\"\n",
    "        \n",
    "    df = pd.DataFrame({\n",
    "        'Predict. Yes': [cm[0,0], cm[1,0]],\n",
    "        'Predict. No': [cm[1,0], cm[1,1]]\n",
    "    }, index=['True Yes', 'True No'])\n",
    "    \n",
    "    df.to_csv(f'./_outputs/cm_{name}.csv')"
   ]
  },
  {
   "cell_type": "code",
   "execution_count": 98,
   "metadata": {},
   "outputs": [],
   "source": [
    "def encode_binaries(X:pd.DataFrame, features:list[str]) -> pd.DataFrame :\n",
    "    \"\"\"I'll not describe ! Just read the code. And if you can't, just learn coding ! And if you can't, just TEACH CODERS BETTER and they'll do it for you !!! \n",
    "\n",
    "    Args:\n",
    "        X (pd.DataFrame): _description_\n",
    "        features (list[str]): _description_\n",
    "\n",
    "    Returns:\n",
    "        pd.DataFrame: _description_\n",
    "    \"\"\"\n",
    "    \n",
    "    ohe = OneHotEncoder(handle_unknown='ignore', drop='if_binary', sparse=False, dtype=np.int8)\n",
    "    X_enc = pd.DataFrame()\n",
    "    \n",
    "    X_enc[features] = pd.DataFrame(ohe.fit_transform(X[features]), columns=features)\n",
    "\n",
    "    # One-hot encoding removed index ; put it back\n",
    "    X_enc.index = X.index\n",
    "    \n",
    "    X.drop(features, axis=1, inplace=True)\n",
    "\n",
    "    X_ohe = pd.concat([X, X_enc], axis=1)\n",
    "    \n",
    "    return X_ohe"
   ]
  },
  {
   "cell_type": "markdown",
   "metadata": {},
   "source": [
    "**Notebook Setup**"
   ]
  },
  {
   "cell_type": "code",
   "execution_count": 2,
   "metadata": {},
   "outputs": [],
   "source": [
    "# Colour codes\n",
    "mean_c = '#FFFFFF'\n",
    "median_c = '#c2e800'\n",
    "default_c = '#336699'\n",
    "palette_c = [\n",
    "    '#b8e600', # Sunny\n",
    "    '#00bfff' # Rainy\n",
    "]\n",
    "\n",
    "# Pandas\n",
    "pd.options.display.max_rows = 30\n",
    "pd.options.display.min_rows = 6\n",
    "\n",
    "# Matplotlib\n",
    "plt.style.use('dark_background')\n",
    "\n",
    "plt.rcParams['figure.facecolor'] = '#242428'\n",
    "plt.rcParams['axes.facecolor'] = '#242428'\n",
    "plt.rcParams['axes.titleweight'] = 'bold'"
   ]
  },
  {
   "cell_type": "markdown",
   "metadata": {},
   "source": [
    "**Weather AUS**\n",
    "\n",
    "[Rain in Australia](https://www.kaggle.com/datasets/jsphyg/weather-dataset-rattle-package)"
   ]
  },
  {
   "cell_type": "code",
   "execution_count": 20,
   "metadata": {},
   "outputs": [
    {
     "data": {
      "text/html": [
       "<div>\n",
       "<style scoped>\n",
       "    .dataframe tbody tr th:only-of-type {\n",
       "        vertical-align: middle;\n",
       "    }\n",
       "\n",
       "    .dataframe tbody tr th {\n",
       "        vertical-align: top;\n",
       "    }\n",
       "\n",
       "    .dataframe thead th {\n",
       "        text-align: right;\n",
       "    }\n",
       "</style>\n",
       "<table border=\"1\" class=\"dataframe\">\n",
       "  <thead>\n",
       "    <tr style=\"text-align: right;\">\n",
       "      <th></th>\n",
       "      <th>Evaporation</th>\n",
       "      <th>Sunshine</th>\n",
       "      <th>WindGustSpeed</th>\n",
       "      <th>Humidity3pm</th>\n",
       "      <th>Pressure</th>\n",
       "      <th>Cloud3pm</th>\n",
       "      <th>Temp3pm</th>\n",
       "      <th>RainToday</th>\n",
       "      <th>RainTomorrow</th>\n",
       "    </tr>\n",
       "  </thead>\n",
       "  <tbody>\n",
       "    <tr>\n",
       "      <th>0</th>\n",
       "      <td>NaN</td>\n",
       "      <td>NaN</td>\n",
       "      <td>44.0</td>\n",
       "      <td>22.0</td>\n",
       "      <td>1007.40</td>\n",
       "      <td>NaN</td>\n",
       "      <td>21.8</td>\n",
       "      <td>No</td>\n",
       "      <td>No</td>\n",
       "    </tr>\n",
       "    <tr>\n",
       "      <th>1</th>\n",
       "      <td>NaN</td>\n",
       "      <td>NaN</td>\n",
       "      <td>44.0</td>\n",
       "      <td>25.0</td>\n",
       "      <td>1009.20</td>\n",
       "      <td>NaN</td>\n",
       "      <td>24.3</td>\n",
       "      <td>No</td>\n",
       "      <td>No</td>\n",
       "    </tr>\n",
       "    <tr>\n",
       "      <th>2</th>\n",
       "      <td>NaN</td>\n",
       "      <td>NaN</td>\n",
       "      <td>46.0</td>\n",
       "      <td>30.0</td>\n",
       "      <td>1008.15</td>\n",
       "      <td>2.0</td>\n",
       "      <td>23.2</td>\n",
       "      <td>No</td>\n",
       "      <td>No</td>\n",
       "    </tr>\n",
       "    <tr>\n",
       "      <th>...</th>\n",
       "      <td>...</td>\n",
       "      <td>...</td>\n",
       "      <td>...</td>\n",
       "      <td>...</td>\n",
       "      <td>...</td>\n",
       "      <td>...</td>\n",
       "      <td>...</td>\n",
       "      <td>...</td>\n",
       "      <td>...</td>\n",
       "    </tr>\n",
       "    <tr>\n",
       "      <th>140784</th>\n",
       "      <td>NaN</td>\n",
       "      <td>NaN</td>\n",
       "      <td>22.0</td>\n",
       "      <td>21.0</td>\n",
       "      <td>1021.30</td>\n",
       "      <td>NaN</td>\n",
       "      <td>24.5</td>\n",
       "      <td>No</td>\n",
       "      <td>No</td>\n",
       "    </tr>\n",
       "    <tr>\n",
       "      <th>140785</th>\n",
       "      <td>NaN</td>\n",
       "      <td>NaN</td>\n",
       "      <td>37.0</td>\n",
       "      <td>24.0</td>\n",
       "      <td>1018.90</td>\n",
       "      <td>NaN</td>\n",
       "      <td>26.1</td>\n",
       "      <td>No</td>\n",
       "      <td>No</td>\n",
       "    </tr>\n",
       "    <tr>\n",
       "      <th>140786</th>\n",
       "      <td>NaN</td>\n",
       "      <td>NaN</td>\n",
       "      <td>28.0</td>\n",
       "      <td>24.0</td>\n",
       "      <td>1017.95</td>\n",
       "      <td>2.0</td>\n",
       "      <td>26.0</td>\n",
       "      <td>No</td>\n",
       "      <td>No</td>\n",
       "    </tr>\n",
       "  </tbody>\n",
       "</table>\n",
       "<p>140787 rows × 9 columns</p>\n",
       "</div>"
      ],
      "text/plain": [
       "        Evaporation  Sunshine  WindGustSpeed  Humidity3pm  Pressure  Cloud3pm  \\\n",
       "0               NaN       NaN           44.0         22.0   1007.40       NaN   \n",
       "1               NaN       NaN           44.0         25.0   1009.20       NaN   \n",
       "2               NaN       NaN           46.0         30.0   1008.15       2.0   \n",
       "...             ...       ...            ...          ...       ...       ...   \n",
       "140784          NaN       NaN           22.0         21.0   1021.30       NaN   \n",
       "140785          NaN       NaN           37.0         24.0   1018.90       NaN   \n",
       "140786          NaN       NaN           28.0         24.0   1017.95       2.0   \n",
       "\n",
       "        Temp3pm RainToday RainTomorrow  \n",
       "0          21.8        No           No  \n",
       "1          24.3        No           No  \n",
       "2          23.2        No           No  \n",
       "...         ...       ...          ...  \n",
       "140784     24.5        No           No  \n",
       "140785     26.1        No           No  \n",
       "140786     26.0        No           No  \n",
       "\n",
       "[140787 rows x 9 columns]"
      ]
     },
     "execution_count": 20,
     "metadata": {},
     "output_type": "execute_result"
    }
   ],
   "source": [
    "weather_file_path = './_datasets/weather_data_prepare.csv'\n",
    "weather_data = pd.read_csv(weather_file_path)\n",
    "\n",
    "weather_data"
   ]
  },
  {
   "cell_type": "code",
   "execution_count": 21,
   "metadata": {},
   "outputs": [
    {
     "data": {
      "text/html": [
       "<div>\n",
       "<style scoped>\n",
       "    .dataframe tbody tr th:only-of-type {\n",
       "        vertical-align: middle;\n",
       "    }\n",
       "\n",
       "    .dataframe tbody tr th {\n",
       "        vertical-align: top;\n",
       "    }\n",
       "\n",
       "    .dataframe thead th {\n",
       "        text-align: right;\n",
       "    }\n",
       "</style>\n",
       "<table border=\"1\" class=\"dataframe\">\n",
       "  <thead>\n",
       "    <tr style=\"text-align: right;\">\n",
       "      <th></th>\n",
       "      <th>Types</th>\n",
       "      <th>Qté de Nulles</th>\n",
       "    </tr>\n",
       "  </thead>\n",
       "  <tbody>\n",
       "    <tr>\n",
       "      <th>Evaporation</th>\n",
       "      <td>float64</td>\n",
       "      <td>59694</td>\n",
       "    </tr>\n",
       "    <tr>\n",
       "      <th>Sunshine</th>\n",
       "      <td>float64</td>\n",
       "      <td>66805</td>\n",
       "    </tr>\n",
       "    <tr>\n",
       "      <th>WindGustSpeed</th>\n",
       "      <td>float64</td>\n",
       "      <td>9105</td>\n",
       "    </tr>\n",
       "    <tr>\n",
       "      <th>Humidity3pm</th>\n",
       "      <td>float64</td>\n",
       "      <td>3501</td>\n",
       "    </tr>\n",
       "    <tr>\n",
       "      <th>Pressure</th>\n",
       "      <td>float64</td>\n",
       "      <td>13583</td>\n",
       "    </tr>\n",
       "    <tr>\n",
       "      <th>Cloud3pm</th>\n",
       "      <td>float64</td>\n",
       "      <td>56094</td>\n",
       "    </tr>\n",
       "    <tr>\n",
       "      <th>Temp3pm</th>\n",
       "      <td>float64</td>\n",
       "      <td>2624</td>\n",
       "    </tr>\n",
       "    <tr>\n",
       "      <th>RainToday</th>\n",
       "      <td>object</td>\n",
       "      <td>0</td>\n",
       "    </tr>\n",
       "    <tr>\n",
       "      <th>RainTomorrow</th>\n",
       "      <td>object</td>\n",
       "      <td>0</td>\n",
       "    </tr>\n",
       "  </tbody>\n",
       "</table>\n",
       "</div>"
      ],
      "text/plain": [
       "                 Types  Qté de Nulles\n",
       "Evaporation    float64          59694\n",
       "Sunshine       float64          66805\n",
       "WindGustSpeed  float64           9105\n",
       "Humidity3pm    float64           3501\n",
       "Pressure       float64          13583\n",
       "Cloud3pm       float64          56094\n",
       "Temp3pm        float64           2624\n",
       "RainToday       object              0\n",
       "RainTomorrow    object              0"
      ]
     },
     "execution_count": 21,
     "metadata": {},
     "output_type": "execute_result"
    }
   ],
   "source": [
    "pd.DataFrame({\n",
    "    'Types': weather_data.dtypes,\n",
    "    'Qté de Nulles' : weather_data.isnull().sum()\n",
    "})"
   ]
  },
  {
   "cell_type": "markdown",
   "metadata": {},
   "source": [
    "---\n",
    "\n",
    "### **1.** Preprocessing"
   ]
  },
  {
   "cell_type": "markdown",
   "metadata": {},
   "source": [
    "##### **1.1** - Extraction et préparation"
   ]
  },
  {
   "cell_type": "code",
   "execution_count": 28,
   "metadata": {},
   "outputs": [
    {
     "name": "stdout",
     "output_type": "stream",
     "text": [
      "['No' 'Yes']\n",
      "['Evaporation', 'Sunshine', 'WindGustSpeed', 'Humidity3pm', 'Pressure', 'Cloud3pm', 'Temp3pm', 'RainToday']\n"
     ]
    }
   ],
   "source": [
    "X, y = extract_x_y(weather_data, 'RainTomorrow')"
   ]
  },
  {
   "cell_type": "code",
   "execution_count": 29,
   "metadata": {},
   "outputs": [],
   "source": [
    "y = y.astype('category')"
   ]
  },
  {
   "cell_type": "code",
   "execution_count": 30,
   "metadata": {},
   "outputs": [],
   "source": [
    "X_train, X_test, y_train, y_test = train_test_split(X, y, test_size=.25, random_state=5)"
   ]
  },
  {
   "cell_type": "code",
   "execution_count": 25,
   "metadata": {},
   "outputs": [
    {
     "data": {
      "text/html": [
       "<div>\n",
       "<style scoped>\n",
       "    .dataframe tbody tr th:only-of-type {\n",
       "        vertical-align: middle;\n",
       "    }\n",
       "\n",
       "    .dataframe tbody tr th {\n",
       "        vertical-align: top;\n",
       "    }\n",
       "\n",
       "    .dataframe thead th {\n",
       "        text-align: right;\n",
       "    }\n",
       "</style>\n",
       "<table border=\"1\" class=\"dataframe\">\n",
       "  <thead>\n",
       "    <tr style=\"text-align: right;\">\n",
       "      <th></th>\n",
       "      <th>Label Entrainement</th>\n",
       "      <th>Label Test</th>\n",
       "    </tr>\n",
       "  </thead>\n",
       "  <tbody>\n",
       "    <tr>\n",
       "      <th>count</th>\n",
       "      <td>105590</td>\n",
       "      <td>35197</td>\n",
       "    </tr>\n",
       "    <tr>\n",
       "      <th>unique</th>\n",
       "      <td>2</td>\n",
       "      <td>2</td>\n",
       "    </tr>\n",
       "    <tr>\n",
       "      <th>top</th>\n",
       "      <td>No</td>\n",
       "      <td>No</td>\n",
       "    </tr>\n",
       "    <tr>\n",
       "      <th>freq</th>\n",
       "      <td>82180</td>\n",
       "      <td>27406</td>\n",
       "    </tr>\n",
       "    <tr>\n",
       "      <th>percent of no</th>\n",
       "      <td>77.82934</td>\n",
       "      <td>77.864591</td>\n",
       "    </tr>\n",
       "  </tbody>\n",
       "</table>\n",
       "</div>"
      ],
      "text/plain": [
       "              Label Entrainement Label Test\n",
       "count                     105590      35197\n",
       "unique                         2          2\n",
       "top                           No         No\n",
       "freq                       82180      27406\n",
       "percent of no           77.82934  77.864591"
      ]
     },
     "execution_count": 25,
     "metadata": {},
     "output_type": "execute_result"
    }
   ],
   "source": [
    "pd.concat([\n",
    "    pd.DataFrame({\n",
    "    'Label Entrainement': y_train.describe(),\n",
    "    'Label Test': y_test.describe()\n",
    "    }),\n",
    "    pd.Series([\n",
    "        (y_train.describe()[3] / y_train.count()) * 100,\n",
    "        (y_test.describe()[3] / y_test.count()) * 100\n",
    "    ], name='percent of no', index=['Label Entrainement', 'Label Test']).to_frame().T\n",
    "])"
   ]
  },
  {
   "cell_type": "markdown",
   "metadata": {},
   "source": [
    "##### **1.2** - Nettoyage et encodage"
   ]
  },
  {
   "cell_type": "markdown",
   "metadata": {},
   "source": [
    "Nettoyage des valeurs"
   ]
  },
  {
   "cell_type": "code",
   "execution_count": 44,
   "metadata": {},
   "outputs": [
    {
     "name": "stdout",
     "output_type": "stream",
     "text": [
      "<class 'pandas.core.frame.DataFrame'>\n",
      "Int64Index: 105590 entries, 114264 to 35683\n",
      "Data columns (total 8 columns):\n",
      " #   Column         Non-Null Count   Dtype  \n",
      "---  ------         --------------   -----  \n",
      " 0   Evaporation    79080 non-null   float64\n",
      " 1   Sunshine       79080 non-null   float64\n",
      " 2   WindGustSpeed  79080 non-null   float64\n",
      " 3   Humidity3pm    79080 non-null   float64\n",
      " 4   Pressure       79080 non-null   float64\n",
      " 5   Cloud3pm       79080 non-null   float64\n",
      " 6   Temp3pm        79080 non-null   float64\n",
      " 7   RainToday      105590 non-null  object \n",
      "dtypes: float64(7), object(1)\n",
      "memory usage: 7.3+ MB\n"
     ]
    }
   ],
   "source": [
    "knn_imputer = KNNImputer(n_neighbors=5, copy=False)\n",
    "X_train[['Evaporation', 'Sunshine', 'WindGustSpeed', 'Humidity3pm', 'Pressure', 'Cloud3pm', 'Temp3pm']] = pd.DataFrame(knn_imputer.fit_transform(X_train[['Evaporation', 'Sunshine', 'WindGustSpeed', 'Humidity3pm', 'Pressure', 'Cloud3pm', 'Temp3pm']]))\n",
    "\n",
    "X_train.info()"
   ]
  },
  {
   "cell_type": "code",
   "execution_count": 46,
   "metadata": {},
   "outputs": [
    {
     "data": {
      "text/html": [
       "<div>\n",
       "<style scoped>\n",
       "    .dataframe tbody tr th:only-of-type {\n",
       "        vertical-align: middle;\n",
       "    }\n",
       "\n",
       "    .dataframe tbody tr th {\n",
       "        vertical-align: top;\n",
       "    }\n",
       "\n",
       "    .dataframe thead th {\n",
       "        text-align: right;\n",
       "    }\n",
       "</style>\n",
       "<table border=\"1\" class=\"dataframe\">\n",
       "  <thead>\n",
       "    <tr style=\"text-align: right;\">\n",
       "      <th></th>\n",
       "      <th>Evaporation</th>\n",
       "      <th>Sunshine</th>\n",
       "      <th>WindGustSpeed</th>\n",
       "      <th>Humidity3pm</th>\n",
       "      <th>Pressure</th>\n",
       "      <th>Cloud3pm</th>\n",
       "      <th>Temp3pm</th>\n",
       "      <th>RainToday</th>\n",
       "    </tr>\n",
       "  </thead>\n",
       "  <tbody>\n",
       "    <tr>\n",
       "      <th>114264</th>\n",
       "      <td>NaN</td>\n",
       "      <td>NaN</td>\n",
       "      <td>NaN</td>\n",
       "      <td>NaN</td>\n",
       "      <td>NaN</td>\n",
       "      <td>NaN</td>\n",
       "      <td>NaN</td>\n",
       "      <td>No</td>\n",
       "    </tr>\n",
       "    <tr>\n",
       "      <th>52305</th>\n",
       "      <td>6.040000</td>\n",
       "      <td>6.40000</td>\n",
       "      <td>37.000000</td>\n",
       "      <td>98.000000</td>\n",
       "      <td>1010.260000</td>\n",
       "      <td>7.200000</td>\n",
       "      <td>0.600000</td>\n",
       "      <td>No</td>\n",
       "    </tr>\n",
       "    <tr>\n",
       "      <th>95661</th>\n",
       "      <td>2.600000</td>\n",
       "      <td>9.20000</td>\n",
       "      <td>17.000000</td>\n",
       "      <td>42.000000</td>\n",
       "      <td>1019.700000</td>\n",
       "      <td>1.000000</td>\n",
       "      <td>20.100000</td>\n",
       "      <td>No</td>\n",
       "    </tr>\n",
       "    <tr>\n",
       "      <th>...</th>\n",
       "      <td>...</td>\n",
       "      <td>...</td>\n",
       "      <td>...</td>\n",
       "      <td>...</td>\n",
       "      <td>...</td>\n",
       "      <td>...</td>\n",
       "      <td>...</td>\n",
       "      <td>...</td>\n",
       "    </tr>\n",
       "    <tr>\n",
       "      <th>20463</th>\n",
       "      <td>8.600000</td>\n",
       "      <td>11.10000</td>\n",
       "      <td>41.000000</td>\n",
       "      <td>26.000000</td>\n",
       "      <td>1013.100000</td>\n",
       "      <td>2.000000</td>\n",
       "      <td>32.000000</td>\n",
       "      <td>No</td>\n",
       "    </tr>\n",
       "    <tr>\n",
       "      <th>18638</th>\n",
       "      <td>4.020000</td>\n",
       "      <td>5.24000</td>\n",
       "      <td>50.000000</td>\n",
       "      <td>30.000000</td>\n",
       "      <td>1020.200000</td>\n",
       "      <td>1.000000</td>\n",
       "      <td>29.000000</td>\n",
       "      <td>No</td>\n",
       "    </tr>\n",
       "    <tr>\n",
       "      <th>35683</th>\n",
       "      <td>5.464991</td>\n",
       "      <td>7.61917</td>\n",
       "      <td>39.981735</td>\n",
       "      <td>51.529439</td>\n",
       "      <td>1016.464406</td>\n",
       "      <td>4.505281</td>\n",
       "      <td>21.664885</td>\n",
       "      <td>Yes</td>\n",
       "    </tr>\n",
       "  </tbody>\n",
       "</table>\n",
       "<p>105590 rows × 8 columns</p>\n",
       "</div>"
      ],
      "text/plain": [
       "        Evaporation  Sunshine  WindGustSpeed  Humidity3pm     Pressure  \\\n",
       "114264          NaN       NaN            NaN          NaN          NaN   \n",
       "52305      6.040000   6.40000      37.000000    98.000000  1010.260000   \n",
       "95661      2.600000   9.20000      17.000000    42.000000  1019.700000   \n",
       "...             ...       ...            ...          ...          ...   \n",
       "20463      8.600000  11.10000      41.000000    26.000000  1013.100000   \n",
       "18638      4.020000   5.24000      50.000000    30.000000  1020.200000   \n",
       "35683      5.464991   7.61917      39.981735    51.529439  1016.464406   \n",
       "\n",
       "        Cloud3pm    Temp3pm RainToday  \n",
       "114264       NaN        NaN        No  \n",
       "52305   7.200000   0.600000        No  \n",
       "95661   1.000000  20.100000        No  \n",
       "...          ...        ...       ...  \n",
       "20463   2.000000  32.000000        No  \n",
       "18638   1.000000  29.000000        No  \n",
       "35683   4.505281  21.664885       Yes  \n",
       "\n",
       "[105590 rows x 8 columns]"
      ]
     },
     "execution_count": 46,
     "metadata": {},
     "output_type": "execute_result"
    }
   ],
   "source": [
    "X_train"
   ]
  },
  {
   "cell_type": "markdown",
   "metadata": {},
   "source": [
    "Encodage des variables"
   ]
  },
  {
   "cell_type": "markdown",
   "metadata": {},
   "source": [
    "- setting handle_unknown='ignore' to avoid errors when the validation data contains classes that aren't represented in the training data, and\n",
    "- setting sparse=False ensures that the encoded columns are returned as a numpy array (instead of a sparse matrix)."
   ]
  },
  {
   "cell_type": "code",
   "execution_count": 91,
   "metadata": {},
   "outputs": [],
   "source": [
    "categoricals = ['RainToday']"
   ]
  },
  {
   "cell_type": "code",
   "execution_count": 101,
   "metadata": {},
   "outputs": [
    {
     "data": {
      "text/html": [
       "<div>\n",
       "<style scoped>\n",
       "    .dataframe tbody tr th:only-of-type {\n",
       "        vertical-align: middle;\n",
       "    }\n",
       "\n",
       "    .dataframe tbody tr th {\n",
       "        vertical-align: top;\n",
       "    }\n",
       "\n",
       "    .dataframe thead th {\n",
       "        text-align: right;\n",
       "    }\n",
       "</style>\n",
       "<table border=\"1\" class=\"dataframe\">\n",
       "  <thead>\n",
       "    <tr style=\"text-align: right;\">\n",
       "      <th></th>\n",
       "      <th>Evaporation</th>\n",
       "      <th>Sunshine</th>\n",
       "      <th>WindGustSpeed</th>\n",
       "      <th>Humidity3pm</th>\n",
       "      <th>Pressure</th>\n",
       "      <th>Cloud3pm</th>\n",
       "      <th>Temp3pm</th>\n",
       "      <th>RainToday</th>\n",
       "    </tr>\n",
       "  </thead>\n",
       "  <tbody>\n",
       "    <tr>\n",
       "      <th>114264</th>\n",
       "      <td>NaN</td>\n",
       "      <td>NaN</td>\n",
       "      <td>NaN</td>\n",
       "      <td>NaN</td>\n",
       "      <td>NaN</td>\n",
       "      <td>NaN</td>\n",
       "      <td>NaN</td>\n",
       "      <td>0</td>\n",
       "    </tr>\n",
       "    <tr>\n",
       "      <th>52305</th>\n",
       "      <td>6.040000</td>\n",
       "      <td>6.40000</td>\n",
       "      <td>37.000000</td>\n",
       "      <td>98.000000</td>\n",
       "      <td>1010.260000</td>\n",
       "      <td>7.200000</td>\n",
       "      <td>0.600000</td>\n",
       "      <td>0</td>\n",
       "    </tr>\n",
       "    <tr>\n",
       "      <th>95661</th>\n",
       "      <td>2.600000</td>\n",
       "      <td>9.20000</td>\n",
       "      <td>17.000000</td>\n",
       "      <td>42.000000</td>\n",
       "      <td>1019.700000</td>\n",
       "      <td>1.000000</td>\n",
       "      <td>20.100000</td>\n",
       "      <td>0</td>\n",
       "    </tr>\n",
       "    <tr>\n",
       "      <th>...</th>\n",
       "      <td>...</td>\n",
       "      <td>...</td>\n",
       "      <td>...</td>\n",
       "      <td>...</td>\n",
       "      <td>...</td>\n",
       "      <td>...</td>\n",
       "      <td>...</td>\n",
       "      <td>...</td>\n",
       "    </tr>\n",
       "    <tr>\n",
       "      <th>20463</th>\n",
       "      <td>8.600000</td>\n",
       "      <td>11.10000</td>\n",
       "      <td>41.000000</td>\n",
       "      <td>26.000000</td>\n",
       "      <td>1013.100000</td>\n",
       "      <td>2.000000</td>\n",
       "      <td>32.000000</td>\n",
       "      <td>0</td>\n",
       "    </tr>\n",
       "    <tr>\n",
       "      <th>18638</th>\n",
       "      <td>4.020000</td>\n",
       "      <td>5.24000</td>\n",
       "      <td>50.000000</td>\n",
       "      <td>30.000000</td>\n",
       "      <td>1020.200000</td>\n",
       "      <td>1.000000</td>\n",
       "      <td>29.000000</td>\n",
       "      <td>0</td>\n",
       "    </tr>\n",
       "    <tr>\n",
       "      <th>35683</th>\n",
       "      <td>5.464991</td>\n",
       "      <td>7.61917</td>\n",
       "      <td>39.981735</td>\n",
       "      <td>51.529439</td>\n",
       "      <td>1016.464406</td>\n",
       "      <td>4.505281</td>\n",
       "      <td>21.664885</td>\n",
       "      <td>1</td>\n",
       "    </tr>\n",
       "  </tbody>\n",
       "</table>\n",
       "<p>105590 rows × 8 columns</p>\n",
       "</div>"
      ],
      "text/plain": [
       "        Evaporation  Sunshine  WindGustSpeed  Humidity3pm     Pressure  \\\n",
       "114264          NaN       NaN            NaN          NaN          NaN   \n",
       "52305      6.040000   6.40000      37.000000    98.000000  1010.260000   \n",
       "95661      2.600000   9.20000      17.000000    42.000000  1019.700000   \n",
       "...             ...       ...            ...          ...          ...   \n",
       "20463      8.600000  11.10000      41.000000    26.000000  1013.100000   \n",
       "18638      4.020000   5.24000      50.000000    30.000000  1020.200000   \n",
       "35683      5.464991   7.61917      39.981735    51.529439  1016.464406   \n",
       "\n",
       "        Cloud3pm    Temp3pm  RainToday  \n",
       "114264       NaN        NaN          0  \n",
       "52305   7.200000   0.600000          0  \n",
       "95661   1.000000  20.100000          0  \n",
       "...          ...        ...        ...  \n",
       "20463   2.000000  32.000000          0  \n",
       "18638   1.000000  29.000000          0  \n",
       "35683   4.505281  21.664885          1  \n",
       "\n",
       "[105590 rows x 8 columns]"
      ]
     },
     "execution_count": 101,
     "metadata": {},
     "output_type": "execute_result"
    }
   ],
   "source": [
    "X_train = encode_binaries(X_train, categoricals)\n",
    "\n",
    "X_train"
   ]
  },
  {
   "cell_type": "markdown",
   "metadata": {},
   "source": [
    "##### **1.2** - Proto-modélisation"
   ]
  },
  {
   "cell_type": "markdown",
   "metadata": {},
   "source": [
    "Définition et entrainement"
   ]
  },
  {
   "cell_type": "markdown",
   "metadata": {},
   "source": [
    "##### **1.3** - Traitements du contenu"
   ]
  },
  {
   "cell_type": "markdown",
   "metadata": {},
   "source": [
    "Valeurs aberrantes"
   ]
  },
  {
   "cell_type": "markdown",
   "metadata": {},
   "source": [
    "Rééchantillonnage"
   ]
  },
  {
   "cell_type": "code",
   "execution_count": null,
   "metadata": {},
   "outputs": [],
   "source": [
    "# [?] - REMINDER\n",
    "count_majority, count_minority = weather_prepared['RainTomorrow'].value_counts()\n",
    "\n",
    "display(\n",
    "    count_majority,\n",
    "    count_minority\n",
    ")"
   ]
  },
  {
   "cell_type": "code",
   "execution_count": null,
   "metadata": {},
   "outputs": [],
   "source": [
    "df_class_majority = weather_prepared[weather_prepared['RainTomorrow'] == 0]\n",
    "df_class_minority = weather_prepared[weather_prepared['RainTomorrow'] == 1]\n",
    "\n",
    "display(\n",
    "    df_class_majority,\n",
    "    df_class_minority\n",
    ")"
   ]
  },
  {
   "cell_type": "code",
   "execution_count": null,
   "metadata": {},
   "outputs": [],
   "source": [
    "# Downsample majority class\n",
    "df_majority_downsampled = resample(df_class_majority, \n",
    "                                 replace=False,             # sample without replacement\n",
    "                                 n_samples=count_minority,  # to match minority class\n",
    "                                 random_state=5)            # reproducible results\n",
    " \n",
    "# Combine minority class with downsampled majority class\n",
    "df_downsampled = pd.concat([df_majority_downsampled, df_class_minority])\n",
    " \n",
    "# Display new class counts\n",
    "df_downsampled['RainTomorrow'].value_counts()"
   ]
  },
  {
   "cell_type": "markdown",
   "metadata": {},
   "source": [
    "##### **1.4** - Traitements Features"
   ]
  },
  {
   "cell_type": "markdown",
   "metadata": {},
   "source": [
    "Features Selection"
   ]
  },
  {
   "cell_type": "markdown",
   "metadata": {},
   "source": [
    "Features Engineering"
   ]
  },
  {
   "cell_type": "markdown",
   "metadata": {},
   "source": [
    "Features Scaling"
   ]
  },
  {
   "cell_type": "code",
   "execution_count": null,
   "metadata": {},
   "outputs": [],
   "source": [
    "# [?] - REMINDER : also Strat'KFold \n",
    "cv_KF = KFold(n_splits=5, shuffle=True, random_state=5)\n",
    "gd_param = {'max_depth': np.arange(1,25), 'criterion' : ['entropy', 'gini']}\n",
    "\n",
    "m1_gd_DT = GridSearchCV(DecisionTreeClassifier(), gd_param, cv=cv_KF)\n",
    "m1_gd_DT.fit(X_train, y_train)"
   ]
  }
 ],
 "metadata": {
  "kernelspec": {
   "display_name": "Python 3.10.5 64-bit",
   "language": "python",
   "name": "python3"
  },
  "language_info": {
   "codemirror_mode": {
    "name": "ipython",
    "version": 3
   },
   "file_extension": ".py",
   "mimetype": "text/x-python",
   "name": "python",
   "nbconvert_exporter": "python",
   "pygments_lexer": "ipython3",
   "version": "3.10.5"
  },
  "orig_nbformat": 4,
  "vscode": {
   "interpreter": {
    "hash": "26de051ba29f2982a8de78e945f0abaf191376122a1563185a90213a26c5da77"
   }
  }
 },
 "nbformat": 4,
 "nbformat_minor": 2
}
